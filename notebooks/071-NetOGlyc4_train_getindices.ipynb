{
 "cells": [
  {
   "cell_type": "code",
   "execution_count": 1,
   "id": "0a226d6e-0c08-44bd-80b2-f20affee11bb",
   "metadata": {
    "tags": []
   },
   "outputs": [],
   "source": [
    "import time\n",
    "notebook_start_time = time.perf_counter()"
   ]
  },
  {
   "cell_type": "markdown",
   "id": "1213a9f7-9d0e-4276-bb66-90c58c36c9e8",
   "metadata": {},
   "source": [
    "# NetOGlyc4 data get training/validation/test set indices"
   ]
  },
  {
   "cell_type": "markdown",
   "id": "dd1e0148-981e-439d-a181-c2ef929ea14a",
   "metadata": {
    "tags": []
   },
   "source": [
    "## Imports"
   ]
  },
  {
   "cell_type": "markdown",
   "id": "5f94e97d-6d69-42a6-bf07-030689ce1fdb",
   "metadata": {
    "tags": []
   },
   "source": [
    "### Built-in imports"
   ]
  },
  {
   "cell_type": "code",
   "execution_count": 2,
   "id": "62ae8559-0a59-449b-93cd-94eb35384192",
   "metadata": {},
   "outputs": [],
   "source": [
    "import math\n",
    "import gzip\n",
    "import pickle\n",
    "from pathlib import Path\n",
    "import warnings\n",
    "import re\n",
    "from itertools import chain"
   ]
  },
  {
   "cell_type": "markdown",
   "id": "fe08b7d6-3276-41b2-9462-27a3ab946f22",
   "metadata": {},
   "source": [
    "### Shared library imports"
   ]
  },
  {
   "cell_type": "code",
   "execution_count": null,
   "id": "25937e5d-0aea-4fbe-813f-817a93153599",
   "metadata": {},
   "outputs": [],
   "source": []
  },
  {
   "cell_type": "markdown",
   "id": "bcff4c06-d117-4f54-88dc-222c8df121f3",
   "metadata": {},
   "source": [
    "### External imports"
   ]
  },
  {
   "cell_type": "code",
   "execution_count": 3,
   "id": "cdd6dceb-b69f-4e59-988f-7932628014d4",
   "metadata": {},
   "outputs": [],
   "source": [
    "import numpy as np\n",
    "import pandas as pd\n",
    "import h5py\n",
    "from tqdm.auto import tqdm\n",
    "from Bio import SeqIO\n",
    "from Bio.Seq import Seq\n",
    "from Bio.SeqRecord import SeqRecord"
   ]
  },
  {
   "cell_type": "markdown",
   "id": "2c9258ed-0d7c-44ee-8a4b-1aacb9aedfd6",
   "metadata": {},
   "source": [
    "## Paths & Constants"
   ]
  },
  {
   "cell_type": "code",
   "execution_count": 4,
   "id": "ccf10bb1-8929-46a2-8333-c38576b77e47",
   "metadata": {},
   "outputs": [],
   "source": [
    "#BASE_DIR = Path(\"/mnt/g/My Drive/CloudVault/Masters/Data\")\n",
    "BASE_DIR = Path(\"/home/jakob/Cloudvault_new/Data\")\n",
    "\n",
    "# Paths of imported embeddings file\n",
    "EMBEDDING_FILE = BASE_DIR/'NetOGlyc5 data'/'GalNAc data'/'05-embedding'/'netoglyc4_protein_embeddings_netsurfp_output_glyc_labels_max.h5'\n",
    "\n",
    "# Path of directory to get Graphpart output\n",
    "GRAPHPART_DIR = BASE_DIR/'NetOGlyc5 data'/'GalNAc data'/'06-partitioning'/'netoglyc4_graphpart_partitions'\n",
    "\n",
    "# Maximum sequence length of proteins for valid/test sets\n",
    "MAX_SEQ_LENGTH = 1022"
   ]
  },
  {
   "cell_type": "code",
   "execution_count": 5,
   "id": "13fe0039-b5c7-426c-903c-a76ea3b6d538",
   "metadata": {},
   "outputs": [],
   "source": [
    "GRAPHPART_OUTPUT_FILE = GRAPHPART_DIR/'graphpart_output.csv'"
   ]
  },
  {
   "cell_type": "markdown",
   "id": "9f4a467b-1c0e-4695-9403-9d0c8fbf0336",
   "metadata": {},
   "source": [
    "## Fetch embedding indices"
   ]
  },
  {
   "cell_type": "code",
   "execution_count": 6,
   "id": "255d45da-f14a-4337-8251-ec5dd5515edf",
   "metadata": {
    "tags": []
   },
   "outputs": [],
   "source": [
    "with h5py.File(EMBEDDING_FILE, 'r') as embedding_file:\n",
    "    embedding_identifiers_list = embedding_file['identifiers'].asstr()[:].tolist()\n",
    "    embedding_seq_lengths = [len(seq) for seq in embedding_file['sequences'].asstr()[:]]"
   ]
  },
  {
   "cell_type": "code",
   "execution_count": 19,
   "id": "ced12911-1556-4882-831a-fbca9325f0bb",
   "metadata": {},
   "outputs": [
    {
     "name": "stdout",
     "output_type": "stream",
     "text": [
      "Max seq length: 22152\n"
     ]
    }
   ],
   "source": [
    "print(f\"Max seq length: {max(embedding_seq_lengths)}\")"
   ]
  },
  {
   "cell_type": "markdown",
   "id": "d0dc1744-f3bb-4ddb-b130-12784b767d43",
   "metadata": {},
   "source": [
    "## Fetch validation/testing partition IDs"
   ]
  },
  {
   "cell_type": "code",
   "execution_count": 7,
   "id": "94aa2e23-bdde-4f22-a75a-f432470fbdf2",
   "metadata": {},
   "outputs": [],
   "source": [
    "clusters = [set(), set(), set()]\n",
    "with open(GRAPHPART_OUTPUT_FILE, 'r') as f:\n",
    "    f_iter = iter(f)\n",
    "    header = next(f_iter).strip().split(',')\n",
    "    for line in f_iter:\n",
    "        AC, priority, glycosylated, cluster = line.strip().split(',')\n",
    "        priority = priority == \"True\"\n",
    "        glycosylated = float(glycosylated) > 0\n",
    "        cluster = int(float(cluster))\n",
    "        clusters[cluster].add(AC)"
   ]
  },
  {
   "cell_type": "code",
   "execution_count": 8,
   "id": "7f10d49d-a6ee-48e8-946e-0430b5cc3032",
   "metadata": {},
   "outputs": [
    {
     "data": {
      "text/plain": [
       "[291, 36, 36]"
      ]
     },
     "execution_count": 8,
     "metadata": {},
     "output_type": "execute_result"
    }
   ],
   "source": [
    "[len(cluster) for cluster in clusters]"
   ]
  },
  {
   "cell_type": "code",
   "execution_count": 9,
   "id": "f60aa68f-e6c7-4bfc-85fe-c2fe75b53691",
   "metadata": {},
   "outputs": [],
   "source": [
    "validation_ids = clusters[1]\n",
    "testing_ids = clusters[2]"
   ]
  },
  {
   "cell_type": "code",
   "execution_count": 10,
   "id": "0437080e-92b1-437e-968a-207de7f19dd2",
   "metadata": {},
   "outputs": [
    {
     "name": "stdout",
     "output_type": "stream",
     "text": [
      "Validation partition glycosylated proteins: 10 (27.78%)\n",
      "Validation partition sites: 284\n",
      "Validation partition glycosylated sites: 22 (7.75%)\n",
      "Test partition glycosylated proteins: 11 (30.56%)\n",
      "Test partition sites: 387\n",
      "Test partition glycosylated sites: 39 (10.08%)\n"
     ]
    }
   ],
   "source": [
    "n_val_glyc_proteins = 0\n",
    "n_val_sites = 0\n",
    "n_val_glyc_sites = 0\n",
    "\n",
    "n_test_glyc_proteins = 0\n",
    "n_test_sites = 0\n",
    "n_test_glyc_sites = 0\n",
    "\n",
    "with h5py.File(EMBEDDING_FILE, 'r') as embedding_file:\n",
    "    for protein_id in validation_ids:\n",
    "        embedding_idx = embedding_identifiers_list.index(protein_id)\n",
    "        seq_length = min(embedding_seq_lengths[embedding_idx], MAX_SEQ_LENGTH)\n",
    "        gly = embedding_file['labels']['gly'][embedding_idx, :seq_length]\n",
    "        sites_mask = (gly >= 0)\n",
    "        glyc_sites_mask = (gly > 0)\n",
    "        n_val_sites += int(sites_mask.sum())\n",
    "        n_val_glyc_sites += int(glyc_sites_mask.sum())\n",
    "        if glyc_sites_mask.sum() > 0:\n",
    "            n_val_glyc_proteins += 1\n",
    "\n",
    "    for protein_id in testing_ids:\n",
    "        embedding_idx = embedding_identifiers_list.index(protein_id)\n",
    "        seq_length = embedding_seq_lengths[embedding_idx]\n",
    "        gly = embedding_file['labels']['gly'][embedding_idx, :seq_length]\n",
    "        sites_mask = (gly >= 0)\n",
    "        glyc_sites_mask = (gly > 0)\n",
    "        n_test_sites += int(sites_mask.sum())\n",
    "        n_test_glyc_sites += int(glyc_sites_mask.sum())\n",
    "        if glyc_sites_mask.sum() > 0:\n",
    "            n_test_glyc_proteins += 1\n",
    "\n",
    "print(f\"Validation partition glycosylated proteins: {n_val_glyc_proteins} ({n_val_glyc_proteins/len(validation_ids)*100:.2f}%)\")\n",
    "print(f\"Validation partition sites: {n_val_sites}\")\n",
    "print(f\"Validation partition glycosylated sites: {n_val_glyc_sites} ({n_val_glyc_sites/n_val_sites*100:.2f}%)\")\n",
    "print(f\"Test partition glycosylated proteins: {n_test_glyc_proteins} ({n_test_glyc_proteins/len(testing_ids)*100:.2f}%)\")\n",
    "print(f\"Test partition sites: {n_test_sites}\")\n",
    "print(f\"Test partition glycosylated sites: {n_test_glyc_sites} ({n_test_glyc_sites/n_test_sites*100:.2f}%)\")"
   ]
  },
  {
   "cell_type": "markdown",
   "id": "e65cb1ee-1780-4fda-ae98-8e6b7f673d30",
   "metadata": {},
   "source": [
    "## Print testing/validation indices"
   ]
  },
  {
   "cell_type": "code",
   "execution_count": 11,
   "id": "7f86d8ef-9089-4d99-8189-75185f86d296",
   "metadata": {
    "tags": []
   },
   "outputs": [],
   "source": [
    "validation_indices = sorted(embedding_identifiers_list.index(protein_id) for protein_id in validation_ids)\n",
    "testing_indices = sorted(embedding_identifiers_list.index(protein_id) for protein_id in testing_ids)"
   ]
  },
  {
   "cell_type": "code",
   "execution_count": 12,
   "id": "767296dd-4a77-4d2d-879c-08497877333f",
   "metadata": {
    "scrolled": true,
    "tags": []
   },
   "outputs": [
    {
     "name": "stdout",
     "output_type": "stream",
     "text": [
      "36\n",
      "[33, 52, 74, 99, 123, 158, 181, 183, 185, 210, 255, 272, 292, 318, 333, 361, 363, 395, 426, 456, 476, 495, 519, 554, 577, 594, 604, 619, 633, 648, 670, 693, 708, 732, 749, 773]\n"
     ]
    }
   ],
   "source": [
    "print(len(validation_indices))\n",
    "print(validation_indices)"
   ]
  },
  {
   "cell_type": "code",
   "execution_count": 13,
   "id": "5aada25f-a0d0-476d-8e50-ffd158c694a9",
   "metadata": {
    "scrolled": true,
    "tags": []
   },
   "outputs": [
    {
     "name": "stdout",
     "output_type": "stream",
     "text": [
      "36\n",
      "[31, 51, 69, 98, 121, 141, 174, 223, 238, 248, 269, 290, 316, 362, 365, 378, 393, 424, 449, 473, 491, 493, 520, 553, 575, 593, 603, 617, 632, 647, 671, 692, 709, 729, 748, 768]\n"
     ]
    }
   ],
   "source": [
    "print(len(testing_indices))\n",
    "print(testing_indices)"
   ]
  },
  {
   "cell_type": "markdown",
   "id": "c76a83af-3149-4584-9f9b-33e01b8d8475",
   "metadata": {},
   "source": [
    "## Print all training indices"
   ]
  },
  {
   "cell_type": "code",
   "execution_count": 14,
   "id": "31f30585-f171-4380-a5dc-3216aa2d87f0",
   "metadata": {},
   "outputs": [],
   "source": [
    "training_indices = list(range(len(embedding_identifiers_list)))\n",
    "\n",
    "for idx in sorted(chain(validation_indices, testing_indices), reverse=True):\n",
    "    del training_indices[idx]"
   ]
  },
  {
   "cell_type": "code",
   "execution_count": 15,
   "id": "ea3ba009-e067-44f9-a334-6b56dd1db70d",
   "metadata": {
    "scrolled": true,
    "tags": []
   },
   "outputs": [
    {
     "name": "stdout",
     "output_type": "stream",
     "text": [
      "714\n",
      "[0, 1, 2, 3, 4, 5, 6, 7, 8, 9, 10, 11, 12, 13, 14, 15, 16, 17, 18, 19, 20, 21, 22, 23, 24, 25, 26, 27, 28, 29, 30, 32, 34, 35, 36, 37, 38, 39, 40, 41, 42, 43, 44, 45, 46, 47, 48, 49, 50, 53, 54, 55, 56, 57, 58, 59, 60, 61, 62, 63, 64, 65, 66, 67, 68, 70, 71, 72, 73, 75, 76, 77, 78, 79, 80, 81, 82, 83, 84, 85, 86, 87, 88, 89, 90, 91, 92, 93, 94, 95, 96, 97, 100, 101, 102, 103, 104, 105, 106, 107, 108, 109, 110, 111, 112, 113, 114, 115, 116, 117, 118, 119, 120, 122, 124, 125, 126, 127, 128, 129, 130, 131, 132, 133, 134, 135, 136, 137, 138, 139, 140, 142, 143, 144, 145, 146, 147, 148, 149, 150, 151, 152, 153, 154, 155, 156, 157, 159, 160, 161, 162, 163, 164, 165, 166, 167, 168, 169, 170, 171, 172, 173, 175, 176, 177, 178, 179, 180, 182, 184, 186, 187, 188, 189, 190, 191, 192, 193, 194, 195, 196, 197, 198, 199, 200, 201, 202, 203, 204, 205, 206, 207, 208, 209, 211, 212, 213, 214, 215, 216, 217, 218, 219, 220, 221, 222, 224, 225, 226, 227, 228, 229, 230, 231, 232, 233, 234, 235, 236, 237, 239, 240, 241, 242, 243, 244, 245, 246, 247, 249, 250, 251, 252, 253, 254, 256, 257, 258, 259, 260, 261, 262, 263, 264, 265, 266, 267, 268, 270, 271, 273, 274, 275, 276, 277, 278, 279, 280, 281, 282, 283, 284, 285, 286, 287, 288, 289, 291, 293, 294, 295, 296, 297, 298, 299, 300, 301, 302, 303, 304, 305, 306, 307, 308, 309, 310, 311, 312, 313, 314, 315, 317, 319, 320, 321, 322, 323, 324, 325, 326, 327, 328, 329, 330, 331, 332, 334, 335, 336, 337, 338, 339, 340, 341, 342, 343, 344, 345, 346, 347, 348, 349, 350, 351, 352, 353, 354, 355, 356, 357, 358, 359, 360, 364, 366, 367, 368, 369, 370, 371, 372, 373, 374, 375, 376, 377, 379, 380, 381, 382, 383, 384, 385, 386, 387, 388, 389, 390, 391, 392, 394, 396, 397, 398, 399, 400, 401, 402, 403, 404, 405, 406, 407, 408, 409, 410, 411, 412, 413, 414, 415, 416, 417, 418, 419, 420, 421, 422, 423, 425, 427, 428, 429, 430, 431, 432, 433, 434, 435, 436, 437, 438, 439, 440, 441, 442, 443, 444, 445, 446, 447, 448, 450, 451, 452, 453, 454, 455, 457, 458, 459, 460, 461, 462, 463, 464, 465, 466, 467, 468, 469, 470, 471, 472, 474, 475, 477, 478, 479, 480, 481, 482, 483, 484, 485, 486, 487, 488, 489, 490, 492, 494, 496, 497, 498, 499, 500, 501, 502, 503, 504, 505, 506, 507, 508, 509, 510, 511, 512, 513, 514, 515, 516, 517, 518, 521, 522, 523, 524, 525, 526, 527, 528, 529, 530, 531, 532, 533, 534, 535, 536, 537, 538, 539, 540, 541, 542, 543, 544, 545, 546, 547, 548, 549, 550, 551, 552, 555, 556, 557, 558, 559, 560, 561, 562, 563, 564, 565, 566, 567, 568, 569, 570, 571, 572, 573, 574, 576, 578, 579, 580, 581, 582, 583, 584, 585, 586, 587, 588, 589, 590, 591, 592, 595, 596, 597, 598, 599, 600, 601, 602, 605, 606, 607, 608, 609, 610, 611, 612, 613, 614, 615, 616, 618, 620, 621, 622, 623, 624, 625, 626, 627, 628, 629, 630, 631, 634, 635, 636, 637, 638, 639, 640, 641, 642, 643, 644, 645, 646, 649, 650, 651, 652, 653, 654, 655, 656, 657, 658, 659, 660, 661, 662, 663, 664, 665, 666, 667, 668, 669, 672, 673, 674, 675, 676, 677, 678, 679, 680, 681, 682, 683, 684, 685, 686, 687, 688, 689, 690, 691, 694, 695, 696, 697, 698, 699, 700, 701, 702, 703, 704, 705, 706, 707, 710, 711, 712, 713, 714, 715, 716, 717, 718, 719, 720, 721, 722, 723, 724, 725, 726, 727, 728, 730, 731, 733, 734, 735, 736, 737, 738, 739, 740, 741, 742, 743, 744, 745, 746, 747, 750, 751, 752, 753, 754, 755, 756, 757, 758, 759, 760, 761, 762, 763, 764, 765, 766, 767, 769, 770, 771, 772, 774, 775, 776, 777, 778, 779, 780, 781, 782, 783, 784, 785]\n"
     ]
    }
   ],
   "source": [
    "print(len(training_indices))\n",
    "print(training_indices)"
   ]
  },
  {
   "cell_type": "markdown",
   "id": "433f284b-c12e-48bd-a2d9-9ef9a2dc0b03",
   "metadata": {},
   "source": [
    "## Print only training indices for glycosylated proteins"
   ]
  },
  {
   "cell_type": "code",
   "execution_count": 16,
   "id": "042d44f5-3269-464d-b3d0-4d51f63ef26c",
   "metadata": {},
   "outputs": [],
   "source": [
    "training_glyconly_proteins = []\n",
    "\n",
    "with h5py.File(EMBEDDING_FILE, 'r') as embedding_file:\n",
    "    embedding_sequences_dataset = embedding_file['sequences'].asstr()\n",
    "    embedding_gly_dataset = embedding_file['labels']['gly']\n",
    "    for train_idx in training_indices:\n",
    "        seq_length = len(embedding_sequences_dataset[train_idx])\n",
    "        gly = embedding_gly_dataset[train_idx, :seq_length]\n",
    "        if (gly > 0).sum() > 0:\n",
    "            training_glyconly_proteins.append(train_idx)"
   ]
  },
  {
   "cell_type": "code",
   "execution_count": 17,
   "id": "36c31d87-7cbb-49d8-a941-3f521fdab68b",
   "metadata": {
    "scrolled": true,
    "tags": []
   },
   "outputs": [
    {
     "name": "stdout",
     "output_type": "stream",
     "text": [
      "454\n",
      "[0, 1, 3, 4, 5, 6, 7, 8, 9, 11, 13, 14, 15, 16, 17, 18, 19, 20, 21, 24, 25, 27, 28, 29, 30, 32, 34, 35, 36, 38, 40, 41, 42, 44, 47, 48, 49, 50, 53, 54, 55, 58, 59, 60, 62, 63, 65, 66, 67, 70, 71, 72, 73, 75, 77, 78, 79, 81, 82, 85, 86, 87, 88, 90, 92, 93, 94, 95, 96, 100, 102, 104, 105, 106, 108, 109, 110, 111, 112, 113, 114, 116, 117, 118, 120, 122, 124, 126, 127, 128, 129, 131, 133, 134, 135, 136, 137, 138, 139, 142, 143, 144, 146, 149, 150, 151, 152, 154, 155, 156, 157, 160, 163, 165, 167, 168, 171, 172, 175, 176, 177, 178, 179, 180, 182, 184, 186, 187, 189, 190, 191, 193, 194, 195, 196, 197, 198, 199, 200, 201, 202, 203, 209, 213, 215, 217, 218, 219, 222, 224, 225, 226, 228, 230, 231, 232, 233, 234, 235, 236, 237, 241, 242, 245, 250, 251, 252, 253, 254, 258, 260, 262, 264, 265, 266, 268, 271, 274, 275, 276, 279, 280, 282, 283, 285, 286, 287, 289, 291, 294, 296, 297, 298, 303, 305, 306, 307, 308, 309, 310, 311, 312, 313, 314, 315, 319, 320, 322, 323, 324, 325, 328, 329, 331, 334, 336, 337, 338, 339, 341, 343, 344, 345, 346, 347, 348, 349, 351, 352, 353, 355, 356, 357, 359, 360, 366, 367, 368, 369, 372, 374, 379, 382, 383, 386, 387, 388, 391, 396, 397, 399, 400, 401, 402, 403, 407, 408, 409, 410, 413, 414, 420, 421, 425, 431, 432, 433, 435, 437, 438, 439, 440, 441, 442, 445, 446, 448, 450, 451, 452, 453, 454, 455, 457, 459, 461, 462, 463, 464, 465, 467, 468, 469, 470, 472, 475, 478, 479, 482, 483, 488, 489, 492, 494, 496, 497, 499, 500, 501, 502, 504, 506, 507, 509, 510, 511, 514, 515, 516, 521, 523, 526, 527, 528, 529, 530, 531, 532, 533, 535, 537, 539, 540, 541, 544, 549, 552, 555, 556, 560, 562, 563, 564, 565, 568, 569, 571, 572, 573, 574, 578, 579, 583, 586, 590, 591, 595, 596, 598, 606, 607, 609, 610, 611, 612, 616, 620, 622, 625, 627, 628, 630, 631, 634, 637, 638, 640, 641, 645, 646, 650, 651, 657, 658, 659, 660, 662, 664, 665, 666, 667, 668, 672, 673, 676, 677, 678, 679, 682, 683, 685, 686, 691, 694, 696, 701, 702, 705, 710, 711, 713, 714, 717, 718, 719, 721, 722, 724, 725, 726, 727, 731, 733, 734, 735, 736, 737, 738, 742, 744, 747, 751, 752, 754, 755, 758, 759, 761, 762, 763, 766, 767, 769, 770, 771, 772, 777, 778, 779, 780, 781, 783, 784, 785]\n"
     ]
    }
   ],
   "source": [
    "print(len(training_glyconly_proteins))\n",
    "print(training_glyconly_proteins)"
   ]
  },
  {
   "cell_type": "code",
   "execution_count": 18,
   "id": "7e24bd14-a004-4e9d-b30f-2a2f9171e715",
   "metadata": {},
   "outputs": [
    {
     "name": "stdout",
     "output_type": "stream",
     "text": [
      "Notebook took 0.5274732580874115 seconds to run\n"
     ]
    }
   ],
   "source": [
    "notebook_end_time = time.perf_counter()\n",
    "print(f\"Notebook took {notebook_end_time-notebook_start_time} seconds to run\")"
   ]
  }
 ],
 "metadata": {
  "kernelspec": {
   "display_name": "Python 3 (ipykernel)",
   "language": "python",
   "name": "python3"
  },
  "language_info": {
   "codemirror_mode": {
    "name": "ipython",
    "version": 3
   },
   "file_extension": ".py",
   "mimetype": "text/x-python",
   "name": "python",
   "nbconvert_exporter": "python",
   "pygments_lexer": "ipython3",
   "version": "3.9.9"
  }
 },
 "nbformat": 4,
 "nbformat_minor": 5
}
