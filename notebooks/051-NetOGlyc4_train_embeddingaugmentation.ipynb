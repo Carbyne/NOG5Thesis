{
 "cells": [
  {
   "cell_type": "code",
   "execution_count": 1,
   "id": "3224cbac-8100-4ee5-8d36-35b5c7e9a1d3",
   "metadata": {},
   "outputs": [],
   "source": [
    "import time\n",
    "notebook_start_time = time.perf_counter()"
   ]
  },
  {
   "cell_type": "markdown",
   "id": "54eae1ce-497c-4edd-8181-1b90e8c773fe",
   "metadata": {},
   "source": [
    "# NetOGlyc4 data embedding augmentation with labels"
   ]
  },
  {
   "cell_type": "markdown",
   "id": "4a092c9e-8b19-448f-9efe-a2c9c6cf8883",
   "metadata": {},
   "source": [
    "Important notes:\n",
    "- It is recommended to make a copy of the embeddings just in case something goes wrong while appending to it\n",
    "- H5 datasets are initialized to 0, so make sure that you are either not using uninitialized values or zeros don't matter\n",
    "- string/object labels with variable lengths will probably not convert correctly, instead copy them manually\n",
    "- labels should have the shape (n_seqs, seq_length, ...), for other types of labels copy them manually"
   ]
  },
  {
   "cell_type": "markdown",
   "id": "75f397bc-3c18-431f-9896-0c31db061565",
   "metadata": {
    "tags": []
   },
   "source": [
    "## Imports"
   ]
  },
  {
   "cell_type": "markdown",
   "id": "11dfa650-2486-425c-9fad-7defcc69f2fc",
   "metadata": {
    "tags": []
   },
   "source": [
    "### Built-in imports"
   ]
  },
  {
   "cell_type": "code",
   "execution_count": 2,
   "id": "bbe5230e-63f1-4d86-9d7f-56f89a262470",
   "metadata": {},
   "outputs": [],
   "source": [
    "import math\n",
    "import gzip\n",
    "import pickle\n",
    "from pathlib import Path\n",
    "import warnings\n",
    "import re"
   ]
  },
  {
   "cell_type": "markdown",
   "id": "e2cebfe7-48ec-435a-8146-2f9c562ac68a",
   "metadata": {},
   "source": [
    "### Shared library imports"
   ]
  },
  {
   "cell_type": "code",
   "execution_count": null,
   "id": "7f844d49-5ef6-4ca2-a354-5d8571a78e39",
   "metadata": {},
   "outputs": [],
   "source": []
  },
  {
   "cell_type": "markdown",
   "id": "9eadde9e-a1e1-43f6-ba16-1bdb9c882f63",
   "metadata": {},
   "source": [
    "### External imports"
   ]
  },
  {
   "cell_type": "code",
   "execution_count": 3,
   "id": "4a43ba28-e57d-4c4d-8091-e97bbc9168b2",
   "metadata": {},
   "outputs": [],
   "source": [
    "import numpy as np\n",
    "import pandas as pd\n",
    "import h5py\n",
    "from tqdm.auto import tqdm"
   ]
  },
  {
   "cell_type": "markdown",
   "id": "fda6718f-9a85-40f2-9049-3bc9607a3fd4",
   "metadata": {},
   "source": [
    "## Paths & Constants"
   ]
  },
  {
   "cell_type": "code",
   "execution_count": 4,
   "id": "e7bbbef9-c59d-431a-ba32-e6bb11d815d2",
   "metadata": {},
   "outputs": [],
   "source": [
    "#BASE_DIR = Path(\"/mnt/g/My Drive/CloudVault/Masters/Data\")\n",
    "BASE_DIR = Path(\"/home/jakob/Cloudvault_new/Data\")\n",
    "\n",
    "# Paths of imported label files to add to embeddings file\n",
    "# Existing labels in embedding files will not be overwritten, for this use LABEL_NAME_MAPPINGS\n",
    "LABEL_FILES = [\n",
    "    BASE_DIR/'NetOGlyc5 data'/'GalNAc data'/'05-embedding'/'netoglyc4_protein_glyc_labels_max.h5',\n",
    "    BASE_DIR/'NetOGlyc5 data'/'GalNAc data'/'05-embedding'/'netoglyc4_protein_netsurfp_output.h5',\n",
    "]\n",
    "\n",
    "# Paths of embedding files to add labels to\n",
    "EMBEDDING_FILES = [\n",
    "    BASE_DIR/'NetOGlyc5 data'/'GalNAc data'/'05-embedding'/'netoglyc4_protein_embeddings_netsurfp_output_glyc_labels_max.h5',\n",
    "]\n",
    "\n",
    "# Add any label name mappings here if you need to add labels that already exist in embedding files\n",
    "LABEL_NAME_MAPPINGS = {\n",
    "#    'gly': 'gly_new',\n",
    "}\n",
    "\n",
    "# If True, ignores any proteins in label files that are not in embedding files\n",
    "IGNORE_NONEMBEDDED_PROTEINS = True\n",
    "\n",
    "# If True, will truncate labels to match embeddings file\n",
    "ALLOW_TRUNCATED_LABELS = True"
   ]
  },
  {
   "cell_type": "markdown",
   "id": "c1fee3ed-efca-4ddf-8a14-9de19808d3b0",
   "metadata": {},
   "source": [
    "## Add labels to protein embeddings"
   ]
  },
  {
   "cell_type": "code",
   "execution_count": 5,
   "id": "e64f2a39-c0dc-4116-bf15-1ffc209e5276",
   "metadata": {},
   "outputs": [
    {
     "name": "stdout",
     "output_type": "stream",
     "text": [
      "Adding labels to '/home/jakob/Cloudvault_new/Data/NetOGlyc5 data/GalNAc data/05-embedding/netoglyc4_protein_embeddings_netsurfp_output_glyc_labels_max.h5' from '/home/jakob/Cloudvault_new/Data/NetOGlyc5 data/GalNAc data/05-embedding/netoglyc4_protein_glyc_labels_max.h5'\n",
      "Adding labels to '/home/jakob/Cloudvault_new/Data/NetOGlyc5 data/GalNAc data/05-embedding/netoglyc4_protein_embeddings_netsurfp_output_glyc_labels_max.h5' from '/home/jakob/Cloudvault_new/Data/NetOGlyc5 data/GalNAc data/05-embedding/netoglyc4_protein_netsurfp_output.h5'\n"
     ]
    }
   ],
   "source": [
    "# cast_type - numpy dtypes in pytorch tensors:\n",
    "#     'u1': torch.uint8\n",
    "#     'i1': torch.int8\n",
    "#     'i2': torch.int16\n",
    "#     'i4': torch.int32\n",
    "#     'i8': torch.int64\n",
    "#     'f2': torch.float16\n",
    "#     'f4': torch.float32\n",
    "#     'f8': torch.float64\n",
    "#     'F': torch.complex64\n",
    "#     'D': torch.complex128\n",
    "#     '?': torch.bool\n",
    "\n",
    "for embedding_file_path in EMBEDDING_FILES:\n",
    "    with h5py.File(embedding_file_path, 'a') as embedding_file:\n",
    "\n",
    "        embedding_identifiers_list = embedding_file['identifiers'].asstr()[:].tolist()\n",
    "        embedding_identifiers_set = set(embedding_identifiers_list)\n",
    "        embedding_sequences_list = embedding_file['sequences'].asstr()[:].tolist()\n",
    "        embedding_n_seqs = len(embedding_identifiers_list)\n",
    "        embedding_max_seq_length = max(len(seq) for seq in embedding_sequences_list)\n",
    "\n",
    "        for label_file_path in LABEL_FILES:\n",
    "            with h5py.File(label_file_path, 'r') as label_file:\n",
    "                print(f\"Adding labels to '{embedding_file_path}' from '{label_file_path}'\")\n",
    "\n",
    "                label_identifiers_list = label_file['identifiers'].asstr()[:].tolist()\n",
    "                label_identifiers_set = set(label_identifiers_list)\n",
    "                label_sequences_list = label_file['sequences'].asstr()[:].tolist()\n",
    "                label_n_seqs = len(label_identifiers_list)\n",
    "                label_max_seq_length = max(len(seq) for seq in label_sequences_list)\n",
    "\n",
    "                # Verifications that there won't be any issues when augmenting embedding file\n",
    "\n",
    "                if embedding_identifiers_set != label_identifiers_set:\n",
    "                    missing_identifiers = embedding_identifiers_set - label_identifiers_set\n",
    "                    ignored_identifiers = label_identifiers_set - embedding_identifiers_set\n",
    "                    if len(missing_identifiers) > 0:\n",
    "                        raise Exception(f\"{len(missing_identifiers)} embedding proteins from '{embedding_file_path}' not found in '{label_file_path}': {missing_identifiers}\")\n",
    "                    elif IGNORE_NONEMBEDDED_PROTEINS:\n",
    "                        print(f\"Ignored {len(ignored_identifiers)} label proteins from '{label_file_path}' not found in '{embedding_file_path}': {ignored_identifiers}\")\n",
    "                    else:\n",
    "                        raise Exception(f\"{len(ignored_identifiers)} label proteins from '{label_file_path}' not found in '{embedding_file_path}': {ignored_identifiers}\")\n",
    "\n",
    "                if embedding_max_seq_length < label_max_seq_length:\n",
    "                    if ALLOW_TRUNCATED_LABELS:\n",
    "                        print(f\"Truncating labels from '{label_file_path}' to {embedding_max_seq_length} in '{embedding_file_path}'\")\n",
    "                    else:\n",
    "                        raise Exception(f\"Labels from '{label_file_path}' are truncated compared to embeddings in '{embedding_file_path}'\")\n",
    "                elif label_max_seq_length < embedding_max_seq_length:\n",
    "                    raise Exception(f\"Embeddings from '{embedding_file_path}' are truncated compared to labels in '{label_file_path}'\")\n",
    "\n",
    "                embedding_to_label_indices_mapping = [label_identifiers_list.index(embedding_identifiers_list[idx]) for idx in range(embedding_n_seqs)]\n",
    "\n",
    "                for embedding_idx, label_idx in enumerate(embedding_to_label_indices_mapping):\n",
    "                    if embedding_sequences_list[embedding_idx] != label_sequences_list[label_idx][:embedding_max_seq_length]:\n",
    "                        raise Exception(f\"Label sequence of '{embedding_identifiers_list[embedding_idx]}' from '{label_file_path}' did not match Embedding sequence from '{embedding_file_path}'\")\n",
    "\n",
    "                # Need to re-fetch these for each label file as they may have changed\n",
    "                if 'labels' in embedding_file:\n",
    "                    embedding_label_names = list(embedding_file['labels'])\n",
    "                else:\n",
    "                    embedding_label_names = []\n",
    "                    embedding_label_shapes = []\n",
    "                label_labels_group = label_file['labels']\n",
    "                label_label_names = list(label_labels_group)\n",
    "                \n",
    "                for label in label_label_names:\n",
    "                    mapped_label = LABEL_NAME_MAPPINGS.get(label, label)\n",
    "                    label_shape = label_labels_group[label].shape\n",
    "                    if mapped_label in embedding_label_names:\n",
    "                        raise Exception(f\"Label '{label}' from '{label_file_path}' was already in '{embedding_file_path}' as label '{mapped_label}'\")\n",
    "                    if label_shape[0] != embedding_n_seqs or label_shape[1] != embedding_max_seq_length:\n",
    "                        raise Exception(f\"Shape of label '{label}' from '{label_file_path}' does not match embeddings from '{embedding_file_path}'\")\n",
    "                    \n",
    "                # Embedding augmentation with labels\n",
    "\n",
    "                if 'labels' in embedding_file:\n",
    "                    embedding_labels_group = embedding_file['labels']\n",
    "                else:\n",
    "                    embedding_labels_group = embedding_file.create_group('labels')\n",
    "                    \n",
    "                for label in label_labels_group:\n",
    "                    mapped_label = LABEL_NAME_MAPPINGS.get(label, label)\n",
    "                    label_label_dataset = label_labels_group[label]\n",
    "                    label_shape = label_label_dataset.shape\n",
    "                    label_dtype = label_label_dataset.dtype\n",
    "                    embedding_label_dataset = embedding_labels_group.create_dataset(mapped_label, (embedding_n_seqs, embedding_max_seq_length, *label_shape[2:]), dtype=label_dtype, maxshape=(None, None, *label_shape[2:]))\n",
    "                    for attr_key, attr_value in label_label_dataset.attrs.items():\n",
    "                        embedding_label_dataset.attrs[attr_key] = attr_value\n",
    "                    embedding_label_dataset[:] = label_label_dataset[embedding_to_label_indices_mapping, :embedding_max_seq_length]\n"
   ]
  },
  {
   "cell_type": "code",
   "execution_count": 6,
   "id": "4f3bfe3a-cb52-412a-af65-567d58eaf72b",
   "metadata": {},
   "outputs": [
    {
     "name": "stdout",
     "output_type": "stream",
     "text": [
      "Notebook took 2.5119755630148575 seconds to run\n"
     ]
    }
   ],
   "source": [
    "notebook_end_time = time.perf_counter()\n",
    "print(f\"Notebook took {notebook_end_time-notebook_start_time} seconds to run\")"
   ]
  }
 ],
 "metadata": {
  "kernelspec": {
   "display_name": "Python 3 (ipykernel)",
   "language": "python",
   "name": "python3"
  },
  "language_info": {
   "codemirror_mode": {
    "name": "ipython",
    "version": 3
   },
   "file_extension": ".py",
   "mimetype": "text/x-python",
   "name": "python",
   "nbconvert_exporter": "python",
   "pygments_lexer": "ipython3",
   "version": "3.9.9"
  }
 },
 "nbformat": 4,
 "nbformat_minor": 5
}
