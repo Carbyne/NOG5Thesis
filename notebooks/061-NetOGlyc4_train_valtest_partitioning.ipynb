{
 "cells": [
  {
   "cell_type": "code",
   "execution_count": 1,
   "id": "0a226d6e-0c08-44bd-80b2-f20affee11bb",
   "metadata": {},
   "outputs": [],
   "source": [
    "import time\n",
    "notebook_start_time = time.perf_counter()"
   ]
  },
  {
   "cell_type": "markdown",
   "id": "1213a9f7-9d0e-4276-bb66-90c58c36c9e8",
   "metadata": {},
   "source": [
    "# NetOGlyc4 data high quality validation/test set partitioning"
   ]
  },
  {
   "cell_type": "markdown",
   "id": "dd1e0148-981e-439d-a181-c2ef929ea14a",
   "metadata": {
    "tags": []
   },
   "source": [
    "## Imports"
   ]
  },
  {
   "cell_type": "markdown",
   "id": "5f94e97d-6d69-42a6-bf07-030689ce1fdb",
   "metadata": {
    "tags": []
   },
   "source": [
    "### Built-in imports"
   ]
  },
  {
   "cell_type": "code",
   "execution_count": 2,
   "id": "62ae8559-0a59-449b-93cd-94eb35384192",
   "metadata": {},
   "outputs": [],
   "source": [
    "import math\n",
    "import gzip\n",
    "import pickle\n",
    "from pathlib import Path\n",
    "import warnings\n",
    "import re\n",
    "from time import sleep\n",
    "import os\n",
    "from urllib.parse import urlparse, parse_qs\n",
    "from decimal import Decimal"
   ]
  },
  {
   "cell_type": "markdown",
   "id": "fe08b7d6-3276-41b2-9462-27a3ab946f22",
   "metadata": {},
   "source": [
    "### Shared library imports"
   ]
  },
  {
   "cell_type": "code",
   "execution_count": 3,
   "id": "25937e5d-0aea-4fbe-813f-817a93153599",
   "metadata": {},
   "outputs": [],
   "source": [
    "import glyc_processing.annotation"
   ]
  },
  {
   "cell_type": "markdown",
   "id": "bcff4c06-d117-4f54-88dc-222c8df121f3",
   "metadata": {},
   "source": [
    "### External imports"
   ]
  },
  {
   "cell_type": "code",
   "execution_count": 4,
   "id": "cdd6dceb-b69f-4e59-988f-7932628014d4",
   "metadata": {},
   "outputs": [],
   "source": [
    "import numpy as np\n",
    "import pandas as pd\n",
    "import h5py\n",
    "from tqdm.auto import tqdm\n",
    "from Bio import SeqIO\n",
    "from Bio.Seq import Seq\n",
    "from Bio.SeqRecord import SeqRecord\n",
    "import requests\n",
    "from bs4 import BeautifulSoup\n",
    "from IPython.display import display, Markdown"
   ]
  },
  {
   "cell_type": "markdown",
   "id": "2c9258ed-0d7c-44ee-8a4b-1aacb9aedfd6",
   "metadata": {},
   "source": [
    "## Paths & Constants"
   ]
  },
  {
   "cell_type": "code",
   "execution_count": 5,
   "id": "ccf10bb1-8929-46a2-8333-c38576b77e47",
   "metadata": {},
   "outputs": [],
   "source": [
    "#BASE_DIR = Path(\"/mnt/g/My Drive/CloudVault/Masters/Data\")\n",
    "BASE_DIR = Path(\"/home/jakob/Cloudvault_new/Data\")\n",
    "\n",
    "# Path of exported annotations file\n",
    "ANNOTATIONS_FILE = BASE_DIR/'NetOGlyc5 data'/'GalNAc data'/'04-annotation'/'netoglyc4_protein_annotations.pkl.gz'\n",
    "\n",
    "# Path of directory to put Graphpart input/output (will be created)\n",
    "GRAPHPART_DIR = BASE_DIR/'NetOGlyc5 data'/'GalNAc data'/'06-partitioning'/'netoglyc4_graphpart_partitions'\n",
    "\n",
    "# Maximum sequence length of proteins for valid/test sets\n",
    "MAX_SEQ_LENGTH = 10000\n",
    "\n",
    "# Homology threshold that graph-part should use\n",
    "GRAPHPART_THRESHOLD = 0.3"
   ]
  },
  {
   "cell_type": "code",
   "execution_count": 6,
   "id": "ff6c3424-cf4a-4ce9-af15-bd3f2636bac5",
   "metadata": {},
   "outputs": [],
   "source": [
    "GRAPHPART_INPUT_FILE = GRAPHPART_DIR/'graphpart_input.fasta'\n",
    "GRAPHPART_OUTPUT_FILE = GRAPHPART_DIR/'graphpart_output.csv'"
   ]
  },
  {
   "cell_type": "markdown",
   "id": "cd5fee1b-a2e6-426b-85ec-bce3b4323235",
   "metadata": {
    "tags": []
   },
   "source": [
    "## Fetch protein annotations"
   ]
  },
  {
   "cell_type": "code",
   "execution_count": 7,
   "id": "c30445c1-245b-43a4-8d55-80662cbf57c1",
   "metadata": {
    "tags": []
   },
   "outputs": [],
   "source": [
    "with gzip.open(ANNOTATIONS_FILE, 'rb') as f:\n",
    "    proteins = pickle.load(f)"
   ]
  },
  {
   "cell_type": "code",
   "execution_count": 8,
   "id": "64fcc0c1-4ffa-47de-a958-db2510cacad1",
   "metadata": {},
   "outputs": [],
   "source": [
    "proteins.scoring_function = glyc_processing.annotation.max_score"
   ]
  },
  {
   "cell_type": "markdown",
   "id": "1f4e3ce0-4bb8-40e0-b91d-cadd85d9ca5d",
   "metadata": {},
   "source": [
    "## Split proteins by presence of nonambiguous/ambiguous/non-glcyosylated sites"
   ]
  },
  {
   "cell_type": "code",
   "execution_count": 9,
   "id": "a6a29c7e-8a7e-45a3-8e14-3473beb3e41d",
   "metadata": {
    "tags": []
   },
   "outputs": [
    {
     "name": "stdout",
     "output_type": "stream",
     "text": [
      "Proteins: 786\n",
      "\tNon-glycosylated Proteins: 310 (39.44%)\n",
      "\tGlycosylated Proteins: 476 (60.56%)\n",
      "\t\tGlycosylated Proteins w. (at least 1) Un-ambiguous site: 476 (60.56%)\n",
      "\n",
      "Sites: 5329\n",
      "\tNon-glycosylated Sites: 3255 (61.08%)\n",
      "\t\tNon-glycosylated Sites in Glycosylated Proteins: 872 (16.36%)\n",
      "\t\tNon-glycosylated Sites in Non-glycosylated Proteins: 2383 (44.72%)\n",
      "\tGlycosylated Sites: 2074 (38.92%)\n",
      "\t\tNon-ambiguous Glycosylated Sites: 2074 (38.92%)\n"
     ]
    }
   ],
   "source": [
    "trunc_n_sites = 0\n",
    "trunc_non_glyc_proteins = {}\n",
    "trunc_glyc_proteins_nonglyc = {}\n",
    "trunc_glyc_proteins = {}\n",
    "trunc_certain_glyc_proteins = {}\n",
    "\n",
    "for protein in proteins.values():\n",
    "    protein_id = protein.protein_id\n",
    "    protein_len = min(len(protein.protein_seq), MAX_SEQ_LENGTH)\n",
    "\n",
    "    glycosylation_labels = np.array(protein.get_glycosylation_labels(end=protein_len))\n",
    "\n",
    "    sites_mask = glycosylation_labels >= 0\n",
    "    trunc_n_sites += sites_mask.sum()\n",
    "\n",
    "    glyc_sites_mask = glycosylation_labels > 0\n",
    "    if glyc_sites_mask.sum() > 0:\n",
    "        trunc_glyc_proteins[protein_id] = np.where(glyc_sites_mask)[0]\n",
    "\n",
    "    non_glyc_sites_mask = glycosylation_labels == 0\n",
    "    if glyc_sites_mask.sum() == 0:\n",
    "        trunc_non_glyc_proteins[protein_id] = np.where(non_glyc_sites_mask)[0]\n",
    "    else:\n",
    "        trunc_glyc_proteins_nonglyc[protein_id] = np.where(non_glyc_sites_mask)[0]\n",
    "\n",
    "    certain_glyc_sites_mask = glycosylation_labels == 1\n",
    "    if certain_glyc_sites_mask.sum() > 0:\n",
    "        trunc_certain_glyc_proteins[protein_id] = np.where(certain_glyc_sites_mask)[0]\n",
    "\n",
    "print(f\"Proteins: {len(proteins)}\")\n",
    "print(f\"\\tNon-glycosylated Proteins: {len(trunc_non_glyc_proteins)} ({len(trunc_non_glyc_proteins)/len(proteins)*100:.2f}%)\")\n",
    "print(f\"\\tGlycosylated Proteins: {len(trunc_glyc_proteins)} ({len(trunc_glyc_proteins)/len(proteins)*100:.2f}%)\")\n",
    "print(f\"\\t\\tGlycosylated Proteins w. (at least 1) Un-ambiguous site: {len(trunc_certain_glyc_proteins)} ({len(trunc_certain_glyc_proteins)/len(proteins)*100:.2f}%)\")\n",
    "print()\n",
    "\n",
    "trunc_non_glyc_proteins_non_glyc_sites = sum(len(trunc_non_glyc_proteins[protein_id]) for protein_id in trunc_non_glyc_proteins)\n",
    "trunc_glyc_proteins_non_glyc_sites = sum(len(trunc_glyc_proteins_nonglyc[protein_id]) for protein_id in trunc_glyc_proteins_nonglyc)\n",
    "trunc_glyc_sites = sum(len(trunc_glyc_proteins[protein_id]) for protein_id in trunc_glyc_proteins)\n",
    "trunc_certain_glyc_sites = sum(len(trunc_certain_glyc_proteins[protein_id]) for protein_id in trunc_certain_glyc_proteins)\n",
    "\n",
    "print(f\"Sites: {trunc_n_sites}\")\n",
    "print(f\"\\tNon-glycosylated Sites: {trunc_glyc_proteins_non_glyc_sites+trunc_non_glyc_proteins_non_glyc_sites} ({(trunc_glyc_proteins_non_glyc_sites+trunc_non_glyc_proteins_non_glyc_sites)/trunc_n_sites*100:.2f}%)\")\n",
    "print(f\"\\t\\tNon-glycosylated Sites in Glycosylated Proteins: {trunc_glyc_proteins_non_glyc_sites} ({trunc_glyc_proteins_non_glyc_sites/trunc_n_sites*100:.2f}%)\")\n",
    "print(f\"\\t\\tNon-glycosylated Sites in Non-glycosylated Proteins: {trunc_non_glyc_proteins_non_glyc_sites} ({trunc_non_glyc_proteins_non_glyc_sites/trunc_n_sites*100:.2f}%)\")\n",
    "print(f\"\\tGlycosylated Sites: {trunc_glyc_sites} ({trunc_glyc_sites/trunc_n_sites*100:.2f}%)\")\n",
    "print(f\"\\t\\tNon-ambiguous Glycosylated Sites: {trunc_certain_glyc_sites} ({trunc_certain_glyc_sites/trunc_n_sites*100:.2f}%)\")"
   ]
  },
  {
   "cell_type": "code",
   "execution_count": 23,
   "id": "8289ace5-91ed-4e45-9fd9-a7005a70476c",
   "metadata": {},
   "outputs": [
    {
     "name": "stdout",
     "output_type": "stream",
     "text": [
      "Total sites:448463\n",
      "Glycosylated sites:\t1607\t0.36% (weight: 139.53422526446795)\n",
      "Seen Non-glycosylated residues:\t446856\t99.64% (weight: 0.50179811840951)\n",
      "Positive weight:\t278.06845052893584\n"
     ]
    }
   ],
   "source": [
    "glyc_sites_count = 0\n",
    "nonglyc_sites_count = 0\n",
    "nonglyc_residues_count = 0\n",
    "\n",
    "for protein in proteins.values():\n",
    "    for idx, count in enumerate(protein.seq_idx_seen_count[:1022]):\n",
    "        if protein.seq_sites[idx] is not None:\n",
    "            if len(protein.seq_sites[idx]) > 0:\n",
    "                glyc_sites_count += 1\n",
    "            else:\n",
    "                nonglyc_sites_count += 1\n",
    "        else:\n",
    "            nonglyc_residues_count += 1\n",
    "\n",
    "glycosylatable_sites_count = glyc_sites_count+nonglyc_sites_count\n",
    "residues_count = glyc_sites_count+nonglyc_residues_count\n",
    "\n",
    "glycosylatable_glyc_weight = glycosylatable_sites_count/(2*glyc_sites_count)\n",
    "glycosylatable_nonglyc_weight = glycosylatable_sites_count/(2*nonglyc_sites_count)\n",
    "\n",
    "all_glyc_weight = residues_count/(2*glyc_sites_count)\n",
    "all_nonglyc_weight = residues_count/(2*nonglyc_residues_count)\n",
    "\n",
    "glycosylatable_pos_weight = glycosylatable_glyc_weight / glycosylatable_nonglyc_weight\n",
    "all_pos_weight = all_glyc_weight / all_nonglyc_weight\n",
    "\n",
    "print(f\"Total residues:{residues_count}\")  \n",
    "print(f\"Total sites:{glycosylatable_sites_count}\")  \n",
    "print(f\"Glycosylated sites:\\t{glyc_sites_count}\\t{glycosylatable_sites_count/glycosylatable_sites_count*100:.2f}%\")\n",
    "\n",
    "print(f\"Seen non-glycosylated sites:\\t{nonglyc_sites_count}\\t{nonglyc_sites_count/total_sites_count*100:.2f}% (weight: {nonglyc_weight})\")\n",
    "print(f\"Positive weight:\\t{glyc_pos_weight}\")"
   ]
  },
  {
   "cell_type": "markdown",
   "id": "83f57121-ec6c-4494-8446-2c75ca6fe5e9",
   "metadata": {},
   "source": [
    "## Select proteins for validation/test partitions\n",
    "\n",
    "Validation/Testing partitions have the following criteria:\n",
    " - Glycosylated Proteins must have at least one non-ambiguous site and one non-glycosylated site\n",
    " - Non-glycosylated Proteins must have at least two non-glycosylated site"
   ]
  },
  {
   "cell_type": "code",
   "execution_count": 11,
   "id": "7f7b2e44-d4af-4ded-b276-85d17ad6165d",
   "metadata": {},
   "outputs": [
    {
     "name": "stdout",
     "output_type": "stream",
     "text": [
      "Validation/Test Partition Candidate Proteins: 363\n"
     ]
    }
   ],
   "source": [
    "candidate_trunc_certain_glyc_proteins = {protein_id for protein_id in trunc_certain_glyc_proteins if len(trunc_certain_glyc_proteins[protein_id]) >= 1}\n",
    "candidate_trunc_glyc_proteins_nonglyc = {protein_id for protein_id in trunc_glyc_proteins_nonglyc if len(trunc_glyc_proteins_nonglyc[protein_id]) >= 1}\n",
    "candidate_trunc_non_glyc_proteins = {protein_id for protein_id in trunc_non_glyc_proteins if len(trunc_non_glyc_proteins[protein_id]) >= 2}\n",
    "\n",
    "candidate_trunc_proteins = (candidate_trunc_certain_glyc_proteins & candidate_trunc_glyc_proteins_nonglyc) | candidate_trunc_non_glyc_proteins\n",
    "\n",
    "print(f\"Validation/Test Partition Candidate Proteins: {len(candidate_trunc_proteins)}\")"
   ]
  },
  {
   "cell_type": "markdown",
   "id": "3051a9cc-ed43-4a5c-bf1a-9cb3f33ef497",
   "metadata": {
    "tags": []
   },
   "source": [
    "## Run graph-part to create validation/test partitions from certain data"
   ]
  },
  {
   "cell_type": "code",
   "execution_count": 12,
   "id": "a5709f05-9f3f-4f2f-ad9a-8b25f614aab4",
   "metadata": {},
   "outputs": [],
   "source": [
    "GRAPHPART_DIR.mkdir(exist_ok=True)\n",
    "graphpart_input_string = f\"'{GRAPHPART_INPUT_FILE}'\"\n",
    "graphpart_output_string = f\"'{GRAPHPART_OUTPUT_FILE}'\"\n",
    "\n",
    "\n",
    "#length_sorted_proteins = sorted(proteins, key=lambda protein_id: len(proteins[protein_id].protein_seq), reverse=True)\n",
    "length_sorted_candidate_trunc_proteins = sorted(candidate_trunc_proteins, key=lambda protein_id: len(proteins[protein_id].protein_seq), reverse=True)\n",
    "\n",
    "with open(GRAPHPART_INPUT_FILE, 'w') as f:\n",
    "    #for protein_id in length_sorted_proteins:\n",
    "    for protein_id in length_sorted_candidate_trunc_proteins:\n",
    "        sequence = proteins[protein_id].protein_seq\n",
    "        seq_length = min(len(sequence), MAX_SEQ_LENGTH)\n",
    "        #header = f\"{protein_id}|priority={int(protein_id in candidate_trunc_proteins)}\"\n",
    "        header = f\"{protein_id}|priority={int(protein_id in candidate_trunc_proteins)}\"\n",
    "        SeqIO.write(SeqRecord(Seq(sequence[:seq_length]), header, '', ''), f, \"fasta\")"
   ]
  },
  {
   "cell_type": "code",
   "execution_count": 13,
   "id": "fa57143d-05ee-4a0f-8c8d-76150ef5ac2f",
   "metadata": {},
   "outputs": [
    {
     "name": "stdout",
     "output_type": "stream",
     "text": [
      "--val/test-ratio 0.05 scaled to candidate dataset: 0.10826446280991736 and rounded to multiple of 0.05: 0.1\n"
     ]
    }
   ],
   "source": [
    "def round_nearest(num: float, to: float) -> float:\n",
    "    num, to = Decimal(str(num)), Decimal(str(to))\n",
    "    return float(round(num / to) * to)\n",
    "\n",
    "scaled_valtest_ratio = (len(proteins)*0.05)/len(candidate_trunc_proteins)\n",
    "scaled_valtest_ratio_rounded = round_nearest(scaled_valtest_ratio, 0.05)\n",
    "print(f\"--val/test-ratio 0.05 scaled to candidate dataset: {scaled_valtest_ratio} and rounded to multiple of 0.05: {scaled_valtest_ratio_rounded}\")"
   ]
  },
  {
   "cell_type": "code",
   "execution_count": 14,
   "id": "18330689-c02d-45b2-b7fb-bcc4b004499f",
   "metadata": {},
   "outputs": [
    {
     "data": {
      "text/markdown": [
       "### Next cell will run following command (with quotes added):"
      ],
      "text/plain": [
       "<IPython.core.display.Markdown object>"
      ]
     },
     "metadata": {},
     "output_type": "display_data"
    },
    {
     "name": "stdout",
     "output_type": "stream",
     "text": [
      "graphpart mmseqs2 --fasta-file /home/jakob/Cloudvault_new/Data/NetOGlyc5 data/GalNAc data/06-partitioning/netoglyc4_graphpart_partitions/graphpart_input.fasta --out-file /home/jakob/Cloudvault_new/Data/NetOGlyc5 data/GalNAc data/06-partitioning/netoglyc4_graphpart_partitions/graphpart_output.csv --threshold 0.3 --val-ratio 0.1 --test-ratio 0.1\n"
     ]
    }
   ],
   "source": [
    "display(Markdown(\"### Next cell will run following command (with quotes added):\"))\n",
    "!echo graphpart mmseqs2 --fasta-file {graphpart_input_string} --out-file {graphpart_output_string} --threshold {GRAPHPART_THRESHOLD} --val-ratio {scaled_valtest_ratio_rounded} --test-ratio {scaled_valtest_ratio_rounded}"
   ]
  },
  {
   "cell_type": "code",
   "execution_count": 15,
   "id": "2efc89c0-2131-48f9-b727-42d0e9e92626",
   "metadata": {
    "scrolled": true,
    "tags": []
   },
   "outputs": [
    {
     "name": "stdout",
     "output_type": "stream",
     "text": [
      "Running in train-validation-test split mode with 10% test and 10% validation.\n",
      "   lim  num  val\n",
      "0   36  363    0\n",
      "createdb --dbtype 1 /home/jakob/Cloudvault_new/Data/NetOGlyc5 data/GalNAc data/06-partitioning/netoglyc4_graphpart_partitions/graphpart_input.fasta temp/seq_db \n",
      "\n",
      "MMseqs Version:       \t13.45111\n",
      "Database type         \t1\n",
      "Shuffle input database\ttrue\n",
      "Createdb mode         \t0\n",
      "Write lookup file     \t1\n",
      "Offset of numeric ids \t0\n",
      "Compressed            \t0\n",
      "Verbosity             \t3\n",
      "\n",
      "Converting sequences\n",
      "[304] 0s 1ms\n",
      "Time for merging to seq_db_h: 0h 0m 0s 2ms\n",
      "Time for merging to seq_db: 0h 0m 0s 1ms\n",
      "Database type: Aminoacid\n",
      "Time for processing: 0h 0m 0s 7ms\n",
      "align temp/seq_db temp/seq_db temp/pref temp/align_db --alignment-mode 3 -e inf --seq-id-mode 1 --min-seq-id 0.3 \n",
      "\n",
      "MMseqs Version:           \t13.45111\n",
      "Substitution matrix       \tnucl:nucleotide.out,aa:blosum62.out\n",
      "Add backtrace             \tfalse\n",
      "Alignment mode            \t3\n",
      "Alignment mode            \t0\n",
      "Allow wrapped scoring     \tfalse\n",
      "E-value threshold         \tinf\n",
      "Seq. id. threshold        \t0.3\n",
      "Min alignment length      \t0\n",
      "Seq. id. mode             \t1\n",
      "Alternative alignments    \t0\n",
      "Coverage threshold        \t0\n",
      "Coverage mode             \t0\n",
      "Max sequence length       \t65535\n",
      "Compositional bias        \t1\n",
      "Max reject                \t2147483647\n",
      "Max accept                \t2147483647\n",
      "Include identical seq. id.\tfalse\n",
      "Preload mode              \t0\n",
      "Pseudo count a            \t1\n",
      "Pseudo count b            \t1.5\n",
      "Score bias                \t0\n",
      "Realign hits              \tfalse\n",
      "Realign score bias        \t-0.2\n",
      "Realign max seqs          \t2147483647\n",
      "Gap open cost             \tnucl:5,aa:11\n",
      "Gap extension cost        \tnucl:2,aa:1\n",
      "Zdrop                     \t40\n",
      "Threads                   \t4\n",
      "Compressed                \t0\n",
      "Verbosity                 \t3\n",
      "\n",
      "Compute score, coverage and sequence identity\n",
      "Query database size: 363 type: Aminoacid\n",
      "Target database size: 363 type: Aminoacid\n",
      "Calculation of alignments\n",
      "[=================================================================] 100.00% 363 2s 591ms    \n",
      "Time for merging to align_db: 0h 0m 0s 0ms\n",
      "131769 alignments calculated\n",
      "489 sequence pairs passed the thresholds (0.003711 of overall calculated)\n",
      "1.347107 hits per query sequence\n",
      "Time for processing: 0h 0m 2s 609ms\n",
      "convertalis temp/seq_db temp/seq_db temp/align_db temp/alignments.tab \n",
      "\n",
      "MMseqs Version:        \t13.45111\n",
      "Substitution matrix    \tnucl:nucleotide.out,aa:blosum62.out\n",
      "Alignment format       \t0\n",
      "Format alignment output\tquery,target,fident,alnlen,mismatch,gapopen,qstart,qend,tstart,tend,evalue,bits\n",
      "Translation table      \t1\n",
      "Gap open cost          \tnucl:5,aa:11\n",
      "Gap extension cost     \tnucl:2,aa:1\n",
      "Database output        \tfalse\n",
      "Preload mode           \t0\n",
      "Search type            \t0\n",
      "Threads                \t4\n",
      "Compressed             \t0\n",
      "Verbosity              \t3\n",
      "\n",
      "[=================================================================] 100.00% 363 0s 0ms      \n",
      "Time for merging to alignments.tab: 0h 0m 0s 0ms\n",
      "Time for processing: 0h 0m 0s 5ms\n",
      "489it [00:00, 579219.05it/s]\n",
      "Pairwise alignment executed in 2.67 seconds.\n",
      "Full graph nr. of edges: 65\n",
      "36 [36]\n",
      "Initialization mode slow-nn\n",
      "1\n",
      "cluster    0.0  1.0  2.0  3.0  4.0  5.0  6.0  7.0  8.0  9.0 label  mean  count\n",
      "label-val                                                                     \n",
      "0           37   37   37   36   36   36   36   36   36   36     0  36.3    363\n",
      "\n",
      "Partitioning score: 36.297128400323565\n",
      "\n",
      "cluster    0.0  1.0  2.0 label   mean  count\n",
      "label-val                                   \n",
      "0          291   36   36     0  121.0    363\n",
      "\n",
      "Partitioning score: 72.24913693329322\n",
      "\n",
      "Currently have this many samples: 363\n",
      "After removal we have this many samples: 363\n",
      "cluster    0.0  1.0  2.0 label   mean  count\n",
      "label-val                                   \n",
      "0          291   36   36     0  121.0    363\n",
      "\n",
      "Partitioning score: 72.24913693329322\n",
      "\n",
      "Graph-Part executed in 2.75 seconds.\n"
     ]
    }
   ],
   "source": [
    "!graphpart mmseqs2 --fasta-file {graphpart_input_string} --out-file {graphpart_output_string} --threshold {GRAPHPART_THRESHOLD} --val-ratio {scaled_valtest_ratio_rounded} --test-ratio {scaled_valtest_ratio_rounded}"
   ]
  },
  {
   "cell_type": "code",
   "execution_count": 16,
   "id": "94aa2e23-bdde-4f22-a75a-f432470fbdf2",
   "metadata": {},
   "outputs": [],
   "source": [
    "clusters = [set(), set(), set()]\n",
    "with open(GRAPHPART_OUTPUT_FILE, 'r') as f:\n",
    "    f_iter = iter(f)\n",
    "    header = next(f_iter).strip().split(',')\n",
    "    for line in f_iter:\n",
    "        AC, priority, glycosylated, cluster = line.strip().split(',')\n",
    "        priority = priority == \"True\"\n",
    "        glycosylated = float(glycosylated) > 0\n",
    "        cluster = int(float(cluster))\n",
    "        clusters[cluster].add(AC)"
   ]
  },
  {
   "cell_type": "code",
   "execution_count": 17,
   "id": "7f10d49d-a6ee-48e8-946e-0430b5cc3032",
   "metadata": {},
   "outputs": [
    {
     "data": {
      "text/plain": [
       "[291, 36, 36]"
      ]
     },
     "execution_count": 17,
     "metadata": {},
     "output_type": "execute_result"
    }
   ],
   "source": [
    "[len(cluster) for cluster in clusters]"
   ]
  },
  {
   "cell_type": "code",
   "execution_count": 18,
   "id": "7e24bd14-a004-4e9d-b30f-2a2f9171e715",
   "metadata": {},
   "outputs": [
    {
     "name": "stdout",
     "output_type": "stream",
     "text": [
      "Notebook took 76.4992773180129 seconds to run\n"
     ]
    }
   ],
   "source": [
    "notebook_end_time = time.perf_counter()\n",
    "print(f\"Notebook took {notebook_end_time-notebook_start_time} seconds to run\")"
   ]
  },
  {
   "cell_type": "code",
   "execution_count": null,
   "id": "8bc5d63f-e0f7-47f3-86ec-521c566e721c",
   "metadata": {},
   "outputs": [],
   "source": []
  }
 ],
 "metadata": {
  "kernelspec": {
   "display_name": "Python 3 (ipykernel)",
   "language": "python",
   "name": "python3"
  },
  "language_info": {
   "codemirror_mode": {
    "name": "ipython",
    "version": 3
   },
   "file_extension": ".py",
   "mimetype": "text/x-python",
   "name": "python",
   "nbconvert_exporter": "python",
   "pygments_lexer": "ipython3",
   "version": "3.9.9"
  }
 },
 "nbformat": 4,
 "nbformat_minor": 5
}
