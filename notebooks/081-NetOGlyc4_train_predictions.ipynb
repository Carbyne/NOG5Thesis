{
 "cells": [
  {
   "cell_type": "code",
   "execution_count": 1,
   "id": "1c3b50e4-d75f-4a53-8412-04bfba51fd4f",
   "metadata": {},
   "outputs": [],
   "source": [
    "import gzip\n",
    "from pathlib import Path"
   ]
  },
  {
   "cell_type": "code",
   "execution_count": 2,
   "id": "5e454a8f-2cb2-45f6-949a-89f29c0b7b20",
   "metadata": {},
   "outputs": [],
   "source": [
    "import h5py\n",
    "import numpy as np\n",
    "import pandas as pd\n",
    "from sklearn.metrics import matthews_corrcoef, accuracy_score, roc_auc_score, roc_curve, auc, precision_recall_curve, confusion_matrix\n",
    "from scipy.stats.stats import pearsonr\n",
    "from matplotlib import pyplot as plt"
   ]
  },
  {
   "cell_type": "code",
   "execution_count": 3,
   "id": "7f901c86-32c9-4731-8851-497b5eee0363",
   "metadata": {},
   "outputs": [],
   "source": [
    "#BASE_DIR = Path(\"/mnt/g/My Drive/CloudVault/Masters/Data\")\n",
    "BASE_DIR = Path(\"/home/jakob/Cloudvault_new/Data\")\n",
    "\n",
    "# Paths of imported embeddings file\n",
    "EMBEDDING_FILE = BASE_DIR/'NetOGlyc5 data'/'GalNAc data'/'05-embedding'/'netoglyc4_protein_embeddings_netsurfp_output_glyc_labels_max.h5'\n",
    "\n",
    "# Path of NetOGlyc 4 output (gzipped)\n",
    "NETOGLYC4_OUTPUT = BASE_DIR/'NetOGlyc5 data'/'Training NetOGlyc4'/'predictions4_0.tsv'\n",
    "\n",
    "# Maximum sequence length of proteins for test set\n",
    "#MAX_SEQ_LENGTH = 1022\n",
    "MAX_SEQ_LENGTH = 34350\n",
    "\n",
    "IGNORE_MISSING_IDS = True"
   ]
  },
  {
   "cell_type": "code",
   "execution_count": 4,
   "id": "13a39dfc-e5c5-42e0-a527-fed42513e649",
   "metadata": {},
   "outputs": [],
   "source": [
    "with h5py.File(EMBEDDING_FILE, 'r') as file:\n",
    "    identifiers_list = file['identifiers'].asstr()[:].tolist()\n",
    "    sequences_list = file['sequences'].asstr()[:].tolist()\n",
    "    seq_lengths = [len(seq) for seq in sequences_list]\n",
    "    gly = file['labels']['gly'][:, :MAX_SEQ_LENGTH, 0]"
   ]
  },
  {
   "cell_type": "code",
   "execution_count": 5,
   "id": "c4d9da1b-fa4b-4c00-83e8-3a8d569bfae4",
   "metadata": {},
   "outputs": [],
   "source": [
    "#testing_ids = set(identifiers_list)"
   ]
  },
  {
   "cell_type": "code",
   "execution_count": 6,
   "id": "f4adb735-cda9-423f-a94a-6991d51783a2",
   "metadata": {},
   "outputs": [
    {
     "name": "stdout",
     "output_type": "stream",
     "text": [
      "Proteins: 19678\n"
     ]
    }
   ],
   "source": [
    "positive_glycosites_df = pd.read_csv(NETOGLYC4_OUTPUT, sep=\"\\t\", header=0)\n",
    "print(f\"Proteins: {len(positive_glycosites_df)}\")"
   ]
  },
  {
   "cell_type": "code",
   "execution_count": 7,
   "id": "7b20b7de-49e4-42d5-bc79-b0efc04d8432",
   "metadata": {},
   "outputs": [
    {
     "data": {
      "text/html": [
       "<div>\n",
       "<style scoped>\n",
       "    .dataframe tbody tr th:only-of-type {\n",
       "        vertical-align: middle;\n",
       "    }\n",
       "\n",
       "    .dataframe tbody tr th {\n",
       "        vertical-align: top;\n",
       "    }\n",
       "\n",
       "    .dataframe thead th {\n",
       "        text-align: right;\n",
       "    }\n",
       "</style>\n",
       "<table border=\"1\" class=\"dataframe\">\n",
       "  <thead>\n",
       "    <tr style=\"text-align: right;\">\n",
       "      <th></th>\n",
       "      <th>uniprot</th>\n",
       "      <th>sites</th>\n",
       "    </tr>\n",
       "  </thead>\n",
       "  <tbody>\n",
       "    <tr>\n",
       "      <th>0</th>\n",
       "      <td>P30492</td>\n",
       "      <td>202,214</td>\n",
       "    </tr>\n",
       "    <tr>\n",
       "      <th>1</th>\n",
       "      <td>P16189</td>\n",
       "      <td>202,206</td>\n",
       "    </tr>\n",
       "    <tr>\n",
       "      <th>2</th>\n",
       "      <td>Q9TQE0</td>\n",
       "      <td>89,119,129</td>\n",
       "    </tr>\n",
       "    <tr>\n",
       "      <th>3</th>\n",
       "      <td>P30510</td>\n",
       "      <td>202,214,219,301</td>\n",
       "    </tr>\n",
       "    <tr>\n",
       "      <th>4</th>\n",
       "      <td>P30154</td>\n",
       "      <td>48</td>\n",
       "    </tr>\n",
       "    <tr>\n",
       "      <th>...</th>\n",
       "      <td>...</td>\n",
       "      <td>...</td>\n",
       "    </tr>\n",
       "    <tr>\n",
       "      <th>19673</th>\n",
       "      <td>P60852</td>\n",
       "      <td>141,143,146,155,157,158,161,163,167,168,171,17...</td>\n",
       "    </tr>\n",
       "    <tr>\n",
       "      <th>19674</th>\n",
       "      <td>Q6X784</td>\n",
       "      <td>NaN</td>\n",
       "    </tr>\n",
       "    <tr>\n",
       "      <th>19675</th>\n",
       "      <td>Q8TCW7</td>\n",
       "      <td>314,325,326,328,332,345,352,355,359,361</td>\n",
       "    </tr>\n",
       "    <tr>\n",
       "      <th>19676</th>\n",
       "      <td>P21754</td>\n",
       "      <td>33,301,303,306,308,329,331,333,341,344,346,348...</td>\n",
       "    </tr>\n",
       "    <tr>\n",
       "      <th>19677</th>\n",
       "      <td>Q9UK55</td>\n",
       "      <td>25,28,31,38,39,56,61,136</td>\n",
       "    </tr>\n",
       "  </tbody>\n",
       "</table>\n",
       "<p>19678 rows × 2 columns</p>\n",
       "</div>"
      ],
      "text/plain": [
       "      uniprot                                              sites\n",
       "0      P30492                                            202,214\n",
       "1      P16189                                            202,206\n",
       "2      Q9TQE0                                         89,119,129\n",
       "3      P30510                                    202,214,219,301\n",
       "4      P30154                                                 48\n",
       "...       ...                                                ...\n",
       "19673  P60852  141,143,146,155,157,158,161,163,167,168,171,17...\n",
       "19674  Q6X784                                                NaN\n",
       "19675  Q8TCW7            314,325,326,328,332,345,352,355,359,361\n",
       "19676  P21754  33,301,303,306,308,329,331,333,341,344,346,348...\n",
       "19677  Q9UK55                           25,28,31,38,39,56,61,136\n",
       "\n",
       "[19678 rows x 2 columns]"
      ]
     },
     "execution_count": 7,
     "metadata": {},
     "output_type": "execute_result"
    }
   ],
   "source": [
    "positive_glycosites_df"
   ]
  },
  {
   "cell_type": "code",
   "execution_count": 8,
   "id": "0b8525c9-e1d2-4651-99d8-0abe9c7ee01d",
   "metadata": {},
   "outputs": [
    {
     "data": {
      "text/plain": [
       "True"
      ]
     },
     "execution_count": 8,
     "metadata": {},
     "output_type": "execute_result"
    }
   ],
   "source": [
    "len(positive_glycosites_df['uniprot'].unique()) == len(positive_glycosites_df)"
   ]
  },
  {
   "cell_type": "code",
   "execution_count": 9,
   "id": "63dd436c-f5a5-4d9f-a1e8-d2a2cf60651e",
   "metadata": {
    "scrolled": true,
    "tags": []
   },
   "outputs": [],
   "source": [
    "identifier_positive_scores = {}\n",
    "\n",
    "for i, row in positive_glycosites_df.iterrows():\n",
    "    if pd.notna(row['sites']):\n",
    "        glycosites = [int(site)-1 for site in row['sites'].split(',')]\n",
    "    else:\n",
    "        glycosites = []\n",
    "    identifier_positive_scores[row['uniprot']] = glycosites"
   ]
  },
  {
   "cell_type": "code",
   "execution_count": 10,
   "id": "c1b4111b-585e-465d-b42e-9134eb306626",
   "metadata": {},
   "outputs": [
    {
     "name": "stdout",
     "output_type": "stream",
     "text": [
      "Maximum sequence length in output: 8728\n"
     ]
    }
   ],
   "source": [
    "print(f\"Maximum sequence length in output: {max(max(glycosites) for glycosites in identifier_positive_scores.values() if len(glycosites) > 0)}\")"
   ]
  },
  {
   "cell_type": "code",
   "execution_count": 11,
   "id": "a08b6886-9aba-489b-a722-66df0daafc54",
   "metadata": {},
   "outputs": [
    {
     "name": "stdout",
     "output_type": "stream",
     "text": [
      "Minimum index in output: 9\n"
     ]
    }
   ],
   "source": [
    "print(f\"Minimum index in output: {min(min(glycosites) for glycosites in identifier_positive_scores.values() if len(glycosites) > 0)}\")"
   ]
  },
  {
   "cell_type": "code",
   "execution_count": 12,
   "id": "938f4271-86f2-4821-ba9d-f4c1bd118be6",
   "metadata": {},
   "outputs": [
    {
     "name": "stdout",
     "output_type": "stream",
     "text": [
      "Ignoring following 1 missing test identifiers: {'Q8WXI7'}\n"
     ]
    }
   ],
   "source": [
    "missing_scoring_identifiers = set(identifiers_list) - set(identifier_positive_scores)\n",
    "if len(missing_scoring_identifiers) > 0:\n",
    "    if not IGNORE_MISSING_IDS:\n",
    "        raise Exception(f\"{len(missing_scoring_identifiers)} test identifiers not found in scores: {missing_scoring_identifiers}\")\n",
    "\n",
    "if len(missing_scoring_identifiers) > 0:\n",
    "    print(f\"Ignoring following {len(missing_scoring_identifiers)} missing test identifiers: {missing_scoring_identifiers}\")\n",
    "\n",
    "testing_scores = {protein_id: identifier_positive_scores[protein_id] for protein_id in (set(identifiers_list) - missing_scoring_identifiers)}"
   ]
  },
  {
   "cell_type": "code",
   "execution_count": 13,
   "id": "f96037f2-84ea-4812-835c-9dff0abe10c2",
   "metadata": {},
   "outputs": [],
   "source": [
    "unambiguous_pred = []\n",
    "unambiguous_labels = []\n",
    "\n",
    "for identifier in testing_scores:\n",
    "    scores = testing_scores[identifier]\n",
    "    embedding_idx = identifiers_list.index(identifier)\n",
    "    seq_length = min(len(sequences_list[embedding_idx]), MAX_SEQ_LENGTH)\n",
    "    \n",
    "    labels = gly[embedding_idx, :seq_length]\n",
    "    site_mask = (labels >= 0)\n",
    "    unambiguous_site_mask = (labels == 0) | (labels == 1)\n",
    "    \n",
    "    pred = np.zeros(seq_length)\n",
    "    for idx in scores:\n",
    "        pred[idx] = 1\n",
    "\n",
    "    unambiguous_pred.append(pred[unambiguous_site_mask])\n",
    "    unambiguous_labels.append(labels[unambiguous_site_mask])\n",
    "\n",
    "unambiguous_pred = np.concatenate(unambiguous_pred)\n",
    "unambiguous_labels = np.concatenate(unambiguous_labels)"
   ]
  },
  {
   "cell_type": "code",
   "execution_count": 14,
   "id": "54dd651a-5e29-4e64-89ef-09eb31b28313",
   "metadata": {},
   "outputs": [],
   "source": [
    "def plot_roc_curve(labels, pred, title=\"Receiver operating characteristic\"):\n",
    "    fpr, tpr, _ = roc_curve(labels, pred)\n",
    "    roc_auc = auc(fpr, tpr)\n",
    "\n",
    "    plt.figure()\n",
    "    lw = 2\n",
    "    plt.plot(\n",
    "        fpr,\n",
    "        tpr,\n",
    "        color=\"darkorange\",\n",
    "        lw=lw,\n",
    "        label=\"ROC curve (area = %0.2f)\" % roc_auc,\n",
    "    )\n",
    "    plt.plot([0, 1], [0, 1], color=\"navy\", lw=lw, linestyle=\"--\")\n",
    "    plt.xlim([0.0, 1.0])\n",
    "    plt.ylim([0.0, 1.05])\n",
    "    plt.xlabel(\"False Positive Rate\")\n",
    "    plt.ylabel(\"True Positive Rate\")\n",
    "    plt.title(title)\n",
    "    plt.legend(loc=\"lower right\")\n",
    "    plt.show()\n",
    "\n",
    "def calculate_metrics(unambiguous_labels, unambiguous_pred):\n",
    "    print(f\"% of unambiguous sites glycosylated: {(unambiguous_labels > 0).sum() / len(unambiguous_labels) * 100}\")\n",
    "    print(f\"Accuracy for unambiguous sites: {accuracy_score(unambiguous_labels, unambiguous_pred)}\")\n",
    "    print(f\"MCC for unambiguous sites: {matthews_corrcoef(unambiguous_labels, unambiguous_pred)}\")\n",
    "    print(f\"ROC-AUC for unambiguous sites: {roc_auc_score(unambiguous_labels, unambiguous_pred)}\")\n",
    "\n",
    "    tn, fp, fn, tp = confusion_matrix(unambiguous_labels, unambiguous_pred).ravel()\n",
    "    sensitivity = tp / (tp+fn)\n",
    "    specificity = tn / (tn+fp)\n",
    "    print(f\"Sensitivity (TPR) for unambiguous sites: {sensitivity*100:.2f}%\")\n",
    "    print(f\"Specificity (TNR) for unambiguous sites: {specificity*100:.2f}%\")\n",
    "\n",
    "    plot_roc_curve(unambiguous_labels, unambiguous_pred, \"Receiver operating characteristic for unambiguous sites\")\n"
   ]
  },
  {
   "cell_type": "code",
   "execution_count": 20,
   "id": "fb08128e-a0e9-4da7-85dd-a080c7721416",
   "metadata": {},
   "outputs": [
    {
     "name": "stdout",
     "output_type": "stream",
     "text": [
      "NetOGlyc-4.0 predictions for full NetOGlyc-4.0 training dataset (5097 sites):\n",
      "\n",
      "% of unambiguous sites glycosylated: 36.138905238375514\n",
      "Accuracy for unambiguous sites: 0.8854227977241514\n",
      "MCC for unambiguous sites: 0.7498481750571251\n",
      "ROC-AUC for unambiguous sites: 0.8711708871843368\n",
      "Sensitivity (TPR) for unambiguous sites: 81.98%\n",
      "Specificity (TNR) for unambiguous sites: 92.26%\n"
     ]
    },
    {
     "data": {
      "image/png": "[encoded data removed]",
      "text/plain": [
       "<Figure size 432x288 with 1 Axes>"
      ]
     },
     "metadata": {
      "needs_background": "light"
     },
     "output_type": "display_data"
    }
   ],
   "source": [
    "print(f\"NetOGlyc-4.0 predictions for full NetOGlyc-4.0 training dataset ({len(unambiguous_labels)} sites):\\n\")\n",
    "calculate_metrics(unambiguous_labels, unambiguous_pred)"
   ]
  },
  {
   "cell_type": "code",
   "execution_count": null,
   "id": "984814c4-6396-4fc8-813e-f146d763ca08",
   "metadata": {},
   "outputs": [],
   "source": []
  }
 ],
 "metadata": {
  "kernelspec": {
   "display_name": "Python 3 (ipykernel)",
   "language": "python",
   "name": "python3"
  },
  "language_info": {
   "codemirror_mode": {
    "name": "ipython",
    "version": 3
   },
   "file_extension": ".py",
   "mimetype": "text/x-python",
   "name": "python",
   "nbconvert_exporter": "python",
   "pygments_lexer": "ipython3",
   "version": "3.9.9"
  }
 },
 "nbformat": 4,
 "nbformat_minor": 5
}
