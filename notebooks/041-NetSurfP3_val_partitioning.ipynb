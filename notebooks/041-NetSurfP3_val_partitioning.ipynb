{
 "cells": [
  {
   "cell_type": "code",
   "execution_count": 1,
   "id": "69c70870-332e-4e84-92f0-7baaef2af94f",
   "metadata": {},
   "outputs": [],
   "source": [
    "import h5py\n",
    "from nog5.utils.dataset_io import copy_h5_indices"
   ]
  },
  {
   "cell_type": "code",
   "execution_count": 2,
   "id": "eb892ae9-6427-482d-9330-9519097c28cc",
   "metadata": {},
   "outputs": [],
   "source": [
    "# Validation partition from graphpart\n",
    "val_identifiers = {'2xc8-B', '5b71-F', '2aj6-A', '2v3a-A', '3m73-A', '3o0g-E', '3mbk-A', '2x57-B', '1g8q-B', '2yv4-A', '3kgk-A', '5cph-B', '4rs7-D', '5cx7-I', '2ipq-X', '5sv5-A', '3v46-A', '2bnm-B', '4zso-E', '3kzt-A', '1pm4-B', '4zl4-A', '4w64-A', '3qzb-A', '1zyo-A', '1sjw-A', '2r39-A', '5bq5-B', '3x0f-B', '4bhu-D', '1oru-B', '3ovk-C', '4xl1-B', '2xom-A', '1vh5-A', '4pkf-B', '5hi4-A', '5ls7-D', '1psr-B', '4tkc-A', '3tj7-D', '5b5i-A', '4kwy-A', '1oyg-A', '1kq6-A', '1s2o-A', '4uhc-A', '5h66-C', '1rli-B', '2z7b-A', '4qm6-B', '3ts9-A', '1nz0-C', '2hhz-A', '2il5-A', '2ov0-A', '2x27-X', '5x6s-B', '3nuf-A', '4fvd-A', '2gpi-A', '3oa8-A', '3tzt-A', '4o32-A', '5m33-B', '4u5h-E', '4nng-A', '1jhc-A', '4gyt-A', '5hus-A', '2wtm-D', '4q0y-C', '5ex2-A', '1zc3-B', '5ihw-A', '3sy6-B', '4fa8-A', '4rxx-A', '3m4r-A', '2qpv-B', '2qlt-A', '4ae5-D', '4le7-A', '5lal-B', '5edf-A', '5hsf-A', '5gn1-D', '3rmh-A', '1cr5-A', '1ng6-A', '5l09-B', '4mjd-B', '1dmu-A', '3aji-B', '4gqm-A', '2c36-A', '3dfg-A', '3lyx-B', '3can-A', '1ocy-A', '5v1y-B', '1hdo-A', '2w4l-E', '3n1f-D', '1vqo-Z'}\n",
    "\n",
    "# We copy embeddings in batches to not fill up RAM\n",
    "#embeddings_batch_size = 1000\n",
    "\n",
    "trainval_f = h5py.File(\"/home/jakob/PycharmProjects/NetOGlycThesis/data/nsp2/training_data/TrainValidate_HHblits_embeddings.h5\", \"r\")\n",
    "\n",
    "trainval_identifiers = trainval_f['identifiers'].asstr()[:].tolist()\n",
    "\n",
    "if len(val_identifiers - set(trainval_identifiers)) > 0:\n",
    "    raise Exception(\"Some validation partition identifiers were not found in dataset\")\n",
    "\n",
    "train_indices, val_indices = [], []\n",
    "for idx, identifier in enumerate(trainval_identifiers):\n",
    "    if identifier in val_identifiers:\n",
    "        val_indices.append(idx)\n",
    "    else:\n",
    "        train_indices.append(idx)\n",
    "\n",
    "#val_f = h5py.File(\"/home/jakob/PycharmProjects/NetOGlycThesis/data/nsp2/training_data/Validate_HHblits_embeddings_new.h5\", \"w\")\n",
    "#copy_h5_indices(trainval_f, val_f, val_indices)\n",
    "#val_f.close()\n",
    "\n",
    "#train_f = h5py.File(\"/home/jakob/PycharmProjects/NetOGlycThesis/data/nsp2/training_data/Train_HHblits_embeddings_new.h5\", \"w\")\n",
    "#copy_h5_indices(trainval_f, train_f, train_indices)\n",
    "#train_f.close()"
   ]
  },
  {
   "cell_type": "code",
   "execution_count": 3,
   "id": "cdfd7b80-93e0-4c98-a9ab-19ba6964c76d",
   "metadata": {},
   "outputs": [
    {
     "name": "stdout",
     "output_type": "stream",
     "text": [
      "[83, 122, 256, 325, 443, 528, 671, 709, 736, 771, 779, 817, 827, 954, 989, 1025, 1232, 1288, 1586, 1629, 1673, 1762, 1792, 2211, 2284, 2415, 2430, 2703, 2958, 2973, 3036, 3144, 3252, 3321, 3344, 3361, 3383, 3426, 3534, 3582, 3704, 3943, 4139, 5067, 5138, 5289, 5306, 5316, 5338, 5441, 5539, 5558, 5587, 5676, 5890, 5969, 6114, 6167, 6186, 6206, 6320, 6525, 6646, 6748, 7107, 7159, 7265, 7283, 7697, 7744, 7889, 8014, 8062, 8229, 8280, 8350, 8490, 8511, 8533, 8581, 8629, 8696, 8856, 9094, 9121, 9263, 9284, 9313, 9427, 9454, 9585, 9647, 9811, 9873, 9899, 9922, 9930, 9984, 10211, 10237, 10291, 10335, 10494, 10682, 10795]\n"
     ]
    }
   ],
   "source": [
    "print(f\"[{', '.join(str(idx) for idx in val_indices)}]\")"
   ]
  },
  {
   "cell_type": "code",
   "execution_count": null,
   "id": "0a840be7-2840-4383-9d3e-3f72cc6c7821",
   "metadata": {},
   "outputs": [],
   "source": [
    "trainval_f.close()"
   ]
  }
 ],
 "metadata": {
  "kernelspec": {
   "display_name": "Python 3 (ipykernel)",
   "language": "python",
   "name": "python3"
  },
  "language_info": {
   "codemirror_mode": {
    "name": "ipython",
    "version": 3
   },
   "file_extension": ".py",
   "mimetype": "text/x-python",
   "name": "python",
   "nbconvert_exporter": "python",
   "pygments_lexer": "ipython3",
   "version": "3.9.9"
  }
 },
 "nbformat": 4,
 "nbformat_minor": 5
}
