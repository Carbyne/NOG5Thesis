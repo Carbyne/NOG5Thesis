{
 "cells": [
  {
   "cell_type": "code",
   "execution_count": 1,
   "id": "1c3b50e4-d75f-4a53-8412-04bfba51fd4f",
   "metadata": {},
   "outputs": [],
   "source": [
    "import gzip\n",
    "from pathlib import Path"
   ]
  },
  {
   "cell_type": "code",
   "execution_count": 2,
   "id": "5e454a8f-2cb2-45f6-949a-89f29c0b7b20",
   "metadata": {},
   "outputs": [],
   "source": [
    "import h5py\n",
    "import numpy as np\n",
    "import pandas as pd\n",
    "from sklearn.metrics import matthews_corrcoef, accuracy_score, roc_auc_score, roc_curve, auc, precision_recall_curve, confusion_matrix\n",
    "from scipy.stats.stats import pearsonr\n",
    "from matplotlib import pyplot as plt"
   ]
  },
  {
   "cell_type": "code",
   "execution_count": 3,
   "id": "7f901c86-32c9-4731-8851-497b5eee0363",
   "metadata": {},
   "outputs": [],
   "source": [
    "#BASE_DIR = Path(\"/mnt/g/My Drive/CloudVault/Masters/Data\")\n",
    "BASE_DIR = Path(\"/home/jakob/Cloudvault_new/Data\")\n",
    "\n",
    "# Path of directory to get Graphpart output\n",
    "GRAPHPART_DIR = BASE_DIR/'NetOGlyc5 data'/'GalNAc data'/'06-partitioning'/'netoglyc4_graphpart_partitions'\n",
    "\n",
    "# Paths of imported embeddings file\n",
    "EMBEDDING_FILE = BASE_DIR/'NetOGlyc5 data'/'GalNAc data'/'05-embedding'/'netoglyc4_protein_embeddings_netsurfp_output_glyc_labels_max.h5'\n",
    "\n",
    "# Path of NetOGlyc 4 output (gzipped)\n",
    "NETOGLYC4_OUTPUT = BASE_DIR/'NetOGlyc5 data'/'Training NetOGlyc4'/'predictions4_0.tsv'\n",
    "\n",
    "# Maximum sequence length of proteins for test set\n",
    "#MAX_SEQ_LENGTH = 1022\n",
    "MAX_SEQ_LENGTH = 34350\n",
    "\n",
    "IGNORE_MISSING_IDS = True"
   ]
  },
  {
   "cell_type": "code",
   "execution_count": 4,
   "id": "3ed66002-84bd-48fa-9a08-b05d67254811",
   "metadata": {},
   "outputs": [],
   "source": [
    "GRAPHPART_OUTPUT_FILE = GRAPHPART_DIR/'graphpart_output.csv'"
   ]
  },
  {
   "cell_type": "markdown",
   "id": "0fd6a896-3a89-4a4b-aec0-d6abbd8a760d",
   "metadata": {},
   "source": [
    "## Fetch validation/testing partition IDs"
   ]
  },
  {
   "cell_type": "code",
   "execution_count": 5,
   "id": "31785fad-286c-4ef8-8b5a-37fb9abf8dfa",
   "metadata": {},
   "outputs": [],
   "source": [
    "clusters = [set(), set(), set()]\n",
    "with open(GRAPHPART_OUTPUT_FILE, 'r') as f:\n",
    "    f_iter = iter(f)\n",
    "    header = next(f_iter).strip().split(',')\n",
    "    for line in f_iter:\n",
    "        AC, priority, glycosylated, cluster = line.strip().split(',')\n",
    "        priority = priority == \"True\"\n",
    "        glycosylated = float(glycosylated) > 0\n",
    "        cluster = int(float(cluster))\n",
    "        clusters[cluster].add(AC)"
   ]
  },
  {
   "cell_type": "code",
   "execution_count": 6,
   "id": "3e644cb5-7465-470e-9c79-7f73b00d2d14",
   "metadata": {},
   "outputs": [
    {
     "data": {
      "text/plain": [
       "[291, 36, 36]"
      ]
     },
     "execution_count": 6,
     "metadata": {},
     "output_type": "execute_result"
    }
   ],
   "source": [
    "[len(cluster) for cluster in clusters]"
   ]
  },
  {
   "cell_type": "code",
   "execution_count": 7,
   "id": "40303849-ea08-48a1-a13c-48cfdde7c87f",
   "metadata": {},
   "outputs": [],
   "source": [
    "validation_ids = clusters[1]\n",
    "testing_ids = clusters[2]"
   ]
  },
  {
   "cell_type": "code",
   "execution_count": 8,
   "id": "13a39dfc-e5c5-42e0-a527-fed42513e649",
   "metadata": {},
   "outputs": [],
   "source": [
    "with h5py.File(EMBEDDING_FILE, 'r') as file:\n",
    "    identifiers_list = file['identifiers'].asstr()[:].tolist()\n",
    "    sequences_list = file['sequences'].asstr()[:].tolist()\n",
    "    seq_lengths = [len(seq) for seq in sequences_list]\n",
    "    gly = file['labels']['gly'][:, :MAX_SEQ_LENGTH, 0]"
   ]
  },
  {
   "cell_type": "code",
   "execution_count": 9,
   "id": "c4d9da1b-fa4b-4c00-83e8-3a8d569bfae4",
   "metadata": {},
   "outputs": [],
   "source": [
    "#testing_ids = set(identifiers_list)"
   ]
  },
  {
   "cell_type": "code",
   "execution_count": 10,
   "id": "f4adb735-cda9-423f-a94a-6991d51783a2",
   "metadata": {},
   "outputs": [
    {
     "name": "stdout",
     "output_type": "stream",
     "text": [
      "Proteins: 19678\n"
     ]
    }
   ],
   "source": [
    "positive_glycosites_df = pd.read_csv(NETOGLYC4_OUTPUT, sep=\"\\t\", header=0)\n",
    "print(f\"Proteins: {len(positive_glycosites_df)}\")"
   ]
  },
  {
   "cell_type": "code",
   "execution_count": 11,
   "id": "7b20b7de-49e4-42d5-bc79-b0efc04d8432",
   "metadata": {},
   "outputs": [
    {
     "data": {
      "text/html": [
       "<div>\n",
       "<style scoped>\n",
       "    .dataframe tbody tr th:only-of-type {\n",
       "        vertical-align: middle;\n",
       "    }\n",
       "\n",
       "    .dataframe tbody tr th {\n",
       "        vertical-align: top;\n",
       "    }\n",
       "\n",
       "    .dataframe thead th {\n",
       "        text-align: right;\n",
       "    }\n",
       "</style>\n",
       "<table border=\"1\" class=\"dataframe\">\n",
       "  <thead>\n",
       "    <tr style=\"text-align: right;\">\n",
       "      <th></th>\n",
       "      <th>uniprot</th>\n",
       "      <th>sites</th>\n",
       "    </tr>\n",
       "  </thead>\n",
       "  <tbody>\n",
       "    <tr>\n",
       "      <th>0</th>\n",
       "      <td>P30492</td>\n",
       "      <td>202,214</td>\n",
       "    </tr>\n",
       "    <tr>\n",
       "      <th>1</th>\n",
       "      <td>P16189</td>\n",
       "      <td>202,206</td>\n",
       "    </tr>\n",
       "    <tr>\n",
       "      <th>2</th>\n",
       "      <td>Q9TQE0</td>\n",
       "      <td>89,119,129</td>\n",
       "    </tr>\n",
       "    <tr>\n",
       "      <th>3</th>\n",
       "      <td>P30510</td>\n",
       "      <td>202,214,219,301</td>\n",
       "    </tr>\n",
       "    <tr>\n",
       "      <th>4</th>\n",
       "      <td>P30154</td>\n",
       "      <td>48</td>\n",
       "    </tr>\n",
       "    <tr>\n",
       "      <th>...</th>\n",
       "      <td>...</td>\n",
       "      <td>...</td>\n",
       "    </tr>\n",
       "    <tr>\n",
       "      <th>19673</th>\n",
       "      <td>P60852</td>\n",
       "      <td>141,143,146,155,157,158,161,163,167,168,171,17...</td>\n",
       "    </tr>\n",
       "    <tr>\n",
       "      <th>19674</th>\n",
       "      <td>Q6X784</td>\n",
       "      <td>NaN</td>\n",
       "    </tr>\n",
       "    <tr>\n",
       "      <th>19675</th>\n",
       "      <td>Q8TCW7</td>\n",
       "      <td>314,325,326,328,332,345,352,355,359,361</td>\n",
       "    </tr>\n",
       "    <tr>\n",
       "      <th>19676</th>\n",
       "      <td>P21754</td>\n",
       "      <td>33,301,303,306,308,329,331,333,341,344,346,348...</td>\n",
       "    </tr>\n",
       "    <tr>\n",
       "      <th>19677</th>\n",
       "      <td>Q9UK55</td>\n",
       "      <td>25,28,31,38,39,56,61,136</td>\n",
       "    </tr>\n",
       "  </tbody>\n",
       "</table>\n",
       "<p>19678 rows × 2 columns</p>\n",
       "</div>"
      ],
      "text/plain": [
       "      uniprot                                              sites\n",
       "0      P30492                                            202,214\n",
       "1      P16189                                            202,206\n",
       "2      Q9TQE0                                         89,119,129\n",
       "3      P30510                                    202,214,219,301\n",
       "4      P30154                                                 48\n",
       "...       ...                                                ...\n",
       "19673  P60852  141,143,146,155,157,158,161,163,167,168,171,17...\n",
       "19674  Q6X784                                                NaN\n",
       "19675  Q8TCW7            314,325,326,328,332,345,352,355,359,361\n",
       "19676  P21754  33,301,303,306,308,329,331,333,341,344,346,348...\n",
       "19677  Q9UK55                           25,28,31,38,39,56,61,136\n",
       "\n",
       "[19678 rows x 2 columns]"
      ]
     },
     "execution_count": 11,
     "metadata": {},
     "output_type": "execute_result"
    }
   ],
   "source": [
    "positive_glycosites_df"
   ]
  },
  {
   "cell_type": "code",
   "execution_count": 12,
   "id": "0b8525c9-e1d2-4651-99d8-0abe9c7ee01d",
   "metadata": {},
   "outputs": [
    {
     "data": {
      "text/plain": [
       "True"
      ]
     },
     "execution_count": 12,
     "metadata": {},
     "output_type": "execute_result"
    }
   ],
   "source": [
    "len(positive_glycosites_df['uniprot'].unique()) == len(positive_glycosites_df)"
   ]
  },
  {
   "cell_type": "code",
   "execution_count": 13,
   "id": "63dd436c-f5a5-4d9f-a1e8-d2a2cf60651e",
   "metadata": {
    "scrolled": true,
    "tags": []
   },
   "outputs": [],
   "source": [
    "identifier_positive_scores = {}\n",
    "\n",
    "for i, row in positive_glycosites_df.iterrows():\n",
    "    if pd.notna(row['sites']):\n",
    "        glycosites = [int(site)-1 for site in row['sites'].split(',')]\n",
    "    else:\n",
    "        glycosites = []\n",
    "    identifier_positive_scores[row['uniprot']] = glycosites"
   ]
  },
  {
   "cell_type": "code",
   "execution_count": 14,
   "id": "c1b4111b-585e-465d-b42e-9134eb306626",
   "metadata": {},
   "outputs": [
    {
     "name": "stdout",
     "output_type": "stream",
     "text": [
      "Maximum sequence length in output: 8728\n"
     ]
    }
   ],
   "source": [
    "print(f\"Maximum sequence length in output: {max(max(glycosites) for glycosites in identifier_positive_scores.values() if len(glycosites) > 0)}\")"
   ]
  },
  {
   "cell_type": "code",
   "execution_count": 15,
   "id": "a08b6886-9aba-489b-a722-66df0daafc54",
   "metadata": {},
   "outputs": [
    {
     "name": "stdout",
     "output_type": "stream",
     "text": [
      "Minimum index in output: 9\n"
     ]
    }
   ],
   "source": [
    "print(f\"Minimum index in output: {min(min(glycosites) for glycosites in identifier_positive_scores.values() if len(glycosites) > 0)}\")"
   ]
  },
  {
   "cell_type": "code",
   "execution_count": 16,
   "id": "311f8bf8-00b3-44c4-a10f-9280af3b1a66",
   "metadata": {},
   "outputs": [],
   "source": [
    "missing_embedding_identifiers = set(testing_ids) - set(identifiers_list)\n",
    "if len(missing_embedding_identifiers) > 0:\n",
    "    if not IGNORE_MISSING_IDS:\n",
    "        raise Exception(f\"{len(missing_embedding_identifiers)} test identifiers not found in embeddings: {missing_embedding_identifiers}\")\n",
    "\n",
    "missing_scoring_identifiers = set(testing_ids) - set(identifier_positive_scores)\n",
    "if len(missing_scoring_identifiers) > 0:\n",
    "    if not IGNORE_MISSING_IDS:\n",
    "        raise Exception(f\"{len(missing_scoring_identifiers)} test identifiers not found in scores: {missing_scoring_identifiers}\")\n",
    "\n",
    "missing_identifiers = missing_embedding_identifiers | missing_scoring_identifiers\n",
    "if len(missing_identifiers) > 0:\n",
    "    print(f\"Ignoring following {len(missing_identifiers)} missing test identifiers: {missing_identifiers}\")\n",
    "\n",
    "testing_scores = {protein_id: identifier_positive_scores[protein_id] for protein_id in (testing_ids - missing_identifiers)}"
   ]
  },
  {
   "cell_type": "code",
   "execution_count": 17,
   "id": "f96037f2-84ea-4812-835c-9dff0abe10c2",
   "metadata": {},
   "outputs": [],
   "source": [
    "unambiguous_pred = []\n",
    "unambiguous_labels = []\n",
    "\n",
    "for identifier in testing_scores:\n",
    "    scores = testing_scores[identifier]\n",
    "    embedding_idx = identifiers_list.index(identifier)\n",
    "    seq_length = min(len(sequences_list[embedding_idx]), MAX_SEQ_LENGTH)\n",
    "    \n",
    "    labels = gly[embedding_idx, :seq_length]\n",
    "    site_mask = (labels >= 0)\n",
    "    unambiguous_site_mask = (labels == 0) | (labels == 1)\n",
    "    \n",
    "    pred = np.zeros(seq_length)\n",
    "    for idx in scores:\n",
    "        pred[idx] = 1\n",
    "\n",
    "    unambiguous_pred.append(pred[unambiguous_site_mask])\n",
    "    unambiguous_labels.append(labels[unambiguous_site_mask])\n",
    "\n",
    "unambiguous_pred = np.concatenate(unambiguous_pred)\n",
    "unambiguous_labels = np.concatenate(unambiguous_labels)"
   ]
  },
  {
   "cell_type": "code",
   "execution_count": 18,
   "id": "54dd651a-5e29-4e64-89ef-09eb31b28313",
   "metadata": {},
   "outputs": [],
   "source": [
    "def plot_roc_curve(labels, pred, title=\"Receiver operating characteristic\"):\n",
    "    fpr, tpr, _ = roc_curve(labels, pred)\n",
    "    roc_auc = auc(fpr, tpr)\n",
    "\n",
    "    plt.figure()\n",
    "    lw = 2\n",
    "    plt.plot(\n",
    "        fpr,\n",
    "        tpr,\n",
    "        color=\"darkorange\",\n",
    "        lw=lw,\n",
    "        label=\"ROC curve (area = %0.2f)\" % roc_auc,\n",
    "    )\n",
    "    plt.plot([0, 1], [0, 1], color=\"navy\", lw=lw, linestyle=\"--\")\n",
    "    plt.xlim([0.0, 1.0])\n",
    "    plt.ylim([0.0, 1.05])\n",
    "    plt.xlabel(\"False Positive Rate\")\n",
    "    plt.ylabel(\"True Positive Rate\")\n",
    "    plt.title(title)\n",
    "    plt.legend(loc=\"lower right\")\n",
    "    plt.show()\n",
    "\n",
    "def calculate_metrics(unambiguous_labels, unambiguous_pred):\n",
    "    print(f\"% of unambiguous sites glycosylated: {(unambiguous_labels > 0).sum() / len(unambiguous_labels) * 100}\")\n",
    "    print(f\"Accuracy for unambiguous sites: {accuracy_score(unambiguous_labels, unambiguous_pred)}\")\n",
    "    print(f\"MCC for unambiguous sites: {matthews_corrcoef(unambiguous_labels, unambiguous_pred)}\")\n",
    "    print(f\"ROC-AUC for unambiguous sites: {roc_auc_score(unambiguous_labels, unambiguous_pred)}\")\n",
    "\n",
    "    tn, fp, fn, tp = confusion_matrix(unambiguous_labels, unambiguous_pred).ravel()\n",
    "    sensitivity = tp / (tp+fn)\n",
    "    specificity = tn / (tn+fp)\n",
    "    print(f\"Sensitivity (TPR) for unambiguous sites: {sensitivity*100:.2f}%\")\n",
    "    print(f\"Specificity (TNR) for unambiguous sites: {specificity*100:.2f}%\")\n",
    "\n",
    "    plot_roc_curve(unambiguous_labels, unambiguous_pred, \"Receiver operating characteristic for unambiguous sites\")\n"
   ]
  },
  {
   "cell_type": "code",
   "execution_count": 26,
   "id": "fb08128e-a0e9-4da7-85dd-a080c7721416",
   "metadata": {},
   "outputs": [
    {
     "name": "stdout",
     "output_type": "stream",
     "text": [
      "NetOGlyc-4.0 predictions for test partition of NetOGlyc-4.0 training dataset (387 sites):\n",
      "\n",
      "% of unambiguous sites glycosylated: 10.077519379844961\n",
      "Accuracy for unambiguous sites: 0.8475452196382429\n",
      "MCC for unambiguous sites: 0.47758925395918594\n",
      "ROC-AUC for unambiguous sites: 0.8241600353669318\n",
      "Sensitivity (TPR) for unambiguous sites: 79.49%\n",
      "Specificity (TNR) for unambiguous sites: 85.34%\n"
     ]
    },
    {
     "data": {
      "image/png": "[encoded data removed]",
      "text/plain": [
       "<Figure size 432x288 with 1 Axes>"
      ]
     },
     "metadata": {
      "needs_background": "light"
     },
     "output_type": "display_data"
    }
   ],
   "source": [
    "print(f\"NetOGlyc-4.0 predictions for test partition of NetOGlyc-4.0 training dataset ({len(unambiguous_labels)} sites):\\n\")\n",
    "calculate_metrics(unambiguous_labels, unambiguous_pred)"
   ]
  },
  {
   "cell_type": "code",
   "execution_count": null,
   "id": "63314173-df82-445e-8ef1-c94010415067",
   "metadata": {},
   "outputs": [],
   "source": []
  }
 ],
 "metadata": {
  "kernelspec": {
   "display_name": "Python 3 (ipykernel)",
   "language": "python",
   "name": "python3"
  },
  "language_info": {
   "codemirror_mode": {
    "name": "ipython",
    "version": 3
   },
   "file_extension": ".py",
   "mimetype": "text/x-python",
   "name": "python",
   "nbconvert_exporter": "python",
   "pygments_lexer": "ipython3",
   "version": "3.9.9"
  }
 },
 "nbformat": 4,
 "nbformat_minor": 5
}
