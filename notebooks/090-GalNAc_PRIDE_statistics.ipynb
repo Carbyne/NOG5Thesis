{
 "cells": [
  {
   "cell_type": "code",
   "execution_count": 1,
   "id": "fcea0635-09a5-4ba5-9748-934592dac402",
   "metadata": {},
   "outputs": [],
   "source": [
    "import time\n",
    "notebook_start_time = time.perf_counter()"
   ]
  },
  {
   "cell_type": "markdown",
   "id": "2cafc4d7-4266-403f-9e67-03c193a13187",
   "metadata": {},
   "source": [
    "# GalNAc data annotation statistics"
   ]
  },
  {
   "cell_type": "markdown",
   "id": "f1410d92-001a-40d4-a302-c742a837f225",
   "metadata": {
    "tags": []
   },
   "source": [
    "## Imports"
   ]
  },
  {
   "cell_type": "markdown",
   "id": "004ea57c-8d0c-4151-9f44-7d08eebb4950",
   "metadata": {
    "tags": []
   },
   "source": [
    "### Built-in imports"
   ]
  },
  {
   "cell_type": "code",
   "execution_count": 2,
   "id": "07753263-39c7-481e-bf34-ece33a8c3dc7",
   "metadata": {},
   "outputs": [],
   "source": [
    "import math\n",
    "import gzip\n",
    "import pickle\n",
    "import re\n",
    "from pathlib import Path\n",
    "from collections import Counter\n",
    "from itertools import chain"
   ]
  },
  {
   "cell_type": "markdown",
   "id": "6602b6c5-98bb-4e9a-b8dd-0daca5ce9701",
   "metadata": {},
   "source": [
    "### Shared library imports"
   ]
  },
  {
   "cell_type": "code",
   "execution_count": 3,
   "id": "2e56265a-e1bf-4d5a-9fb2-f431cb19acee",
   "metadata": {},
   "outputs": [],
   "source": [
    "import glyc_processing.annotation\n",
    "from glyc_processing.misc import split_uniprot_id"
   ]
  },
  {
   "cell_type": "markdown",
   "id": "ba2b4838-859f-4eea-b46b-64ce62711714",
   "metadata": {},
   "source": [
    "### External imports"
   ]
  },
  {
   "cell_type": "code",
   "execution_count": 4,
   "id": "ad6b48b2-c534-4b01-8806-8bd6620bd2dd",
   "metadata": {},
   "outputs": [],
   "source": [
    "import numpy as np\n",
    "import pandas as pd\n",
    "from tqdm.auto import tqdm\n",
    "from matplotlib import pyplot as plt\n",
    "from IPython.display import display"
   ]
  },
  {
   "cell_type": "markdown",
   "id": "d510312f-b8bd-427e-93d8-173f45fe1f94",
   "metadata": {},
   "source": [
    "## Paths & Constants"
   ]
  },
  {
   "cell_type": "code",
   "execution_count": 5,
   "id": "2c2d04d2-eb0f-4711-a332-8bc9500c3ee2",
   "metadata": {},
   "outputs": [],
   "source": [
    "#BASE_DIR = Path(\"/mnt/g/My Drive/CloudVault/Masters/Data\")\n",
    "BASE_DIR = Path(\"/home/jakob/Cloudvault_new/Data\")\n",
    "\n",
    "# Path of exported annotations file\n",
    "ANNOTATIONS_FILE = BASE_DIR/'NetOGlyc5 data'/'GalNAc data'/'04-annotation'/'protein_annotations.pkl.gz'\n",
    "\n",
    "# Path of directory to get Graphpart output\n",
    "GRAPHPART_DIR = BASE_DIR/'NetOGlyc5 data'/'GalNAc data'/'06-partitioning'/'graphpart_partitions'\n",
    "\n",
    "# Path of exported protein sequences fasta files\n",
    "PROTEIN_SEQS_FILE = BASE_DIR/'NetOGlyc5 data'/'GalNAc data'/'05-embedding'/'protein_seqs.fasta'\n",
    "\n",
    "# The amino acids that are allowed to be glycosylated\n",
    "ALLOWED_AA = ('S','T','Y')\n",
    "\n",
    "# Maximum sequence length that can be embedded in one go\n",
    "# 1022 for BERT/ALBERT (ESM-1b / ProtBert wo. start/end tokens), No limit for XLNet\n",
    "MAX_SEQ_LENGTH = 1022\n",
    "#MAX_SEQ_LENGTH = 7000\n",
    "\n",
    "# Which of the following partitions to look at: training, validation and training proteins\n",
    "USE_PARTITIONS = ['training', 'validation', 'testing']"
   ]
  },
  {
   "cell_type": "code",
   "execution_count": 6,
   "id": "f7dfa1aa-d78e-4b0c-9722-9f2697c542f2",
   "metadata": {},
   "outputs": [],
   "source": [
    "GRAPHPART_OUTPUT_FILE = GRAPHPART_DIR/'graphpart_output.csv'"
   ]
  },
  {
   "cell_type": "markdown",
   "id": "45b0614c-9feb-4ad1-ae69-77fcaaadd243",
   "metadata": {
    "tags": []
   },
   "source": [
    "## Fetch protein annotations"
   ]
  },
  {
   "cell_type": "code",
   "execution_count": 7,
   "id": "c6856e15-33c1-460d-9412-5b962c8da243",
   "metadata": {
    "tags": []
   },
   "outputs": [],
   "source": [
    "with gzip.open(ANNOTATIONS_FILE, 'rb') as f:\n",
    "    proteins = pickle.load(f)"
   ]
  },
  {
   "cell_type": "markdown",
   "id": "020b3498-b31d-45e0-bf5a-5e506310382f",
   "metadata": {},
   "source": [
    "## Fetch validation/testing partition IDs"
   ]
  },
  {
   "cell_type": "code",
   "execution_count": 8,
   "id": "ec13f2a2-6eac-4097-b63a-29b3dbc559de",
   "metadata": {},
   "outputs": [],
   "source": [
    "clusters = [set(), set(), set()]\n",
    "with open(GRAPHPART_OUTPUT_FILE, 'r') as f:\n",
    "    f_iter = iter(f)\n",
    "    header = next(f_iter).strip().split(',')\n",
    "    for line in f_iter:\n",
    "        AC, priority, glycosylated, cluster = line.strip().split(',')\n",
    "        priority = priority == \"True\"\n",
    "        glycosylated = float(glycosylated) > 0\n",
    "        cluster = int(float(cluster))\n",
    "        clusters[cluster].add(AC)"
   ]
  },
  {
   "cell_type": "code",
   "execution_count": 9,
   "id": "287368ea-b965-45d6-8d63-1aa2b9edc234",
   "metadata": {},
   "outputs": [
    {
     "data": {
      "text/plain": [
       "[2139, 268, 267]"
      ]
     },
     "execution_count": 9,
     "metadata": {},
     "output_type": "execute_result"
    }
   ],
   "source": [
    "[len(cluster) for cluster in clusters]"
   ]
  },
  {
   "cell_type": "code",
   "execution_count": 10,
   "id": "9daf3f37-2efc-471f-9436-9c6bdfe8b457",
   "metadata": {},
   "outputs": [],
   "source": [
    "validation_ids = clusters[1]\n",
    "testing_ids = clusters[2]\n",
    "training_ids = set(proteins) - validation_ids - testing_ids"
   ]
  },
  {
   "cell_type": "markdown",
   "id": "bfd032e5-f217-4d39-a778-47249c7ffa8b",
   "metadata": {},
   "source": [
    "### Look only at some partitions if specified"
   ]
  },
  {
   "cell_type": "code",
   "execution_count": 11,
   "id": "9c862544-70d6-4ab5-8e81-bed378e92964",
   "metadata": {},
   "outputs": [],
   "source": [
    "if 'training' not in USE_PARTITIONS:\n",
    "    for protein_id in training_ids:\n",
    "        del proteins[protein_id]\n",
    "\n",
    "if 'validation' not in USE_PARTITIONS:\n",
    "    for protein_id in validation_ids:\n",
    "        del proteins[protein_id]\n",
    "        \n",
    "if 'testing' not in USE_PARTITIONS:\n",
    "    for protein_id in testing_ids:\n",
    "        del proteins[protein_id]"
   ]
  },
  {
   "cell_type": "markdown",
   "id": "caa059c3-859b-4e0a-ae42-21b25b97c510",
   "metadata": {
    "tags": []
   },
   "source": [
    "## Data Statistics"
   ]
  },
  {
   "cell_type": "markdown",
   "id": "fd5653c0-169e-4a68-86ac-3418d1a88eff",
   "metadata": {},
   "source": [
    "### Protein Stats"
   ]
  },
  {
   "cell_type": "code",
   "execution_count": 12,
   "id": "9504942b-9b95-4693-88de-2e01a53c9afe",
   "metadata": {},
   "outputs": [
    {
     "name": "stdout",
     "output_type": "stream",
     "text": [
      "Con-canonical protein isoforms: 0 (0.00%)\n",
      "Multi-isoform proteins: 0 (0.00%)\n"
     ]
    }
   ],
   "source": [
    "isoforms_dict = {}\n",
    "for uniprot_id in proteins:\n",
    "    protein_id, isoform_id = split_uniprot_id(uniprot_id)\n",
    "    if protein_id not in isoforms_dict:\n",
    "        isoforms_dict[protein_id] = [isoform_id]\n",
    "    else:\n",
    "        isoforms_dict[protein_id].append(isoform_id)\n",
    "\n",
    "isoform_proteins = {protein_id: isoforms_list for protein_id, isoforms_list in isoforms_dict.items() if isoforms_list != [None]}\n",
    "multi_isoform_proteins = {protein_id: isoforms_list for protein_id, isoforms_list in isoforms_dict.items() if len(isoforms_list) > 1}\n",
    "\n",
    "print(f\"Con-canonical protein isoforms: {len(isoform_proteins)} ({len(isoform_proteins)/len(proteins)*100:.2f}%)\")\n",
    "print(f\"Multi-isoform proteins: {len(isoform_proteins)} ({len(multi_isoform_proteins)/len(proteins)*100:.2f}%)\")"
   ]
  },
  {
   "cell_type": "markdown",
   "id": "94dab413-fe4f-4069-8885-15e4800818c1",
   "metadata": {},
   "source": [
    "### Effects of truncation"
   ]
  },
  {
   "cell_type": "code",
   "execution_count": 13,
   "id": "6bf942be-edd5-4414-b31e-fbe1610360a8",
   "metadata": {},
   "outputs": [
    {
     "data": {
      "image/png": "[encoded data removed]",
      "text/plain": [
       "<Figure size 576x288 with 1 Axes>"
      ]
     },
     "metadata": {
      "needs_background": "light"
     },
     "output_type": "display_data"
    },
    {
     "data": {
      "image/png": "[encoded data removed]",
      "text/plain": [
       "<Figure size 576x288 with 1 Axes>"
      ]
     },
     "metadata": {
      "needs_background": "light"
     },
     "output_type": "display_data"
    },
    {
     "data": {
      "image/png": "[encoded data removed]",
      "text/plain": [
       "<Figure size 576x288 with 1 Axes>"
      ]
     },
     "metadata": {
      "needs_background": "light"
     },
     "output_type": "display_data"
    },
    {
     "data": {
      "image/png": "[encoded data removed]",
      "text/plain": [
       "<Figure size 576x288 with 1 Axes>"
      ]
     },
     "metadata": {
      "needs_background": "light"
     },
     "output_type": "display_data"
    },
    {
     "name": "stdout",
     "output_type": "stream",
     "text": [
      "% of proteins seen in dataset that are too long to be fully embedded (>1022 AA): 1266 (25.35%)\n",
      "% of seen possible sites that are found in in too long proteins (>1022 AA): 34263 (47.38%)\n",
      "% of seen possible sites that are found in in parts of proteins beyond 1022 AA: 15352 (21.23%)\n",
      "Explanation: If the last value is close to 0%, we can throw away the proteins that are very long. Otherwise, we either need to embed long proteins in chunks and stitch them together, truncate long proteins or use a model with a higher max embedding length\n"
     ]
    }
   ],
   "source": [
    "max_plot_length = 6000\n",
    "plot_bins = 75\n",
    "\n",
    "protein_lengths = {uniprot_id: len(proteins[uniprot_id].protein_seq) for uniprot_id in proteins}\n",
    "glycosylated_protein_lengths = {uniprot_id: len(proteins[uniprot_id].protein_seq) for uniprot_id in proteins if len(proteins[uniprot_id].sites) > 0}\n",
    "unglycosylated_protein_lengths = {uniprot_id: len(proteins[uniprot_id].protein_seq) for uniprot_id in proteins if len(proteins[uniprot_id].sites) == 0}\n",
    "\n",
    "bins = np.arange(0, max_plot_length+max_plot_length/plot_bins, max_plot_length/plot_bins) # fixed bin size\n",
    "fig, ax = plt.subplots(figsize=(8,4))\n",
    "ax.hist([list(glycosylated_protein_lengths.values()), list(unglycosylated_protein_lengths.values())], bins=bins, stacked=True, width=max_plot_length/plot_bins, label=(\"Glycosylated proteins\", \"Unglycosylated proteins\"))\n",
    "ax.axvline(x=MAX_SEQ_LENGTH, color='red', linestyle='--')\n",
    "ax.set_title(f'Effect of removing proteins > {MAX_SEQ_LENGTH} AA on protein length distribution')\n",
    "ax.set_xlabel('Protein Length (AA)')\n",
    "ax.set_ylabel('Proteins')\n",
    "ax.legend()\n",
    "fig.tight_layout()\n",
    "plt.show(block=False)\n",
    "\n",
    "too_long_proteins = {uniprot_id for uniprot_id in protein_lengths if protein_lengths[uniprot_id] > MAX_SEQ_LENGTH}\n",
    "n_too_long_protein_sites = 0\n",
    "n_all_sites = 0\n",
    "for protein in proteins.values():\n",
    "    for i in range(len(protein.protein_seq)):\n",
    "        if protein.seq_sites[i] is not None and protein.seq_idx_seen_count[i] > 0:\n",
    "            n_all_sites += 1\n",
    "            if protein.protein_id in too_long_proteins:\n",
    "                n_too_long_protein_sites += 1\n",
    "\n",
    "protein_seen_site_count = {}\n",
    "protein_too_high_index_seen_site_count = {}\n",
    "for protein in proteins.values():\n",
    "    for i in range(len(protein.protein_seq)):\n",
    "        if protein.seq_sites[i] is not None and protein.seq_idx_seen_count[i] > 0:\n",
    "            if protein.protein_id not in protein_seen_site_count:\n",
    "                protein_seen_site_count[protein.protein_id] = 0\n",
    "                protein_too_high_index_seen_site_count[protein.protein_id] = 0\n",
    "            protein_seen_site_count[protein.protein_id] += 1\n",
    "            if i >= MAX_SEQ_LENGTH:\n",
    "                protein_too_high_index_seen_site_count[protein.protein_id] += 1\n",
    "n_too_high_index_sites = sum(protein_too_high_index_seen_site_count.values())\n",
    "\n",
    "glycosylated_protein_lengths, glycosylated_site_counts = zip(*((protein_lengths[uniprot_id], protein_seen_site_count[uniprot_id]) for uniprot_id in glycosylated_protein_lengths))\n",
    "unglycosylated_protein_lengths, unglycosylated_site_counts = zip(*((protein_lengths[uniprot_id], protein_seen_site_count[uniprot_id]) for uniprot_id in unglycosylated_protein_lengths))\n",
    "\n",
    "bins = np.arange(0, max_plot_length+max_plot_length/plot_bins, max_plot_length/plot_bins)\n",
    "glycosylated_bar_heights, _ = np.histogram(glycosylated_protein_lengths, bins=bins, weights=glycosylated_site_counts)\n",
    "unglycosylated_bar_heights, _ = np.histogram(unglycosylated_protein_lengths, bins=bins, weights=unglycosylated_site_counts)\n",
    "fig, ax = plt.subplots(figsize=(8,4))\n",
    "ax.bar(bins[:-1], glycosylated_bar_heights, width=max_plot_length/plot_bins, label=\"Glycosylated sites\")\n",
    "ax.bar(bins[:-1], unglycosylated_bar_heights, bottom=glycosylated_bar_heights, width=max_plot_length/plot_bins, label=\"Unglycosylated sites\")\n",
    "ax.axvline(x=MAX_SEQ_LENGTH, color='red', linestyle='--')\n",
    "ax.set_title(f'Effect of removing proteins > {MAX_SEQ_LENGTH} AA on unique sites distribution by protein length')\n",
    "ax.set_xlabel('Protein Length (AA)')\n",
    "ax.set_ylabel('Unique Sites for proteins of specific length')\n",
    "ax.legend()\n",
    "fig.tight_layout()\n",
    "plt.show(block=False)\n",
    "\n",
    "fully_embeddable_protein_relative_site_positions = []\n",
    "too_long_protein_relative_site_positions = []\n",
    "partly_embeddable_site_relative_positions = []\n",
    "too_long_site_relative_positions = []\n",
    "for protein in proteins.values():\n",
    "    for site in protein.sites:\n",
    "        relative_site_position = sum(site.possible_site_indices)/site.count/len(protein.protein_seq)\n",
    "        if len(protein.protein_seq) < MAX_SEQ_LENGTH:\n",
    "            fully_embeddable_protein_relative_site_positions.append(relative_site_position)\n",
    "        else:\n",
    "            too_long_protein_relative_site_positions.append(relative_site_position)\n",
    "        if site.possible_site_indices[0] <= MAX_SEQ_LENGTH:\n",
    "            partly_embeddable_site_relative_positions.append(relative_site_position)\n",
    "        else:\n",
    "            too_long_site_relative_positions.append(relative_site_position)\n",
    "\n",
    "bins = np.arange(0, 1+1/40, 1/40)\n",
    "fig, ax = plt.subplots(figsize=(8,4))\n",
    "ax.hist([fully_embeddable_protein_relative_site_positions, too_long_protein_relative_site_positions], bins=bins, stacked=True, label=(f\"Sites in Proteins <= {MAX_SEQ_LENGTH} AA\", f\"Sites in Proteins > {MAX_SEQ_LENGTH} AA\"))\n",
    "ax.set_title(f'Effect of removing proteins > {MAX_SEQ_LENGTH} AA on relative site position distribution')\n",
    "ax.set_xlabel('Relative protein sequence')\n",
    "ax.set_ylabel(f'Sites')\n",
    "ax.legend()\n",
    "fig.tight_layout()\n",
    "plt.show(block=False)\n",
    "\n",
    "bins = np.arange(0, 1+1/40, 1/40)\n",
    "fig, ax = plt.subplots(figsize=(8,4))\n",
    "ax.hist([partly_embeddable_site_relative_positions, too_long_site_relative_positions], bins=bins, stacked=True, label=(f\"Sites <= {MAX_SEQ_LENGTH} AA\", f\"Sites > {MAX_SEQ_LENGTH} AA\"))\n",
    "ax.set_title(f'Effect of truncating proteins > {MAX_SEQ_LENGTH} AA on relative site position distribution')\n",
    "ax.set_xlabel('Relative protein sequence')\n",
    "ax.set_ylabel(f'Sites')\n",
    "ax.legend()\n",
    "fig.tight_layout()\n",
    "plt.show(block=False)\n",
    "\n",
    "#fig.tight_layout()\n",
    "#fig.subplots_adjust(top=0.9)\n",
    "#fig.suptitle(\"Effects of long protein removal/truncation on distributions\", fontsize=16)\n",
    "#plt.show(block=False)\n",
    "\n",
    "print(f\"% of proteins seen in dataset that are too long to be fully embedded (>{MAX_SEQ_LENGTH} AA): {len(too_long_proteins)} ({len(too_long_proteins)/len(protein_lengths)*100:.2f}%)\")\n",
    "print(f\"% of seen possible sites that are found in in too long proteins (>{MAX_SEQ_LENGTH} AA): {n_too_long_protein_sites} ({n_too_long_protein_sites/n_all_sites*100:.2f}%)\")\n",
    "print(f\"% of seen possible sites that are found in in parts of proteins beyond {MAX_SEQ_LENGTH} AA: {n_too_high_index_sites} ({n_too_high_index_sites/n_all_sites*100:.2f}%)\")\n",
    "print(\"Explanation: If the last value is close to 0%, we can throw away the proteins that are very long. Otherwise, we either need to embed long proteins in chunks and stitch them together, truncate long proteins or use a model with a higher max embedding length\")"
   ]
  },
  {
   "cell_type": "code",
   "execution_count": 14,
   "id": "5bbdb153-daec-4e22-a5c1-ec85b52460a8",
   "metadata": {
    "tags": []
   },
   "outputs": [
    {
     "name": "stdout",
     "output_type": "stream",
     "text": [
      "Glycosylated proteins with no remaining possible glycosylation sites after truncation: 260 (5.55%)\n",
      "Possible glycosylated sites lost after truncation: 1580 (0.55%)\n"
     ]
    }
   ],
   "source": [
    "total_glyc_proteins = 0\n",
    "total_glyc_sites = 0\n",
    "nonglyc_proteins_by_truncation = {}\n",
    "for protein in proteins.values():\n",
    "    max_seq_length = min(len(protein.protein_seq), MAX_SEQ_LENGTH)\n",
    "    if len(protein.sites) > 0:\n",
    "        included_glyc_sites = [idx for idx, sites in enumerate(protein.seq_sites[:max_seq_length]) if sites is not None and len(sites) > 0]\n",
    "        excluded_glyc_sites = [idx for idx, sites in enumerate(protein.seq_sites[max_seq_length:]) if sites is not None and len(sites) > 0]\n",
    "        total_glyc_sites += len(protein.sites)\n",
    "        total_glyc_proteins += 1\n",
    "        if len(included_glyc_sites) == 0:\n",
    "            nonglyc_proteins_by_truncation[protein.protein_id] = excluded_glyc_sites\n",
    "\n",
    "print(f\"Glycosylated proteins with no remaining possible glycosylation sites after truncation: {len(nonglyc_proteins_by_truncation)} ({len(nonglyc_proteins_by_truncation)/total_glyc_proteins*100:.2f}%)\")\n",
    "print(f\"Possible glycosylated sites lost after truncation: {sum(len(sites) for sites in nonglyc_proteins_by_truncation.values())} ({sum(len(sites) for sites in nonglyc_proteins_by_truncation.values())/total_glyc_sites*100:.2f}%)\")"
   ]
  },
  {
   "cell_type": "code",
   "execution_count": 15,
   "id": "3f960ce9-442c-4cb7-9e17-aa330363ceb5",
   "metadata": {},
   "outputs": [
    {
     "name": "stdout",
     "output_type": "stream",
     "text": [
      "Before Truncation -> After Truncation to 1022 AA:\n",
      "\n",
      "Proteins: 4995\n",
      "\tNon-glycosylated Proteins: 311->571 (6.23%->11.43%)\n",
      "\tGlycosylated Proteins: 4684->4424 (93.77%->88.57%)\n",
      "\t\tGlycosylated Proteins w. (at least 1) Composition: 4191->3936 (83.90%->78.80%)\n",
      "\t\tGlycosylated Proteins w. (at least 1) Un-ambiguous site: 2910->2679 (58.26%->53.63%)\n",
      "\t\t\tProteins w. (at least 1) Un-ambiguous site and Composition: 2874->2645 (57.54%->52.95%)\n",
      "\n",
      "Sites (Glycosylated and Non-glycosylated): 72322->56970\n",
      "\tNon-glycosylated Sites: 38953->28915 (53.86%->50.75%)\n",
      "\t\tNon-glycosylated Sites in Glycosylated Proteins: 33594->22458 (46.45%->39.42%)\n",
      "\t\tNon-glycosylated Sites in Non-glycosylated Proteins: 5359->6457 (7.41%->11.33%)\n",
      "\tGlycosylated Sites: 33369->28055 (46.14%->49.25%)\n",
      "\t\tGlycosylated Sites w. Composition: 24158->20035 (33.40%->35.17%)\n",
      "\t\tNon-ambiguous Glycosylated Sites: 6581->5535 (9.10%->9.72%)\n",
      "\t\t\tNon-ambiguous Glycosylated Sites w. Composition: 6537->5494 (9.04%->9.64%)\n"
     ]
    }
   ],
   "source": [
    "n_sites = 0\n",
    "non_glyc_proteins = {}\n",
    "glyc_proteins_nonglyc = {}\n",
    "glyc_proteins = {}\n",
    "certain_glyc_proteins = {}\n",
    "comp_glyc_proteins = {}\n",
    "comp_certain_glyc_proteins = {}\n",
    "\n",
    "for protein in proteins.values():\n",
    "    protein_id = protein.protein_id\n",
    "    protein_len = len(protein.protein_seq)\n",
    "\n",
    "    glycosylation_labels = np.array(protein.get_glycosylation_labels(end=protein_len))\n",
    "    \n",
    "    sites_compositions = np.zeros(protein_len)\n",
    "    for idx, sites in enumerate(protein.seq_sites[:protein_len]):\n",
    "        if sites is not None and len(sites) > 0:\n",
    "            for site in sites:\n",
    "                if 'site_composition' in site.site_annotations and pd.notna(site.site_annotations['site_composition']):\n",
    "                    sites_compositions[idx] = 1\n",
    "\n",
    "    sites_mask = glycosylation_labels >= 0\n",
    "    n_sites += sites_mask.sum()\n",
    "\n",
    "    glyc_sites_mask = glycosylation_labels > 0\n",
    "    if glyc_sites_mask.sum() > 0:\n",
    "        glyc_proteins[protein_id] = np.where(glyc_sites_mask)[0]\n",
    "\n",
    "    non_glyc_sites_mask = glycosylation_labels == 0\n",
    "    if glyc_sites_mask.sum() == 0:\n",
    "        non_glyc_proteins[protein_id] = np.where(non_glyc_sites_mask)[0]\n",
    "    else:\n",
    "        glyc_proteins_nonglyc[protein_id] = np.where(non_glyc_sites_mask)[0]\n",
    "\n",
    "    certain_glyc_sites_mask = glycosylation_labels == 1\n",
    "    if certain_glyc_sites_mask.sum() > 0:\n",
    "        certain_glyc_proteins[protein_id] = np.where(certain_glyc_sites_mask)[0]\n",
    "\n",
    "    if sites_compositions.sum() > 0:\n",
    "        comp_glyc_proteins[protein_id] = np.where(sites_compositions)[0]\n",
    "\n",
    "        comp_certain_glyc_sites_mask = sites_compositions.astype(bool) & certain_glyc_sites_mask\n",
    "        if comp_certain_glyc_sites_mask.sum() > 0:\n",
    "            comp_certain_glyc_proteins[protein_id] = np.where(comp_certain_glyc_sites_mask)[0]\n",
    "\n",
    "trunc_n_sites = 0\n",
    "trunc_non_glyc_proteins = {}\n",
    "trunc_glyc_proteins_nonglyc = {}\n",
    "trunc_glyc_proteins = {}\n",
    "trunc_certain_glyc_proteins = {}\n",
    "trunc_comp_glyc_proteins = {}\n",
    "trunc_comp_certain_glyc_proteins = {}\n",
    "\n",
    "for protein in proteins.values():\n",
    "    protein_id = protein.protein_id\n",
    "    protein_len = min(len(protein.protein_seq), MAX_SEQ_LENGTH)\n",
    "\n",
    "    glycosylation_labels = np.array(protein.get_glycosylation_labels(end=protein_len))\n",
    "    \n",
    "    sites_compositions = np.zeros(protein_len)\n",
    "    for idx, sites in enumerate(protein.seq_sites[:protein_len]):\n",
    "        if sites is not None and len(sites) > 0:\n",
    "            for site in sites:\n",
    "                if 'site_composition' in site.site_annotations and pd.notna(site.site_annotations['site_composition']):\n",
    "                    sites_compositions[idx] = 1\n",
    "\n",
    "    sites_mask = glycosylation_labels >= 0\n",
    "    trunc_n_sites += sites_mask.sum()\n",
    "\n",
    "    glyc_sites_mask = glycosylation_labels > 0\n",
    "    if glyc_sites_mask.sum() > 0:\n",
    "        trunc_glyc_proteins[protein_id] = np.where(glyc_sites_mask)[0]\n",
    "\n",
    "    non_glyc_sites_mask = glycosylation_labels == 0\n",
    "    if glyc_sites_mask.sum() == 0:\n",
    "        trunc_non_glyc_proteins[protein_id] = np.where(non_glyc_sites_mask)[0]\n",
    "    else:\n",
    "        trunc_glyc_proteins_nonglyc[protein_id] = np.where(non_glyc_sites_mask)[0]\n",
    "\n",
    "    certain_glyc_sites_mask = glycosylation_labels == 1\n",
    "    if certain_glyc_sites_mask.sum() > 0:\n",
    "        trunc_certain_glyc_proteins[protein_id] = np.where(certain_glyc_sites_mask)[0]\n",
    "\n",
    "    if sites_compositions.sum() > 0:\n",
    "        trunc_comp_glyc_proteins[protein_id] = np.where(sites_compositions)[0]\n",
    "\n",
    "        comp_certain_glyc_sites_mask = sites_compositions.astype(bool) & certain_glyc_sites_mask\n",
    "        if comp_certain_glyc_sites_mask.sum() > 0:\n",
    "            trunc_comp_certain_glyc_proteins[protein_id] = np.where(comp_certain_glyc_sites_mask)[0]\n",
    "\n",
    "print(f\"Before Truncation -> After Truncation to {MAX_SEQ_LENGTH} AA:\\n\")\n",
    "            \n",
    "print(f\"Proteins: {len(proteins)}\")\n",
    "print(f\"\\tNon-glycosylated Proteins: {len(non_glyc_proteins)}->{len(trunc_non_glyc_proteins)} ({len(non_glyc_proteins)/len(proteins)*100:.2f}%->{len(trunc_non_glyc_proteins)/len(proteins)*100:.2f}%)\")\n",
    "print(f\"\\tGlycosylated Proteins: {len(glyc_proteins)}->{len(trunc_glyc_proteins)} ({len(glyc_proteins)/len(proteins)*100:.2f}%->{len(trunc_glyc_proteins)/len(proteins)*100:.2f}%)\")\n",
    "print(f\"\\t\\tGlycosylated Proteins w. (at least 1) Composition: {len(comp_glyc_proteins)}->{len(trunc_comp_glyc_proteins)} ({len(comp_glyc_proteins)/len(proteins)*100:.2f}%->{len(trunc_comp_glyc_proteins)/len(proteins)*100:.2f}%)\")\n",
    "print(f\"\\t\\tGlycosylated Proteins w. (at least 1) Un-ambiguous site: {len(certain_glyc_proteins)}->{len(trunc_certain_glyc_proteins)} ({len(certain_glyc_proteins)/len(proteins)*100:.2f}%->{len(trunc_certain_glyc_proteins)/len(proteins)*100:.2f}%)\")\n",
    "print(f\"\\t\\t\\tProteins w. (at least 1) Un-ambiguous site and Composition: {len(comp_certain_glyc_proteins)}->{len(trunc_comp_certain_glyc_proteins)} ({len(comp_certain_glyc_proteins)/len(proteins)*100:.2f}%->{len(trunc_comp_certain_glyc_proteins)/len(proteins)*100:.2f}%)\")\n",
    "print()\n",
    "\n",
    "non_glyc_proteins_non_glyc_sites = sum(len(non_glyc_proteins[protein_id]) for protein_id in non_glyc_proteins)\n",
    "glyc_proteins_non_glyc_sites = sum(len(glyc_proteins_nonglyc[protein_id]) for protein_id in glyc_proteins_nonglyc)\n",
    "glyc_sites = sum(len(glyc_proteins[protein_id]) for protein_id in glyc_proteins)\n",
    "certain_glyc_sites = sum(len(certain_glyc_proteins[protein_id]) for protein_id in certain_glyc_proteins)\n",
    "comp_glyc_sites = sum(len(comp_glyc_proteins[protein_id]) for protein_id in comp_glyc_proteins)\n",
    "comp_certain_glyc_sites = sum(len(comp_certain_glyc_proteins[protein_id]) for protein_id in comp_certain_glyc_proteins)\n",
    "\n",
    "trunc_non_glyc_proteins_non_glyc_sites = sum(len(trunc_non_glyc_proteins[protein_id]) for protein_id in trunc_non_glyc_proteins)\n",
    "trunc_glyc_proteins_non_glyc_sites = sum(len(trunc_glyc_proteins_nonglyc[protein_id]) for protein_id in trunc_glyc_proteins_nonglyc)\n",
    "trunc_glyc_sites = sum(len(trunc_glyc_proteins[protein_id]) for protein_id in trunc_glyc_proteins)\n",
    "trunc_certain_glyc_sites = sum(len(trunc_certain_glyc_proteins[protein_id]) for protein_id in trunc_certain_glyc_proteins)\n",
    "trunc_comp_glyc_sites = sum(len(trunc_comp_glyc_proteins[protein_id]) for protein_id in trunc_comp_glyc_proteins)\n",
    "trunc_comp_certain_glyc_sites = sum(len(trunc_comp_certain_glyc_proteins[protein_id]) for protein_id in trunc_comp_certain_glyc_proteins)\n",
    "\n",
    "print(f\"Sites (Glycosylated and Non-glycosylated): {n_sites}->{trunc_n_sites}\")\n",
    "print(f\"\\tNon-glycosylated Sites: {glyc_proteins_non_glyc_sites+non_glyc_proteins_non_glyc_sites}->{trunc_glyc_proteins_non_glyc_sites+trunc_non_glyc_proteins_non_glyc_sites} ({(glyc_proteins_non_glyc_sites+non_glyc_proteins_non_glyc_sites)/n_sites*100:.2f}%->{(trunc_glyc_proteins_non_glyc_sites+trunc_non_glyc_proteins_non_glyc_sites)/trunc_n_sites*100:.2f}%)\")\n",
    "print(f\"\\t\\tNon-glycosylated Sites in Glycosylated Proteins: {glyc_proteins_non_glyc_sites}->{trunc_glyc_proteins_non_glyc_sites} ({glyc_proteins_non_glyc_sites/n_sites*100:.2f}%->{trunc_glyc_proteins_non_glyc_sites/trunc_n_sites*100:.2f}%)\")\n",
    "print(f\"\\t\\tNon-glycosylated Sites in Non-glycosylated Proteins: {non_glyc_proteins_non_glyc_sites}->{trunc_non_glyc_proteins_non_glyc_sites} ({non_glyc_proteins_non_glyc_sites/n_sites*100:.2f}%->{trunc_non_glyc_proteins_non_glyc_sites/trunc_n_sites*100:.2f}%)\")\n",
    "print(f\"\\tGlycosylated Sites: {glyc_sites}->{trunc_glyc_sites} ({glyc_sites/n_sites*100:.2f}%->{trunc_glyc_sites/trunc_n_sites*100:.2f}%)\")\n",
    "print(f\"\\t\\tGlycosylated Sites w. Composition: {comp_glyc_sites}->{trunc_comp_glyc_sites} ({comp_glyc_sites/n_sites*100:.2f}%->{trunc_comp_glyc_sites/trunc_n_sites*100:.2f}%)\")\n",
    "print(f\"\\t\\tNon-ambiguous Glycosylated Sites: {certain_glyc_sites}->{trunc_certain_glyc_sites} ({certain_glyc_sites/n_sites*100:.2f}%->{trunc_certain_glyc_sites/trunc_n_sites*100:.2f}%)\")\n",
    "print(f\"\\t\\t\\tNon-ambiguous Glycosylated Sites w. Composition: {comp_certain_glyc_sites}->{trunc_comp_certain_glyc_sites} ({comp_certain_glyc_sites/n_sites*100:.2f}%->{trunc_comp_certain_glyc_sites/trunc_n_sites*100:.2f}%)\")"
   ]
  },
  {
   "cell_type": "markdown",
   "id": "e1d89684-a428-44a5-ae50-393720ba3055",
   "metadata": {},
   "source": [
    "### Stats after truncation"
   ]
  },
  {
   "cell_type": "code",
   "execution_count": 16,
   "id": "bebf3b1d-7012-4472-9bc8-67f3a6a8d574",
   "metadata": {},
   "outputs": [
    {
     "name": "stdout",
     "output_type": "stream",
     "text": [
      "Total sites:56970\n",
      "Glycosylated sites:\t28055\t49.25% (weight: 1.0153270361789342)\n",
      "Non-glycosylated sites:\t28915\t50.75% (weight: 0.9851288258689261)\n"
     ]
    }
   ],
   "source": [
    "glyc_sites_count = 0\n",
    "nonglyc_sites_count = 0\n",
    "for protein in proteins.values():\n",
    "    for idx, count in enumerate(protein.seq_idx_seen_count[:MAX_SEQ_LENGTH]):\n",
    "        if count > 0 and protein.seq_sites[idx] is not None:\n",
    "            if len(protein.seq_sites[idx]) > 0:\n",
    "                glyc_sites_count += 1\n",
    "            else:\n",
    "                nonglyc_sites_count += 1\n",
    "\n",
    "total_sites_count = glyc_sites_count+nonglyc_sites_count\n",
    "\n",
    "print(f\"Total sites:{total_sites_count}\")  \n",
    "print(f\"Glycosylated sites:\\t{glyc_sites_count}\\t{glyc_sites_count/total_sites_count*100:.2f}% (weight: {total_sites_count/(2*glyc_sites_count)})\")\n",
    "print(f\"Non-glycosylated sites:\\t{nonglyc_sites_count}\\t{nonglyc_sites_count/total_sites_count*100:.2f}% (weight: {total_sites_count/(2*nonglyc_sites_count)})\")"
   ]
  },
  {
   "cell_type": "code",
   "execution_count": 17,
   "id": "ef704428-5bbc-483e-8478-c11f83001d15",
   "metadata": {},
   "outputs": [
    {
     "name": "stdout",
     "output_type": "stream",
     "text": [
      "mean % per protein of possible sites that are seen in data (only for glycosylated proteins): 12.79%\n",
      "mean % per protein of seen sites that are glycosylated (only for glycosylated proteins): 69.49%\n",
      "Explanation: 1st value can be considered coverage depth of data, 2nd should be as close to 50% as possible\n"
     ]
    }
   ],
   "source": [
    "allowed_sites_seen_ratio = []\n",
    "seen_sites_glyc_ratio = []\n",
    "for protein in proteins.values():\n",
    "    allowed_sites = [i for i in range(len(protein.protein_seq[:MAX_SEQ_LENGTH])) if protein.seq_sites[i] is not None]\n",
    "    seen_sites_count = sum(1 for i in allowed_sites if protein.seq_idx_seen_count[i] > 0)\n",
    "    glycosylated_sites_count = sum(1 for i in allowed_sites if len(protein.seq_sites[i]) > 0)\n",
    "    if glycosylated_sites_count > 0:\n",
    "        allowed_sites_seen_ratio.append(seen_sites_count/len(allowed_sites))\n",
    "        seen_sites_glyc_ratio.append(glycosylated_sites_count/seen_sites_count)\n",
    "\n",
    "allowed_sites_seen_ratio_mean = sum(allowed_sites_seen_ratio)/len(allowed_sites_seen_ratio)\n",
    "seen_sites_glyc_ratio_mean = sum(seen_sites_glyc_ratio)/len(seen_sites_glyc_ratio)\n",
    "\n",
    "print(f\"mean % per protein of possible sites that are seen in data (only for glycosylated proteins): {allowed_sites_seen_ratio_mean*100:.2f}%\")\n",
    "print(f\"mean % per protein of seen sites that are glycosylated (only for glycosylated proteins): {seen_sites_glyc_ratio_mean*100:.2f}%\")\n",
    "print(\"Explanation: 1st value can be considered coverage depth of data, 2nd should be as close to 50% as possible\")"
   ]
  },
  {
   "cell_type": "code",
   "execution_count": 18,
   "id": "aaba7f80-1652-44a4-8240-860e9ad2d9b3",
   "metadata": {},
   "outputs": [
    {
     "name": "stdout",
     "output_type": "stream",
     "text": [
      "Seen glycosylated sites: {'S': 14343, 'T': 11492, 'Y': 2220}\n",
      "Seen non-glycosylated sites: {'S': 15257, 'T': 9674, 'Y': 3984}\n",
      "Imbalance percentages: {'S': '6.37%', 'T': '18.79%', 'Y': '79.46%'}\n",
      "Needed sites to balance out data: {'S': 914, 'T': 1818, 'Y': 1764}\n",
      "Explanation: Imbalance should be as close to 0 as possible for all AA. check for each AA if positive or negative data is needed\n"
     ]
    }
   ],
   "source": [
    "seen_nonglycosylated_sites = {aa: 0 for aa in ALLOWED_AA}\n",
    "glycosylated_sites = {aa: 0 for aa in ALLOWED_AA}\n",
    "\n",
    "for protein in proteins.values():\n",
    "    for i, sites in enumerate(protein.seq_sites[:MAX_SEQ_LENGTH]):\n",
    "        if sites is not None:\n",
    "            site_aa = protein.protein_seq[i]\n",
    "            if len(sites) > 0:\n",
    "                glycosylated_sites[site_aa] += 1\n",
    "            else:\n",
    "                if protein.seq_idx_seen_count[i] > 0:\n",
    "                    seen_nonglycosylated_sites[site_aa] += 1\n",
    "\n",
    "imbalance_fractions = {aa: max(glycosylated_sites[aa], seen_nonglycosylated_sites[aa])/min(glycosylated_sites[aa], seen_nonglycosylated_sites[aa])-1 for aa in ALLOWED_AA}\n",
    "imbalance_percentages = {aa: f'{imbalance_fractions[aa]*100:.2f}%' for aa in imbalance_fractions}\n",
    "\n",
    "sites_needed = {aa: abs(glycosylated_sites[aa]-seen_nonglycosylated_sites[aa]) for aa in ALLOWED_AA}\n",
    "\n",
    "print(f\"Seen glycosylated sites: {glycosylated_sites}\")\n",
    "print(f\"Seen non-glycosylated sites: {seen_nonglycosylated_sites}\")\n",
    "print(f\"Imbalance percentages: {imbalance_percentages}\")\n",
    "print(f\"Needed sites to balance out data: {sites_needed}\")\n",
    "print(\"Explanation: Imbalance should be as close to 0 as possible for all AA. check for each AA if positive or negative data is needed\")"
   ]
  },
  {
   "cell_type": "code",
   "execution_count": 19,
   "id": "afc256c0-836e-477c-9e29-705ac261f6d5",
   "metadata": {},
   "outputs": [
    {
     "name": "stdout",
     "output_type": "stream",
     "text": [
      "Nonambiguous sites: 157882 63.84%\n",
      "Ambiguous sites: 89419 36.16%\n",
      "Explanation: The percentage of Nonambiguous sites can be considered as the quality of the MS peptide data\n"
     ]
    }
   ],
   "source": [
    "nonambiguous_site_count = 0\n",
    "ambiguous_site_count = 0\n",
    "for protein in proteins.values():\n",
    "    trunc_sites = set()\n",
    "    for sites in protein.seq_sites[:MAX_SEQ_LENGTH]:\n",
    "        if sites is not None:\n",
    "            trunc_sites.update(sites)\n",
    "    for site in trunc_sites:\n",
    "        if site.count == 1:\n",
    "            nonambiguous_site_count += 1\n",
    "        else:\n",
    "            ambiguous_site_count += 1\n",
    "\n",
    "total_site_count = nonambiguous_site_count + ambiguous_site_count\n",
    "\n",
    "print(f\"Nonambiguous sites: {nonambiguous_site_count} {nonambiguous_site_count/total_site_count*100:.2f}%\")\n",
    "print(f\"Ambiguous sites: {ambiguous_site_count} {ambiguous_site_count/total_site_count*100:.2f}%\")\n",
    "print(\"Explanation: The percentage of Nonambiguous sites can be considered as the quality of the MS peptide data\")"
   ]
  },
  {
   "cell_type": "code",
   "execution_count": 20,
   "id": "b6f26550-a25a-4e64-bd31-7e3482ce8a61",
   "metadata": {},
   "outputs": [
    {
     "name": "stdout",
     "output_type": "stream",
     "text": [
      "% of sites that have site composition info: 71.82%\n",
      "Site composition sugar distribution:\n",
      "HexNAc:\t139007\t71.74% (weight: 0.016207565923148256)\n",
      "HexHexNAc:\t45469\t23.47% (weight: 0.04954947582482724)\n",
      "Hex:\t5485\t2.83% (weight: 0.4107502490937228)\n",
      "Sia:\t2659\t1.37% (weight: 0.8472979000673447)\n",
      "dHex:\t609\t0.31% (weight: 3.699450108832627)\n",
      "NeuAc:\t500\t0.26% (weight: 4.505930232558139)\n",
      "NeuGc:\t26\t0.01% (weight: 86.65250447227191)\n"
     ]
    }
   ],
   "source": [
    "sugar_encoding_order = [\n",
    "    'HexNAc',\n",
    "    'HexHexNAc',\n",
    "    'Hex',\n",
    "    'Sia',\n",
    "    'dHex',\n",
    "    'NeuAc',\n",
    "    'NeuGc',\n",
    "]\n",
    "\n",
    "def split_site_composition(site_composition):\n",
    "    sugars = []\n",
    "    for comp in re.findall(r'[1-9][0-9]*x[A-Za-z]+', site_composition):\n",
    "        count, sugar = comp.split('x', 1)\n",
    "        count = int(count)\n",
    "        sugars.extend([sugar] * count)\n",
    "    return sugars\n",
    "\n",
    "site_composition_count = 0\n",
    "site_count = 0\n",
    "site_compositions = set()\n",
    "sugar_counter = Counter()\n",
    "for protein in proteins.values():\n",
    "    trunc_sites = set()\n",
    "    for sites in protein.seq_sites[:MAX_SEQ_LENGTH]:\n",
    "        if sites is not None:\n",
    "            trunc_sites.update(sites)\n",
    "    for site in trunc_sites:\n",
    "        if 'site_composition' in site.site_annotations and pd.notna(site.site_annotations['site_composition']):\n",
    "            site_composition_count += 1\n",
    "            site_compositions.add(site.site_annotations['site_composition'])\n",
    "            sugar_counter.update(split_site_composition(site.site_annotations['site_composition']))\n",
    "        site_count += 1\n",
    "\n",
    "sugar_total_count = sum(sugar_counter.values())\n",
    "\n",
    "print(f\"% of sites that have site composition info: {site_composition_count/site_count*100:.2f}%\")\n",
    "print(f\"Site composition sugar distribution:\")\n",
    "print('\\n'.join(f\"{sugar}:\\t{count}\\t{count/sugar_total_count*100:.2f}% (weight: {sugar_total_count/(len(site_compositions)*count)})\" for sugar, count in sugar_counter.most_common()))"
   ]
  },
  {
   "cell_type": "code",
   "execution_count": 21,
   "id": "148e0bcf-9a32-4c83-bb24-e5fc626923ef",
   "metadata": {},
   "outputs": [
    {
     "name": "stdout",
     "output_type": "stream",
     "text": [
      "Notebook took 9.263697604066692 seconds to run\n"
     ]
    }
   ],
   "source": [
    "notebook_end_time = time.perf_counter()\n",
    "print(f\"Notebook took {notebook_end_time-notebook_start_time} seconds to run\")"
   ]
  }
 ],
 "metadata": {
  "kernelspec": {
   "display_name": "Python 3 (ipykernel)",
   "language": "python",
   "name": "python3"
  },
  "language_info": {
   "codemirror_mode": {
    "name": "ipython",
    "version": 3
   },
   "file_extension": ".py",
   "mimetype": "text/x-python",
   "name": "python",
   "nbconvert_exporter": "python",
   "pygments_lexer": "ipython3",
   "version": "3.9.9"
  }
 },
 "nbformat": 4,
 "nbformat_minor": 5
}
