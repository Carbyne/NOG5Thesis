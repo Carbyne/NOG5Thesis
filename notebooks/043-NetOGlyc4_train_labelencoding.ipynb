{
 "cells": [
  {
   "cell_type": "code",
   "execution_count": 1,
   "id": "0a226d6e-0c08-44bd-80b2-f20affee11bb",
   "metadata": {},
   "outputs": [],
   "source": [
    "import time\n",
    "notebook_start_time = time.perf_counter()"
   ]
  },
  {
   "cell_type": "markdown",
   "id": "1213a9f7-9d0e-4276-bb66-90c58c36c9e8",
   "metadata": {},
   "source": [
    "# NetOGlyc4 data label encoding"
   ]
  },
  {
   "cell_type": "markdown",
   "id": "dd1e0148-981e-439d-a181-c2ef929ea14a",
   "metadata": {
    "tags": []
   },
   "source": [
    "## Imports"
   ]
  },
  {
   "cell_type": "markdown",
   "id": "5f94e97d-6d69-42a6-bf07-030689ce1fdb",
   "metadata": {
    "tags": []
   },
   "source": [
    "### Built-in imports"
   ]
  },
  {
   "cell_type": "code",
   "execution_count": 2,
   "id": "62ae8559-0a59-449b-93cd-94eb35384192",
   "metadata": {},
   "outputs": [],
   "source": [
    "import gzip\n",
    "import pickle\n",
    "from pathlib import Path\n",
    "import re"
   ]
  },
  {
   "cell_type": "markdown",
   "id": "fe08b7d6-3276-41b2-9462-27a3ab946f22",
   "metadata": {},
   "source": [
    "### Shared library imports"
   ]
  },
  {
   "cell_type": "code",
   "execution_count": 3,
   "id": "25937e5d-0aea-4fbe-813f-817a93153599",
   "metadata": {},
   "outputs": [],
   "source": [
    "import glyc_processing.annotation"
   ]
  },
  {
   "cell_type": "markdown",
   "id": "bcff4c06-d117-4f54-88dc-222c8df121f3",
   "metadata": {},
   "source": [
    "### External imports"
   ]
  },
  {
   "cell_type": "code",
   "execution_count": 4,
   "id": "cdd6dceb-b69f-4e59-988f-7932628014d4",
   "metadata": {},
   "outputs": [],
   "source": [
    "import numpy as np\n",
    "import pandas as pd\n",
    "import h5py"
   ]
  },
  {
   "cell_type": "markdown",
   "id": "2c9258ed-0d7c-44ee-8a4b-1aacb9aedfd6",
   "metadata": {},
   "source": [
    "## Paths & Constants"
   ]
  },
  {
   "cell_type": "code",
   "execution_count": 5,
   "id": "ccf10bb1-8929-46a2-8333-c38576b77e47",
   "metadata": {},
   "outputs": [],
   "source": [
    "#BASE_DIR = Path(\"/mnt/g/My Drive/CloudVault/Masters/Data\")\n",
    "BASE_DIR = Path(\"/home/jakob/Cloudvault_new/Data\")\n",
    "\n",
    "# Path of imported annotations file\n",
    "ANNOTATIONS_FILE = BASE_DIR/'NetOGlyc5 data'/'GalNAc data'/'04-annotation'/'netoglyc4_protein_annotations.pkl.gz'\n",
    "\n",
    "# Path of exported label files\n",
    "MAX_LABELS_FILE = BASE_DIR/'NetOGlyc5 data'/'GalNAc data'/'05-embedding'/'netoglyc4_protein_glyc_labels_max.h5'"
   ]
  },
  {
   "cell_type": "markdown",
   "id": "c513733c-075a-4793-adec-1f7a3e90d257",
   "metadata": {},
   "source": [
    "## Fetch protein annotations"
   ]
  },
  {
   "cell_type": "code",
   "execution_count": 6,
   "id": "18583553-635f-4de8-8447-10f6a1555fe2",
   "metadata": {},
   "outputs": [],
   "source": [
    "with gzip.open(ANNOTATIONS_FILE, 'rb') as f:\n",
    "    proteins = pickle.load(f)"
   ]
  },
  {
   "cell_type": "markdown",
   "id": "e9bf1d2f-09a4-43f2-b013-40ead7ec224b",
   "metadata": {},
   "source": [
    "## Encode labels to files"
   ]
  },
  {
   "cell_type": "code",
   "execution_count": 7,
   "id": "d36aa876-42dd-4c3d-92d2-10c66e3984f3",
   "metadata": {},
   "outputs": [],
   "source": [
    "n_seqs = len(proteins)\n",
    "seq_length_sorted_protein_ids = sorted(proteins, key=lambda protein_id: len(proteins[protein_id].protein_seq), reverse=True)\n",
    "max_seq_length = len(proteins[seq_length_sorted_protein_ids[0]].protein_seq)"
   ]
  },
  {
   "cell_type": "code",
   "execution_count": 8,
   "id": "1575f27d-2812-4032-9f37-8169275323bb",
   "metadata": {},
   "outputs": [],
   "source": [
    "proteins.scoring_function = glyc_processing.annotation.max_score\n",
    "\n",
    "with h5py.File(MAX_LABELS_FILE, 'w') as file:\n",
    "    identifiers_dataset = file.create_dataset(\"identifiers\", (n_seqs,), h5py.string_dtype(), maxshape=(None,))\n",
    "    sequences_dataset = file.create_dataset(\"sequences\", (n_seqs,), h5py.string_dtype(), maxshape=(None,))\n",
    "\n",
    "    labels_group = file.create_group('labels')\n",
    "\n",
    "    gly_dataset = labels_group.create_dataset(\"gly\", (n_seqs, max_seq_length, 1), dtype='f4')\n",
    "    gly_dataset.attrs['cast_type'] = 'f4'\n",
    "    \n",
    "    seen_dataset = labels_group.create_dataset(\"seen\", (n_seqs, max_seq_length, 1), dtype='f4')\n",
    "    seen_dataset.attrs['cast_type'] = 'f4'\n",
    "\n",
    "    for idx, protein_id in enumerate(seq_length_sorted_protein_ids):        \n",
    "        protein = proteins[protein_id]\n",
    "        seq_length = len(protein.protein_seq)\n",
    "        \n",
    "        identifiers_dataset[idx] = protein_id\n",
    "        sequences_dataset[idx] = protein.protein_seq\n",
    "        \n",
    "        gly_dataset[idx, :seq_length] = np.array(protein.get_glycosylation_labels())[..., None]\n",
    "        \n",
    "        seen_dataset[idx, :seq_length] = np.array(protein.seq_idx_seen_count)[..., None]"
   ]
  },
  {
   "cell_type": "code",
   "execution_count": 9,
   "id": "7e24bd14-a004-4e9d-b30f-2a2f9171e715",
   "metadata": {},
   "outputs": [
    {
     "name": "stdout",
     "output_type": "stream",
     "text": [
      "Notebook took 0.9410926349228248 seconds to run\n"
     ]
    }
   ],
   "source": [
    "notebook_end_time = time.perf_counter()\n",
    "print(f\"Notebook took {notebook_end_time-notebook_start_time} seconds to run\")"
   ]
  }
 ],
 "metadata": {
  "kernelspec": {
   "display_name": "Python 3 (ipykernel)",
   "language": "python",
   "name": "python3"
  },
  "language_info": {
   "codemirror_mode": {
    "name": "ipython",
    "version": 3
   },
   "file_extension": ".py",
   "mimetype": "text/x-python",
   "name": "python",
   "nbconvert_exporter": "python",
   "pygments_lexer": "ipython3",
   "version": "3.9.9"
  }
 },
 "nbformat": 4,
 "nbformat_minor": 5
}
