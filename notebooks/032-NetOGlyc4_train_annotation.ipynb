{
 "cells": [
  {
   "cell_type": "code",
   "execution_count": 1,
   "id": "e8821976-fad3-4270-9439-e7c54f8e7164",
   "metadata": {},
   "outputs": [],
   "source": [
    "import time\n",
    "notebook_start_time = time.perf_counter()"
   ]
  },
  {
   "cell_type": "markdown",
   "id": "e935d314-c0a8-4cda-9ba9-18f3be13230c",
   "metadata": {},
   "source": [
    "# NetOGlyc4 data processing"
   ]
  },
  {
   "cell_type": "markdown",
   "id": "625fd51f-6af3-4063-8b81-398336670278",
   "metadata": {
    "tags": []
   },
   "source": [
    "## Imports"
   ]
  },
  {
   "cell_type": "markdown",
   "id": "6833e704-3046-4b02-a953-3fd1f751eace",
   "metadata": {
    "tags": []
   },
   "source": [
    "### Built-in imports"
   ]
  },
  {
   "cell_type": "code",
   "execution_count": 2,
   "id": "f3d78f3a-e0f2-467c-a051-63243ede9a6d",
   "metadata": {},
   "outputs": [],
   "source": [
    "import pickle\n",
    "import gzip\n",
    "from pathlib import Path\n",
    "import warnings\n",
    "import math\n",
    "import re\n",
    "import uuid"
   ]
  },
  {
   "cell_type": "markdown",
   "id": "34dff527-6fe6-466b-8334-c9f2c683866a",
   "metadata": {},
   "source": [
    "### Shared library imports"
   ]
  },
  {
   "cell_type": "code",
   "execution_count": 3,
   "id": "8d15d803-4b86-43fd-864a-5896016442fa",
   "metadata": {},
   "outputs": [],
   "source": [
    "from glyc_processing import cf\n",
    "from glyc_processing.data_formats.galnac.config import GalNAcConfig\n",
    "from glyc_processing.data_formats.common.validation import consistent_id_common_info\n",
    "from glyc_processing.uniprot import get_entry_isoforms_dicts, get_uniprot_entries, get_uniprot_isoforms, \\\n",
    "    get_entry_isoforms_dicts\n",
    "from glyc_processing.annotation import ProteinSet, AnnotationError, max_score"
   ]
  },
  {
   "cell_type": "markdown",
   "id": "4fcf5b92-6d1b-40c4-9f7e-10c718c7b604",
   "metadata": {},
   "source": [
    "### External imports"
   ]
  },
  {
   "cell_type": "code",
   "execution_count": 4,
   "id": "4e12bd3e-c620-4672-9cc5-b396774510b9",
   "metadata": {},
   "outputs": [],
   "source": [
    "from IPython.display import display\n",
    "import numpy as np\n",
    "import pandas as pd\n",
    "from matplotlib import pyplot as plt\n",
    "from tqdm.auto import tqdm\n",
    "from Bio import SeqIO\n",
    "from Bio.Seq import Seq\n",
    "from Bio.SeqRecord import SeqRecord"
   ]
  },
  {
   "cell_type": "markdown",
   "id": "bf5feefe-0871-4c2f-9357-5cd283101e0e",
   "metadata": {},
   "source": [
    "## Paths & Constants"
   ]
  },
  {
   "cell_type": "code",
   "execution_count": 5,
   "id": "37c7273e-b129-4776-977d-632b71d7e0f8",
   "metadata": {},
   "outputs": [],
   "source": [
    "#BASE_DIR = Path(\"/mnt/g/My Drive/CloudVault/Masters/Data\")\n",
    "BASE_DIR = Path(\"/home/jakob/Cloudvault_new/Data\")\n",
    "\n",
    "# Path of positive glycosite and protein sequence file\n",
    "POSITIVE_GLYCOSITES_FILE = BASE_DIR/'NetOGlyc5 data'/'Training NetOGlyc4'/'SimpleCell All Glycosites 12_10_26.tsv'\n",
    "\n",
    "# Path of negative peptide and protein sequence files\n",
    "NEGATIVE_PEPTIDES_FILE = BASE_DIR/'NetOGlyc5 data'/'Training NetOGlyc4'/'SimpleCell Negatives Peptides 12_07_20.tsv'\n",
    "NEGATIVE_PROTEIN_SEQUENCES_FILE = BASE_DIR/'NetOGlyc5 data'/'Training NetOGlyc4'/'SimpleCell Negatives Sites 12_07_20.tsv'\n",
    "\n",
    "# Path of exported annotations file\n",
    "ANNOTATIONS_FILE = BASE_DIR/'NetOGlyc5 data'/'GalNAc data'/'04-annotation'/'netoglyc4_protein_annotations.pkl.gz'\n",
    "\n",
    "# Path of exported sequences fasta file\n",
    "SEQUENCES_FILE = BASE_DIR/'NetOGlyc5 data'/'GalNAc data'/'04-annotation'/'netoglyc4_protein_sequences.fasta'\n",
    "TRUNCATED_SEQUENCES_FILE = BASE_DIR/'NetOGlyc5 data'/'GalNAc data'/'04-annotation'/'netoglyc4_protein_sequences_truncated.fasta'\n",
    "\n",
    "# Maximum sequence length that can be embedded in one go\n",
    "# 1022 for BERT/ALBERT (ESM-1b / ProtBert wo. start/end tokens), No limit for XLNet\n",
    "MAX_SEQ_LENGTH = 1022"
   ]
  },
  {
   "cell_type": "code",
   "execution_count": 6,
   "id": "e2c28085-0799-4a84-b7f8-6aa6a4441555",
   "metadata": {},
   "outputs": [],
   "source": [
    "cf.use_config(GalNAcConfig)"
   ]
  },
  {
   "cell_type": "code",
   "execution_count": 7,
   "id": "19fc4929-31fa-4792-95ea-b0b77ea15e21",
   "metadata": {},
   "outputs": [],
   "source": [
    "# The temp folder is used to organize data-specific temporary files\n",
    "cf.TEMP_DIR = BASE_DIR/'uniprot'/'NetOGlyc4'\n",
    "\n",
    "# Uniprot release downloads directory path (make sure you have a few GB of free space)\n",
    "cf.UNIPROT_DOWNLOADS_DIR = BASE_DIR/'uniprot'\n",
    "\n",
    "# The amino acids that are allowed to be glycosylated\n",
    "cf.ALLOWED_AA = ('S','T','Y')\n",
    "\n",
    "# The uniport release can be 'latest' for the current release or any of those with format (YYYY_MM) found here: https://ftp.uniprot.org/pub/databases/uniprot/previous_releases/\n",
    "# Warning: Uniprot only keeps previous releases other than the first of the year for 2 years, so only use first yearly (2015_01, 2021_01 etc.) for reproducability!\n",
    "cf.UNIPROT_RELEASE = '2021_01'\n",
    "\n",
    "# If True ignores existing data-specific temp files and recreates them from scratch\n",
    "# This should be used if the data or script has changed\n",
    "cf.IGNORE_EXISTING_FILES = True"
   ]
  },
  {
   "cell_type": "code",
   "execution_count": 8,
   "id": "0b60edb3-071f-4799-86fe-037d5d43f04c",
   "metadata": {},
   "outputs": [
    {
     "name": "stdout",
     "output_type": "stream",
     "text": [
      "Using Uniprot Release 2021_01\n"
     ]
    }
   ],
   "source": [
    "print(f\"Using Uniprot Release {cf.TRUE_UNIPROT_RELEASE}\")"
   ]
  },
  {
   "cell_type": "markdown",
   "id": "ec690df8-77cc-4272-bc54-cc132be76e5d",
   "metadata": {},
   "source": [
    "## Map data to standard annotation format"
   ]
  },
  {
   "cell_type": "markdown",
   "id": "e31cb4db-b9b4-4995-b773-77e5fa4cd424",
   "metadata": {},
   "source": [
    "### Read positive & negative data"
   ]
  },
  {
   "cell_type": "code",
   "execution_count": 9,
   "id": "234da22a-ae5b-4404-b579-e8a4250f5ad3",
   "metadata": {},
   "outputs": [
    {
     "name": "stdout",
     "output_type": "stream",
     "text": [
      "Positive glycosite rows: 2112\n"
     ]
    }
   ],
   "source": [
    "positive_glycosites_df = pd.read_csv(POSITIVE_GLYCOSITES_FILE, sep=\"\\t\", header=0)\n",
    "print(f\"Positive glycosite rows: {len(positive_glycosites_df)}\")"
   ]
  },
  {
   "cell_type": "code",
   "execution_count": 10,
   "id": "6672160e-561b-4a67-a58b-c9bc700f302a",
   "metadata": {},
   "outputs": [
    {
     "name": "stdout",
     "output_type": "stream",
     "text": [
      "Negative peptide rows: 1466\n"
     ]
    }
   ],
   "source": [
    "negative_peptides_df = pd.read_csv(NEGATIVE_PEPTIDES_FILE, sep=\"\\t\", header=None)\n",
    "negative_peptides_df.columns = ['uniprot_id', 'peptide_start', 'peptide_end']\n",
    "print(f\"Negative peptide rows: {len(negative_peptides_df)}\")"
   ]
  },
  {
   "cell_type": "code",
   "execution_count": 11,
   "id": "98184973-36b8-4f5f-9a1e-76ec5219fa1a",
   "metadata": {},
   "outputs": [
    {
     "name": "stdout",
     "output_type": "stream",
     "text": [
      "Negative protein rows: 405\n"
     ]
    }
   ],
   "source": [
    "negative_proteins_df = pd.read_csv(NEGATIVE_PROTEIN_SEQUENCES_FILE, sep=\"\\t\", header=0)\n",
    "print(f\"Negative protein rows: {len(negative_proteins_df)}\")"
   ]
  },
  {
   "cell_type": "code",
   "execution_count": 12,
   "id": "ab7a23ec-3378-4748-b82c-d95b91da2acc",
   "metadata": {},
   "outputs": [],
   "source": [
    "negative_peptides_df = negative_peptides_df.merge(negative_proteins_df, left_on='uniprot_id', right_on='uniprot_id')"
   ]
  },
  {
   "cell_type": "markdown",
   "id": "6315c536-7fd0-4b43-902e-c9fd3632e2a0",
   "metadata": {},
   "source": [
    "### Check for any inconsistent rows:"
   ]
  },
  {
   "cell_type": "code",
   "execution_count": 13,
   "id": "4d3e1788-b027-4487-ba78-461949a51b32",
   "metadata": {},
   "outputs": [
    {
     "data": {
      "text/html": [
       "<div>\n",
       "<style scoped>\n",
       "    .dataframe tbody tr th:only-of-type {\n",
       "        vertical-align: middle;\n",
       "    }\n",
       "\n",
       "    .dataframe tbody tr th {\n",
       "        vertical-align: top;\n",
       "    }\n",
       "\n",
       "    .dataframe thead th {\n",
       "        text-align: right;\n",
       "    }\n",
       "</style>\n",
       "<table border=\"1\" class=\"dataframe\">\n",
       "  <thead>\n",
       "    <tr style=\"text-align: right;\">\n",
       "      <th></th>\n",
       "      <th>gene</th>\n",
       "      <th>site</th>\n",
       "      <th>uniprot_id</th>\n",
       "      <th>sequence</th>\n",
       "    </tr>\n",
       "  </thead>\n",
       "  <tbody>\n",
       "  </tbody>\n",
       "</table>\n",
       "</div>"
      ],
      "text/plain": [
       "Empty DataFrame\n",
       "Columns: [gene, site, uniprot_id, sequence]\n",
       "Index: []"
      ]
     },
     "execution_count": 13,
     "metadata": {},
     "output_type": "execute_result"
    }
   ],
   "source": [
    "positive_glycosites_df[positive_glycosites_df['gene'] != positive_glycosites_df['uniprot_id']]"
   ]
  },
  {
   "cell_type": "code",
   "execution_count": 14,
   "id": "2aaf901d-6ce3-4fbb-9e21-4b77f307eb4b",
   "metadata": {},
   "outputs": [
    {
     "data": {
      "text/html": [
       "<div>\n",
       "<style scoped>\n",
       "    .dataframe tbody tr th:only-of-type {\n",
       "        vertical-align: middle;\n",
       "    }\n",
       "\n",
       "    .dataframe tbody tr th {\n",
       "        vertical-align: top;\n",
       "    }\n",
       "\n",
       "    .dataframe thead th {\n",
       "        text-align: right;\n",
       "    }\n",
       "</style>\n",
       "<table border=\"1\" class=\"dataframe\">\n",
       "  <thead>\n",
       "    <tr style=\"text-align: right;\">\n",
       "      <th></th>\n",
       "      <th>gene</th>\n",
       "      <th>site</th>\n",
       "      <th>uniprot_id</th>\n",
       "      <th>sequence</th>\n",
       "    </tr>\n",
       "  </thead>\n",
       "  <tbody>\n",
       "  </tbody>\n",
       "</table>\n",
       "</div>"
      ],
      "text/plain": [
       "Empty DataFrame\n",
       "Columns: [gene, site, uniprot_id, sequence]\n",
       "Index: []"
      ]
     },
     "execution_count": 14,
     "metadata": {},
     "output_type": "execute_result"
    }
   ],
   "source": [
    "positive_glycosites_df[~consistent_id_common_info('uniprot_id', positive_glycosites_df[['gene', 'uniprot_id', 'sequence']])]"
   ]
  },
  {
   "cell_type": "code",
   "execution_count": 15,
   "id": "11d8edd9-c2f5-410e-a317-cfabbb276090",
   "metadata": {},
   "outputs": [
    {
     "data": {
      "text/html": [
       "<div>\n",
       "<style scoped>\n",
       "    .dataframe tbody tr th:only-of-type {\n",
       "        vertical-align: middle;\n",
       "    }\n",
       "\n",
       "    .dataframe tbody tr th {\n",
       "        vertical-align: top;\n",
       "    }\n",
       "\n",
       "    .dataframe thead th {\n",
       "        text-align: right;\n",
       "    }\n",
       "</style>\n",
       "<table border=\"1\" class=\"dataframe\">\n",
       "  <thead>\n",
       "    <tr style=\"text-align: right;\">\n",
       "      <th></th>\n",
       "      <th>uniprot_id</th>\n",
       "      <th>peptide_start</th>\n",
       "      <th>peptide_end</th>\n",
       "      <th>gene</th>\n",
       "      <th>site</th>\n",
       "      <th>sequence</th>\n",
       "    </tr>\n",
       "  </thead>\n",
       "  <tbody>\n",
       "  </tbody>\n",
       "</table>\n",
       "</div>"
      ],
      "text/plain": [
       "Empty DataFrame\n",
       "Columns: [uniprot_id, peptide_start, peptide_end, gene, site, sequence]\n",
       "Index: []"
      ]
     },
     "execution_count": 15,
     "metadata": {},
     "output_type": "execute_result"
    }
   ],
   "source": [
    "negative_peptides_df[negative_peptides_df['gene'] != negative_peptides_df['uniprot_id']]"
   ]
  },
  {
   "cell_type": "code",
   "execution_count": 16,
   "id": "d2459d65-90cb-4c2c-8fbe-8c0bf089a502",
   "metadata": {},
   "outputs": [
    {
     "data": {
      "text/html": [
       "<div>\n",
       "<style scoped>\n",
       "    .dataframe tbody tr th:only-of-type {\n",
       "        vertical-align: middle;\n",
       "    }\n",
       "\n",
       "    .dataframe tbody tr th {\n",
       "        vertical-align: top;\n",
       "    }\n",
       "\n",
       "    .dataframe thead th {\n",
       "        text-align: right;\n",
       "    }\n",
       "</style>\n",
       "<table border=\"1\" class=\"dataframe\">\n",
       "  <thead>\n",
       "    <tr style=\"text-align: right;\">\n",
       "      <th></th>\n",
       "      <th>uniprot_id</th>\n",
       "      <th>peptide_start</th>\n",
       "      <th>peptide_end</th>\n",
       "      <th>gene</th>\n",
       "      <th>site</th>\n",
       "      <th>sequence</th>\n",
       "    </tr>\n",
       "  </thead>\n",
       "  <tbody>\n",
       "  </tbody>\n",
       "</table>\n",
       "</div>"
      ],
      "text/plain": [
       "Empty DataFrame\n",
       "Columns: [uniprot_id, peptide_start, peptide_end, gene, site, sequence]\n",
       "Index: []"
      ]
     },
     "execution_count": 16,
     "metadata": {},
     "output_type": "execute_result"
    }
   ],
   "source": [
    "negative_peptides_df[~consistent_id_common_info('uniprot_id', negative_peptides_df[['gene', 'uniprot_id', 'sequence']])]"
   ]
  },
  {
   "cell_type": "markdown",
   "id": "32953f60-ce18-42ec-8704-12a3e6baa11c",
   "metadata": {},
   "source": [
    "### Map positive data"
   ]
  },
  {
   "cell_type": "code",
   "execution_count": 17,
   "id": "5d5203c2-f40d-42be-8a8c-d1e3e71e11e5",
   "metadata": {},
   "outputs": [],
   "source": [
    "proteins = ProteinSet(allowed_aa = cf.ALLOWED_AA, index_start = 1, end_exclusive = False, scoring_function = max_score)"
   ]
  },
  {
   "cell_type": "code",
   "execution_count": 18,
   "id": "4ae2a91b-3fc5-464f-a166-019e1c9c900d",
   "metadata": {
    "scrolled": true,
    "tags": []
   },
   "outputs": [
    {
     "data": {
      "application/vnd.jupyter.widget-view+json": {
       "model_id": "51d87a4bd9eb47d6b2bd939cd9cc33fa",
       "version_major": 2,
       "version_minor": 0
      },
      "text/plain": [
       "Annotating positive data:   0%|          | 0/2112 [00:00<?, ?it/s]"
      ]
     },
     "metadata": {},
     "output_type": "display_data"
    },
    {
     "name": "stdout",
     "output_type": "stream",
     "text": [
      "protein_id=Q8WXI7 self.peptide_id=23ca06c9-bebd-4dd2-b43b-1b20a757dcb7: idx_single_site_or_unclear_start=3213 is not an allowed AA\n",
      "protein_id=Q8WXI7 self.peptide_id=3d307d2c-2faa-4b4b-9ca4-da6fa09dd472: idx_single_site_or_unclear_start=914 is not an allowed AA\n"
     ]
    }
   ],
   "source": [
    "for i, row in tqdm(iterable=positive_glycosites_df.iterrows(), total=len(positive_glycosites_df), desc=f\"Annotating positive data\"):\n",
    "    try:\n",
    "        proteins.add(\n",
    "            protein_id = row['uniprot_id'],\n",
    "            protein_seq = row['sequence'],\n",
    "            peptide_id = str(uuid.uuid4()),\n",
    "            single_site_or_unclear_start = int(row['site'][1:]),\n",
    "        )\n",
    "    except AnnotationError as e:\n",
    "        print(e)"
   ]
  },
  {
   "cell_type": "markdown",
   "id": "d6b856bf-0f1d-4fda-8a1f-2d3ae4dee060",
   "metadata": {},
   "source": [
    "### Map negative data"
   ]
  },
  {
   "cell_type": "code",
   "execution_count": 19,
   "id": "073e467c-1b82-453f-941e-8a181ff2ee80",
   "metadata": {
    "scrolled": true,
    "tags": []
   },
   "outputs": [
    {
     "data": {
      "application/vnd.jupyter.widget-view+json": {
       "model_id": "1e17c02eed0d47548301a1bf6c20f108",
       "version_major": 2,
       "version_minor": 0
      },
      "text/plain": [
       "Annotating negative data:   0%|          | 0/1466 [00:00<?, ?it/s]"
      ]
     },
     "metadata": {},
     "output_type": "display_data"
    }
   ],
   "source": [
    "for i, row in tqdm(iterable=negative_peptides_df.iterrows(), total=len(negative_peptides_df), desc=f\"Annotating negative data\"):\n",
    "    try:\n",
    "        proteins.add(\n",
    "            protein_id = row['uniprot_id'],\n",
    "            protein_seq = row['sequence'],\n",
    "            peptide_id = str(uuid.uuid4()),\n",
    "            peptide_start = row['peptide_start'],\n",
    "            peptide_end = row['peptide_end'],\n",
    "        )\n",
    "    except AnnotationError as e:\n",
    "        print(e)"
   ]
  },
  {
   "cell_type": "markdown",
   "id": "2f112571-acc8-46d9-9e6d-7cbf75928b45",
   "metadata": {},
   "source": [
    "## Save annotations & protein sequences"
   ]
  },
  {
   "cell_type": "code",
   "execution_count": 20,
   "id": "9ce77e26-b965-48ff-a728-bff3287aa860",
   "metadata": {},
   "outputs": [],
   "source": [
    "with gzip.open(ANNOTATIONS_FILE, 'wb') as f:\n",
    "    pickle.dump(proteins, f, protocol=4)"
   ]
  },
  {
   "cell_type": "code",
   "execution_count": 21,
   "id": "ae96bca1-ce5a-43a0-8992-5495b21b9293",
   "metadata": {},
   "outputs": [],
   "source": [
    "seq_length_sorted_protein_ids = sorted(proteins, key=lambda protein_id: len(proteins[protein_id].protein_seq), reverse=True)\n",
    "\n",
    "with open(SEQUENCES_FILE, 'w') as f:\n",
    "    for protein_id in seq_length_sorted_protein_ids:\n",
    "        protein = proteins[protein_id]\n",
    "        SeqIO.write(SeqRecord(Seq(protein.protein_seq), protein.protein_id, '', ''), f, \"fasta\")"
   ]
  },
  {
   "cell_type": "code",
   "execution_count": 22,
   "id": "5dda2430-4021-4726-8cb9-283d360313ef",
   "metadata": {},
   "outputs": [],
   "source": [
    "with open(TRUNCATED_SEQUENCES_FILE, 'w') as f:\n",
    "    for protein_id in seq_length_sorted_protein_ids:\n",
    "        protein = proteins[protein_id]\n",
    "        seq_length = min(len(protein.protein_seq), MAX_SEQ_LENGTH)\n",
    "        SeqIO.write(SeqRecord(Seq(protein.protein_seq[:seq_length]), protein.protein_id, '', ''), f, \"fasta\")"
   ]
  },
  {
   "cell_type": "code",
   "execution_count": 23,
   "id": "d4e4eb49-7682-4824-9104-1c8c3aaf9c60",
   "metadata": {},
   "outputs": [
    {
     "name": "stdout",
     "output_type": "stream",
     "text": [
      "Notebook took 3.150583280948922 seconds to run\n"
     ]
    }
   ],
   "source": [
    "notebook_end_time = time.perf_counter()\n",
    "print(f\"Notebook took {notebook_end_time-notebook_start_time} seconds to run\")"
   ]
  }
 ],
 "metadata": {
  "kernelspec": {
   "display_name": "Python 3 (ipykernel)",
   "language": "python",
   "name": "python3"
  },
  "language_info": {
   "codemirror_mode": {
    "name": "ipython",
    "version": 3
   },
   "file_extension": ".py",
   "mimetype": "text/x-python",
   "name": "python",
   "nbconvert_exporter": "python",
   "pygments_lexer": "ipython3",
   "version": "3.9.9"
  }
 },
 "nbformat": 4,
 "nbformat_minor": 5
}
