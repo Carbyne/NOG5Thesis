{
 "cells": [
  {
   "cell_type": "code",
   "execution_count": 38,
   "id": "cdb0d119-8d5d-48a1-8448-ee1ed71ffa25",
   "metadata": {},
   "outputs": [],
   "source": [
    "import time\n",
    "notebook_start_time = time.perf_counter()"
   ]
  },
  {
   "cell_type": "markdown",
   "id": "cf5b98dc-2b43-4c0e-aeb2-d44d4480154c",
   "metadata": {},
   "source": [
    "# PRIDE Negative peptide data processing"
   ]
  },
  {
   "cell_type": "markdown",
   "id": "21bf1b6f-b351-4542-a386-8c1c66652467",
   "metadata": {
    "id": "50c078df-b7e6-4503-8881-b47cff9968c1",
    "tags": []
   },
   "source": [
    "## Imports"
   ]
  },
  {
   "cell_type": "markdown",
   "id": "d7e3fc26-939d-4407-aa5a-4538ccfe2528",
   "metadata": {
    "id": "fa8893ce-681a-417f-9c90-97a7cff77733",
    "tags": []
   },
   "source": [
    "### Built-in imports"
   ]
  },
  {
   "cell_type": "code",
   "execution_count": 39,
   "id": "26e4d436-b63f-4f7a-bd73-f3bbe2d8d01c",
   "metadata": {
    "id": "303f8cf3-035c-4c33-8b22-f51fbf2cc3e1"
   },
   "outputs": [],
   "source": [
    "import time\n",
    "import pickle\n",
    "from pathlib import Path\n",
    "import gzip\n",
    "import re\n",
    "import bisect\n",
    "import uuid"
   ]
  },
  {
   "cell_type": "markdown",
   "id": "c170f389-cd26-4d02-ab30-e99c3c65ed8e",
   "metadata": {
    "id": "24b9c132-198e-48f0-a827-1b8f87daa830"
   },
   "source": [
    "### Shared library imports"
   ]
  },
  {
   "cell_type": "code",
   "execution_count": 40,
   "id": "2af56699-2713-48c7-9ae2-5c349ab4fd4b",
   "metadata": {
    "id": "03a12faf-e286-4531-b143-72462d2cb42e"
   },
   "outputs": [],
   "source": [
    "from glyc_processing import cf\n",
    "from glyc_processing.data_formats.common.config import BaseConfig\n",
    "\n",
    "from glyc_processing.misc import download, display_invalid_rows\n",
    "\n",
    "from glyc_processing.uniprot import get_uniprot_id_mappings, get_uniprot_entries, get_uniprot_isoforms, \\\n",
    "    get_entry_isoforms_dicts, set_new_uniprot_ids, set_missing_peptide_sequences, set_uniprot_isoforms_containing_peptides, \\\n",
    "    set_missing_peptide_sequences, check_uniprot_idmapping, consistent_entry_peptide, consistent_entry_sites, \\\n",
    "    set_correct_peptide_ranges, split_uniprot_id, consistent_entry_peptide, get_uniprot_id_mappings, check_uniprot_idmapping, \\\n",
    "    set_new_uniprot_ids\n",
    "\n",
    "from glyc_processing.data_formats.common.validation import valid_uniprot, valid_peptide_id, valid_peptide, valid_peptide_range, \\\n",
    "    consistent_peptide_length\n",
    "\n",
    "from glyc_processing.clustering import cluster_peptides"
   ]
  },
  {
   "cell_type": "markdown",
   "id": "a64d2c2f-aa61-4ea2-b6f4-9aa5f518e2f6",
   "metadata": {
    "id": "2ded5602-48c3-4249-b585-777e1380887c"
   },
   "source": [
    "### External imports"
   ]
  },
  {
   "cell_type": "code",
   "execution_count": 41,
   "id": "2e2d4e4c-3387-45ae-ad29-2e2657c2e74d",
   "metadata": {
    "id": "6c83d141"
   },
   "outputs": [],
   "source": [
    "import requests\n",
    "import untangle\n",
    "import numpy as np\n",
    "import pandas as pd\n",
    "from matplotlib import pyplot\n",
    "from tqdm.auto import tqdm\n",
    "from IPython.display import display"
   ]
  },
  {
   "cell_type": "markdown",
   "id": "2dd07795-3511-451f-8577-bbb36823d88b",
   "metadata": {
    "id": "3cb9386f-8e2c-43e6-9eb9-1a0b9fe948fa",
    "tags": []
   },
   "source": [
    "## Paths & Constants"
   ]
  },
  {
   "cell_type": "code",
   "execution_count": 42,
   "id": "4a8ac8e1-929b-4400-aa78-0ebe9409c09c",
   "metadata": {
    "id": "d213bef2-ed6b-4e6e-9ad7-48b3b9269f91"
   },
   "outputs": [],
   "source": [
    "#BASE_DIR = Path(\"/home/jakob/Masters/Data\")\n",
    "BASE_DIR = Path(\"/home/jakob/Cloudvault_new/Data\")\n",
    "\n",
    "# List of used uniprot IDs in positive data\n",
    "CLEAN_POSITIVE_UNIPROT_IDS_FILE = BASE_DIR/'NetOGlyc5 data'/'GalNAc data'/'02-GalNAC_processing'/'uniprot_ids.txt'\n",
    "\n",
    "# All peptides found for the organisms reference proteome (will be downloaded if not present)\n",
    "# As querying PRIDE is slow, it is best to first download all peptides we might need\n",
    "ALL_PEPTIDES_FILE = BASE_DIR/'NetOGlyc5 data'/'GalNAc data'/'03-PRIDE_processing'/'all_human_peptides.pkl.gz'\n",
    "\n",
    "# Minimum needed PSMs to include peptide in data\n",
    "PEPTIDE_MINIMUM_PSMS = 100\n",
    "\n",
    "# Minimum needed projects to include peptide in data\n",
    "PEPTIDE_MINIMUM_PROJECTS = 3\n",
    "\n",
    "# Path to write cleaned data file to\n",
    "CLEAN_NEGATIVE_DATA_FILE = BASE_DIR/'NetOGlyc5 data'/'GalNAc data'/'03-PRIDE_processing'/'clean_data.xlsx'\n",
    "\n",
    "# Path to write list of used uniprot IDs to\n",
    "CLEAN_NEGATIVE_UNIPROT_IDS_FILE = BASE_DIR/'NetOGlyc5 data'/'GalNAc data'/'03-PRIDE_processing'/'uniprot_ids.txt'"
   ]
  },
  {
   "cell_type": "code",
   "execution_count": 43,
   "id": "e046948c-d38a-4ea3-878c-9a05af1cf867",
   "metadata": {},
   "outputs": [],
   "source": [
    "# Set right config\n",
    "cf.use_config(BaseConfig)"
   ]
  },
  {
   "cell_type": "code",
   "execution_count": 44,
   "id": "8ecf7002-993f-4811-88ee-f08ea74b8a64",
   "metadata": {},
   "outputs": [],
   "source": [
    "# The temp folder is used to organize data-specific temporary files\n",
    "cf.TEMP_DIR = BASE_DIR/'uniprot'/'PRIDE'\n",
    "\n",
    "# Uniprot release downloads directory path (make sure you have a few GB of free space)\n",
    "cf.UNIPROT_DOWNLOADS_DIR = BASE_DIR/'uniprot'\n",
    "\n",
    "# The amino acids that are allowed to be glycosylated\n",
    "cf.ALLOWED_AA = ('S','T','Y')\n",
    "\n",
    "# The uniport release can be 'latest' for the current release or any of those with format (YYYY_MM) found here: https://ftp.uniprot.org/pub/databases/uniprot/previous_releases/\n",
    "# Warning: Uniprot only keeps previous releases other than the first of the year for 2 years, so only use first yearly (2015_01, 2021_01 etc.) for reproducability!\n",
    "cf.UNIPROT_RELEASE = '2021_01'\n",
    "\n",
    "# If True ignores existing data-specific temp files and recreates them from scratch\n",
    "# This should be used if the data or script has changed\n",
    "cf.IGNORE_EXISTING_FILES = True"
   ]
  },
  {
   "cell_type": "code",
   "execution_count": 45,
   "id": "8dc37570-3276-45e6-babf-98cda15ea4d9",
   "metadata": {},
   "outputs": [
    {
     "name": "stdout",
     "output_type": "stream",
     "text": [
      "Using Uniprot Release 2021_01\n"
     ]
    }
   ],
   "source": [
    "print(f\"Using Uniprot Release {cf.TRUE_UNIPROT_RELEASE}\")"
   ]
  },
  {
   "cell_type": "markdown",
   "id": "a44114a2-9afd-4d44-b36d-83a09401ce36",
   "metadata": {
    "id": "4092e923",
    "tags": []
   },
   "source": [
    "## Download proteome IDs from Uniprot & compare with data"
   ]
  },
  {
   "cell_type": "code",
   "execution_count": 46,
   "id": "43398ab4-28c7-4cc5-b2ac-8beb1b1e37c4",
   "metadata": {},
   "outputs": [
    {
     "name": "stdout",
     "output_type": "stream",
     "text": [
      "Number of proteins in human proteome: 20360\n"
     ]
    }
   ],
   "source": [
    "# Get uniprot IDs of full human proteome\n",
    "\n",
    "params = {\n",
    "    \"query\": \"reviewed:yes AND proteome:up000005640\", # We begrudgingly use the proteome list from the current Uniprot release, as the file for previous releases is 128GB!\n",
    "    \"format\": \"list\",\n",
    "}\n",
    "all_proteins_string = download(url='https://www.uniprot.org/uniprot', query_params=params)\n",
    "all_proteins = set(all_proteins_string.strip().split('\\n'))\n",
    "print(f\"Number of proteins in human proteome: {len(all_proteins)}\")"
   ]
  },
  {
   "cell_type": "code",
   "execution_count": 47,
   "id": "cb762a15-2b70-406e-adac-c9713717e735",
   "metadata": {},
   "outputs": [
    {
     "name": "stdout",
     "output_type": "stream",
     "text": [
      "Number of human proteins in the secretory (O-glycosylation) pathway in Uniprot: 7932\n"
     ]
    }
   ],
   "source": [
    "# Get uniprot IDs of all O-glycosylatable human proteins\n",
    "\n",
    "subcellular_locations = (\n",
    "    \"Endoplasmic reticulum [SL-0095]\",\n",
    "    \"COPI-coated vesicle [SL-0075]\",\n",
    "    \"COPII-coated vesicle [SL-0077]\",\n",
    "    \"Endoplasmic reticulum-Golgi intermediate compartment [SL-0098]\",\n",
    "    \"Golgi apparatus [SL-0132]\",\n",
    "    \"Secretory vesicle [SL-0244]\",\n",
    "    \"Clathrin-coated vesicle [SL-0070]\",\n",
    "    \"Endosome [SL-0101]\",\n",
    "    \"Cell membrane [SL-0039]\",\n",
    "    \"Cell surface [SL-0310]\",\n",
    "    \"Coated pit [SL-0072]\",\n",
    "    \"Cell junction [SL-0038]\",\n",
    "    \"Secreted [SL-0243]\",\n",
    "    \"Microvillus [SL-0293]\",\n",
    "    \"Cell projection [SL-0280]\",\n",
    ")\n",
    "\n",
    "locations_string = ' OR '.join(f'locations:(location:\"{location}\")' for location in subcellular_locations)\n",
    "\n",
    "params = {\n",
    "    \"query\": f'reviewed:yes AND proteome:up000005640 AND ({locations_string})',\n",
    "    \"format\": \"list\",\n",
    "}\n",
    "\n",
    "glycosylatable_proteins_string = download(url='https://www.uniprot.org/uniprot', query_params=params)\n",
    "glycosylatable_proteins = set(glycosylatable_proteins_string.strip().split('\\n'))\n",
    "print(f\"Number of human proteins in the secretory (O-glycosylation) pathway in Uniprot: {len(glycosylatable_proteins)}\")"
   ]
  },
  {
   "cell_type": "code",
   "execution_count": 11,
   "id": "cca1340a-5732-4ee5-83bf-a18353e7e606",
   "metadata": {},
   "outputs": [
    {
     "name": "stdout",
     "output_type": "stream",
     "text": [
      "Number of proteins in cleaned data (positive_proteins): 4684\n"
     ]
    }
   ],
   "source": [
    "# Get uniprot IDs of proteins identified in cleaned data\n",
    "\n",
    "with open(CLEAN_POSITIVE_UNIPROT_IDS_FILE, 'r') as f:\n",
    "    positive_proteins = {split_uniprot_id(full_id)[0] for full_id in f.read().split('\\n')}\n",
    "print(f\"Number of proteins in cleaned data (positive_proteins): {len(positive_proteins)}\")"
   ]
  },
  {
   "cell_type": "code",
   "execution_count": 12,
   "id": "37bd7674-2138-4776-980b-e8b65b32ca87",
   "metadata": {},
   "outputs": [
    {
     "name": "stdout",
     "output_type": "stream",
     "text": [
      "Number of proteins only found in glycosylatable_proteins: 5519\n",
      "Number of proteins only found in positive_proteins: 2394\n",
      "Number of proteins found in both glycosylatable_proteins & positive_proteins: 2290\n",
      "Number of proteins found in either glycosylatable_proteins & positive_proteins: 10203\n"
     ]
    }
   ],
   "source": [
    "# Get uniprot IDs of O-glycosylatable proteins and those seen in cleaned data\n",
    "\n",
    "wanted_proteins = glycosylatable_proteins | positive_proteins\n",
    "\n",
    "print(f\"Number of proteins only found in glycosylatable_proteins: {len(glycosylatable_proteins - positive_proteins)}\")\n",
    "print(f\"Number of proteins only found in positive_proteins: {len(positive_proteins - glycosylatable_proteins)}\")\n",
    "print(f\"Number of proteins found in both glycosylatable_proteins & positive_proteins: {len(glycosylatable_proteins & positive_proteins)}\")\n",
    "print(f\"Number of proteins found in either glycosylatable_proteins & positive_proteins: {len(wanted_proteins)}\")"
   ]
  },
  {
   "cell_type": "markdown",
   "id": "ed4cd5a5-8789-482d-87ae-613cd9f0eaa0",
   "metadata": {},
   "source": [
    "## Download UNIMOD DB & Extract O-glyc IDs"
   ]
  },
  {
   "cell_type": "code",
   "execution_count": 13,
   "id": "90a7630f-bd46-496a-8e5d-832a85f48a8b",
   "metadata": {
    "scrolled": true,
    "tags": []
   },
   "outputs": [
    {
     "data": {
      "text/plain": [
       "{41: ['T', 'S', 'Y'],\n",
       " 43: ['T', 'S'],\n",
       " 54: ['T', 'S'],\n",
       " 142: ['T', 'S'],\n",
       " 143: ['T', 'S'],\n",
       " 144: ['T', 'S'],\n",
       " 146: ['T', 'S'],\n",
       " 148: ['T', 'S'],\n",
       " 149: ['T', 'S'],\n",
       " 152: ['T', 'S'],\n",
       " 153: ['T', 'S'],\n",
       " 156: ['T', 'S'],\n",
       " 158: ['T', 'S'],\n",
       " 159: ['T', 'S'],\n",
       " 160: ['T', 'S'],\n",
       " 213: ['T', 'S'],\n",
       " 2022: ['T', 'S'],\n",
       " 295: ['T', 'S'],\n",
       " 305: ['T', 'S'],\n",
       " 307: ['T', 'S'],\n",
       " 309: ['T', 'S'],\n",
       " 310: ['T', 'S'],\n",
       " 311: ['T', 'S'],\n",
       " 428: ['T', 'S'],\n",
       " 429: ['T', 'S'],\n",
       " 454: ['T', 'S'],\n",
       " 490: ['T', 'S'],\n",
       " 512: ['S', 'T'],\n",
       " 793: ['T', 'S'],\n",
       " 1303: ['T', 'S'],\n",
       " 1304: ['T', 'S'],\n",
       " 1367: ['T', 'S'],\n",
       " 1375: ['T', 'S'],\n",
       " 1376: ['T', 'S'],\n",
       " 1377: ['T', 'S'],\n",
       " 1378: ['T', 'S'],\n",
       " 1379: ['T', 'S'],\n",
       " 1412: ['T', 'S'],\n",
       " 1413: ['T', 'S'],\n",
       " 1428: ['T', 'S'],\n",
       " 1425: ['T', 'S'],\n",
       " 1426: ['T', 'S'],\n",
       " 1427: ['T', 'S'],\n",
       " 1429: ['T', 'S'],\n",
       " 1430: ['T', 'S'],\n",
       " 1431: ['T', 'S'],\n",
       " 1432: ['T', 'S'],\n",
       " 1433: ['T', 'S'],\n",
       " 1434: ['T', 'S'],\n",
       " 1435: ['T', 'S'],\n",
       " 1444: ['T', 'S'],\n",
       " 1436: ['T', 'S'],\n",
       " 1437: ['T', 'S'],\n",
       " 1438: ['T', 'S'],\n",
       " 1439: ['T', 'S'],\n",
       " 1440: ['T', 'S'],\n",
       " 1441: ['T', 'S'],\n",
       " 1442: ['S', 'T'],\n",
       " 1443: ['T', 'S'],\n",
       " 1445: ['S', 'T'],\n",
       " 1446: ['S', 'T'],\n",
       " 1447: ['T', 'S'],\n",
       " 1448: ['S', 'T'],\n",
       " 1450: ['S', 'T'],\n",
       " 1461: ['S', 'T'],\n",
       " 1501: ['S', 'T'],\n",
       " 1563: ['S', 'T'],\n",
       " 1564: ['S', 'T'],\n",
       " 1565: ['T', 'S'],\n",
       " 1566: ['T', 'S'],\n",
       " 1567: ['T', 'S'],\n",
       " 1568: ['S', 'T'],\n",
       " 1570: ['T', 'S'],\n",
       " 1571: ['S', 'T'],\n",
       " 1572: ['T', 'S'],\n",
       " 1573: ['S', 'T'],\n",
       " 1575: ['T', 'S'],\n",
       " 1577: ['T', 'S'],\n",
       " 1578: ['S', 'T'],\n",
       " 1579: ['T', 'S'],\n",
       " 1580: ['S', 'T'],\n",
       " 1581: ['T', 'S'],\n",
       " 1582: ['S', 'T'],\n",
       " 1583: ['T', 'S'],\n",
       " 1584: ['S', 'T'],\n",
       " 1585: ['T', 'S'],\n",
       " 1586: ['S', 'T'],\n",
       " 1587: ['T', 'S'],\n",
       " 1588: ['S', 'T'],\n",
       " 1589: ['T', 'S'],\n",
       " 1590: ['S', 'T'],\n",
       " 1591: ['S', 'T'],\n",
       " 1592: ['S', 'T'],\n",
       " 1593: ['T', 'S'],\n",
       " 1594: ['S', 'T'],\n",
       " 1595: ['S', 'T'],\n",
       " 1596: ['S', 'T'],\n",
       " 1597: ['S', 'T'],\n",
       " 1598: ['T', 'S'],\n",
       " 1599: ['T', 'S'],\n",
       " 1600: ['S', 'T'],\n",
       " 1602: ['S', 'T'],\n",
       " 1604: ['T', 'S'],\n",
       " 1606: ['T', 'S'],\n",
       " 1607: ['T', 'S'],\n",
       " 1608: ['S', 'T'],\n",
       " 1609: ['T', 'S'],\n",
       " 1610: ['S', 'T'],\n",
       " 1611: ['T', 'S'],\n",
       " 1612: ['S', 'T'],\n",
       " 1786: ['T', 'S'],\n",
       " 1614: ['T', 'S'],\n",
       " 1615: ['T', 'S'],\n",
       " 1616: ['S', 'T'],\n",
       " 1617: ['S', 'T'],\n",
       " 1618: ['T', 'S'],\n",
       " 1619: ['S', 'T'],\n",
       " 1620: ['T', 'S'],\n",
       " 1621: ['S', 'T'],\n",
       " 1622: ['T', 'S'],\n",
       " 1623: ['T', 'S'],\n",
       " 1624: ['S', 'T'],\n",
       " 1625: ['S', 'T'],\n",
       " 1626: ['T', 'S'],\n",
       " 1627: ['T', 'S'],\n",
       " 1628: ['S', 'T'],\n",
       " 1630: ['T', 'S'],\n",
       " 1631: ['S', 'T'],\n",
       " 1632: ['T', 'S'],\n",
       " 1633: ['T', 'S'],\n",
       " 1634: ['S', 'T'],\n",
       " 1635: ['T', 'S'],\n",
       " 1636: ['S', 'T'],\n",
       " 1637: ['S', 'T'],\n",
       " 1638: ['S', 'T'],\n",
       " 1639: ['T', 'S'],\n",
       " 1640: ['T', 'S'],\n",
       " 1641: ['S', 'T'],\n",
       " 1642: ['T', 'S'],\n",
       " 1643: ['T', 'S'],\n",
       " 1644: ['T', 'S'],\n",
       " 1645: ['S', 'T'],\n",
       " 1646: ['T', 'S'],\n",
       " 1647: ['S', 'T'],\n",
       " 1648: ['S', 'T'],\n",
       " 1649: ['S', 'T'],\n",
       " 1650: ['S', 'T'],\n",
       " 1651: ['T', 'S'],\n",
       " 1652: ['S', 'T'],\n",
       " 1653: ['T', 'S'],\n",
       " 1654: ['S', 'T'],\n",
       " 1655: ['T', 'S'],\n",
       " 1656: ['T', 'S'],\n",
       " 1657: ['T', 'S'],\n",
       " 1658: ['T', 'S'],\n",
       " 1659: ['T', 'S'],\n",
       " 1660: ['S', 'T'],\n",
       " 1661: ['T', 'S'],\n",
       " 1662: ['T', 'S'],\n",
       " 1663: ['T', 'S'],\n",
       " 1664: ['S', 'T'],\n",
       " 1665: ['S', 'T'],\n",
       " 1666: ['T', 'S'],\n",
       " 1667: ['T', 'S'],\n",
       " 1668: ['T', 'S'],\n",
       " 1669: ['T', 'S'],\n",
       " 1670: ['T', 'S'],\n",
       " 1671: ['T', 'S'],\n",
       " 1672: ['S', 'T'],\n",
       " 1673: ['T', 'S'],\n",
       " 1674: ['T', 'S'],\n",
       " 1675: ['S', 'T'],\n",
       " 1676: ['T', 'S'],\n",
       " 1678: ['T', 'S'],\n",
       " 1679: ['T', 'S'],\n",
       " 1680: ['S', 'T'],\n",
       " 1681: ['S', 'T'],\n",
       " 1682: ['T', 'S'],\n",
       " 1683: ['T', 'S'],\n",
       " 1684: ['T', 'S'],\n",
       " 1685: ['S', 'T'],\n",
       " 1686: ['S', 'T'],\n",
       " 1687: ['S', 'T'],\n",
       " 1688: ['S', 'T'],\n",
       " 1689: ['S', 'T'],\n",
       " 1690: ['T', 'S'],\n",
       " 1691: ['S', 'T'],\n",
       " 1692: ['T', 'S'],\n",
       " 1693: ['S', 'T'],\n",
       " 1694: ['T', 'S'],\n",
       " 1695: ['T', 'S'],\n",
       " 1696: ['S', 'T'],\n",
       " 1697: ['T', 'S'],\n",
       " 1698: ['T', 'S'],\n",
       " 1699: ['T', 'S'],\n",
       " 1700: ['S', 'T'],\n",
       " 1701: ['S', 'T'],\n",
       " 1702: ['T', 'S'],\n",
       " 1703: ['T', 'S'],\n",
       " 1705: ['S', 'T'],\n",
       " 1706: ['T', 'S'],\n",
       " 1707: ['T', 'S'],\n",
       " 1708: ['S', 'T'],\n",
       " 1709: ['T', 'S'],\n",
       " 1711: ['T', 'S'],\n",
       " 1712: ['S', 'T'],\n",
       " 1713: ['T', 'S'],\n",
       " 1714: ['S', 'T'],\n",
       " 1715: ['T', 'S'],\n",
       " 1716: ['T', 'S'],\n",
       " 1717: ['S', 'T'],\n",
       " 1718: ['S', 'T'],\n",
       " 1719: ['S', 'T'],\n",
       " 1720: ['S', 'T'],\n",
       " 1721: ['T', 'S'],\n",
       " 1722: ['S', 'T'],\n",
       " 1723: ['T', 'S'],\n",
       " 1724: ['T', 'S'],\n",
       " 1725: ['S', 'T'],\n",
       " 1726: ['T', 'S'],\n",
       " 1727: ['S', 'T'],\n",
       " 1728: ['S', 'T'],\n",
       " 1729: ['S', 'T'],\n",
       " 1730: ['T', 'S'],\n",
       " 1732: ['T', 'S'],\n",
       " 1733: ['T', 'S'],\n",
       " 1735: ['S', 'T'],\n",
       " 1736: ['T', 'S'],\n",
       " 1737: ['T', 'S'],\n",
       " 1738: ['S', 'T'],\n",
       " 1739: ['T', 'S'],\n",
       " 1740: ['S', 'T'],\n",
       " 1742: ['T', 'S'],\n",
       " 1743: ['S', 'T'],\n",
       " 1744: ['S', 'T'],\n",
       " 1745: ['T', 'S'],\n",
       " 1746: ['T', 'S'],\n",
       " 1747: ['S', 'T'],\n",
       " 1748: ['T', 'S'],\n",
       " 1749: ['S', 'T'],\n",
       " 1750: ['S', 'T'],\n",
       " 1751: ['S', 'T'],\n",
       " 1752: ['S', 'T'],\n",
       " 1753: ['T', 'S'],\n",
       " 1754: ['S', 'T'],\n",
       " 1755: ['S', 'T'],\n",
       " 1756: ['T', 'S'],\n",
       " 1757: ['T', 'S'],\n",
       " 1758: ['S', 'T'],\n",
       " 1759: ['T', 'S'],\n",
       " 1760: ['S', 'T'],\n",
       " 1761: ['S', 'T'],\n",
       " 1762: ['S', 'T'],\n",
       " 1763: ['S', 'T'],\n",
       " 1764: ['T', 'S'],\n",
       " 1765: ['S', 'T'],\n",
       " 1766: ['S', 'T'],\n",
       " 1767: ['S', 'T'],\n",
       " 1768: ['S', 'T'],\n",
       " 1769: ['S', 'T'],\n",
       " 1770: ['S', 'T'],\n",
       " 1771: ['S', 'T'],\n",
       " 1772: ['T', 'S'],\n",
       " 1773: ['T', 'S'],\n",
       " 1774: ['S', 'T'],\n",
       " 1775: ['S', 'T'],\n",
       " 1776: ['T', 'S'],\n",
       " 1777: ['S', 'T'],\n",
       " 1778: ['T', 'S'],\n",
       " 1779: ['S', 'T'],\n",
       " 1780: ['S', 'T'],\n",
       " 1781: ['S', 'T'],\n",
       " 1782: ['T', 'S'],\n",
       " 1783: ['S', 'T'],\n",
       " 1784: ['S', 'T'],\n",
       " 1785: ['S', 'T'],\n",
       " 1932: ['T', 'S'],\n",
       " 1930: ['T', 'S'],\n",
       " 1931: ['T', 'S'],\n",
       " 1933: ['T', 'S'],\n",
       " 1934: ['S', 'T'],\n",
       " 1935: ['S', 'T'],\n",
       " 1936: ['S', 'T'],\n",
       " 1937: ['S', 'T'],\n",
       " 1938: ['S', 'T'],\n",
       " 1939: ['S', 'T'],\n",
       " 1940: ['S', 'T'],\n",
       " 1941: ['S', 'T'],\n",
       " 1942: ['S', 'T'],\n",
       " 1943: ['T', 'S'],\n",
       " 1944: ['S', 'T'],\n",
       " 1945: ['T', 'S'],\n",
       " 1946: ['T', 'S'],\n",
       " 1948: ['T', 'S'],\n",
       " 1949: ['T', 'S'],\n",
       " 1950: ['T', 'S'],\n",
       " 1951: ['T', 'S'],\n",
       " 1952: ['T', 'S'],\n",
       " 1954: ['T', 'S'],\n",
       " 1955: ['T', 'S'],\n",
       " 1956: ['T', 'S'],\n",
       " 1958: ['S', 'T'],\n",
       " 1959: ['S', 'T'],\n",
       " 1960: ['T', 'S'],\n",
       " 1966: ['S', 'T'],\n",
       " 1968: ['S', 'T'],\n",
       " 2029: ['S', 'T']}"
      ]
     },
     "execution_count": 13,
     "metadata": {},
     "output_type": "execute_result"
    }
   ],
   "source": [
    "# Download UNIMOD database and extract all O-linked glycosylation modification IDs and their possible AA sites\n",
    "\n",
    "unimod = untangle.parse('https://www.unimod.org/xml/unimod.xml')\n",
    "olinked_mods = {}\n",
    "for umod_mod in unimod.umod_unimod.umod_modifications.umod_mod:\n",
    "    record_id = int(umod_mod['record_id'])\n",
    "    \n",
    "    for umod_specificity in umod_mod.umod_specificity:\n",
    "        if umod_specificity['classification'] == \"O-linked glycosylation\":\n",
    "            if umod_specificity['site'] not in cf.ALLOWED_AA:\n",
    "                print(f\"UNIMOD:{record_id} - Site '{umod_specificity['site']}' is not part of allowed amino acids\")\n",
    "            if umod_specificity['position'] != 'Anywhere':\n",
    "                print(f\"UNIMOD:{record_id} - Position '{umod_specificity['position']}' is not the expected 'Anywhere'\")\n",
    "            if record_id not in olinked_mods:\n",
    "                olinked_mods[record_id] = [umod_specificity['site']]\n",
    "            else:\n",
    "                olinked_mods[record_id].append(umod_specificity['site'])\n",
    "olinked_mods"
   ]
  },
  {
   "cell_type": "markdown",
   "id": "6eeba86f-78b8-4bed-a0fd-f147449dc75c",
   "metadata": {},
   "source": [
    "## Download Peptides from PRIDE"
   ]
  },
  {
   "cell_type": "code",
   "execution_count": 14,
   "id": "6239838a-65fa-4af8-bf38-1a65f46d2d62",
   "metadata": {
    "tags": []
   },
   "outputs": [
    {
     "name": "stdout",
     "output_type": "stream",
     "text": [
      "Loading human PRIDE peptides\n",
      "Number of peptides from wanted proteins: 293000\n"
     ]
    }
   ],
   "source": [
    "# (Down)load all human peptides from PRIDE /peptidesummary endpoint (per uniprot ID)\n",
    "\n",
    "if ALL_PEPTIDES_FILE.exists():\n",
    "    with gzip.open(ALL_PEPTIDES_FILE, 'rb') as f:\n",
    "        print(\"Loading human PRIDE peptides\")\n",
    "        all_peptides = pickle.load(f)\n",
    "else:\n",
    "    all_peptides = []\n",
    "    for protein in tqdm(iterable=all_proteins, desc=\"Downloading human PRIDE peptides\"):\n",
    "        page = 0\n",
    "        while True:\n",
    "            peptide_summary = requests.get(f'https://www.ebi.ac.uk/pride/ws/archive/v2/peptidesummary/peptide?proteinAccession={protein}&page={page}').json()\n",
    "            if '_embedded' not in peptide_summary or page+1 >= peptide_summary['page']['totalPages']:\n",
    "                break\n",
    "            all_peptides.extend(peptide_summary['_embedded']['peptideSummaries'])\n",
    "            page += 1\n",
    "    with gzip.open(ALL_PEPTIDES_FILE, 'wb') as f:\n",
    "        pickle.dump(all_peptides, f, protocol=4)\n",
    "\n",
    "wanted_peptides = [peptide for peptide in all_peptides if peptide['proteinAccession'] in wanted_proteins]\n",
    "print(f\"Number of peptides from wanted proteins: {len(wanted_peptides)}\")"
   ]
  },
  {
   "cell_type": "code",
   "execution_count": 15,
   "id": "6ee60efa-5ec8-4b8b-8fba-484789a00c22",
   "metadata": {
    "scrolled": true,
    "tags": []
   },
   "outputs": [
    {
     "name": "stdout",
     "output_type": "stream",
     "text": [
      "O-glyc AA not found for UNIMOD ID - index: 9, ptm: UNIMOD:43,HexNAc,6, projects: ['PXD007700'], seq: SQGSGNEAEPLGK, aa: N\n",
      "O-glyc AA not found for UNIMOD ID - index: 2378, ptm: UNIMOD:43,HexNAc,4, projects: ['PXD007700'], seq: QLINALQINNTAVGHALVLPAGR, aa: N\n",
      "O-glyc AA not found for UNIMOD ID - index: 2407, ptm: UNIMOD:43,HexNAc,6, projects: ['PXD007700'], seq: GPPGVNGTQGFQGCPGQR, aa: N\n",
      "O-glyc AA not found for UNIMOD ID - index: 2453, ptm: UNIMOD:43,HexNAc,14, projects: ['PXD007700'], seq: VAVVQHAPSESVDNASMPPVK, aa: N\n",
      "O-glyc AA not found for UNIMOD ID - index: 2471, ptm: UNIMOD:43,HexNAc,3, projects: ['PXD007700'], seq: IMNSFGPSAATPAPPGVDTPPPSRPEK, aa: N\n",
      "O-glyc AA not found for UNIMOD ID - index: 2536, ptm: UNIMOD:43,HexNAc,2, projects: ['PXD007700'], seq: QNLTVTDR, aa: N\n",
      "O-glyc AA not found for UNIMOD ID - index: 2566, ptm: UNIMOD:43,HexNAc,3, projects: ['PXD007700'], seq: IMNSFGPSAATPAPPGVDTPPPSRPEKK, aa: N\n",
      "O-glyc AA not found for UNIMOD ID - index: 2616, ptm: UNIMOD:43,HexNAc,18, projects: ['PXD007700'], seq: GYPGDEGGPGERGPPGVNGTQGFQGCPGQR, aa: N\n",
      "O-glyc AA not found for UNIMOD ID - index: 2653, ptm: UNIMOD:43,HexNAc,20, projects: ['PXD007700'], seq: PVTTTTKPVTTTTKPVTIINQPSVK, aa: N\n",
      "O-glyc AA not found for UNIMOD ID - index: 2691, ptm: UNIMOD:43,HexNAc,6, projects: ['PXD007700'], seq: QVNVPNNVTSSPTSNPVTTTK, aa: N\n",
      "O-glyc AA not found for UNIMOD ID - index: 2710, ptm: UNIMOD:43,HexNAc,6, projects: ['PXD007700'], seq: QVNVPNNVTSSPTSNPVTTTKPVTTTK, aa: N\n",
      "O-glyc AA not found for UNIMOD ID - index: 2737, ptm: UNIMOD:43,HexNAc,1, projects: ['PXD007700'], seq: NSFGPSAATPAPPGVDTPPPSRPEK, aa: N\n",
      "O-glyc AA not found for UNIMOD ID - index: 2802, ptm: UNIMOD:43,HexNAc,2, projects: ['PXD007700'], seq: GNPGQDSQERGPKGETGDLGPMGVPGR, aa: N\n",
      "O-glyc AA not found for UNIMOD ID - index: 2813, ptm: UNIMOD:43,HexNAc,1, projects: ['PXD007700'], seq: NSFGPSAATPAPPGVDTPPPSRPEKK, aa: N\n",
      "O-glyc AA not found for UNIMOD ID - index: 2949, ptm: UNIMOD:43,HexNAc,13, projects: ['PXD007700'], seq: PVTTTTKPVTIINQPS, aa: N\n",
      "O-glyc AA not found for UNIMOD ID - index: 5436, ptm: UNIMOD:43,HexNAc,11, projects: ['PXD007700'], seq: LNNAWQSCPHNNVTGIAFEDVPITSR, aa: N\n",
      "O-glyc AA not found for UNIMOD ID - index: 5730, ptm: UNIMOD:43,HexNAc,8, projects: ['PXD007700'], seq: MSSEMETNIVAVER, aa: N\n",
      "terminal O-glyc - index: 6350, ptm: UNIMOD:41,Hex,0, projects: ['PXD015646'], seq: FLYQQQGRLDK\n",
      "O-glyc AA not found for UNIMOD ID - index: 8189, ptm: UNIMOD:43,HexNAc,14, projects: ['PXD015646'], seq: VPAHFVALNGSKLNIN, aa: N\n",
      "O-glyc AA not found for UNIMOD ID - index: 8863, ptm: UNIMOD:43,HexNAc,9, projects: ['PXD013112'], seq: SYFVEWIPNNVK, aa: N\n",
      "O-glyc AA not found for UNIMOD ID - index: 9024, ptm: UNIMOD:213,ADP-Ribosyl,4, projects: ['PXD013112'], seq: EGAELVDSVLDVVRK, aa: E\n",
      "O-glyc AA not found for UNIMOD ID - index: 9095, ptm: UNIMOD:43,HexNAc,12, projects: ['PXD013112'], seq: NSSYFVEWIPNNVKVAV, aa: N\n",
      "O-glyc AA not found for UNIMOD ID - index: 10744, ptm: UNIMOD:43,HexNAc,8, projects: ['PXD007700'], seq: TLDEILENQK, aa: N\n",
      "O-glyc AA not found for UNIMOD ID - index: 11271, ptm: UNIMOD:43,HexNAc,7, projects: ['PXD007700'], seq: WLCDGDNDCGNSEDESNATCSAR, aa: N\n",
      "O-glyc AA not found for UNIMOD ID - index: 11285, ptm: UNIMOD:43,HexNAc,2, projects: ['PXD007700'], seq: DNDCVDGSDEPANCTQMTCGVDEFR, aa: N\n",
      "O-glyc AA not found for UNIMOD ID - index: 11482, ptm: UNIMOD:43,HexNAc,22, projects: ['PXD007700'], seq: CTQQVCAGYCANNSTCTVNQGNQPQCR, aa: N\n",
      "O-glyc AA not found for UNIMOD ID - index: 11482, ptm: UNIMOD:43,HexNAc,12, projects: ['PXD007700'], seq: CTQQVCAGYCANNSTCTVNQGNQPQCR, aa: N\n",
      "O-glyc AA not found for UNIMOD ID - index: 11482, ptm: UNIMOD:43,HexNAc,19, projects: ['PXD007700'], seq: CTQQVCAGYCANNSTCTVNQGNQPQCR, aa: N\n",
      "O-glyc AA not found for UNIMOD ID - index: 13127, ptm: UNIMOD:43,HexNAc,3, projects: ['PXD007700'], seq: TWNQSIALR, aa: N\n",
      "O-glyc AA not found for UNIMOD ID - index: 15516, ptm: UNIMOD:43,HexNAc,1, projects: ['PXD007700'], seq: NMGMDFCR, aa: N\n",
      "O-glyc AA not found for UNIMOD ID - index: 16308, ptm: UNIMOD:43,HexNAc,6, projects: ['PXD007700'], seq: CEMDINECHSDPCQNDATCLDK, aa: N\n",
      "O-glyc AA not found for UNIMOD ID - index: 17648, ptm: UNIMOD:41,Hex,9, projects: ['PXD013112'], seq: KGKPHCSRNPVLVR, aa: N\n",
      "O-glyc AA not found for UNIMOD ID - index: 20749, ptm: UNIMOD:43,HexNAc,4, projects: ['PXD007700'], seq: IHQNITYQVCR, aa: N\n",
      "O-glyc AA not found for UNIMOD ID - index: 23897, ptm: UNIMOD:43,HexNAc,9, projects: ['PXD007700'], seq: PIEHGIITNWDDMEK, aa: N\n",
      "O-glyc AA not found for UNIMOD ID - index: 24896, ptm: UNIMOD:43,HexNAc,10, projects: ['PXD007700'], seq: QVNETWTLENCTVAR, aa: N\n",
      "O-glyc AA not found for UNIMOD ID - index: 25970, ptm: UNIMOD:43,HexNAc,9, projects: ['PXD007700'], seq: PIEHGIITNWDDMEK, aa: N\n",
      "O-glyc AA not found for UNIMOD ID - index: 25987, ptm: UNIMOD:43,HexNAc,13, projects: ['PXD007700'], seq: CDIDIRKDLYANNVMSGGTTMYPGIADR, aa: N\n",
      "O-glyc AA not found for UNIMOD ID - index: 25987, ptm: UNIMOD:43,HexNAc,12, projects: ['PXD007700'], seq: CDIDIRKDLYANNVMSGGTTMYPGIADR, aa: N\n",
      "O-glyc AA not found for UNIMOD ID - index: 26673, ptm: UNIMOD:43,HexNAc,10, projects: ['PXD007700'], seq: MDHYDSQQTNDYMQPEEDWDR, aa: N\n",
      "O-glyc AA not found for UNIMOD ID - index: 27708, ptm: UNIMOD:43,HexNAc,9, projects: ['PXD013112'], seq: TLELQGLINDLQR, aa: N\n",
      "O-glyc AA not found for UNIMOD ID - index: 28040, ptm: UNIMOD:43,HexNAc,10, projects: ['PXD007700'], seq: QVMQQRSEDNARHK, aa: N\n",
      "O-glyc AA not found for UNIMOD ID - index: 28354, ptm: UNIMOD:43,HexNAc,4, projects: ['PXD007700'], seq: QVQNLVNKSKK, aa: N\n",
      "O-glyc AA not found for UNIMOD ID - index: 28354, ptm: UNIMOD:43,HexNAc,7, projects: ['PXD007700'], seq: QVQNLVNKSKK, aa: N\n",
      "O-glyc AA not found for UNIMOD ID - index: 29242, ptm: UNIMOD:43,HexNAc,3, projects: ['PXD007700'], seq: GPNGDAGRPGEPGLMGPR, aa: N\n",
      "O-glyc AA not found for UNIMOD ID - index: 29333, ptm: UNIMOD:43,HexNAc,4, projects: ['PXD007700'], seq: LLANYASQNITYHCK, aa: N\n",
      "O-glyc AA not found for UNIMOD ID - index: 29333, ptm: UNIMOD:43,HexNAc,9, projects: ['PXD007700'], seq: LLANYASQNITYHCK, aa: N\n",
      "O-glyc AA not found for UNIMOD ID - index: 29448, ptm: UNIMOD:43,HexNAc,4, projects: ['PXD007700'], seq: ASQNITYHCK, aa: N\n",
      "O-glyc AA not found for UNIMOD ID - index: 29829, ptm: UNIMOD:43,HexNAc,3, projects: ['PXD007700'], seq: GPNGEAGSAGPPGPPGL, aa: N\n",
      "O-glyc AA not found for UNIMOD ID - index: 29869, ptm: UNIMOD:43,HexNAc,3, projects: ['PXD007700'], seq: GPNGEAGSAGPPGPPG, aa: N\n",
      "O-glyc AA not found for UNIMOD ID - index: 29958, ptm: UNIMOD:43,HexNAc,4, projects: ['PXD007700'], seq: EQINITLDHR, aa: N\n",
      "O-glyc AA not found for UNIMOD ID - index: 31259, ptm: UNIMOD:43,HexNAc,5, projects: ['PXD007700'], seq: ILCDNADNITR, aa: N\n",
      "O-glyc AA not found for UNIMOD ID - index: 31259, ptm: UNIMOD:43,HexNAc,8, projects: ['PXD007700'], seq: ILCDNADNITR, aa: N\n",
      "O-glyc AA not found for UNIMOD ID - index: 32653, ptm: UNIMOD:43,HexNAc,9, projects: ['PXD007700'], seq: PIEHGIITNWDDMEK, aa: N\n",
      "O-glyc AA not found for UNIMOD ID - index: 32748, ptm: UNIMOD:41,Hex,5, projects: ['PXD013112'], seq: LYANNVLSGGTTMYPGIADR, aa: N\n",
      "O-glyc AA not found for UNIMOD ID - index: 32959, ptm: UNIMOD:41,Hex,4, projects: ['PXD013112'], seq: LYANNVLSGGTTMYPGIADRMQK, aa: N\n",
      "O-glyc AA not found for UNIMOD ID - index: 33790, ptm: UNIMOD:43,HexNAc,19, projects: ['PXD013112'], seq: LIQMGSVEEAVQALIDLHNHDLGENHHLR, aa: N\n",
      "O-glyc AA not found for UNIMOD ID - index: 45524, ptm: UNIMOD:43,HexNAc,2, projects: ['PXD007700'], seq: MNNSGYSDAGLGLGDETDEMPSTEK, aa: N\n",
      "O-glyc AA not found for UNIMOD ID - index: 48807, ptm: UNIMOD:43,HexNAc,1, projects: ['PXD007700'], seq: NCTDIDECR, aa: N\n",
      "O-glyc AA not found for UNIMOD ID - index: 51327, ptm: UNIMOD:43,HexNAc,14, projects: ['PXD007700'], seq: MEEESGAPGVPSGN, aa: N\n",
      "O-glyc AA not found for UNIMOD ID - index: 52258, ptm: UNIMOD:41,Hex,11, projects: ['PXD001248'], seq: ELAQGFLANQK, aa: K\n",
      "O-glyc AA not found for UNIMOD ID - index: 54920, ptm: UNIMOD:41,Hex,2, projects: ['PXD013112'], seq: FNAENYWK, aa: N\n",
      "O-glyc AA not found for UNIMOD ID - index: 56269, ptm: UNIMOD:43,HexNAc,2, projects: ['PXD007700'], seq: GNTTTLISENGHAADTLTATNFR, aa: N\n",
      "O-glyc AA not found for UNIMOD ID - index: 56280, ptm: UNIMOD:43,HexNAc,14, projects: ['PXD007700'], seq: YVQDQVAAPFQLSNHTGR, aa: N\n",
      "O-glyc AA not found for UNIMOD ID - index: 56298, ptm: UNIMOD:43,HexNAc,19, projects: ['PXD007700'], seq: ECYYNLNDASLCDNVLAPNVTK, aa: N\n",
      "O-glyc AA not found for UNIMOD ID - index: 57332, ptm: UNIMOD:41,Hex,11, projects: ['PXD001017'], seq: LQLETEIEALKEELLFMKK, aa: K\n",
      "O-glyc AA not found for UNIMOD ID - index: 57368, ptm: UNIMOD:146,Hex(1)HexNAc(1)dHex(1),1, projects: ['PXD001017'], seq: NHEEEVKGLQAQIASSGLTVEVDAPKSQDLAK, aa: N\n",
      "O-glyc AA not found for UNIMOD ID - index: 57779, ptm: UNIMOD:41,Hex,8, projects: ['PXD001248'], seq: KIAMKETK, aa: K\n",
      "O-glyc AA not found for UNIMOD ID - index: 58145, ptm: UNIMOD:41,Hex,19, projects: ['PXD001248'], seq: KQSLMMLQMFEDLHIQESK, aa: K\n",
      "O-glyc AA not found for UNIMOD ID - index: 58342, ptm: UNIMOD:43,HexNAc,25, projects: ['PXD007700'], seq: CTPACDPGYQPTPGGGCQDVDECRNR, aa: N\n",
      "O-glyc AA not found for UNIMOD ID - index: 58351, ptm: UNIMOD:43,HexNAc,2, projects: ['PXD007700'], seq: VNGSCEDVDECATGGR, aa: N\n",
      "O-glyc AA not found for UNIMOD ID - index: 61321, ptm: UNIMOD:43,HexNAc,1, projects: ['PXD007700'], seq: NLQAEYDR, aa: N\n",
      "O-glyc AA not found for UNIMOD ID - index: 63221, ptm: UNIMOD:43,HexNAc,6, projects: ['PXD007700'], seq: GMMGFNNM, aa: N\n",
      "O-glyc AA not found for UNIMOD ID - index: 63221, ptm: UNIMOD:43,HexNAc,7, projects: ['PXD007700'], seq: GMMGFNNM, aa: N\n",
      "O-glyc AA not found for UNIMOD ID - index: 63774, ptm: UNIMOD:43,HexNAc,11, projects: ['PXD007700'], seq: DDDGGEDDDANCNLICGDEYGPETR, aa: N\n",
      "O-glyc AA not found for UNIMOD ID - index: 64310, ptm: UNIMOD:43,HexNAc,3, projects: ['PXD007700'], seq: AFNSTLPTMAQMEK, aa: N\n",
      "O-glyc AA not found for UNIMOD ID - index: 64362, ptm: UNIMOD:43,HexNAc,5, projects: ['PXD007700'], seq: QIDLNITCR, aa: N\n",
      "O-glyc AA not found for UNIMOD ID - index: 66662, ptm: UNIMOD:43,HexNAc,15, projects: ['PXD007700'], seq: FVEEEDDDEEEEEENLDDQDEQGNLK, aa: N\n",
      "O-glyc AA not found for UNIMOD ID - index: 67754, ptm: UNIMOD:43,HexNAc,6, projects: ['PXD013112'], seq: EASYVNLPTIALCNT, aa: N\n",
      "O-glyc AA not found for UNIMOD ID - index: 68126, ptm: UNIMOD:43,HexNAc,2, projects: ['PXD007700'], seq: KNWVVTGADDMQIR, aa: N\n",
      "O-glyc AA not found for UNIMOD ID - index: 68723, ptm: UNIMOD:43,HexNAc,1, projects: ['PXD007700'], seq: NCEAPYIPEVSSPTDTSNFDVDDDCLK, aa: N\n",
      "O-glyc AA not found for UNIMOD ID - index: 68986, ptm: UNIMOD:43,HexNAc,1, projects: ['PXD007700'], seq: NSLQEQQEEEEEAR, aa: N\n",
      "O-glyc AA not found for UNIMOD ID - index: 75104, ptm: UNIMOD:41,Hex,5, projects: ['PXD013112'], seq: YQGVNLYVKNLDDGIDDER, aa: N\n",
      "O-glyc AA not found for UNIMOD ID - index: 75225, ptm: UNIMOD:43,HexNAc,1, projects: ['PXD007700'], seq: NGSLFAFR, aa: N\n",
      "O-glyc AA not found for UNIMOD ID - index: 76996, ptm: UNIMOD:41,Hex,8, projects: ['PXD015646'], seq: RVTIVGDNL, aa: N\n",
      "O-glyc AA not found for UNIMOD ID - index: 78454, ptm: UNIMOD:43,HexNAc,7, projects: ['PXD007700'], seq: PASVSENHDAGPDGDK, aa: N\n",
      "O-glyc AA not found for UNIMOD ID - index: 81221, ptm: UNIMOD:43,HexNAc,5, projects: ['PXD007700'], seq: ELISNSSDALDK, aa: N\n",
      "O-glyc AA not found for UNIMOD ID - index: 82381, ptm: UNIMOD:43,HexNAc,2, projects: ['PXD007700'], seq: SNQVCTSCEDNAEANGFCVECVEWLCK, aa: N\n",
      "O-glyc AA not found for UNIMOD ID - index: 82463, ptm: UNIMOD:43,HexNAc,14, projects: ['PXD007700'], seq: PGTMSVQAFLEEANLMK, aa: N\n",
      "O-glyc AA not found for UNIMOD ID - index: 84609, ptm: UNIMOD:43,HexNAc,13, projects: ['PXD007700'], seq: DTDMDGVGDQCDNCPLEHNPDQLDSDSDR, aa: N\n",
      "O-glyc AA not found for UNIMOD ID - index: 84609, ptm: UNIMOD:43,HexNAc,19, projects: ['PXD007700'], seq: DTDMDGVGDQCDNCPLEHNPDQLDSDSDR, aa: N\n",
      "O-glyc AA not found for UNIMOD ID - index: 84697, ptm: UNIMOD:43,HexNAc,3, projects: ['PXD007700'], seq: VVNSTTGPGEHLR, aa: N\n",
      "O-glyc AA not found for UNIMOD ID - index: 84701, ptm: UNIMOD:43,HexNAc,10, projects: ['PXD007700'], seq: VSCPIMPCSNATVPDGECCPR, aa: N\n",
      "O-glyc AA not found for UNIMOD ID - index: 84717, ptm: UNIMOD:43,HexNAc,11, projects: ['PXD007700'], seq: KVSCPIMPCSNATVPDGECCPR, aa: N\n",
      "O-glyc AA not found for UNIMOD ID - index: 87652, ptm: UNIMOD:43,HexNAc,5, projects: ['PXD007700'], seq: EASQNITYICK, aa: N\n",
      "O-glyc AA not found for UNIMOD ID - index: 89794, ptm: UNIMOD:43,HexNAc,15, projects: ['PXD015646'], seq: FFISEHAQDLSPQQNRQMLRLLNELQRSF, aa: N\n",
      "O-glyc AA not found for UNIMOD ID - index: 91450, ptm: UNIMOD:43,HexNAc,5, projects: ['PXD007700'], seq: TELQNTLRTLSSK, aa: N\n",
      "O-glyc AA not found for UNIMOD ID - index: 95506, ptm: UNIMOD:41,Hex,11, projects: ['PXD001248'], seq: KLQLQNQESVR, aa: R\n",
      "O-glyc AA not found for UNIMOD ID - index: 99342, ptm: UNIMOD:43,HexNAc,13, projects: ['PXD007700'], seq: GDEGEAGDPGDDNNDIAPR, aa: N\n",
      "O-glyc AA not found for UNIMOD ID - index: 99346, ptm: UNIMOD:43,HexNAc,1, projects: ['PXD007700'], seq: NVTAQICIDK, aa: N\n",
      "O-glyc AA not found for UNIMOD ID - index: 99351, ptm: UNIMOD:43,HexNAc,1, projects: ['PXD007700'], seq: NFTAADWGQSR, aa: N\n",
      "O-glyc AA not found for UNIMOD ID - index: 99360, ptm: UNIMOD:43,HexNAc,2, projects: ['PXD007700'], seq: RNFTAADWGQSR, aa: N\n",
      "O-glyc AA not found for UNIMOD ID - index: 99405, ptm: UNIMOD:43,HexNAc,1, projects: ['PXD007700'], seq: NVTAQICIDKK, aa: N\n",
      "O-glyc AA not found for UNIMOD ID - index: 99566, ptm: UNIMOD:43,HexNAc,6, projects: ['PXD007700'], seq: SIGLQNFEIAK, aa: N\n",
      "O-glyc AA not found for UNIMOD ID - index: 99728, ptm: UNIMOD:43,HexNAc,2, projects: ['PXD015646'], seq: TNSTFVQALVEHVK, aa: N\n",
      "O-glyc AA not found for UNIMOD ID - index: 99793, ptm: UNIMOD:43,HexNAc,2, projects: ['PXD015646'], seq: TNSTFVQALVEHVKE, aa: N\n",
      "O-glyc AA not found for UNIMOD ID - index: 100494, ptm: UNIMOD:43,HexNAc,27, projects: ['PXD007700'], seq: CEDGECICDTGYSGDDCGVRSCPGDCNQR, aa: N\n",
      "O-glyc AA not found for UNIMOD ID - index: 102899, ptm: UNIMOD:43,HexNAc,12, projects: ['PXD007700'], seq: GFGGGGYGGFYNSDGYGGNYNSQGVDWWGN, aa: N\n",
      "O-glyc AA not found for UNIMOD ID - index: 102899, ptm: UNIMOD:43,HexNAc,19, projects: ['PXD007700'], seq: GFGGGGYGGFYNSDGYGGNYNSQGVDWWGN, aa: N\n",
      "O-glyc AA not found for UNIMOD ID - index: 103857, ptm: UNIMOD:43,HexNAc,6, projects: ['PXD007700'], seq: TIQQENLR, aa: N\n",
      "O-glyc AA not found for UNIMOD ID - index: 105166, ptm: UNIMOD:41,Hex,2, projects: ['PXD013112'], seq: FNGTHIPGSPFK, aa: N\n",
      "O-glyc AA not found for UNIMOD ID - index: 105982, ptm: UNIMOD:213,ADP-Ribosyl,10, projects: ['PXD013112'], seq: APGSYLISIKYGGPYHIGGSPFK, aa: K\n",
      "O-glyc AA not found for UNIMOD ID - index: 106024, ptm: UNIMOD:213,ADP-Ribosyl,17, projects: ['PXD013112'], seq: RGAGTGGLGLAVEGPSEAKM, aa: E\n",
      "O-glyc AA not found for UNIMOD ID - index: 106641, ptm: UNIMOD:41,Hex,1, projects: ['PXD001248'], seq: RFITHISKMEPAAVPPQAMNS, aa: R\n",
      "O-glyc AA not found for UNIMOD ID - index: 106641, ptm: UNIMOD:41,Hex,8, projects: ['PXD001248'], seq: RFITHISKMEPAAVPPQAMNS, aa: K\n",
      "O-glyc AA not found for UNIMOD ID - index: 107411, ptm: UNIMOD:43,HexNAc,10, projects: ['PXD007700'], seq: EAYTAVVYHNR, aa: N\n",
      "O-glyc AA not found for UNIMOD ID - index: 111933, ptm: UNIMOD:43,HexNAc,4, projects: ['PXD007700'], seq: VDENMVIDETLDVK, aa: N\n",
      "O-glyc AA not found for UNIMOD ID - index: 112612, ptm: UNIMOD:43,HexNAc,4, projects: ['PXD007700'], seq: SLPNEEIVQK, aa: N\n",
      "O-glyc AA not found for UNIMOD ID - index: 114205, ptm: UNIMOD:43,HexNAc,11, projects: ['PXD013112'], seq: YQGTILSIDDNLQR, aa: N\n",
      "O-glyc AA not found for UNIMOD ID - index: 117198, ptm: UNIMOD:41,Hex,2, projects: ['PXD013112'], seq: QNEGTGKSSWWIINPDGGK, aa: N\n",
      "O-glyc AA not found for UNIMOD ID - index: 118917, ptm: UNIMOD:43,HexNAc,5, projects: ['PXD007700'], seq: VTVTNPDTGR, aa: N\n",
      "O-glyc AA not found for UNIMOD ID - index: 120458, ptm: UNIMOD:43,HexNAc,4, projects: ['PXD007700'], seq: VYCNFTAGGSTCVFPDKK, aa: N\n",
      "O-glyc AA not found for UNIMOD ID - index: 120467, ptm: UNIMOD:43,HexNAc,1, projects: ['PXD007700'], seq: NVTLILDCK, aa: N\n",
      "O-glyc AA not found for UNIMOD ID - index: 120789, ptm: UNIMOD:43,HexNAc,1, projects: ['PXD007700'], seq: NLTVPGSLR, aa: N\n",
      "O-glyc AA not found for UNIMOD ID - index: 120820, ptm: UNIMOD:43,HexNAc,3, projects: ['PXD007700'], seq: GPNCSEPECPGNCHLR, aa: N\n",
      "O-glyc AA not found for UNIMOD ID - index: 120822, ptm: UNIMOD:43,HexNAc,8, projects: ['PXD007700'], seq: LLETVEYNISGAER, aa: N\n",
      "O-glyc AA not found for UNIMOD ID - index: 120824, ptm: UNIMOD:43,HexNAc,2, projects: ['PXD007700'], seq: GNFSTEGCGCVCEPGWK, aa: N\n",
      "O-glyc AA not found for UNIMOD ID - index: 120837, ptm: UNIMOD:43,HexNAc,1, projects: ['PXD007700'], seq: NTTSYVLR, aa: N\n",
      "O-glyc AA not found for UNIMOD ID - index: 123515, ptm: UNIMOD:43,HexNAc,1, projects: ['PXD007700'], seq: NADGFIDLEEYIGDMYSHDGNTDEPEWVK, aa: N\n",
      "O-glyc AA not found for UNIMOD ID - index: 123811, ptm: UNIMOD:43,HexNAc,17, projects: ['PXD007700'], seq: GAYGGGYGGYDDYGGYNDGYGFGSDR, aa: N\n",
      "O-glyc AA not found for UNIMOD ID - index: 125728, ptm: UNIMOD:454,HexN,1, projects: ['PXD001015'], seq: WAYLTINQLLAER, aa: W\n",
      "O-glyc AA not found for UNIMOD ID - index: 128297, ptm: UNIMOD:43,HexNAc,12, projects: ['PXD007700'], seq: QKHSATTVFGANTPIVSCN, aa: N\n",
      "O-glyc AA not found for UNIMOD ID - index: 128901, ptm: UNIMOD:41,Hex,7, projects: ['PXD013112'], seq: IIAEGANGPTTPEADKIFLER, aa: N\n",
      "O-glyc AA not found for UNIMOD ID - index: 128933, ptm: UNIMOD:41,Hex,5, projects: ['PXD013112'], seq: NYTDNELEKITR, aa: N\n",
      "O-glyc AA not found for UNIMOD ID - index: 128952, ptm: UNIMOD:41,Hex,9, projects: ['PXD013112'], seq: AKIIAEGANGPTTPEADKIFLER, aa: N\n",
      "O-glyc AA not found for UNIMOD ID - index: 128967, ptm: UNIMOD:41,Hex,2, projects: ['PXD013112'], seq: INPKNYTDNELEK, aa: N\n",
      "O-glyc AA not found for UNIMOD ID - index: 128967, ptm: UNIMOD:41,Hex,5, projects: ['PXD013112'], seq: INPKNYTDNELEK, aa: N\n",
      "O-glyc AA not found for UNIMOD ID - index: 128977, ptm: UNIMOD:41,Hex,4, projects: ['PXD013112'], seq: DDPNFFKMVEGFF, aa: N\n",
      "O-glyc AA not found for UNIMOD ID - index: 129017, ptm: UNIMOD:41,Hex,8, projects: ['PXD013112'], seq: ADREDDPNFFKMVEGFFDR, aa: N\n",
      "O-glyc AA not found for UNIMOD ID - index: 130120, ptm: UNIMOD:43,HexNAc,9, projects: ['PXD007700'], seq: LMSTEASQNITYHCK, aa: N\n",
      "O-glyc AA not found for UNIMOD ID - index: 130208, ptm: UNIMOD:512,Hex(2),14, projects: ['PXD011377'], seq: GDAGPKGADGSPGK, aa: K\n",
      "O-glyc AA not found for UNIMOD ID - index: 130315, ptm: UNIMOD:43,HexNAc,4, projects: ['PXD007700'], seq: ASQNITYHCK, aa: N\n",
      "O-glyc AA not found for UNIMOD ID - index: 130407, ptm: UNIMOD:43,HexNAc,4, projects: ['PXD007700'], seq: PAGNPGADGQPGAK, aa: N\n",
      "O-glyc AA not found for UNIMOD ID - index: 135635, ptm: UNIMOD:43,HexNAc,16, projects: ['PXD007700'], seq: TSLETQKLDLMAEISNLK, aa: N\n",
      "O-glyc AA not found for UNIMOD ID - index: 136060, ptm: UNIMOD:43,HexNAc,9, projects: ['PXD007700'], seq: PIEHGIITNWDDMEK, aa: N\n",
      "O-glyc AA not found for UNIMOD ID - index: 136177, ptm: UNIMOD:41,Hex,5, projects: ['PXD013112'], seq: LYANNVLSGGTTMYPGIADR, aa: N\n",
      "O-glyc AA not found for UNIMOD ID - index: 136177, ptm: UNIMOD:41,Hex,4, projects: ['PXD013112'], seq: LYANNVLSGGTTMYPGIADR, aa: N\n",
      "O-glyc AA not found for UNIMOD ID - index: 136804, ptm: UNIMOD:43,HexNAc,4, projects: ['PXD007700'], seq: TLINAEDPPMVVVR, aa: N\n",
      "O-glyc AA not found for UNIMOD ID - index: 136904, ptm: UNIMOD:43,HexNAc,2, projects: ['PXD013112'], seq: KNKEQLSDMMMINK, aa: N\n",
      "O-glyc AA not found for UNIMOD ID - index: 137192, ptm: UNIMOD:43,HexNAc,8, projects: ['PXD013112'], seq: KKLAVGDNNSK, aa: N\n",
      "O-glyc AA not found for UNIMOD ID - index: 138117, ptm: UNIMOD:41,Hex,7, projects: ['PXD013112'], seq: NYSPYYNTIDDLKDQIVDLTVGNNK, aa: N\n",
      "O-glyc AA not found for UNIMOD ID - index: 138130, ptm: UNIMOD:41,Hex,10, projects: ['PXD013112'], seq: LEKEIETYHNLLEGGQEDFESSGAGK, aa: N\n",
      "O-glyc AA not found for UNIMOD ID - index: 138143, ptm: UNIMOD:41,Hex,13, projects: ['PXD001017'], seq: VQALEEANNDLENKIQDWYDKK, aa: N\n",
      "O-glyc AA not found for UNIMOD ID - index: 138186, ptm: UNIMOD:41,Hex,10, projects: ['PXD013112'], seq: QEYEQLIAKNR, aa: N\n",
      "O-glyc AA not found for UNIMOD ID - index: 138194, ptm: UNIMOD:41,Hex,7, projects: ['PXD013112'], seq: DVNVEINVAPGK, aa: N\n",
      "O-glyc AA not found for UNIMOD ID - index: 138205, ptm: UNIMOD:41,Hex,11, projects: ['PXD001248'], seq: AALEKSLEDTK, aa: K\n",
      "O-glyc AA not found for UNIMOD ID - index: 138205, ptm: UNIMOD:41,Hex,5, projects: ['PXD001248'], seq: AALEKSLEDTK, aa: K\n",
      "O-glyc AA not found for UNIMOD ID - index: 138216, ptm: UNIMOD:41,Hex,7, projects: ['PXD013112'], seq: DLTKTLNDMR, aa: N\n",
      "O-glyc AA not found for UNIMOD ID - index: 138237, ptm: UNIMOD:41,Hex,11, projects: ['PXD013112'], seq: DKKGPAAIQKNYSPYYNTI, aa: N\n",
      "O-glyc AA not found for UNIMOD ID - index: 138320, ptm: UNIMOD:41,Hex,7, projects: ['PXD013112'], seq: EQLIAKNRK, aa: N\n",
      "O-glyc AA not found for UNIMOD ID - index: 138358, ptm: UNIMOD:41,Hex,6, projects: ['PXD014773'], seq: VDADINGLR, aa: N\n",
      "O-glyc AA not found for UNIMOD ID - index: 138411, ptm: UNIMOD:490,Hep,5, projects: ['PXD001017'], seq: EIECQNQEYSLLLSIK, aa: Q\n",
      "O-glyc AA not found for UNIMOD ID - index: 138481, ptm: UNIMOD:43,HexNAc,2, projects: ['PXD013112'], seq: DNLTMEKSDLEMQYETLQEELMALKK, aa: N\n",
      "O-glyc AA not found for UNIMOD ID - index: 138906, ptm: UNIMOD:43,HexNAc,6, projects: ['PXD007700'], seq: AVDKTNQLMETLK, aa: N\n",
      "O-glyc AA not found for UNIMOD ID - index: 138975, ptm: UNIMOD:43,HexNAc,2, projects: ['PXD007700'], seq: ENKEYSEKCVTSK, aa: N\n",
      "O-glyc AA not found for UNIMOD ID - index: 139225, ptm: UNIMOD:43,HexNAc,7, projects: ['PXD007700'], seq: AKLTSLNK, aa: N\n",
      "O-glyc AA not found for UNIMOD ID - index: 139934, ptm: UNIMOD:43,HexNAc,3, projects: ['PXD007700'], seq: ETNTTSQMQAALLEK, aa: N\n",
      "O-glyc AA not found for UNIMOD ID - index: 139954, ptm: UNIMOD:43,HexNAc,6, projects: ['PXD007700'], seq: RLGALNSSLQLLEDR, aa: N\n",
      "O-glyc AA not found for UNIMOD ID - index: 142162, ptm: UNIMOD:43,HexNAc,11, projects: ['PXD007700'], seq: ENIRQEISIMNCLHHPK, aa: N\n",
      "O-glyc AA not found for UNIMOD ID - index: 142350, ptm: UNIMOD:41,Hex,15, projects: ['PXD013112'], seq: DGGLLTGNEKITMQNLN, aa: N\n",
      "O-glyc AA not found for UNIMOD ID - index: 147330, ptm: UNIMOD:43,HexNAc,3, projects: ['PXD007700'], seq: LANLTQGEDQYYLR, aa: N\n",
      "O-glyc AA not found for UNIMOD ID - index: 147399, ptm: UNIMOD:43,HexNAc,7, projects: ['PXD007700'], seq: KKEDALNETRESETK, aa: N\n",
      "O-glyc AA not found for UNIMOD ID - index: 148210, ptm: UNIMOD:43,HexNAc,5, projects: ['PXD007700'], seq: DLYANTVLSGGSTMYPGIADR, aa: N\n",
      "O-glyc AA not found for UNIMOD ID - index: 152838, ptm: UNIMOD:43,HexNAc,7, projects: ['PXD007700'], seq: VSAVPTNMAAK, aa: N\n",
      "O-glyc AA not found for UNIMOD ID - index: 155805, ptm: UNIMOD:43,HexNAc,4, projects: ['PXD007700'], seq: IMLNTPEDVQALVSGK, aa: N\n",
      "O-glyc AA not found for UNIMOD ID - index: 163505, ptm: UNIMOD:41,Hex,1, projects: ['PXD013112'], seq: NKYEDEINKR, aa: N\n",
      "O-glyc AA not found for UNIMOD ID - index: 163592, ptm: UNIMOD:43,HexNAc,11, projects: ['PXD007700'], seq: TQEKEQIKTLNNK, aa: N\n",
      "O-glyc AA not found for UNIMOD ID - index: 163592, ptm: UNIMOD:43,HexNAc,12, projects: ['PXD007700'], seq: TQEKEQIKTLNNK, aa: N\n",
      "O-glyc AA not found for UNIMOD ID - index: 163638, ptm: UNIMOD:41,Hex,8, projects: ['PXD013112'], seq: EQIKTLNNKFASFI, aa: N\n",
      "O-glyc AA not found for UNIMOD ID - index: 166767, ptm: UNIMOD:41,Hex,3, projects: ['PXD013112'], seq: MGNRGMEELIPLVNK, aa: N\n",
      "O-glyc AA not found for UNIMOD ID - index: 167174, ptm: UNIMOD:43,HexNAc,14, projects: ['PXD007700'], seq: VASELPQDVPEEPNK, aa: N\n",
      "O-glyc AA not found for UNIMOD ID - index: 170212, ptm: UNIMOD:41,Hex,12, projects: ['PXD015646'], seq: MDDDIAALVVDN, aa: N\n",
      "O-glyc AA not found for UNIMOD ID - index: 171381, ptm: UNIMOD:153,Hex(2)HexNAc(2),1, projects: ['PXD015646'], seq: NDSVFTLLPGQGAFVR, aa: N\n",
      "O-glyc AA not found for UNIMOD ID - index: 171381, ptm: UNIMOD:43,HexNAc,1, projects: ['PXD015646'], seq: NDSVFTLLPGQGAFVR, aa: N\n",
      "O-glyc AA not found for UNIMOD ID - index: 171696, ptm: UNIMOD:41,Hex,7, projects: ['PXD001248'], seq: APTEEERESF, aa: R\n",
      "O-glyc AA not found for UNIMOD ID - index: 171761, ptm: UNIMOD:43,HexNAc,5, projects: ['PXD007700'], seq: QILYNYLK, aa: N\n",
      "O-glyc AA not found for UNIMOD ID - index: 172613, ptm: UNIMOD:43,HexNAc,2, projects: ['PXD007700'], seq: VNDGVCDCCDGTDEYNSGVICENTCK, aa: N\n",
      "O-glyc AA not found for UNIMOD ID - index: 172742, ptm: UNIMOD:148,Hex(1)HexNAc(2),5, projects: ['PXD015646'], seq: NLVLNLQDESFTRGSDSLIKGKK, aa: N\n",
      "O-glyc AA not found for UNIMOD ID - index: 172742, ptm: UNIMOD:148,Hex(1)HexNAc(2),1, projects: ['PXD015646'], seq: NLVLNLQDESFTRGSDSLIKGKK, aa: N\n",
      "O-glyc AA not found for UNIMOD ID - index: 173717, ptm: UNIMOD:43,HexNAc,7, projects: ['PXD007700'], seq: SGAIMANLSDTEIQR, aa: N\n",
      "O-glyc AA not found for UNIMOD ID - index: 173825, ptm: UNIMOD:43,HexNAc,1, projects: ['PXD007700'], seq: NMTLFSDLVAEK, aa: N\n",
      "O-glyc AA not found for UNIMOD ID - index: 173826, ptm: UNIMOD:43,HexNAc,10, projects: ['PXD007700'], seq: GTFTDCALANMTEQIR, aa: N\n",
      "O-glyc AA not found for UNIMOD ID - index: 173857, ptm: UNIMOD:43,HexNAc,11, projects: ['PXD007700'], seq: RGTFTDCALANMTEQIR, aa: N\n",
      "O-glyc AA not found for UNIMOD ID - index: 173861, ptm: UNIMOD:43,HexNAc,10, projects: ['PXD007700'], seq: GTFTDCALANMTEQIRQDR, aa: N\n",
      "O-glyc AA not found for UNIMOD ID - index: 173919, ptm: UNIMOD:43,HexNAc,11, projects: ['PXD007700'], seq: RGTFTDCALANMTEQIRQDR, aa: N\n",
      "O-glyc AA not found for UNIMOD ID - index: 174389, ptm: UNIMOD:43,HexNAc,4, projects: ['PXD007700'], seq: CVCNYLGTVQEHCNGSDCQCDK, aa: N\n",
      "O-glyc AA not found for UNIMOD ID - index: 179460, ptm: UNIMOD:43,HexNAc,2, projects: ['PXD007700'], seq: VNNTLSSQISR, aa: N\n",
      "O-glyc AA not found for UNIMOD ID - index: 183714, ptm: UNIMOD:43,HexNAc,5, projects: ['PXD007700'], seq: AAFENWEVEVTFR, aa: N\n",
      "O-glyc AA not found for UNIMOD ID - index: 185005, ptm: UNIMOD:490,Hep,12, projects: ['PXD015646'], seq: IKGKINSITVDNCK, aa: N\n",
      "O-glyc AA not found for UNIMOD ID - index: 185005, ptm: UNIMOD:490,Hep,14, projects: ['PXD015646'], seq: IKGKINSITVDNCK, aa: K\n",
      "O-glyc AA not found for UNIMOD ID - index: 185040, ptm: UNIMOD:490,Hep,11, projects: ['PXD015646'], seq: KGKINSITVDNCK, aa: N\n",
      "O-glyc AA not found for UNIMOD ID - index: 187981, ptm: UNIMOD:43,HexNAc,7, projects: ['PXD013112'], seq: EIRLIGNESKGEHVPGFCLPK, aa: N\n",
      "O-glyc AA not found for UNIMOD ID - index: 189731, ptm: UNIMOD:43,HexNAc,3, projects: ['PXD007700'], seq: SINPDEAVAYGAAVQAAVLMGDK, aa: N\n",
      "O-glyc AA not found for UNIMOD ID - index: 190647, ptm: UNIMOD:43,HexNAc,17, projects: ['PXD007700'], seq: KLEMDLKDLEAHIDSANK, aa: N\n",
      "O-glyc AA not found for UNIMOD ID - index: 191210, ptm: UNIMOD:43,HexNAc,3, projects: ['PXD007700'], seq: TTNLTEEEEKSK, aa: N\n",
      "O-glyc AA not found for UNIMOD ID - index: 191515, ptm: UNIMOD:43,HexNAc,15, projects: ['PXD013112'], seq: DNTAAQKVSHLLGINVTDFTRGI, aa: N\n",
      "O-glyc AA not found for UNIMOD ID - index: 194270, ptm: UNIMOD:43,HexNAc,5, projects: ['PXD007700'], seq: VLPVNVTDYCQLVR, aa: N\n",
      "O-glyc AA not found for UNIMOD ID - index: 194276, ptm: UNIMOD:43,HexNAc,3, projects: ['PXD007700'], seq: CMNGGSCSDDHCLCQK, aa: N\n",
      "O-glyc AA not found for UNIMOD ID - index: 194281, ptm: UNIMOD:43,HexNAc,13, projects: ['PXD007700'], seq: AWGTPCEMCPAVNTSEYK, aa: N\n",
      "O-glyc AA not found for UNIMOD ID - index: 194296, ptm: UNIMOD:43,HexNAc,9, projects: ['PXD007700'], seq: CTDLDECSNGTHMCSQHADCK, aa: N\n",
      "O-glyc AA not found for UNIMOD ID - index: 194311, ptm: UNIMOD:43,HexNAc,1, projects: ['PXD007700'], seq: NCTDIDECR, aa: N\n",
      "O-glyc AA not found for UNIMOD ID - index: 194339, ptm: UNIMOD:43,HexNAc,1, projects: ['PXD007700'], seq: NMCLNGMCINEDGSFK, aa: N\n",
      "O-glyc AA not found for UNIMOD ID - index: 194339, ptm: UNIMOD:43,HexNAc,5, projects: ['PXD007700'], seq: NMCLNGMCINEDGSFK, aa: N\n",
      "O-glyc AA not found for UNIMOD ID - index: 194395, ptm: UNIMOD:43,HexNAc,16, projects: ['PXD007700'], seq: NYYADNQTCDGELLFNMTKK, aa: N\n",
      "O-glyc AA not found for UNIMOD ID - index: 194395, ptm: UNIMOD:43,HexNAc,6, projects: ['PXD007700'], seq: NYYADNQTCDGELLFNMTKK, aa: N\n",
      "O-glyc AA not found for UNIMOD ID - index: 194415, ptm: UNIMOD:43,HexNAc,15, projects: ['PXD007700'], seq: CRCDSGFALDSEERNCTDIDECR, aa: N\n",
      "O-glyc AA not found for UNIMOD ID - index: 194519, ptm: UNIMOD:43,HexNAc,3, projects: ['PXD007700'], seq: CVNTPGDFECKCDEGYESGFMMMK, aa: N\n",
      "O-glyc AA not found for UNIMOD ID - index: 194559, ptm: UNIMOD:43,HexNAc,11, projects: ['PXD007700'], seq: CEDMDECSIRNMCLNGMCINEDGSFK, aa: N\n",
      "O-glyc AA not found for UNIMOD ID - index: 194800, ptm: UNIMOD:43,HexNAc,8, projects: ['PXD007700'], seq: DGFCSRPNMCTCPSGQIAPSCGSR, aa: N\n",
      "O-glyc AA not found for UNIMOD ID - index: 194913, ptm: UNIMOD:43,HexNAc,21, projects: ['PXD007700'], seq: CQDVDECQAIPGLCQGGNCINTVGSFECK, aa: N\n",
      "O-glyc AA not found for UNIMOD ID - index: 194913, ptm: UNIMOD:43,HexNAc,18, projects: ['PXD007700'], seq: CQDVDECQAIPGLCQGGNCINTVGSFECK, aa: N\n",
      "O-glyc AA not found for UNIMOD ID - index: 194960, ptm: UNIMOD:43,HexNAc,8, projects: ['PXD007700'], seq: CAGGECINNQGSYTCQCR, aa: N\n",
      "O-glyc AA not found for UNIMOD ID - index: 194960, ptm: UNIMOD:43,HexNAc,9, projects: ['PXD007700'], seq: CAGGECINNQGSYTCQCR, aa: N\n",
      "O-glyc AA not found for UNIMOD ID - index: 194996, ptm: UNIMOD:43,HexNAc,10, projects: ['PXD007700'], seq: CIDVDECEKNPCAGGECINNQGSYTCQCR, aa: N\n",
      "O-glyc AA not found for UNIMOD ID - index: 195082, ptm: UNIMOD:43,HexNAc,24, projects: ['PXD007700'], seq: TGACQDVDECQAIPGLCQGGNCINTVGS, aa: N\n",
      "O-glyc AA not found for UNIMOD ID - index: 195082, ptm: UNIMOD:43,HexNAc,21, projects: ['PXD007700'], seq: TGACQDVDECQAIPGLCQGGNCINTVGS, aa: N\n",
      "O-glyc AA not found for UNIMOD ID - index: 195088, ptm: UNIMOD:43,HexNAc,8, projects: ['PXD007700'], seq: DECEDNPNICDGGQCTNIPGEYR, aa: N\n",
      "O-glyc AA not found for UNIMOD ID - index: 195088, ptm: UNIMOD:43,HexNAc,6, projects: ['PXD007700'], seq: DECEDNPNICDGGQCTNIPGEYR, aa: N\n",
      "O-glyc AA not found for UNIMOD ID - index: 195088, ptm: UNIMOD:43,HexNAc,17, projects: ['PXD007700'], seq: DECEDNPNICDGGQCTNIPGEYR, aa: N\n",
      "O-glyc AA not found for UNIMOD ID - index: 196854, ptm: UNIMOD:454,HexN,1, projects: ['PXD001014', 'PXD001012', 'PXD001015'], seq: WHHTFYNELR, aa: W\n",
      "O-glyc AA not found for UNIMOD ID - index: 203347, ptm: UNIMOD:43,HexNAc,19, projects: ['PXD007700'], seq: SCEDINECSSSPCSQECANVYGSYQCYCR, aa: N\n",
      "O-glyc AA not found for UNIMOD ID - index: 203392, ptm: UNIMOD:43,HexNAc,22, projects: ['PXD007700'], seq: CVDVDECAPPAEPCGKGHRCVNSP, aa: N\n",
      "O-glyc AA not found for UNIMOD ID - index: 207315, ptm: UNIMOD:41,Hex,11, projects: ['PXD013112'], seq: TIDDLKNQILNLTTDNANILLQIDNAR, aa: N\n",
      "O-glyc AA not found for UNIMOD ID - index: 207315, ptm: UNIMOD:41,Hex,7, projects: ['PXD013112'], seq: TIDDLKNQILNLTTDNANILLQIDNAR, aa: N\n",
      "O-glyc AA not found for UNIMOD ID - index: 207330, ptm: UNIMOD:41,Hex,1, projects: ['PXD001017'], seq: KDAEAWFNEK, aa: K\n",
      "O-glyc AA not found for UNIMOD ID - index: 207334, ptm: UNIMOD:41,Hex,2, projects: ['PXD001017', 'PXD013112'], seq: KNHEEEMKDLR, aa: N\n",
      "O-glyc AA not found for UNIMOD ID - index: 207357, ptm: UNIMOD:41,Hex,7, projects: ['PXD001017', 'PXD013112'], seq: DAEAWFNEKSK, aa: N\n",
      "O-glyc AA not found for UNIMOD ID - index: 207372, ptm: UNIMOD:41,Hex,8, projects: ['PXD013112'], seq: DGGLLSGNEKVTMQNLN, aa: N\n",
      "O-glyc AA not found for UNIMOD ID - index: 207387, ptm: UNIMOD:41,Hex,7, projects: ['PXD013112'], seq: AETECQNTEYQQLLDIKIR, aa: N\n",
      "O-glyc AA not found for UNIMOD ID - index: 207389, ptm: UNIMOD:454,HexN,2, projects: ['PXD001017'], seq: SKGSLGGGFSSGGFSGGSFSR, aa: K\n",
      "O-glyc AA not found for UNIMOD ID - index: 207429, ptm: UNIMOD:41,Hex,5, projects: ['PXD013112'], seq: DDLKNQILNLTT, aa: N\n",
      "O-glyc AA not found for UNIMOD ID - index: 207438, ptm: UNIMOD:41,Hex,7, projects: ['PXD013112'], seq: TIDDLKNQILNLTTD, aa: N\n",
      "O-glyc AA not found for UNIMOD ID - index: 207450, ptm: UNIMOD:41,Hex,7, projects: ['PXD013112'], seq: DAEAWFNEKSKELTTEI, aa: N\n",
      "O-glyc AA not found for UNIMOD ID - index: 209037, ptm: UNIMOD:43,HexNAc,4, projects: ['PXD007700'], seq: ASQNITYHCK, aa: N\n",
      "O-glyc AA not found for UNIMOD ID - index: 211615, ptm: UNIMOD:43,HexNAc,6, projects: ['PXD007700'], seq: SEISENTDASGK, aa: N\n",
      "O-glyc AA not found for UNIMOD ID - index: 214013, ptm: UNIMOD:43,HexNAc,4, projects: ['PXD007700'], seq: EAGNITTDGYEILGK, aa: N\n",
      "O-glyc AA not found for UNIMOD ID - index: 214019, ptm: UNIMOD:43,HexNAc,6, projects: ['PXD007700'], seq: MLEAYNLTEK, aa: N\n",
      "O-glyc AA not found for UNIMOD ID - index: 214021, ptm: UNIMOD:43,HexNAc,1, projects: ['PXD007700'], seq: NLQVYNATSNSLTVK, aa: N\n",
      "O-glyc AA not found for UNIMOD ID - index: 214021, ptm: UNIMOD:43,HexNAc,6, projects: ['PXD007700'], seq: NLQVYNATSNSLTVK, aa: N\n",
      "O-glyc AA not found for UNIMOD ID - index: 214170, ptm: UNIMOD:41,Hex,31, projects: ['PXD001248'], seq: TGTPGLPGPPGPMGPPGDRGFTGKDGAMGPR, aa: R\n",
      "O-glyc AA not found for UNIMOD ID - index: 214210, ptm: UNIMOD:43,HexNAc,3, projects: ['PXD007700'], seq: VVNYRVVYR, aa: N\n",
      "O-glyc AA not found for UNIMOD ID - index: 214345, ptm: UNIMOD:43,HexNAc,10, projects: ['PXD007700'], seq: PGDFGYCDLNYCEEAVEEETGDGLDEDSDR, aa: N\n",
      "O-glyc AA not found for UNIMOD ID - index: 215967, ptm: UNIMOD:41,Hex,1, projects: ['PXD001248'], seq: KLNVTEQEKI, aa: K\n",
      "O-glyc AA not found for UNIMOD ID - index: 215967, ptm: UNIMOD:41,Hex,9, projects: ['PXD001248'], seq: KLNVTEQEKI, aa: K\n",
      "O-glyc AA not found for UNIMOD ID - index: 219225, ptm: UNIMOD:43,HexNAc,7, projects: ['PXD013112'], seq: KLGEMWNNTAADDK, aa: N\n",
      "O-glyc AA not found for UNIMOD ID - index: 220110, ptm: UNIMOD:43,HexNAc,1, projects: ['PXD007700'], seq: NCVDHDECTTTNMCLNGMCINEDGSFK, aa: N\n",
      "O-glyc AA not found for UNIMOD ID - index: 220110, ptm: UNIMOD:43,HexNAc,12, projects: ['PXD007700'], seq: NCVDHDECTTTNMCLNGMCINEDGSFK, aa: N\n",
      "O-glyc AA not found for UNIMOD ID - index: 220121, ptm: UNIMOD:43,HexNAc,1, projects: ['PXD007700'], seq: NCTDIDECR, aa: N\n",
      "O-glyc AA not found for UNIMOD ID - index: 220201, ptm: UNIMOD:43,HexNAc,13, projects: ['PXD007700'], seq: CNSGFALDMEERNCTDIDECR, aa: N\n",
      "O-glyc AA not found for UNIMOD ID - index: 220201, ptm: UNIMOD:43,HexNAc,2, projects: ['PXD007700'], seq: CNSGFALDMEERNCTDIDECR, aa: N\n",
      "O-glyc AA not found for UNIMOD ID - index: 220230, ptm: UNIMOD:43,HexNAc,14, projects: ['PXD007700'], seq: SYNGTTCENELPFNVTK, aa: N\n",
      "O-glyc AA not found for UNIMOD ID - index: 220260, ptm: UNIMOD:43,HexNAc,1, projects: ['PXD007700'], seq: NMCLNGMCINEDGSFK, aa: N\n",
      "O-glyc AA not found for UNIMOD ID - index: 220260, ptm: UNIMOD:43,HexNAc,5, projects: ['PXD007700'], seq: NMCLNGMCINEDGSFK, aa: N\n",
      "O-glyc AA not found for UNIMOD ID - index: 220288, ptm: UNIMOD:43,HexNAc,14, projects: ['PXD007700'], seq: SYNGTTCENELPFNVTKR, aa: N\n",
      "O-glyc AA not found for UNIMOD ID - index: 225061, ptm: UNIMOD:43,HexNAc,7, projects: ['PXD007700'], seq: QLEMEKNAEPTSK, aa: N\n",
      "O-glyc AA not found for UNIMOD ID - index: 225068, ptm: UNIMOD:43,HexNAc,6, projects: ['PXD007700'], seq: VSLLDNGTLTVR, aa: N\n",
      "O-glyc AA not found for UNIMOD ID - index: 225825, ptm: UNIMOD:43,HexNAc,7, projects: ['PXD001017'], seq: DIVEYYNDSNGSHVLQGR, aa: N\n",
      "O-glyc AA not found for UNIMOD ID - index: 230578, ptm: UNIMOD:43,HexNAc,11, projects: ['PXD007700'], seq: LDAPTNLQFVNETDSTVLVR, aa: N\n",
      "O-glyc AA not found for UNIMOD ID - index: 230578, ptm: UNIMOD:43,HexNAc,6, projects: ['PXD007700'], seq: LDAPTNLQFVNETDSTVLVR, aa: N\n",
      "O-glyc AA not found for UNIMOD ID - index: 230587, ptm: UNIMOD:43,HexNAc,13, projects: ['PXD007700'], seq: DQCIVDDITYNVNDTFHK, aa: N\n",
      "O-glyc AA not found for UNIMOD ID - index: 230613, ptm: UNIMOD:43,HexNAc,5, projects: ['PXD007700'], seq: GGNSNGALCHFPFLYNNHNYTDCTSEGR, aa: N\n",
      "O-glyc AA not found for UNIMOD ID - index: 230613, ptm: UNIMOD:43,HexNAc,19, projects: ['PXD007700'], seq: GGNSNGALCHFPFLYNNHNYTDCTSEGR, aa: N\n",
      "O-glyc AA not found for UNIMOD ID - index: 230646, ptm: UNIMOD:43,HexNAc,9, projects: ['PXD007700'], seq: RHEEGHMLNCTCFGQGR, aa: N\n",
      "O-glyc AA not found for UNIMOD ID - index: 230660, ptm: UNIMOD:43,HexNAc,8, projects: ['PXD007700'], seq: HEEGHMLNCTCFGQGR, aa: N\n",
      "O-glyc AA not found for UNIMOD ID - index: 230672, ptm: UNIMOD:43,HexNAc,1, projects: ['PXD007700'], seq: NRCNDQDTR, aa: N\n",
      "O-glyc AA not found for UNIMOD ID - index: 230672, ptm: UNIMOD:43,HexNAc,4, projects: ['PXD007700'], seq: NRCNDQDTR, aa: N\n",
      "O-glyc AA not found for UNIMOD ID - index: 230687, ptm: UNIMOD:43,HexNAc,13, projects: ['PXD007700'], seq: DQCIVDDITYNVNDTFHKR, aa: N\n",
      "O-glyc AA not found for UNIMOD ID - index: 230691, ptm: UNIMOD:43,HexNAc,5, projects: ['PXD007700'], seq: GGNSNGALCHFPFLYNNHNYTDCTSEGRR, aa: N\n",
      "O-glyc AA not found for UNIMOD ID - index: 230691, ptm: UNIMOD:43,HexNAc,19, projects: ['PXD007700'], seq: GGNSNGALCHFPFLYNNHNYTDCTSEGRR, aa: N\n",
      "O-glyc AA not found for UNIMOD ID - index: 230751, ptm: UNIMOD:43,HexNAc,1, projects: ['PXD007700'], seq: NCESKPEAEETCFDKYTGNTYR, aa: N\n",
      "O-glyc AA not found for UNIMOD ID - index: 230781, ptm: UNIMOD:43,HexNAc,8, projects: ['PXD007700'], seq: LQCICTGNGR, aa: N\n",
      "O-glyc AA not found for UNIMOD ID - index: 230922, ptm: UNIMOD:43,HexNAc,4, projects: ['PXD007700'], seq: APTNLQFVNETDSTVLVR, aa: N\n",
      "O-glyc AA not found for UNIMOD ID - index: 230922, ptm: UNIMOD:43,HexNAc,9, projects: ['PXD007700'], seq: APTNLQFVNETDSTVLVR, aa: N\n",
      "O-glyc AA not found for UNIMOD ID - index: 230937, ptm: UNIMOD:43,HexNAc,2, projects: ['PXD007700'], seq: LNCTCFGQGR, aa: N\n",
      "O-glyc AA not found for UNIMOD ID - index: 230987, ptm: UNIMOD:43,HexNAc,2, projects: ['PXD007700'], seq: ENGQMMSCTCLGNGK, aa: N\n",
      "O-glyc AA not found for UNIMOD ID - index: 231068, ptm: UNIMOD:43,HexNAc,20, projects: ['PXD007700'], seq: RGGNSNGALCHFPFLYNNHNYTDCTSEGR, aa: N\n",
      "O-glyc AA not found for UNIMOD ID - index: 231070, ptm: UNIMOD:43,HexNAc,2, projects: ['PXD007700'], seq: HNYTDCTSEGRR, aa: N\n",
      "O-glyc AA not found for UNIMOD ID - index: 231130, ptm: UNIMOD:43,HexNAc,5, projects: ['PXD007700'], seq: LQFVNETDSTVLVR, aa: N\n",
      "O-glyc AA not found for UNIMOD ID - index: 231161, ptm: UNIMOD:43,HexNAc,4, projects: ['PXD007700'], seq: ATYNVIVEALKDQQR, aa: N\n",
      "O-glyc AA not found for UNIMOD ID - index: 231189, ptm: UNIMOD:43,HexNAc,7, projects: ['PXD007700'], seq: EEGHMLNCTCFGQGR, aa: N\n",
      "O-glyc AA not found for UNIMOD ID - index: 232546, ptm: UNIMOD:41,Hex,4, projects: ['PXD013112'], seq: LCENIAGHLKDAQIFIQK, aa: N\n",
      "O-glyc AA not found for UNIMOD ID - index: 232561, ptm: UNIMOD:41,Hex,7, projects: ['PXD013112'], seq: TDQGIKNLSVEDAAR, aa: N\n",
      "O-glyc AA not found for UNIMOD ID - index: 232675, ptm: UNIMOD:41,Hex,6, projects: ['PXD013112'], seq: YTEDGNWDLVGNNTPIFFIR, aa: N\n",
      "O-glyc AA not found for UNIMOD ID - index: 237488, ptm: UNIMOD:43,HexNAc,7, projects: ['PXD007700'], seq: KADAAANQGKK, aa: N\n",
      "O-glyc AA not found for UNIMOD ID - index: 239495, ptm: UNIMOD:41,Hex,7, projects: ['PXD015646'], seq: LSDALLNKLI, aa: N\n",
      "O-glyc AA not found for UNIMOD ID - index: 239676, ptm: UNIMOD:43,HexNAc,1, projects: ['PXD013112'], seq: NCVPEIADTLGAVAK, aa: N\n",
      "O-glyc AA not found for UNIMOD ID - index: 240119, ptm: UNIMOD:43,HexNAc,15, projects: ['PXD007700'], seq: PYCEICEMFGHWATNCNDDETF, aa: N\n",
      "O-glyc AA not found for UNIMOD ID - index: 240180, ptm: UNIMOD:43,HexNAc,7, projects: ['PXD007700'], seq: HLEIEKNAESSK, aa: N\n",
      "O-glyc AA not found for UNIMOD ID - index: 254300, ptm: UNIMOD:41,Hex,15, projects: ['PXD001248'], seq: KVPQVSTPTLVEVSR, aa: R\n",
      "O-glyc AA not found for UNIMOD ID - index: 254300, ptm: UNIMOD:41,Hex,1, projects: ['PXD001248'], seq: KVPQVSTPTLVEVSR, aa: K\n",
      "O-glyc AA not found for UNIMOD ID - index: 254302, ptm: UNIMOD:41,Hex,6, projects: ['PXD001248'], seq: VFDEFKPLVEEPQNLIK, aa: K\n",
      "O-glyc AA not found for UNIMOD ID - index: 254312, ptm: UNIMOD:41,Hex,2, projects: ['PXD001248'], seq: FKDLGEENFK, aa: K\n",
      "O-glyc AA not found for UNIMOD ID - index: 254313, ptm: UNIMOD:41,Hex,27, projects: ['PXD001248'], seq: SHCIAEVENDEMPADLPSLAADFVESK, aa: K\n",
      "O-glyc AA not found for UNIMOD ID - index: 254315, ptm: UNIMOD:41,Hex,16, projects: ['PXD001248'], seq: RPCFSALEVDETYVPK, aa: K\n",
      "O-glyc AA not found for UNIMOD ID - index: 254315, ptm: UNIMOD:41,Hex,1, projects: ['PXD001248'], seq: RPCFSALEVDETYVPK, aa: R\n",
      "O-glyc AA not found for UNIMOD ID - index: 254318, ptm: UNIMOD:41,Hex,23, projects: ['PXD001248'], seq: LVRPEVDVMCTAFHDNEETFLKK, aa: K\n",
      "O-glyc AA not found for UNIMOD ID - index: 254318, ptm: UNIMOD:41,Hex,22, projects: ['PXD001248'], seq: LVRPEVDVMCTAFHDNEETFLKK, aa: K\n",
      "O-glyc AA not found for UNIMOD ID - index: 254319, ptm: UNIMOD:41,Hex,17, projects: ['PXD001248'], seq: SLHTLFGDKLCTVATLR, aa: R\n",
      "O-glyc AA not found for UNIMOD ID - index: 254319, ptm: UNIMOD:41,Hex,9, projects: ['PXD001248'], seq: SLHTLFGDKLCTVATLR, aa: K\n",
      "O-glyc AA not found for UNIMOD ID - index: 254326, ptm: UNIMOD:41,Hex,22, projects: ['PXD001248'], seq: LVRPEVDVMCTAFHDNEETFLK, aa: K\n",
      "O-glyc AA not found for UNIMOD ID - index: 254331, ptm: UNIMOD:41,Hex,1, projects: ['PXD001248'], seq: KQTALVELVK, aa: K\n",
      "O-glyc AA not found for UNIMOD ID - index: 254338, ptm: UNIMOD:41,Hex,13, projects: ['PXD001248'], seq: QEPERNECFLQHKDDNPNLPR, aa: K\n",
      "O-glyc AA not found for UNIMOD ID - index: 254338, ptm: UNIMOD:41,Hex,5, projects: ['PXD001248'], seq: QEPERNECFLQHKDDNPNLPR, aa: R\n",
      "O-glyc AA not found for UNIMOD ID - index: 254341, ptm: UNIMOD:41,Hex,4, projects: ['PXD001248'], seq: ADDKETCFAEEGKK, aa: K\n",
      "O-glyc AA not found for UNIMOD ID - index: 254343, ptm: UNIMOD:41,Hex,13, projects: ['PXD001248'], seq: QNCELFEQLGEYKFQNALLVR, aa: K\n",
      "O-glyc AA not found for UNIMOD ID - index: 254345, ptm: UNIMOD:41,Hex,8, projects: ['PXD001248'], seq: NECFLQHKDDNPNLPR, aa: K\n",
      "O-glyc AA not found for UNIMOD ID - index: 254347, ptm: UNIMOD:41,Hex,1, projects: ['PXD001248'], seq: KLVAASQAALGL, aa: K\n",
      "O-glyc AA not found for UNIMOD ID - index: 254349, ptm: UNIMOD:41,Hex,1, projects: ['PXD001248'], seq: KYLYEIAR, aa: K\n",
      "O-glyc AA not found for UNIMOD ID - index: 254350, ptm: UNIMOD:41,Hex,12, projects: ['PXD001248'], seq: AAFTECCQAADKAACLLPK, aa: K\n",
      "O-glyc AA not found for UNIMOD ID - index: 254352, ptm: UNIMOD:41,Hex,15, projects: ['PXD001248'], seq: AEFAEVSKLVTDLTK, aa: K\n",
      "O-glyc AA not found for UNIMOD ID - index: 254352, ptm: UNIMOD:41,Hex,8, projects: ['PXD001248'], seq: AEFAEVSKLVTDLTK, aa: K\n",
      "O-glyc AA not found for UNIMOD ID - index: 254353, ptm: UNIMOD:41,Hex,6, projects: ['PXD001248'], seq: NYAEAKDVFLGMFLYEYAR, aa: K\n",
      "O-glyc AA not found for UNIMOD ID - index: 254354, ptm: UNIMOD:41,Hex,2, projects: ['PXD001248'], seq: YKAAFTECCQAADK, aa: K\n",
      "O-glyc AA not found for UNIMOD ID - index: 254357, ptm: UNIMOD:41,Hex,27, projects: ['PXD001248'], seq: SHCIAEVENDEMPADLPSLAADFVESKDVCK, aa: K\n",
      "O-glyc AA not found for UNIMOD ID - index: 254357, ptm: UNIMOD:41,Hex,31, projects: ['PXD001248'], seq: SHCIAEVENDEMPADLPSLAADFVESKDVCK, aa: K\n",
      "O-glyc AA not found for UNIMOD ID - index: 254358, ptm: UNIMOD:41,Hex,13, projects: ['PXD001248'], seq: TCVADESAENCDKSLHTLFGDKLCTVATLR, aa: K\n",
      "O-glyc AA not found for UNIMOD ID - index: 254359, ptm: UNIMOD:41,Hex,16, projects: ['PXD001248'], seq: RHPYFYAPELLFFAKR, aa: R\n",
      "O-glyc AA not found for UNIMOD ID - index: 254359, ptm: UNIMOD:41,Hex,15, projects: ['PXD001248'], seq: RHPYFYAPELLFFAKR, aa: K\n",
      "O-glyc AA not found for UNIMOD ID - index: 254362, ptm: UNIMOD:41,Hex,4, projects: ['PXD001248'], seq: EQLKAVMDDFAAFVEK, aa: K\n",
      "O-glyc AA not found for UNIMOD ID - index: 254364, ptm: UNIMOD:41,Hex,3, projects: ['PXD001248'], seq: AFKAWAVAR, aa: K\n",
      "O-glyc AA not found for UNIMOD ID - index: 254367, ptm: UNIMOD:41,Hex,3, projects: ['PXD001248'], seq: LAKTYETTLEK, aa: K\n",
      "O-glyc AA not found for UNIMOD ID - index: 254369, ptm: UNIMOD:41,Hex,14, projects: ['PXD001248'], seq: LDELRDEGKASSAK, aa: K\n",
      "O-glyc AA not found for UNIMOD ID - index: 254369, ptm: UNIMOD:41,Hex,9, projects: ['PXD001248'], seq: LDELRDEGKASSAK, aa: K\n",
      "O-glyc AA not found for UNIMOD ID - index: 254370, ptm: UNIMOD:41,Hex,3, projects: ['PXD001248'], seq: YTKKVPQVSTPTLVEVSR, aa: K\n",
      "O-glyc AA not found for UNIMOD ID - index: 254370, ptm: UNIMOD:41,Hex,4, projects: ['PXD001248'], seq: YTKKVPQVSTPTLVEVSR, aa: K\n",
      "O-glyc AA not found for UNIMOD ID - index: 254372, ptm: UNIMOD:41,Hex,13, projects: ['PXD001248'], seq: TCVADESAENCDKSLHTLFGDK, aa: K\n",
      "O-glyc AA not found for UNIMOD ID - index: 254372, ptm: UNIMOD:41,Hex,22, projects: ['PXD001248'], seq: TCVADESAENCDKSLHTLFGDK, aa: K\n",
      "O-glyc AA not found for UNIMOD ID - index: 254373, ptm: UNIMOD:41,Hex,3, projects: ['PXD001248'], seq: FPKAEFAEVSK, aa: K\n",
      "O-glyc AA not found for UNIMOD ID - index: 254374, ptm: UNIMOD:41,Hex,4, projects: ['PXD001248'], seq: LSQRFPKAEFAEVSK, aa: R\n",
      "O-glyc AA not found for UNIMOD ID - index: 254374, ptm: UNIMOD:41,Hex,7, projects: ['PXD001248'], seq: LSQRFPKAEFAEVSK, aa: K\n",
      "O-glyc AA not found for UNIMOD ID - index: 254375, ptm: UNIMOD:41,Hex,2, projects: ['PXD001248'], seq: YKAAFTECCQAADKAACLLPK, aa: K\n",
      "O-glyc AA not found for UNIMOD ID - index: 254378, ptm: UNIMOD:41,Hex,8, projects: ['PXD001248'], seq: TYETTLEKCCAAADPHECYAK, aa: K\n",
      "O-glyc AA not found for UNIMOD ID - index: 254381, ptm: UNIMOD:41,Hex,14, projects: ['PXD001248'], seq: HPYFYAPELLFFAKR, aa: K\n",
      "O-glyc AA not found for UNIMOD ID - index: 254381, ptm: UNIMOD:41,Hex,15, projects: ['PXD001248'], seq: HPYFYAPELLFFAKR, aa: R\n",
      "O-glyc AA not found for UNIMOD ID - index: 254382, ptm: UNIMOD:41,Hex,27, projects: ['PXD001248'], seq: MPCAEDYLSVVLNQLCVLHEKTPVSDR, aa: R\n",
      "O-glyc AA not found for UNIMOD ID - index: 254382, ptm: UNIMOD:41,Hex,21, projects: ['PXD001248'], seq: MPCAEDYLSVVLNQLCVLHEKTPVSDR, aa: K\n",
      "O-glyc AA not found for UNIMOD ID - index: 254384, ptm: UNIMOD:41,Hex,4, projects: ['PXD001248'], seq: DVCKNYAEAK, aa: K\n",
      "O-glyc AA not found for UNIMOD ID - index: 254390, ptm: UNIMOD:41,Hex,27, projects: ['PXD001248'], seq: SHCIAEVENDEMPADLPSLAADFVESKDVCKNYAEAK, aa: K\n",
      "O-glyc AA not found for UNIMOD ID - index: 254390, ptm: UNIMOD:41,Hex,37, projects: ['PXD001248'], seq: SHCIAEVENDEMPADLPSLAADFVESKDVCKNYAEAK, aa: K\n",
      "O-glyc AA not found for UNIMOD ID - index: 254390, ptm: UNIMOD:41,Hex,31, projects: ['PXD001248'], seq: SHCIAEVENDEMPADLPSLAADFVESKDVCKNYAEAK, aa: K\n",
      "O-glyc AA not found for UNIMOD ID - index: 254398, ptm: UNIMOD:41,Hex,3, projects: ['PXD001248'], seq: QIKKQTALVELVK, aa: K\n",
      "O-glyc AA not found for UNIMOD ID - index: 254398, ptm: UNIMOD:41,Hex,4, projects: ['PXD001248'], seq: QIKKQTALVELVK, aa: K\n",
      "O-glyc AA not found for UNIMOD ID - index: 254399, ptm: UNIMOD:41,Hex,3, projects: ['PXD001248'], seq: ATKEQLKAVMDDFAAFVEK, aa: K\n",
      "O-glyc AA not found for UNIMOD ID - index: 254399, ptm: UNIMOD:41,Hex,7, projects: ['PXD001248'], seq: ATKEQLKAVMDDFAAFVEK, aa: K\n",
      "O-glyc AA not found for UNIMOD ID - index: 254406, ptm: UNIMOD:41,Hex,3, projects: ['PXD001248'], seq: VTKCCTESLVNR, aa: K\n",
      "O-glyc AA not found for UNIMOD ID - index: 254411, ptm: UNIMOD:41,Hex,13, projects: ['PXD001248'], seq: CCAAADPHECYAKVFDEFKPLVEEPQNLIK, aa: K\n",
      "O-glyc AA not found for UNIMOD ID - index: 254411, ptm: UNIMOD:41,Hex,19, projects: ['PXD001248'], seq: CCAAADPHECYAKVFDEFKPLVEEPQNLIK, aa: K\n",
      "O-glyc AA not found for UNIMOD ID - index: 254414, ptm: UNIMOD:41,Hex,7, projects: ['PXD001248'], seq: AACLLPKLDELRDEGK, aa: K\n",
      "O-glyc AA not found for UNIMOD ID - index: 254419, ptm: UNIMOD:41,Hex,10, projects: ['PXD001248'], seq: LVNEVTEFAKTCVADESAENCDK, aa: K\n",
      "O-glyc AA not found for UNIMOD ID - index: 254422, ptm: UNIMOD:41,Hex,6, projects: ['PXD001248'], seq: CASLQKFGER, aa: K\n",
      "O-glyc AA not found for UNIMOD ID - index: 254452, ptm: UNIMOD:41,Hex,7, projects: ['PXD001248'], seq: AACLLPKLDELR, aa: K\n",
      "O-glyc AA not found for UNIMOD ID - index: 254471, ptm: UNIMOD:41,Hex,5, projects: ['PXD001248'], seq: ADLAKYICENQDSISSK, aa: K\n",
      "O-glyc AA not found for UNIMOD ID - index: 254485, ptm: UNIMOD:41,Hex,2, projects: ['PXD001248'], seq: LKCASLQKFGER, aa: K\n",
      "O-glyc AA not found for UNIMOD ID - index: 254570, ptm: UNIMOD:41,Hex,1, projects: ['PXD001248'], seq: KAVMDDFAAF, aa: K\n",
      "O-glyc AA not found for UNIMOD ID - index: 254607, ptm: UNIMOD:41,Hex,23, projects: ['PXD001248'], seq: LVRPEVDVMCTAFHDNEETFLKKYLYEIAR, aa: K\n",
      "O-glyc AA not found for UNIMOD ID - index: 254607, ptm: UNIMOD:41,Hex,22, projects: ['PXD001248'], seq: LVRPEVDVMCTAFHDNEETFLKKYLYEIAR, aa: K\n",
      "O-glyc AA not found for UNIMOD ID - index: 254607, ptm: UNIMOD:41,Hex,30, projects: ['PXD001248'], seq: LVRPEVDVMCTAFHDNEETFLKKYLYEIAR, aa: R\n",
      "O-glyc AA not found for UNIMOD ID - index: 254631, ptm: UNIMOD:41,Hex,2, projects: ['PXD001248'], seq: PKATKEQLKAVMDDFAAFVEK, aa: K\n",
      "O-glyc AA not found for UNIMOD ID - index: 254631, ptm: UNIMOD:41,Hex,5, projects: ['PXD001248'], seq: PKATKEQLKAVMDDFAAFVEK, aa: K\n",
      "O-glyc AA not found for UNIMOD ID - index: 254631, ptm: UNIMOD:41,Hex,9, projects: ['PXD001248'], seq: PKATKEQLKAVMDDFAAFVEK, aa: K\n",
      "O-glyc AA not found for UNIMOD ID - index: 254691, ptm: UNIMOD:41,Hex,13, projects: ['PXD001248'], seq: RETYGEMADCCAKQEPERNECF, aa: K\n",
      "O-glyc AA not found for UNIMOD ID - index: 254691, ptm: UNIMOD:41,Hex,18, projects: ['PXD001248'], seq: RETYGEMADCCAKQEPERNECF, aa: R\n",
      "O-glyc AA not found for UNIMOD ID - index: 254695, ptm: UNIMOD:41,Hex,11, projects: ['PXD001248'], seq: ICENQDSISSKL, aa: K\n",
      "O-glyc AA not found for UNIMOD ID - index: 254705, ptm: UNIMOD:41,Hex,3, projects: ['PXD001248'], seq: TKKVPQVSTPTLVEVSRNL, aa: K\n",
      "O-glyc AA not found for UNIMOD ID - index: 254705, ptm: UNIMOD:41,Hex,2, projects: ['PXD001248'], seq: TKKVPQVSTPTLVEVSRNL, aa: K\n",
      "O-glyc AA not found for UNIMOD ID - index: 254749, ptm: UNIMOD:41,Hex,14, projects: ['PXD001248'], seq: SQRFPKAEFAEVSKL, aa: K\n",
      "O-glyc AA not found for UNIMOD ID - index: 254749, ptm: UNIMOD:41,Hex,6, projects: ['PXD001248'], seq: SQRFPKAEFAEVSKL, aa: K\n",
      "O-glyc AA not found for UNIMOD ID - index: 254758, ptm: UNIMOD:41,Hex,8, projects: ['PXD001248'], seq: AKVFDEFKPLVEEPQNL, aa: K\n",
      "O-glyc AA not found for UNIMOD ID - index: 254761, ptm: UNIMOD:41,Hex,2, projects: ['PXD001248'], seq: AKTCVADESAENCDKSLH, aa: K\n",
      "O-glyc AA not found for UNIMOD ID - index: 254762, ptm: UNIMOD:41,Hex,14, projects: ['PXD001248'], seq: KTCVADESAENCDK, aa: K\n",
      "O-glyc AA not found for UNIMOD ID - index: 254766, ptm: UNIMOD:41,Hex,9, projects: ['PXD001248'], seq: KDLGEENFKAL, aa: K\n",
      "O-glyc AA not found for UNIMOD ID - index: 254783, ptm: UNIMOD:41,Hex,6, projects: ['PXD001248'], seq: ETTLEKCCAAADPHECY, aa: K\n",
      "O-glyc AA not found for UNIMOD ID - index: 254786, ptm: UNIMOD:41,Hex,15, projects: ['PXD001248'], seq: AKTCVADESAENCDKSLHTLF, aa: K\n",
      "O-glyc AA not found for UNIMOD ID - index: 254853, ptm: UNIMOD:41,Hex,12, projects: ['PXD001248'], seq: SALEVDETYVPKEF, aa: K\n",
      "O-glyc AA not found for UNIMOD ID - index: 254859, ptm: UNIMOD:41,Hex,3, projects: ['PXD001248'], seq: DDKETCFAEEGK, aa: K\n",
      "O-glyc AA not found for UNIMOD ID - index: 254866, ptm: UNIMOD:41,Hex,2, projects: ['PXD001248'], seq: IKQNCELFEQLGEY, aa: K\n",
      "O-glyc AA not found for UNIMOD ID - index: 254897, ptm: UNIMOD:41,Hex,13, projects: ['PXD001248'], seq: FSALEVDETYVPKEF, aa: K\n",
      "O-glyc AA not found for UNIMOD ID - index: 254926, ptm: UNIMOD:41,Hex,1, projects: ['PXD001248'], seq: RRPCFSALEVDETYVPKEF, aa: R\n",
      "O-glyc AA not found for UNIMOD ID - index: 254926, ptm: UNIMOD:41,Hex,2, projects: ['PXD001248'], seq: RRPCFSALEVDETYVPKEF, aa: R\n",
      "O-glyc AA not found for UNIMOD ID - index: 254926, ptm: UNIMOD:41,Hex,17, projects: ['PXD001248'], seq: RRPCFSALEVDETYVPKEF, aa: K\n",
      "O-glyc AA not found for UNIMOD ID - index: 254933, ptm: UNIMOD:41,Hex,14, projects: ['PXD001248'], seq: GEMADCCAKQEPERNECFLQHKDDNPNLPR, aa: R\n",
      "O-glyc AA not found for UNIMOD ID - index: 254933, ptm: UNIMOD:41,Hex,22, projects: ['PXD001248'], seq: GEMADCCAKQEPERNECFLQHKDDNPNLPR, aa: K\n",
      "O-glyc AA not found for UNIMOD ID - index: 254933, ptm: UNIMOD:41,Hex,9, projects: ['PXD001248'], seq: GEMADCCAKQEPERNECFLQHKDDNPNLPR, aa: K\n",
      "O-glyc AA not found for UNIMOD ID - index: 254954, ptm: UNIMOD:41,Hex,6, projects: ['PXD001248'], seq: NALLVRYTKKVPQVSTPTLVEVSR, aa: R\n",
      "O-glyc AA not found for UNIMOD ID - index: 254954, ptm: UNIMOD:41,Hex,9, projects: ['PXD001248'], seq: NALLVRYTKKVPQVSTPTLVEVSR, aa: K\n",
      "O-glyc AA not found for UNIMOD ID - index: 254954, ptm: UNIMOD:41,Hex,10, projects: ['PXD001248'], seq: NALLVRYTKKVPQVSTPTLVEVSR, aa: K\n",
      "O-glyc AA not found for UNIMOD ID - index: 254977, ptm: UNIMOD:41,Hex,19, projects: ['PXD001248'], seq: VNRRPCFSALEVDETYVPKEF, aa: K\n",
      "O-glyc AA not found for UNIMOD ID - index: 254999, ptm: UNIMOD:41,Hex,11, projects: ['PXD001248'], seq: LQQCPFEDHVKLVNEVTEF, aa: K\n",
      "O-glyc AA not found for UNIMOD ID - index: 255028, ptm: UNIMOD:41,Hex,22, projects: ['PXD001248'], seq: RMPCAEDYLSVVLNQLCVLHEKTPVSD, aa: K\n",
      "O-glyc AA not found for UNIMOD ID - index: 255107, ptm: UNIMOD:41,Hex,2, projects: ['PXD001248'], seq: AKVFDEFKPL, aa: K\n",
      "O-glyc AA not found for UNIMOD ID - index: 255107, ptm: UNIMOD:41,Hex,8, projects: ['PXD001248'], seq: AKVFDEFKPL, aa: K\n",
      "O-glyc AA not found for UNIMOD ID - index: 255181, ptm: UNIMOD:41,Hex,2, projects: ['PXD001248'], seq: HRFKDLGEENFK, aa: R\n",
      "O-glyc AA not found for UNIMOD ID - index: 255181, ptm: UNIMOD:41,Hex,4, projects: ['PXD001248'], seq: HRFKDLGEENFK, aa: K\n",
      "O-glyc AA not found for UNIMOD ID - index: 255199, ptm: UNIMOD:41,Hex,3, projects: ['PXD001248'], seq: LPRLVRPEVDVMCTAFHDNEETFLK, aa: R\n",
      "O-glyc AA not found for UNIMOD ID - index: 255199, ptm: UNIMOD:41,Hex,6, projects: ['PXD001248'], seq: LPRLVRPEVDVMCTAFHDNEETFLK, aa: R\n",
      "O-glyc AA not found for UNIMOD ID - index: 255223, ptm: UNIMOD:41,Hex,3, projects: ['PXD001248'], seq: VPKEFNAETFTFHADICTLSEK, aa: K\n",
      "O-glyc AA not found for UNIMOD ID - index: 255276, ptm: UNIMOD:41,Hex,27, projects: ['PXD001248'], seq: SHCIAEVENDEMPADLPSLAADFVESKDVCKNYAEAKDVFLGMFLYEYA, aa: K\n",
      "O-glyc AA not found for UNIMOD ID - index: 255276, ptm: UNIMOD:41,Hex,37, projects: ['PXD001248'], seq: SHCIAEVENDEMPADLPSLAADFVESKDVCKNYAEAKDVFLGMFLYEYA, aa: K\n",
      "O-glyc AA not found for UNIMOD ID - index: 255276, ptm: UNIMOD:41,Hex,31, projects: ['PXD001248'], seq: SHCIAEVENDEMPADLPSLAADFVESKDVCKNYAEAKDVFLGMFLYEYA, aa: K\n",
      "O-glyc AA not found for UNIMOD ID - index: 255384, ptm: UNIMOD:41,Hex,6, projects: ['PXD001248'], seq: LLRLAKTY, aa: K\n",
      "O-glyc AA not found for UNIMOD ID - index: 255396, ptm: UNIMOD:41,Hex,4, projects: ['PXD001248'], seq: CCEKPLLEKSHCIAEVENDEMPADLPSLAADFVESK, aa: K\n",
      "O-glyc AA not found for UNIMOD ID - index: 255396, ptm: UNIMOD:41,Hex,9, projects: ['PXD001248'], seq: CCEKPLLEKSHCIAEVENDEMPADLPSLAADFVESK, aa: K\n",
      "O-glyc AA not found for UNIMOD ID - index: 255405, ptm: UNIMOD:41,Hex,3, projects: ['PXD001248'], seq: EAKRMPCAEDYLSVVLNQLCVLHEK, aa: K\n",
      "O-glyc AA not found for UNIMOD ID - index: 255405, ptm: UNIMOD:41,Hex,4, projects: ['PXD001248'], seq: EAKRMPCAEDYLSVVLNQLCVLHEK, aa: R\n",
      "O-glyc AA not found for UNIMOD ID - index: 255416, ptm: UNIMOD:41,Hex,26, projects: ['PXD001248'], seq: PCAEDYLSVVLNQLCVLHEKTPVSDR, aa: R\n",
      "O-glyc AA not found for UNIMOD ID - index: 255416, ptm: UNIMOD:41,Hex,20, projects: ['PXD001248'], seq: PCAEDYLSVVLNQLCVLHEKTPVSDR, aa: K\n",
      "O-glyc AA not found for UNIMOD ID - index: 255468, ptm: UNIMOD:41,Hex,1, projects: ['PXD001248'], seq: RYKAAFTECCQAADKAACL, aa: R\n",
      "O-glyc AA not found for UNIMOD ID - index: 255468, ptm: UNIMOD:41,Hex,3, projects: ['PXD001248'], seq: RYKAAFTECCQAADKAACL, aa: K\n",
      "O-glyc AA not found for UNIMOD ID - index: 255802, ptm: UNIMOD:43,HexNAc,5, projects: ['PXD007700'], seq: DATCNCDYNCQHYMECCPDFK, aa: N\n",
      "O-glyc AA not found for UNIMOD ID - index: 259915, ptm: UNIMOD:41,Hex,14, projects: ['PXD001248'], seq: VSHLNLVDLAGSERAAQTGAAGVRLK, aa: R\n",
      "O-glyc AA not found for UNIMOD ID - index: 259915, ptm: UNIMOD:41,Hex,24, projects: ['PXD001248'], seq: VSHLNLVDLAGSERAAQTGAAGVRLK, aa: R\n",
      "O-glyc AA not found for UNIMOD ID - index: 259915, ptm: UNIMOD:41,Hex,26, projects: ['PXD001248'], seq: VSHLNLVDLAGSERAAQTGAAGVRLK, aa: K\n",
      "O-glyc AA not found for UNIMOD ID - index: 261497, ptm: UNIMOD:41,Hex,14, projects: ['PXD001248'], seq: PPPPPPPGPMKKDKDQDSITGEK, aa: K\n",
      "O-glyc AA not found for UNIMOD ID - index: 261497, ptm: UNIMOD:41,Hex,12, projects: ['PXD001248'], seq: PPPPPPPGPMKKDKDQDSITGEK, aa: K\n",
      "O-glyc AA not found for UNIMOD ID - index: 261497, ptm: UNIMOD:41,Hex,11, projects: ['PXD001248'], seq: PPPPPPPGPMKKDKDQDSITGEK, aa: K\n",
      "O-glyc AA not found for UNIMOD ID - index: 264672, ptm: UNIMOD:1303,NeuAc,5, projects: ['PXD013112'], seq: PIDGNFFTYTR, aa: N\n",
      "O-glyc AA not found for UNIMOD ID - index: 264779, ptm: UNIMOD:1303,NeuAc,13, projects: ['PXD013112'], seq: LIKEAGFPPGVVNIVPGYGPTAGAAISSHM, aa: N\n",
      "O-glyc AA not found for UNIMOD ID - index: 269703, ptm: UNIMOD:43,HexNAc,9, projects: ['PXD013112'], seq: SYFVEWIPNNVK, aa: N\n",
      "O-glyc AA not found for UNIMOD ID - index: 269708, ptm: UNIMOD:43,HexNAc,12, projects: ['PXD013112'], seq: MSMKEVDEQMLNVQNKNSSYFVEWIPNNVK, aa: N\n",
      "O-glyc AA not found for UNIMOD ID - index: 270043, ptm: UNIMOD:213,ADP-Ribosyl,4, projects: ['PXD013112'], seq: EGAELVDSVLDVVRK, aa: E\n",
      "O-glyc AA not found for UNIMOD ID - index: 274104, ptm: UNIMOD:41,Hex,5, projects: ['PXD013112'], seq: TNAENEFVTIKK, aa: N\n",
      "O-glyc AA not found for UNIMOD ID - index: 274111, ptm: UNIMOD:512,Hex(2),2, projects: ['PXD001017'], seq: SKAEAESLYQSK, aa: K\n",
      "O-glyc AA not found for UNIMOD ID - index: 274118, ptm: UNIMOD:41,Hex,3, projects: ['PXD013112'], seq: SLNNQFASFIDKVR, aa: N\n",
      "O-glyc AA not found for UNIMOD ID - index: 274118, ptm: UNIMOD:41,Hex,4, projects: ['PXD013112'], seq: SLNNQFASFIDKVR, aa: N\n",
      "O-glyc AA not found for UNIMOD ID - index: 274119, ptm: UNIMOD:41,Hex,1, projects: ['PXD001017', 'PXD013112'], seq: NKYEDEINKR, aa: N\n",
      "O-glyc AA not found for UNIMOD ID - index: 274125, ptm: UNIMOD:43,HexNAc,8, projects: ['PXD013112'], seq: MSGECAPNVSVSVSTSHTTISGGGSR, aa: N\n",
      "O-glyc AA not found for UNIMOD ID - index: 274128, ptm: UNIMOD:41,Hex,7, projects: ['PXD001017', 'PXD013112'], seq: LDSELKNMQDMVEDYR, aa: N\n",
      "O-glyc AA not found for UNIMOD ID - index: 274134, ptm: UNIMOD:41,Hex,2, projects: ['PXD013112'], seq: LNDLEDALQQAKEDLAR, aa: N\n",
      "O-glyc AA not found for UNIMOD ID - index: 274138, ptm: UNIMOD:41,Hex,1, projects: ['PXD013112'], seq: NSKIEISELNR, aa: N\n",
      "O-glyc AA not found for UNIMOD ID - index: 274140, ptm: UNIMOD:512,Hex(2),10, projects: ['PXD001017'], seq: AEAESLYQSKYEELQITAGR, aa: K\n",
      "O-glyc AA not found for UNIMOD ID - index: 274142, ptm: UNIMOD:41,Hex,5, projects: ['PXD013112'], seq: KQISNLQQSISDAEQR, aa: N\n",
      "O-glyc AA not found for UNIMOD ID - index: 274144, ptm: UNIMOD:41,Hex,1, projects: ['PXD013112'], seq: NKYEDEINK, aa: N\n",
      "O-glyc AA not found for UNIMOD ID - index: 274152, ptm: UNIMOD:41,Hex,3, projects: ['PXD013112'], seq: GENALKDAK, aa: N\n",
      "O-glyc AA not found for UNIMOD ID - index: 274171, ptm: UNIMOD:41,Hex,1, projects: ['PXD013112'], seq: NMQDMVEDYRNKYEDEINK, aa: N\n",
      "O-glyc AA not found for UNIMOD ID - index: 274171, ptm: UNIMOD:41,Hex,11, projects: ['PXD013112'], seq: NMQDMVEDYRNKYEDEINK, aa: N\n",
      "O-glyc AA not found for UNIMOD ID - index: 274226, ptm: UNIMOD:41,Hex,7, projects: ['PXD013112'], seq: EQIKSLNNQFASFIDK, aa: N\n",
      "O-glyc AA not found for UNIMOD ID - index: 274226, ptm: UNIMOD:41,Hex,8, projects: ['PXD013112'], seq: EQIKSLNNQFASFIDK, aa: N\n",
      "O-glyc AA not found for UNIMOD ID - index: 274237, ptm: UNIMOD:41,Hex,11, projects: ['PXD013112'], seq: DEINKRTNAENEFVTIKK, aa: N\n",
      "O-glyc AA not found for UNIMOD ID - index: 274237, ptm: UNIMOD:41,Hex,4, projects: ['PXD013112'], seq: DEINKRTNAENEFVTIKK, aa: N\n",
      "O-glyc AA not found for UNIMOD ID - index: 274237, ptm: UNIMOD:41,Hex,8, projects: ['PXD013112'], seq: DEINKRTNAENEFVTIKK, aa: N\n",
      "O-glyc AA not found for UNIMOD ID - index: 274259, ptm: UNIMOD:41,Hex,9, projects: ['PXD001017', 'PXD013112'], seq: EREQIKSLNNQFASFIDK, aa: N\n",
      "O-glyc AA not found for UNIMOD ID - index: 274277, ptm: UNIMOD:41,Hex,7, projects: ['PXD013112'], seq: DYQELMNTKLAL, aa: N\n",
      "O-glyc AA not found for UNIMOD ID - index: 274279, ptm: UNIMOD:41,Hex,6, projects: ['PXD013112'], seq: DSELKNMQ, aa: N\n",
      "O-glyc AA not found for UNIMOD ID - index: 274377, ptm: UNIMOD:41,Hex,12, projects: ['PXD013112'], seq: SREREQIKSLNNQFASFIDK, aa: N\n",
      "O-glyc AA not found for UNIMOD ID - index: 275502, ptm: UNIMOD:43,HexNAc,13, projects: ['PXD007700'], seq: RSVMDATQIAGLNCLR, aa: N\n",
      "O-glyc AA not found for UNIMOD ID - index: 279810, ptm: UNIMOD:43,HexNAc,13, projects: ['PXD007700'], seq: ACTEAEFACHSYNECVALEYR, aa: N\n",
      "O-glyc AA not found for UNIMOD ID - index: 279854, ptm: UNIMOD:43,HexNAc,16, projects: ['PXD007700'], seq: SLTQGSLIVGDLAPVNGTSQGK, aa: N\n",
      "O-glyc AA not found for UNIMOD ID - index: 279943, ptm: UNIMOD:43,HexNAc,12, projects: ['PXD007700'], seq: IQGEEIVFHDLNLTAHGISHCPTCR, aa: N\n",
      "O-glyc AA not found for UNIMOD ID - index: 279964, ptm: UNIMOD:43,HexNAc,10, projects: ['PXD007700'], seq: IESSSASLANGH, aa: N\n",
      "O-glyc AA not found for UNIMOD ID - index: 280273, ptm: UNIMOD:43,HexNAc,12, projects: ['PXD007700'], seq: GFGGGGYGGFYNSDGYGGNYNSQGVDWWGN, aa: N\n",
      "O-glyc AA not found for UNIMOD ID - index: 280273, ptm: UNIMOD:43,HexNAc,19, projects: ['PXD007700'], seq: GFGGGGYGGFYNSDGYGGNYNSQGVDWWGN, aa: N\n",
      "O-glyc AA not found for UNIMOD ID - index: 282498, ptm: UNIMOD:43,HexNAc,3, projects: ['PXD007700'], seq: MANGTADVR, aa: N\n",
      "O-glyc AA not found for UNIMOD ID - index: 283618, ptm: UNIMOD:43,HexNAc,11, projects: ['PXD015646'], seq: LRLLSTEGSQNI, aa: N\n",
      "O-glyc AA not found for UNIMOD ID - index: 285269, ptm: UNIMOD:43,HexNAc,2, projects: ['PXD007700'], seq: VNGFSCTCPSGFSGSTCQLDVDECASTPCR, aa: N\n",
      "O-glyc AA not found for UNIMOD ID - index: 285500, ptm: UNIMOD:43,HexNAc,6, projects: ['PXD013112'], seq: LATQSNEITIPVTFESR, aa: N\n",
      "olinked_peptides=418, unusual_olinked_peptides=378, non_olinked_peptides=292204\n"
     ]
    }
   ],
   "source": [
    "# Filter out peptides that are not unique to humans\n",
    "# Split peptides into non-O-glycosylated, O-glycosylated and unusual O-glycosylated (seemingly errors?)\n",
    "\n",
    "olinked_peptides = []\n",
    "unusual_olinked_peptides = []\n",
    "non_olinked_peptides = []\n",
    "\n",
    "# PRIDE projects seen for each peptide type\n",
    "olinked_projects = set()\n",
    "unusual_projects = set()\n",
    "non_olinked_projects = set()\n",
    "\n",
    "for i, peptide in enumerate(wanted_peptides):\n",
    "    seq = peptide['peptideSequence']\n",
    "    has_oglyc_ptm = False\n",
    "    has_unusual_oglyc_ptm = False\n",
    "    for ptm in peptide['ptmsMap']:\n",
    "        unusual_oglyc_ptm = False\n",
    "        unimod_id, *unimod_name, unimod_pos = ptm.split(',')\n",
    "        unimod_id = int(unimod_id.split(':')[1])\n",
    "        unimod_name = ','.join(unimod_name)\n",
    "        unimod_pos = int(unimod_pos)\n",
    "\n",
    "        if unimod_id in olinked_mods:\n",
    "            if unimod_pos < 1 or unimod_pos > len(seq):\n",
    "                unusual_oglyc_ptm = True\n",
    "                print(f\"terminal O-glyc - index: {i}, ptm: {ptm}, projects: {peptide['ptmsMap'][ptm]}, seq: {seq}\")\n",
    "            elif seq[unimod_pos-1] not in olinked_mods[unimod_id]:\n",
    "                unusual_oglyc_ptm = True\n",
    "                print(f\"O-glyc AA not found for UNIMOD ID - index: {i}, ptm: {ptm}, projects: {peptide['ptmsMap'][ptm]}, seq: {seq}, aa: {seq[unimod_pos-1]}\")\n",
    "            elif seq[unimod_pos-1] not in cf.ALLOWED_AA:\n",
    "                unusual_oglyc_ptm = True\n",
    "                print(f\"non-allowed AA O-glyc - index: {i}, ptm: {ptm}, projects: {peptide['ptmsMap'][ptm]}, seq: {seq}, aa: {seq[unimod_pos-1]}\")\n",
    "            \n",
    "            if unusual_oglyc_ptm:\n",
    "                has_unusual_oglyc_ptm = True\n",
    "                unusual_projects.update(peptide['ptmsMap'][ptm])\n",
    "            else:\n",
    "                has_oglyc_ptm = True\n",
    "                olinked_projects.update(peptide['ptmsMap'][ptm])\n",
    "            \n",
    "    \n",
    "    if has_unusual_oglyc_ptm:\n",
    "        unusual_olinked_peptides.append(peptide)\n",
    "    elif has_oglyc_ptm:\n",
    "        olinked_peptides.append(peptide)\n",
    "    else:\n",
    "        non_olinked_peptides.append(peptide)\n",
    "\n",
    "print(f\"olinked_peptides={len(olinked_peptides)}, unusual_olinked_peptides={len(unusual_olinked_peptides)}, non_olinked_peptides={len(non_olinked_peptides)}\")"
   ]
  },
  {
   "cell_type": "markdown",
   "id": "b4493cd9-aab0-4a13-b130-2252e426a07e",
   "metadata": {},
   "source": [
    "### Convert peptides to Dataframe"
   ]
  },
  {
   "cell_type": "code",
   "execution_count": 16,
   "id": "74f7bbae-be79-4f0e-94ba-960737282d15",
   "metadata": {},
   "outputs": [],
   "source": [
    "def get_peptide_data():\n",
    "    for peptide in non_olinked_peptides:\n",
    "        # We filter out peptides that are:\n",
    "        #     seen in other organisms, seen in too few projects,\n",
    "        #     has too few PSMs or no glycosylatable amino acids\n",
    "        if (\n",
    "            peptide['isMultiOrganism']\n",
    "            or len(peptide['projectAccessions']) < PEPTIDE_MINIMUM_PROJECTS\n",
    "            or peptide['psmsCount'] < PEPTIDE_MINIMUM_PSMS\n",
    "            or not any(aa in peptide['peptideSequence'] for aa in cf.ALLOWED_AA)\n",
    "        ):\n",
    "            continue\n",
    "        \n",
    "        yield peptide['proteinAccession'], str(uuid.uuid4()), peptide['peptideSequence'], np.nan, np.nan, peptide['psmsCount'], len(peptide['projectAccessions'])\n",
    "\n",
    "df = pd.DataFrame(get_peptide_data(), columns=['uniprot', 'peptide_id', 'peptide', 'peptide_start', 'peptide_end', 'psmsCount', 'projectAccessionsCount'])\n",
    "n_original_rows = len(df)"
   ]
  },
  {
   "cell_type": "code",
   "execution_count": 17,
   "id": "0f6bc8e2-1da3-40f7-8c1d-4552f0a38bf2",
   "metadata": {},
   "outputs": [
    {
     "data": {
      "text/html": [
       "<div>\n",
       "<style scoped>\n",
       "    .dataframe tbody tr th:only-of-type {\n",
       "        vertical-align: middle;\n",
       "    }\n",
       "\n",
       "    .dataframe tbody tr th {\n",
       "        vertical-align: top;\n",
       "    }\n",
       "\n",
       "    .dataframe thead th {\n",
       "        text-align: right;\n",
       "    }\n",
       "</style>\n",
       "<table border=\"1\" class=\"dataframe\">\n",
       "  <thead>\n",
       "    <tr style=\"text-align: right;\">\n",
       "      <th></th>\n",
       "      <th>uniprot</th>\n",
       "      <th>peptide_id</th>\n",
       "      <th>peptide</th>\n",
       "      <th>peptide_start</th>\n",
       "      <th>peptide_end</th>\n",
       "      <th>psmsCount</th>\n",
       "      <th>projectAccessionsCount</th>\n",
       "    </tr>\n",
       "  </thead>\n",
       "  <tbody>\n",
       "    <tr>\n",
       "      <th>0</th>\n",
       "      <td>Q9NUQ6</td>\n",
       "      <td>b68b7cc9-9031-4695-a1b3-18967f2bf5d6</td>\n",
       "      <td>MVSSLPSTADPSHQTMPANK</td>\n",
       "      <td>NaN</td>\n",
       "      <td>NaN</td>\n",
       "      <td>501</td>\n",
       "      <td>27</td>\n",
       "    </tr>\n",
       "    <tr>\n",
       "      <th>1</th>\n",
       "      <td>Q9NUQ6</td>\n",
       "      <td>219d81ec-7a9c-4b6b-b071-8abe9261c22b</td>\n",
       "      <td>DSSSTDSANEKPALIPR</td>\n",
       "      <td>NaN</td>\n",
       "      <td>NaN</td>\n",
       "      <td>441</td>\n",
       "      <td>25</td>\n",
       "    </tr>\n",
       "    <tr>\n",
       "      <th>2</th>\n",
       "      <td>Q9NUQ6</td>\n",
       "      <td>d6f45eba-c073-47b3-836f-31edb80e23d2</td>\n",
       "      <td>TPEAPAHSEKPR</td>\n",
       "      <td>NaN</td>\n",
       "      <td>NaN</td>\n",
       "      <td>284</td>\n",
       "      <td>42</td>\n",
       "    </tr>\n",
       "    <tr>\n",
       "      <th>3</th>\n",
       "      <td>Q9NUQ6</td>\n",
       "      <td>c32ed75f-c291-4881-96fe-f15cb3b75039</td>\n",
       "      <td>SDGLQWSAEQPCNPSKPK</td>\n",
       "      <td>NaN</td>\n",
       "      <td>NaN</td>\n",
       "      <td>271</td>\n",
       "      <td>14</td>\n",
       "    </tr>\n",
       "    <tr>\n",
       "      <th>4</th>\n",
       "      <td>Q9NUQ6</td>\n",
       "      <td>40a287aa-6ae3-404c-a1e6-7680087a41b1</td>\n",
       "      <td>AVQAFVDGSAIQVLK</td>\n",
       "      <td>NaN</td>\n",
       "      <td>NaN</td>\n",
       "      <td>246</td>\n",
       "      <td>23</td>\n",
       "    </tr>\n",
       "    <tr>\n",
       "      <th>...</th>\n",
       "      <td>...</td>\n",
       "      <td>...</td>\n",
       "      <td>...</td>\n",
       "      <td>...</td>\n",
       "      <td>...</td>\n",
       "      <td>...</td>\n",
       "      <td>...</td>\n",
       "    </tr>\n",
       "    <tr>\n",
       "      <th>12799</th>\n",
       "      <td>P17661</td>\n",
       "      <td>1696e9b3-d875-4058-af15-b1a880cd7a9f</td>\n",
       "      <td>RTFGGAPGFPLGSPLSSPVFPR</td>\n",
       "      <td>NaN</td>\n",
       "      <td>NaN</td>\n",
       "      <td>236</td>\n",
       "      <td>29</td>\n",
       "    </tr>\n",
       "    <tr>\n",
       "      <th>12800</th>\n",
       "      <td>P17661</td>\n",
       "      <td>da0d6e71-85aa-4b37-b4fa-9173a2cc3902</td>\n",
       "      <td>FASEASGYQDNIARLEEEIR</td>\n",
       "      <td>NaN</td>\n",
       "      <td>NaN</td>\n",
       "      <td>114</td>\n",
       "      <td>13</td>\n",
       "    </tr>\n",
       "    <tr>\n",
       "      <th>12801</th>\n",
       "      <td>P17661</td>\n",
       "      <td>9165343a-0688-4c44-a407-4ceaa30d4c5d</td>\n",
       "      <td>LLEGEESRINLPIQTYSALNFR</td>\n",
       "      <td>NaN</td>\n",
       "      <td>NaN</td>\n",
       "      <td>105</td>\n",
       "      <td>4</td>\n",
       "    </tr>\n",
       "    <tr>\n",
       "      <th>12802</th>\n",
       "      <td>P17661</td>\n",
       "      <td>6ea2fa64-913b-43a0-b149-deb5985a67d0</td>\n",
       "      <td>INLPIQTYSALNFRETSPEQR</td>\n",
       "      <td>NaN</td>\n",
       "      <td>NaN</td>\n",
       "      <td>104</td>\n",
       "      <td>5</td>\n",
       "    </tr>\n",
       "    <tr>\n",
       "      <th>12803</th>\n",
       "      <td>Q9Y6M7</td>\n",
       "      <td>9e302139-595b-47b1-9ad2-f5f23df79d1b</td>\n",
       "      <td>LAPAVLLTGLTEVPVPTR</td>\n",
       "      <td>NaN</td>\n",
       "      <td>NaN</td>\n",
       "      <td>362</td>\n",
       "      <td>30</td>\n",
       "    </tr>\n",
       "  </tbody>\n",
       "</table>\n",
       "<p>12804 rows × 7 columns</p>\n",
       "</div>"
      ],
      "text/plain": [
       "      uniprot                            peptide_id                 peptide  \\\n",
       "0      Q9NUQ6  b68b7cc9-9031-4695-a1b3-18967f2bf5d6    MVSSLPSTADPSHQTMPANK   \n",
       "1      Q9NUQ6  219d81ec-7a9c-4b6b-b071-8abe9261c22b       DSSSTDSANEKPALIPR   \n",
       "2      Q9NUQ6  d6f45eba-c073-47b3-836f-31edb80e23d2            TPEAPAHSEKPR   \n",
       "3      Q9NUQ6  c32ed75f-c291-4881-96fe-f15cb3b75039      SDGLQWSAEQPCNPSKPK   \n",
       "4      Q9NUQ6  40a287aa-6ae3-404c-a1e6-7680087a41b1         AVQAFVDGSAIQVLK   \n",
       "...       ...                                   ...                     ...   \n",
       "12799  P17661  1696e9b3-d875-4058-af15-b1a880cd7a9f  RTFGGAPGFPLGSPLSSPVFPR   \n",
       "12800  P17661  da0d6e71-85aa-4b37-b4fa-9173a2cc3902    FASEASGYQDNIARLEEEIR   \n",
       "12801  P17661  9165343a-0688-4c44-a407-4ceaa30d4c5d  LLEGEESRINLPIQTYSALNFR   \n",
       "12802  P17661  6ea2fa64-913b-43a0-b149-deb5985a67d0   INLPIQTYSALNFRETSPEQR   \n",
       "12803  Q9Y6M7  9e302139-595b-47b1-9ad2-f5f23df79d1b      LAPAVLLTGLTEVPVPTR   \n",
       "\n",
       "       peptide_start  peptide_end  psmsCount  projectAccessionsCount  \n",
       "0                NaN          NaN        501                      27  \n",
       "1                NaN          NaN        441                      25  \n",
       "2                NaN          NaN        284                      42  \n",
       "3                NaN          NaN        271                      14  \n",
       "4                NaN          NaN        246                      23  \n",
       "...              ...          ...        ...                     ...  \n",
       "12799            NaN          NaN        236                      29  \n",
       "12800            NaN          NaN        114                      13  \n",
       "12801            NaN          NaN        105                       4  \n",
       "12802            NaN          NaN        104                       5  \n",
       "12803            NaN          NaN        362                      30  \n",
       "\n",
       "[12804 rows x 7 columns]"
      ]
     },
     "metadata": {},
     "output_type": "display_data"
    },
    {
     "name": "stdout",
     "output_type": "stream",
     "text": [
      "<class 'pandas.core.frame.DataFrame'>\n",
      "RangeIndex: 12804 entries, 0 to 12803\n",
      "Data columns (total 7 columns):\n",
      " #   Column                  Non-Null Count  Dtype  \n",
      "---  ------                  --------------  -----  \n",
      " 0   uniprot                 12804 non-null  object \n",
      " 1   peptide_id              12804 non-null  object \n",
      " 2   peptide                 12804 non-null  object \n",
      " 3   peptide_start           0 non-null      float64\n",
      " 4   peptide_end             0 non-null      float64\n",
      " 5   psmsCount               12804 non-null  int64  \n",
      " 6   projectAccessionsCount  12804 non-null  int64  \n",
      "dtypes: float64(2), int64(2), object(3)\n",
      "memory usage: 700.3+ KB\n"
     ]
    },
    {
     "data": {
      "text/plain": [
       "None"
      ]
     },
     "metadata": {},
     "output_type": "display_data"
    }
   ],
   "source": [
    "display(df)\n",
    "display(df.info())"
   ]
  },
  {
   "cell_type": "markdown",
   "id": "f53e70eb-1be4-4d30-81ee-9f5109bdec89",
   "metadata": {
    "id": "c056d3a3-8cf7-4bd6-b279-9b1923bd0099",
    "tags": []
   },
   "source": [
    "## Mapping to UniProt sequences"
   ]
  },
  {
   "cell_type": "markdown",
   "id": "6de7cc4a-d8fb-4744-b2d6-b6a9afb72787",
   "metadata": {
    "id": "d1ab2fa9-8fb2-44d2-ade4-ca7c0b6d0e68"
   },
   "source": [
    "### Fetch any new UniProt ID Mappings"
   ]
  },
  {
   "cell_type": "code",
   "execution_count": 18,
   "id": "edbdb8f4-7a3d-42db-9a1c-30431c20461c",
   "metadata": {
    "id": "a051ecba-79b7-414b-8790-114940c8a68c",
    "tags": []
   },
   "outputs": [
    {
     "data": {
      "application/vnd.jupyter.widget-view+json": {
       "model_id": "3b6f35f7c5b246e3a02a428339228611",
       "version_major": 2,
       "version_minor": 0
      },
      "text/plain": [
       "Downloading to /home/jakob/Cloudvault_new/Data/uniprot/knowledgebase-docs-only2021_01.tar.gz:   0%|          |…"
      ]
     },
     "metadata": {},
     "output_type": "display_data"
    },
    {
     "data": {
      "application/vnd.jupyter.widget-view+json": {
       "model_id": "adee94b4e0814cefa975b4f6a334878b",
       "version_major": 2,
       "version_minor": 0
      },
      "text/plain": [
       "Extracting ID mappings from /home/jakob/Cloudvault_new/Data/uniprot/uniprot_sprot2021_01.dat.bgz:   0%|       …"
      ]
     },
     "metadata": {},
     "output_type": "display_data"
    }
   ],
   "source": [
    "mappings_dict = get_uniprot_id_mappings(set(df['uniprot'].unique()))"
   ]
  },
  {
   "cell_type": "markdown",
   "id": "d10601f3-6125-41fa-a544-6522696fa7d1",
   "metadata": {
    "id": "4034fa2e-a65a-422a-9f3c-5741ce1632b7"
   },
   "source": [
    "### Check if any IDs didn't map to uniprot or have been merged/demerged/deleted and change them accordingly"
   ]
  },
  {
   "cell_type": "code",
   "execution_count": 19,
   "id": "2c99e78a-6ee5-4cbc-9b1e-410ce9fd8c07",
   "metadata": {
    "id": "997b8b10-4712-4b58-8639-b87afb579866",
    "outputId": "e5ce19ef-68a4-41ce-ea52-8444ccee01e3",
    "scrolled": true,
    "tags": []
   },
   "outputs": [
    {
     "data": {
      "text/plain": [
       "{'new_mapping_ids': set(), 'non_mapping_ids': set()}"
      ]
     },
     "execution_count": 19,
     "metadata": {},
     "output_type": "execute_result"
    }
   ],
   "source": [
    "check_uniprot_idmapping(set(df['uniprot'].unique()), mappings_dict)"
   ]
  },
  {
   "cell_type": "code",
   "execution_count": 20,
   "id": "72705813-7e78-48d1-b03d-902b60c08024",
   "metadata": {
    "id": "f812d052-d441-42c5-98f3-c46374c289ac",
    "scrolled": true,
    "tags": []
   },
   "outputs": [],
   "source": [
    "set_new_uniprot_ids(df, mappings_dict)"
   ]
  },
  {
   "cell_type": "code",
   "execution_count": 21,
   "id": "8e24435c-e574-4760-9d5a-146b93b69023",
   "metadata": {
    "id": "8973b095-f160-4717-97d8-5c2f24727b5a"
   },
   "outputs": [],
   "source": [
    "valid_uniprot_rows = display_invalid_rows(df, \"Deleted 'uniprot' IDs\", valid_uniprot)\n",
    "df = df[valid_uniprot_rows].reset_index(drop=True)"
   ]
  },
  {
   "cell_type": "markdown",
   "id": "6914af45-91af-42b9-a194-e6c71db9e453",
   "metadata": {
    "id": "069af531-e96b-4e40-b8e9-403afeef406f",
    "tags": []
   },
   "source": [
    "### Fetch UniProt sequences"
   ]
  },
  {
   "cell_type": "code",
   "execution_count": 22,
   "id": "eda04d80-8099-4576-b39c-310bd1c0c155",
   "metadata": {
    "id": "a46e5e1e-2ca5-401c-84e5-d26ba5a00592",
    "outputId": "5076db0a-2b7c-4e31-beb9-41a7e9dadb05"
   },
   "outputs": [
    {
     "data": {
      "application/vnd.jupyter.widget-view+json": {
       "model_id": "674d8bec7a6e484ca43ef57457c41a84",
       "version_major": 2,
       "version_minor": 0
      },
      "text/plain": [
       "Extracting data-specific Uniprot entries from /home/jakob/Cloudvault_new/Data/uniprot/uniprot_sprot2021_01.dat…"
      ]
     },
     "metadata": {},
     "output_type": "display_data"
    },
    {
     "data": {
      "application/vnd.jupyter.widget-view+json": {
       "model_id": "259758a470f54d118d1c18f67d591680",
       "version_major": 2,
       "version_minor": 0
      },
      "text/plain": [
       "Extracting data-specific Uniprot entry isoforms from /home/jakob/Cloudvault_new/Data/uniprot/uniprot_sprot_var…"
      ]
     },
     "metadata": {},
     "output_type": "display_data"
    },
    {
     "name": "stdout",
     "output_type": "stream",
     "text": [
      "Uniprot sequences - Number of entries: 1225, Number of isoforms: 3497\n"
     ]
    }
   ],
   "source": [
    "get_uniprot_entries(set(df['uniprot'].unique()))\n",
    "get_uniprot_isoforms(set(df['uniprot'].unique()))\n",
    "entry_isoforms, isoform_seqs = get_entry_isoforms_dicts()\n",
    "print(f\"Uniprot sequences - Number of entries: {len(entry_isoforms)}, Number of isoforms: {len(isoform_seqs)}\")"
   ]
  },
  {
   "cell_type": "markdown",
   "id": "caa137bc-1b60-433b-9328-23d74a550af5",
   "metadata": {
    "id": "d78c8b2a-6d5f-4cdf-9920-e8a3d783b0a7",
    "tags": []
   },
   "source": [
    "### Recover missing peptide ranges"
   ]
  },
  {
   "cell_type": "code",
   "execution_count": 23,
   "id": "e073304b-168d-47ba-b49d-3254ce29e485",
   "metadata": {
    "id": "d2001104-86cd-4b8c-8e69-7893774405ff"
   },
   "outputs": [
    {
     "name": "stdout",
     "output_type": "stream",
     "text": [
      "Missing peptide ranges before: 12804 100.00%\n",
      "Missing peptide ranges after: 122 0.95%\n"
     ]
    }
   ],
   "source": [
    "missing_peptide_range_count = (df['peptide'].notna() & df['peptide_start'].isna() & df['peptide_end'].isna()).sum()\n",
    "print(f\"Missing peptide ranges before: {missing_peptide_range_count} {missing_peptide_range_count/df.shape[0]*100:.2f}%\")\n",
    "\n",
    "set_correct_peptide_ranges(df, isoform_seqs)\n",
    "\n",
    "missing_peptide_range_count = (df['peptide'].notna() & df['peptide_start'].isna() & df['peptide_end'].isna()).sum()\n",
    "print(f\"Missing peptide ranges after: {missing_peptide_range_count} {missing_peptide_range_count/df.shape[0]*100:.2f}%\")"
   ]
  },
  {
   "cell_type": "markdown",
   "id": "bf00de13-77d7-41a6-a8db-4e353872972d",
   "metadata": {
    "id": "1b5de6f3-48ed-4e25-ba67-ad8cb8873f64"
   },
   "source": [
    "### Set the right isoform (& peptide/site position info) for each peptide"
   ]
  },
  {
   "cell_type": "code",
   "execution_count": 24,
   "id": "737456d1-556d-4217-8c87-a2c128a1b6bd",
   "metadata": {
    "id": "ea45fc33-5cba-48f5-9894-04d0b10ed1a3"
   },
   "outputs": [
    {
     "name": "stdout",
     "output_type": "stream",
     "text": [
      "Non-canonical isoform sites before: 0, Unique: 0\n",
      "Non-canonical isoform sites after: 0, Unique: 0\n"
     ]
    }
   ],
   "source": [
    "print(f\"Non-canonical isoform sites before: {df['uniprot'].str.contains('-').sum()}, Unique: {df.loc[df['uniprot'].str.contains('-'), 'uniprot'].nunique()}\")\n",
    "\n",
    "set_uniprot_isoforms_containing_peptides(df, entry_isoforms, isoform_seqs)\n",
    "\n",
    "print(f\"Non-canonical isoform sites after: {df['uniprot'].str.contains('-').sum()}, Unique: {df.loc[df['uniprot'].str.contains('-'), 'uniprot'].nunique()}\")"
   ]
  },
  {
   "cell_type": "markdown",
   "id": "d908265c-8e77-4776-9577-f940d41d7740",
   "metadata": {
    "id": "76227213-e4aa-48c8-9147-4ce6ccc39ff4",
    "tags": []
   },
   "source": [
    "## Data Validation"
   ]
  },
  {
   "cell_type": "markdown",
   "id": "f227184f-85cd-4ee5-9adb-33b7f8a0c88b",
   "metadata": {
    "id": "b6ba4233-9a5d-4663-99cf-537332da32a6",
    "tags": []
   },
   "source": [
    "### Basic column validation"
   ]
  },
  {
   "cell_type": "code",
   "execution_count": 25,
   "id": "b9513d30-d24a-4336-8bf1-95acba412ff1",
   "metadata": {
    "id": "2603d0fc-ce1d-44cf-ba17-72cd2d8d5eb0",
    "tags": []
   },
   "outputs": [],
   "source": [
    "def validate_individual_columns(df):\n",
    "    valid_rows = display_invalid_rows(df, \"Invalid 'uniprot' rows\", valid_uniprot)\n",
    "    valid_rows &= display_invalid_rows(df, \"Invalid 'peptide_id' rows\", valid_peptide_id)\n",
    "    valid_rows &= display_invalid_rows(df, \"Invalid 'peptide' rows\", valid_peptide, na_allowed=False)\n",
    "    valid_rows &= display_invalid_rows(df, \"Invalid 'peptide_start' and/or 'peptide_end' rows\", valid_peptide_range, na_allowed=False)\n",
    "    return valid_rows"
   ]
  },
  {
   "cell_type": "code",
   "execution_count": 26,
   "id": "32476e59-5144-4a8e-9be5-ebdbb78d65eb",
   "metadata": {
    "id": "ef78d680-cdf4-4c8c-9d3e-79f1a596e0f7",
    "outputId": "d3decf74-7b38-4f20-e95e-6ccff303dad5"
   },
   "outputs": [
    {
     "data": {
      "text/markdown": [
       "#### Invalid 'peptide_start' and/or 'peptide_end' rows: 122 (0.95%):"
      ],
      "text/plain": [
       "<IPython.core.display.Markdown object>"
      ]
     },
     "metadata": {},
     "output_type": "display_data"
    },
    {
     "data": {
      "text/html": [
       "<div>\n",
       "<style scoped>\n",
       "    .dataframe tbody tr th:only-of-type {\n",
       "        vertical-align: middle;\n",
       "    }\n",
       "\n",
       "    .dataframe tbody tr th {\n",
       "        vertical-align: top;\n",
       "    }\n",
       "\n",
       "    .dataframe thead th {\n",
       "        text-align: right;\n",
       "    }\n",
       "</style>\n",
       "<table border=\"1\" class=\"dataframe\">\n",
       "  <thead>\n",
       "    <tr style=\"text-align: right;\">\n",
       "      <th></th>\n",
       "      <th>uniprot</th>\n",
       "      <th>peptide_id</th>\n",
       "      <th>peptide</th>\n",
       "      <th>peptide_start</th>\n",
       "      <th>peptide_end</th>\n",
       "      <th>psmsCount</th>\n",
       "      <th>projectAccessionsCount</th>\n",
       "    </tr>\n",
       "  </thead>\n",
       "  <tbody>\n",
       "    <tr>\n",
       "      <th>241</th>\n",
       "      <td>Q9Y6R7</td>\n",
       "      <td>6aa8b524-78f3-466e-9fa7-78195167ee3d</td>\n",
       "      <td>LEQYEGPGFCGPLAPGTGGPFTTCHAHVPPESFFK</td>\n",
       "      <td>NaN</td>\n",
       "      <td>NaN</td>\n",
       "      <td>131</td>\n",
       "      <td>3</td>\n",
       "    </tr>\n",
       "    <tr>\n",
       "      <th>838</th>\n",
       "      <td>Q96Q06</td>\n",
       "      <td>25ea13bc-fb9e-4018-a8dc-c90b15b17bda</td>\n",
       "      <td>DTVCSGVTGAANVAK</td>\n",
       "      <td>NaN</td>\n",
       "      <td>NaN</td>\n",
       "      <td>163</td>\n",
       "      <td>10</td>\n",
       "    </tr>\n",
       "    <tr>\n",
       "      <th>869</th>\n",
       "      <td>Q9HC84</td>\n",
       "      <td>a54cb7a7-d346-4d90-b225-d6e70918062c</td>\n",
       "      <td>MCFNYEIR</td>\n",
       "      <td>NaN</td>\n",
       "      <td>NaN</td>\n",
       "      <td>319</td>\n",
       "      <td>26</td>\n",
       "    </tr>\n",
       "    <tr>\n",
       "      <th>873</th>\n",
       "      <td>Q9HC84</td>\n",
       "      <td>65535f68-8bdc-44c2-9d0d-40e898727672</td>\n",
       "      <td>ELGQVVECSLDFGLVCR</td>\n",
       "      <td>NaN</td>\n",
       "      <td>NaN</td>\n",
       "      <td>262</td>\n",
       "      <td>20</td>\n",
       "    </tr>\n",
       "    <tr>\n",
       "      <th>900</th>\n",
       "      <td>Q9HC84</td>\n",
       "      <td>1c108775-b461-4646-a6b6-2adad4ce9a2c</td>\n",
       "      <td>FKMCFNYEIR</td>\n",
       "      <td>NaN</td>\n",
       "      <td>NaN</td>\n",
       "      <td>117</td>\n",
       "      <td>3</td>\n",
       "    </tr>\n",
       "    <tr>\n",
       "      <th>...</th>\n",
       "      <td>...</td>\n",
       "      <td>...</td>\n",
       "      <td>...</td>\n",
       "      <td>...</td>\n",
       "      <td>...</td>\n",
       "      <td>...</td>\n",
       "      <td>...</td>\n",
       "    </tr>\n",
       "    <tr>\n",
       "      <th>9737</th>\n",
       "      <td>P12036</td>\n",
       "      <td>3d087b0b-8265-4d3f-8816-9777be540ee3</td>\n",
       "      <td>SPVKEEAKSPEK</td>\n",
       "      <td>NaN</td>\n",
       "      <td>NaN</td>\n",
       "      <td>136</td>\n",
       "      <td>4</td>\n",
       "    </tr>\n",
       "    <tr>\n",
       "      <th>10192</th>\n",
       "      <td>P02751</td>\n",
       "      <td>ce57e14b-74c8-4dc0-a5d7-15b1fe116e09</td>\n",
       "      <td>ESVPISDTIIPAVPPPTDLR</td>\n",
       "      <td>NaN</td>\n",
       "      <td>NaN</td>\n",
       "      <td>1556</td>\n",
       "      <td>61</td>\n",
       "    </tr>\n",
       "    <tr>\n",
       "      <th>10235</th>\n",
       "      <td>P02751</td>\n",
       "      <td>a0c5decc-7226-4cbf-bba9-cf9fd816316b</td>\n",
       "      <td>ESVPISDTIIPAVPPPTDLRFTNIGPDTMR</td>\n",
       "      <td>NaN</td>\n",
       "      <td>NaN</td>\n",
       "      <td>107</td>\n",
       "      <td>4</td>\n",
       "    </tr>\n",
       "    <tr>\n",
       "      <th>11460</th>\n",
       "      <td>P00738</td>\n",
       "      <td>8c878e4a-00ec-4e4d-a7bb-f2826fb2a94f</td>\n",
       "      <td>YQCKNYYK</td>\n",
       "      <td>NaN</td>\n",
       "      <td>NaN</td>\n",
       "      <td>168</td>\n",
       "      <td>12</td>\n",
       "    </tr>\n",
       "    <tr>\n",
       "      <th>12386</th>\n",
       "      <td>P98160</td>\n",
       "      <td>1e02efad-6dbd-49e7-92a8-c66bafcc1fb4</td>\n",
       "      <td>RGGSLPAR</td>\n",
       "      <td>NaN</td>\n",
       "      <td>NaN</td>\n",
       "      <td>138</td>\n",
       "      <td>18</td>\n",
       "    </tr>\n",
       "  </tbody>\n",
       "</table>\n",
       "<p>122 rows × 7 columns</p>\n",
       "</div>"
      ],
      "text/plain": [
       "      uniprot                            peptide_id  \\\n",
       "241    Q9Y6R7  6aa8b524-78f3-466e-9fa7-78195167ee3d   \n",
       "838    Q96Q06  25ea13bc-fb9e-4018-a8dc-c90b15b17bda   \n",
       "869    Q9HC84  a54cb7a7-d346-4d90-b225-d6e70918062c   \n",
       "873    Q9HC84  65535f68-8bdc-44c2-9d0d-40e898727672   \n",
       "900    Q9HC84  1c108775-b461-4646-a6b6-2adad4ce9a2c   \n",
       "...       ...                                   ...   \n",
       "9737   P12036  3d087b0b-8265-4d3f-8816-9777be540ee3   \n",
       "10192  P02751  ce57e14b-74c8-4dc0-a5d7-15b1fe116e09   \n",
       "10235  P02751  a0c5decc-7226-4cbf-bba9-cf9fd816316b   \n",
       "11460  P00738  8c878e4a-00ec-4e4d-a7bb-f2826fb2a94f   \n",
       "12386  P98160  1e02efad-6dbd-49e7-92a8-c66bafcc1fb4   \n",
       "\n",
       "                                   peptide  peptide_start  peptide_end  \\\n",
       "241    LEQYEGPGFCGPLAPGTGGPFTTCHAHVPPESFFK            NaN          NaN   \n",
       "838                        DTVCSGVTGAANVAK            NaN          NaN   \n",
       "869                               MCFNYEIR            NaN          NaN   \n",
       "873                      ELGQVVECSLDFGLVCR            NaN          NaN   \n",
       "900                             FKMCFNYEIR            NaN          NaN   \n",
       "...                                    ...            ...          ...   \n",
       "9737                          SPVKEEAKSPEK            NaN          NaN   \n",
       "10192                 ESVPISDTIIPAVPPPTDLR            NaN          NaN   \n",
       "10235       ESVPISDTIIPAVPPPTDLRFTNIGPDTMR            NaN          NaN   \n",
       "11460                             YQCKNYYK            NaN          NaN   \n",
       "12386                             RGGSLPAR            NaN          NaN   \n",
       "\n",
       "       psmsCount  projectAccessionsCount  \n",
       "241          131                       3  \n",
       "838          163                      10  \n",
       "869          319                      26  \n",
       "873          262                      20  \n",
       "900          117                       3  \n",
       "...          ...                     ...  \n",
       "9737         136                       4  \n",
       "10192       1556                      61  \n",
       "10235        107                       4  \n",
       "11460        168                      12  \n",
       "12386        138                      18  \n",
       "\n",
       "[122 rows x 7 columns]"
      ]
     },
     "metadata": {},
     "output_type": "display_data"
    }
   ],
   "source": [
    "valid_rows = validate_individual_columns(df)"
   ]
  },
  {
   "cell_type": "markdown",
   "id": "1724be4a-316b-4e6f-95c5-9d380249e9e1",
   "metadata": {
    "id": "33e78027-bf6a-4c3b-ada2-7beaf48147ea",
    "tags": []
   },
   "source": [
    "### Field consistency validation"
   ]
  },
  {
   "cell_type": "code",
   "execution_count": 27,
   "id": "324a5916-6739-471b-ae15-ad1ab1178217",
   "metadata": {
    "id": "a20e8549-d874-420b-8d53-4abc8607a563"
   },
   "outputs": [],
   "source": [
    "def check_field_consistency(df):\n",
    "    consistent_rows = display_invalid_rows(df, \"Inconsistent 'peptide' length compared to 'peptide_start' & 'peptide.end' rows\", consistent_peptide_length, na_allowed=False)\n",
    "    return consistent_rows"
   ]
  },
  {
   "cell_type": "code",
   "execution_count": 28,
   "id": "04b51046-1aee-435a-98e2-3ea1f1d9fed6",
   "metadata": {
    "id": "e3090878-bdad-41d5-a822-6ed9ae4a7cc0",
    "outputId": "497d4f5f-92b2-440b-f38d-63cf43245b6c"
   },
   "outputs": [],
   "source": [
    "consistent_rows = check_field_consistency(df)"
   ]
  },
  {
   "cell_type": "markdown",
   "id": "af552092-f267-46b7-b7e6-911eec58e2ad",
   "metadata": {
    "id": "99b7258d-588e-4bd6-bcfc-0edabfd8f5f8",
    "tags": []
   },
   "source": [
    "### UniProt entries data consistency validation"
   ]
  },
  {
   "cell_type": "code",
   "execution_count": 29,
   "id": "c7481871-e6ec-4b9f-8f74-fc020cab04b7",
   "metadata": {
    "id": "cf13dc13-54b4-4d97-96c0-5070af6a3f51"
   },
   "outputs": [],
   "source": [
    "def validate_to_entries(df, isoform_seqs):\n",
    "    entry_valid_rows = display_invalid_rows(df, \"Non-matching peptide sequence between data and UniProt sequence\", consistent_entry_peptide, isoform_seqs = isoform_seqs)\n",
    "    return entry_valid_rows"
   ]
  },
  {
   "cell_type": "code",
   "execution_count": 30,
   "id": "e53c85fe-b365-4466-8dae-22af9294d33b",
   "metadata": {
    "id": "abd7f35d-0e10-47fd-b251-b683ad79c5fa",
    "outputId": "de490a5f-5358-49a1-ad15-6dc81df571ef",
    "tags": []
   },
   "outputs": [],
   "source": [
    "entry_valid_rows = validate_to_entries(df, isoform_seqs)"
   ]
  },
  {
   "cell_type": "markdown",
   "id": "3e0ef795-0871-4347-b5a2-90cf2aadccac",
   "metadata": {
    "id": "ea66bef3-37ad-427d-80f5-518d2b4554db",
    "tags": []
   },
   "source": [
    "## Create clean dataframe"
   ]
  },
  {
   "cell_type": "code",
   "execution_count": 31,
   "id": "4763d37f-76a5-48c2-ab34-0611702c1e82",
   "metadata": {
    "id": "f7040c51-b034-44bb-85fc-a849c510f71a",
    "outputId": "ebeae992-5c05-4d1f-ae93-e88f3066e028"
   },
   "outputs": [
    {
     "name": "stdout",
     "output_type": "stream",
     "text": [
      "Clean dataframe has 12682 rows, 0.95% of original rows were discarded\n"
     ]
    }
   ],
   "source": [
    "valid_and_consistent_rows = valid_rows & consistent_rows & entry_valid_rows\n",
    "\n",
    "clean_df = df[valid_and_consistent_rows].reset_index(drop=True).copy()\n",
    "\n",
    "#clean_df['peptide_start'] = clean_df['peptide_start'].astype(pd.Int32Dtype())\n",
    "#clean_df['peptide_end'] = clean_df['peptide_end'].astype(pd.Int32Dtype())\n",
    "\n",
    "print(f\"Clean dataframe has {len(clean_df)} rows, {(n_original_rows-len(clean_df))/n_original_rows*100:4.2f}% of original rows were discarded\")"
   ]
  },
  {
   "cell_type": "code",
   "execution_count": 32,
   "id": "5a72442b-9180-48ff-8637-e0df7d5186a7",
   "metadata": {
    "id": "ab665cf1-52d3-44ad-90f9-362380d572ed",
    "outputId": "7ade786b-4a3d-494b-a8c6-8854617f207f"
   },
   "outputs": [
    {
     "name": "stdout",
     "output_type": "stream",
     "text": [
      "<class 'pandas.core.frame.DataFrame'>\n",
      "RangeIndex: 12682 entries, 0 to 12681\n",
      "Data columns (total 7 columns):\n",
      " #   Column                  Non-Null Count  Dtype  \n",
      "---  ------                  --------------  -----  \n",
      " 0   uniprot                 12682 non-null  object \n",
      " 1   peptide_id              12682 non-null  object \n",
      " 2   peptide                 12682 non-null  object \n",
      " 3   peptide_start           12682 non-null  float64\n",
      " 4   peptide_end             12682 non-null  float64\n",
      " 5   psmsCount               12682 non-null  int64  \n",
      " 6   projectAccessionsCount  12682 non-null  int64  \n",
      "dtypes: float64(2), int64(2), object(3)\n",
      "memory usage: 693.7+ KB\n"
     ]
    }
   ],
   "source": [
    "clean_df.info()"
   ]
  },
  {
   "cell_type": "markdown",
   "id": "e70e7e4e-860f-4f63-a888-bf17b1ed574d",
   "metadata": {},
   "source": [
    "### Check how redundant peptides are"
   ]
  },
  {
   "cell_type": "code",
   "execution_count": 33,
   "id": "587360db-316b-49a2-8917-019e76f140f7",
   "metadata": {},
   "outputs": [
    {
     "name": "stdout",
     "output_type": "stream",
     "text": [
      "Cluster representatives: 3995 31.501340482573724%\n",
      "Redundant rows: 8687 68.49865951742628%\n",
      "Invalid peptide rows: 0 0.0%\n"
     ]
    }
   ],
   "source": [
    "representative_rows, redundant_rows = cluster_peptides(clean_df)\n",
    "print(f\"Cluster representatives: {sum(representative_rows)} {sum(representative_rows)/clean_df.shape[0]*100}%\")\n",
    "print(f\"Redundant rows: {sum(redundant_rows)} {sum(redundant_rows)/clean_df.shape[0]*100}%\")\n",
    "print(f\"Invalid peptide rows: {clean_df.shape[0]-sum(representative_rows | redundant_rows)} {(clean_df.shape[0]-sum(representative_rows | redundant_rows))/clean_df.shape[0]*100}%\")"
   ]
  },
  {
   "cell_type": "markdown",
   "id": "27881ad2-41fd-4018-9956-34e8c0c37a9c",
   "metadata": {
    "id": "fc46674c-be0f-43d1-a87a-7d127907ae81"
   },
   "source": [
    "### Save results"
   ]
  },
  {
   "cell_type": "code",
   "execution_count": 34,
   "id": "ec0fcbfb-7309-49f5-98f0-2a9445fb98a3",
   "metadata": {
    "id": "ac0beda0-e28b-4547-8d45-3c5aa5cdfdb0"
   },
   "outputs": [],
   "source": [
    "clean_df.to_excel(CLEAN_NEGATIVE_DATA_FILE, index=False)\n",
    "\n",
    "uniprot_ids_string = '\\n'.join(sorted(clean_df['uniprot'].unique()))\n",
    "with open(CLEAN_NEGATIVE_UNIPROT_IDS_FILE, 'w') as f:\n",
    "    f.write(uniprot_ids_string)"
   ]
  },
  {
   "cell_type": "code",
   "execution_count": 37,
   "id": "bdb11764-bac6-41a0-a7bf-4d7ff4bd9643",
   "metadata": {},
   "outputs": [
    {
     "name": "stdout",
     "output_type": "stream",
     "text": [
      "Number of proteins only found in clean_negative_proteins: 311\n",
      "Number of proteins only found in positive_proteins: 3770\n",
      "Number of proteins found in both clean_negative_proteins & positive_proteins: 914\n",
      "Number of proteins found in either clean_negative_proteins & positive_proteins: 4995\n"
     ]
    }
   ],
   "source": [
    "clean_negative_proteins = set(clean_df['uniprot'].unique())\n",
    "\n",
    "print(f\"Number of proteins only found in clean_negative_proteins: {len(clean_negative_proteins - positive_proteins)}\")\n",
    "print(f\"Number of proteins only found in positive_proteins: {len(positive_proteins - clean_negative_proteins)}\")\n",
    "print(f\"Number of proteins found in both clean_negative_proteins & positive_proteins: {len(clean_negative_proteins & positive_proteins)}\")\n",
    "print(f\"Number of proteins found in either clean_negative_proteins & positive_proteins: {len(clean_negative_proteins | positive_proteins)}\")"
   ]
  },
  {
   "cell_type": "code",
   "execution_count": 35,
   "id": "4b895e00-e961-41e5-963e-f5cd3b6304f3",
   "metadata": {
    "id": "d827216c-93c7-4f00-bea1-b78fa35f4003",
    "outputId": "127cd710-aeaf-4f6a-c6b0-e15f0e76e6a8"
   },
   "outputs": [
    {
     "name": "stdout",
     "output_type": "stream",
     "text": [
      "Notebook took 277.97103307299994 seconds to run\n"
     ]
    }
   ],
   "source": [
    "notebook_end_time = time.perf_counter()\n",
    "print(f\"Notebook took {notebook_end_time-notebook_start_time} seconds to run\")"
   ]
  },
  {
   "cell_type": "code",
   "execution_count": null,
   "id": "cdb38809-0f32-42bc-9656-406d4979424b",
   "metadata": {},
   "outputs": [],
   "source": []
  }
 ],
 "metadata": {
  "kernelspec": {
   "display_name": "Python 3 (ipykernel)",
   "language": "python",
   "name": "python3"
  },
  "language_info": {
   "codemirror_mode": {
    "name": "ipython",
    "version": 3
   },
   "file_extension": ".py",
   "mimetype": "text/x-python",
   "name": "python",
   "nbconvert_exporter": "python",
   "pygments_lexer": "ipython3",
   "version": "3.9.9"
  }
 },
 "nbformat": 4,
 "nbformat_minor": 5
}
