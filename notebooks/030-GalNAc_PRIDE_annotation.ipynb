{
 "cells": [
  {
   "cell_type": "code",
   "execution_count": 1,
   "id": "e8821976-fad3-4270-9439-e7c54f8e7164",
   "metadata": {},
   "outputs": [],
   "source": [
    "import time\n",
    "notebook_start_time = time.perf_counter()"
   ]
  },
  {
   "cell_type": "markdown",
   "id": "e935d314-c0a8-4cda-9ba9-18f3be13230c",
   "metadata": {},
   "source": [
    "# GalNAc data processing"
   ]
  },
  {
   "cell_type": "markdown",
   "id": "625fd51f-6af3-4063-8b81-398336670278",
   "metadata": {
    "tags": []
   },
   "source": [
    "## Imports"
   ]
  },
  {
   "cell_type": "markdown",
   "id": "6833e704-3046-4b02-a953-3fd1f751eace",
   "metadata": {
    "tags": []
   },
   "source": [
    "### Built-in imports"
   ]
  },
  {
   "cell_type": "code",
   "execution_count": 2,
   "id": "f3d78f3a-e0f2-467c-a051-63243ede9a6d",
   "metadata": {},
   "outputs": [],
   "source": [
    "import pickle\n",
    "import gzip\n",
    "from pathlib import Path\n",
    "import warnings\n",
    "import math\n",
    "import re"
   ]
  },
  {
   "cell_type": "markdown",
   "id": "34dff527-6fe6-466b-8334-c9f2c683866a",
   "metadata": {},
   "source": [
    "### Shared library imports"
   ]
  },
  {
   "cell_type": "code",
   "execution_count": 3,
   "id": "8d15d803-4b86-43fd-864a-5896016442fa",
   "metadata": {},
   "outputs": [],
   "source": [
    "from glyc_processing import cf\n",
    "from glyc_processing.data_formats.galnac.config import GalNAcConfig\n",
    "\n",
    "from glyc_processing.uniprot import get_entry_isoforms_dicts, get_uniprot_entries, get_uniprot_isoforms, \\\n",
    "    get_entry_isoforms_dicts\n",
    "from glyc_processing.annotation import ProteinSet, AnnotationError, mean_counts_score"
   ]
  },
  {
   "cell_type": "markdown",
   "id": "4fcf5b92-6d1b-40c4-9f7e-10c718c7b604",
   "metadata": {},
   "source": [
    "### External imports"
   ]
  },
  {
   "cell_type": "code",
   "execution_count": 4,
   "id": "4e12bd3e-c620-4672-9cc5-b396774510b9",
   "metadata": {},
   "outputs": [],
   "source": [
    "from IPython.display import display\n",
    "import numpy as np\n",
    "import pandas as pd\n",
    "from matplotlib import pyplot as plt\n",
    "from tqdm.auto import tqdm\n",
    "from Bio import SeqIO\n",
    "from Bio.Seq import Seq\n",
    "from Bio.SeqRecord import SeqRecord"
   ]
  },
  {
   "cell_type": "markdown",
   "id": "bf5feefe-0871-4c2f-9357-5cd283101e0e",
   "metadata": {},
   "source": [
    "## Paths & Constants"
   ]
  },
  {
   "cell_type": "code",
   "execution_count": 25,
   "id": "37c7273e-b129-4776-977d-632b71d7e0f8",
   "metadata": {},
   "outputs": [],
   "source": [
    "#BASE_DIR = Path(\"/mnt/g/My Drive/CloudVault/Masters/Data\")\n",
    "BASE_DIR = Path(\"/home/jakob/Cloudvault_new/Data\")\n",
    "\n",
    "# Path of cleaned data file\n",
    "CLEAN_POSITIVE_DATA_FILE = BASE_DIR/'NetOGlyc5 data'/'GalNAc data'/'02-GalNAC_processing'/'clean_data.xlsx'\n",
    "\n",
    "# Path of cleaned negative data file\n",
    "CLEAN_NEGATIVE_DATA_FILE = BASE_DIR/'NetOGlyc5 data'/'GalNAc data'/'03-PRIDE_processing'/'clean_data.xlsx'\n",
    "\n",
    "# Path of exported annotations file\n",
    "ANNOTATIONS_FILE = BASE_DIR/'NetOGlyc5 data'/'GalNAc data'/'04-annotation'/'protein_annotations.pkl.gz'\n",
    "\n",
    "# Path of exported sequences fasta file\n",
    "SEQUENCES_FILE = BASE_DIR/'NetOGlyc5 data'/'GalNAc data'/'04-annotation'/'protein_sequences.fasta'\n",
    "TRUNCATED_SEQUENCES_FILE = BASE_DIR/'NetOGlyc5 data'/'GalNAc data'/'04-annotation'/'protein_sequences_truncated.fasta'\n",
    "\n",
    "# Maximum sequence length that can be embedded in one go\n",
    "# 1022 for BERT/ALBERT (ESM-1b / ProtBert wo. start/end tokens), No limit for XLNet\n",
    "MAX_SEQ_LENGTH = 1022"
   ]
  },
  {
   "cell_type": "code",
   "execution_count": 6,
   "id": "e2c28085-0799-4a84-b7f8-6aa6a4441555",
   "metadata": {},
   "outputs": [],
   "source": [
    "cf.use_config(GalNAcConfig)"
   ]
  },
  {
   "cell_type": "code",
   "execution_count": 7,
   "id": "19fc4929-31fa-4792-95ea-b0b77ea15e21",
   "metadata": {},
   "outputs": [],
   "source": [
    "# The temp folder is used to organize data-specific temporary files\n",
    "cf.TEMP_DIR = BASE_DIR/'uniprot'/'GalNAc_PRIDE'\n",
    "\n",
    "# Uniprot release downloads directory path (make sure you have a few GB of free space)\n",
    "cf.UNIPROT_DOWNLOADS_DIR = BASE_DIR/'uniprot'\n",
    "\n",
    "# The amino acids that are allowed to be glycosylated\n",
    "cf.ALLOWED_AA = ('S','T','Y')\n",
    "\n",
    "# The uniport release can be 'latest' for the current release or any of those with format (YYYY_MM) found here: https://ftp.uniprot.org/pub/databases/uniprot/previous_releases/\n",
    "# Warning: Uniprot only keeps previous releases other than the first of the year for 2 years, so only use first yearly (2015_01, 2021_01 etc.) for reproducability!\n",
    "cf.UNIPROT_RELEASE = '2021_01'\n",
    "\n",
    "# If True ignores existing data-specific temp files and recreates them from scratch\n",
    "# This should be used if the data or script has changed\n",
    "cf.IGNORE_EXISTING_FILES = True"
   ]
  },
  {
   "cell_type": "code",
   "execution_count": 8,
   "id": "0b60edb3-071f-4799-86fe-037d5d43f04c",
   "metadata": {},
   "outputs": [
    {
     "name": "stdout",
     "output_type": "stream",
     "text": [
      "Using Uniprot Release 2021_01\n"
     ]
    }
   ],
   "source": [
    "print(f\"Using Uniprot Release {cf.TRUE_UNIPROT_RELEASE}\")"
   ]
  },
  {
   "cell_type": "markdown",
   "id": "ec690df8-77cc-4272-bc54-cc132be76e5d",
   "metadata": {},
   "source": [
    "## Map data to standard annotation format"
   ]
  },
  {
   "cell_type": "markdown",
   "id": "e31cb4db-b9b4-4995-b773-77e5fa4cd424",
   "metadata": {},
   "source": [
    "### Read positive & negative data"
   ]
  },
  {
   "cell_type": "code",
   "execution_count": 9,
   "id": "234da22a-ae5b-4404-b579-e8a4250f5ad3",
   "metadata": {},
   "outputs": [
    {
     "name": "stdout",
     "output_type": "stream",
     "text": [
      "Positive data rows: 288257\n"
     ]
    }
   ],
   "source": [
    "clean_positive_df = pd.read_excel(CLEAN_POSITIVE_DATA_FILE, header=0)\n",
    "print(f\"Positive data rows: {len(clean_positive_df)}\")"
   ]
  },
  {
   "cell_type": "code",
   "execution_count": 10,
   "id": "6672160e-561b-4a67-a58b-c9bc700f302a",
   "metadata": {},
   "outputs": [
    {
     "name": "stdout",
     "output_type": "stream",
     "text": [
      "Negative data rows: 12682\n"
     ]
    }
   ],
   "source": [
    "clean_negative_df = pd.read_excel(CLEAN_NEGATIVE_DATA_FILE, header=0)\n",
    "print(f\"Negative data rows: {len(clean_negative_df)}\")"
   ]
  },
  {
   "cell_type": "markdown",
   "id": "db3b7360-2887-43b6-93fa-b0363a97e46e",
   "metadata": {},
   "source": [
    "### Fetch UniProt sequences"
   ]
  },
  {
   "cell_type": "code",
   "execution_count": 11,
   "id": "fb039f45-e2b9-42b1-b857-67a2d55f7323",
   "metadata": {},
   "outputs": [
    {
     "data": {
      "application/vnd.jupyter.widget-view+json": {
       "model_id": "d2569c5b23de49fba8bb7aac9e085f94",
       "version_major": 2,
       "version_minor": 0
      },
      "text/plain": [
       "Extracting data-specific Uniprot entries from /home/jakob/Cloudvault_new/Data/uniprot/uniprot_sprot2021_01.dat…"
      ]
     },
     "metadata": {},
     "output_type": "display_data"
    },
    {
     "data": {
      "application/vnd.jupyter.widget-view+json": {
       "model_id": "363f4cd1fbeb4f2cb82ccc44d304ff82",
       "version_major": 2,
       "version_minor": 0
      },
      "text/plain": [
       "Extracting data-specific Uniprot entry isoforms from /home/jakob/Cloudvault_new/Data/uniprot/uniprot_sprot_var…"
      ]
     },
     "metadata": {},
     "output_type": "display_data"
    },
    {
     "name": "stdout",
     "output_type": "stream",
     "text": [
      "Uniprot sequences - Number of entries: 4995, Number of isoforms: 12293\n"
     ]
    }
   ],
   "source": [
    "unique_uniprot_ids = set(clean_positive_df['uniprot'].unique())\n",
    "unique_uniprot_ids.update(clean_negative_df['uniprot'].unique())\n",
    "\n",
    "get_uniprot_entries(unique_uniprot_ids)\n",
    "get_uniprot_isoforms(unique_uniprot_ids)\n",
    "entry_isoforms, isoform_seqs = get_entry_isoforms_dicts()\n",
    "print(f\"Uniprot sequences - Number of entries: {len(entry_isoforms)}, Number of isoforms: {len(isoform_seqs)}\")"
   ]
  },
  {
   "cell_type": "markdown",
   "id": "7f170143-3c7f-4a07-8006-35ec7916a2eb",
   "metadata": {},
   "source": [
    "### Check whether any proteins contain uncommon amino acids, and replace them with X"
   ]
  },
  {
   "cell_type": "code",
   "execution_count": 12,
   "id": "d63ede0c-6e93-4c3d-b0e6-9e06826da0de",
   "metadata": {},
   "outputs": [
    {
     "name": "stdout",
     "output_type": "stream",
     "text": [
      "Replaced uncommon amino acids in the following isoforms with X:\n",
      "{'P49908', 'Q9NNW7-4', 'Q9NNW7', 'Q9NNW7-2', 'Q9NNW7-3', 'Q9C0D9', 'Q8WWX9', 'Q9BQE4'}\n"
     ]
    }
   ],
   "source": [
    "# We assume that peptides from clean datasets only contain X (unknown) and no other uncommon amino acids\n",
    "# Otherwise, there might be a discrepancy between peptides and the protein sequence\n",
    "uncommon_aa_isoforms = {isoform for isoform in isoform_seqs if re.search(r\"[BJOUZ]\", isoform_seqs[isoform])}\n",
    "for isoform in uncommon_aa_isoforms:\n",
    "    isoform_seqs[isoform] = re.sub(r\"[BJOUZ]\", \"X\", isoform_seqs[isoform])\n",
    "print(\"Replaced uncommon amino acids in the following isoforms with X:\")\n",
    "print(uncommon_aa_isoforms)"
   ]
  },
  {
   "cell_type": "markdown",
   "id": "32953f60-ce18-42ec-8704-12a3e6baa11c",
   "metadata": {},
   "source": [
    "### Map positive data"
   ]
  },
  {
   "cell_type": "code",
   "execution_count": 13,
   "id": "5d5203c2-f40d-42be-8a8c-d1e3e71e11e5",
   "metadata": {},
   "outputs": [],
   "source": [
    "proteins = ProteinSet(allowed_aa = cf.ALLOWED_AA, index_start = 1, end_exclusive = False, scoring_function = mean_counts_score)"
   ]
  },
  {
   "cell_type": "code",
   "execution_count": 14,
   "id": "4ae2a91b-3fc5-464f-a166-019e1c9c900d",
   "metadata": {
    "scrolled": true,
    "tags": []
   },
   "outputs": [
    {
     "data": {
      "application/vnd.jupyter.widget-view+json": {
       "model_id": "966d5ca8d9f045ee97704db3090215ca",
       "version_major": 2,
       "version_minor": 0
      },
      "text/plain": [
       "Annotating GalNAc data:   0%|          | 0/288257 [00:00<?, ?it/s]"
      ]
     },
     "metadata": {},
     "output_type": "display_data"
    }
   ],
   "source": [
    "for i, row in tqdm(iterable=clean_positive_df.iterrows(), total=len(clean_positive_df), desc=f\"Annotating GalNAc data\"):\n",
    "    try:\n",
    "        proteins.add(\n",
    "            protein_id = row['uniprot'],\n",
    "            protein_seq = isoform_seqs[row['uniprot']],\n",
    "            peptide_id = row['peptide_id'],\n",
    "            single_site_or_unclear_start = row['single_site'] if pd.notna(row['single_site']) else row['unclear_site_start'],\n",
    "            unclear_site_end = row['unclear_site_end'],\n",
    "            protein_annotations = None,\n",
    "            peptide_start = row['peptide_start'],\n",
    "            peptide_end = row['peptide_end'],\n",
    "            peptide_annotations = {'source': row['source'], 'dataset': row['dataset']},\n",
    "            site_annotations = {'site_composition': row['site_composition']},\n",
    "        )\n",
    "    except AnnotationError as e:\n",
    "        print(e)"
   ]
  },
  {
   "cell_type": "markdown",
   "id": "d6b856bf-0f1d-4fda-8a1f-2d3ae4dee060",
   "metadata": {},
   "source": [
    "### Map negative data"
   ]
  },
  {
   "cell_type": "code",
   "execution_count": 15,
   "id": "073e467c-1b82-453f-941e-8a181ff2ee80",
   "metadata": {
    "scrolled": true,
    "tags": []
   },
   "outputs": [
    {
     "data": {
      "application/vnd.jupyter.widget-view+json": {
       "model_id": "1f3fa65c2ada40709ca8ea29921349ef",
       "version_major": 2,
       "version_minor": 0
      },
      "text/plain": [
       "Annotating PRIDE data:   0%|          | 0/12682 [00:00<?, ?it/s]"
      ]
     },
     "metadata": {},
     "output_type": "display_data"
    }
   ],
   "source": [
    "for i, row in tqdm(iterable=clean_negative_df.iterrows(), total=len(clean_negative_df), desc=f\"Annotating PRIDE data\"):\n",
    "    try:\n",
    "        proteins.add(\n",
    "            protein_id = row['uniprot'],\n",
    "            protein_seq = isoform_seqs[row['uniprot']],\n",
    "            peptide_id = row['peptide_id'],\n",
    "            peptide_start = row['peptide_start'],\n",
    "            peptide_end = row['peptide_end'],\n",
    "            peptide_annotations = {'psmsCount': row['psmsCount'], 'projectAccessionsCount': row['projectAccessionsCount']}\n",
    "        )\n",
    "    except AnnotationError as e:\n",
    "        print(e)"
   ]
  },
  {
   "cell_type": "markdown",
   "id": "2f112571-acc8-46d9-9e6d-7cbf75928b45",
   "metadata": {},
   "source": [
    "## Save annotations & protein sequences"
   ]
  },
  {
   "cell_type": "code",
   "execution_count": 16,
   "id": "9ce77e26-b965-48ff-a728-bff3287aa860",
   "metadata": {},
   "outputs": [],
   "source": [
    "with gzip.open(ANNOTATIONS_FILE, 'wb') as f:\n",
    "    pickle.dump(proteins, f, protocol=4)"
   ]
  },
  {
   "cell_type": "code",
   "execution_count": 17,
   "id": "ae96bca1-ce5a-43a0-8992-5495b21b9293",
   "metadata": {},
   "outputs": [],
   "source": [
    "seq_length_sorted_protein_ids = sorted(proteins, key=lambda protein_id: len(proteins[protein_id].protein_seq), reverse=True)\n",
    "\n",
    "with open(SEQUENCES_FILE, 'w') as f:\n",
    "    for protein_id in seq_length_sorted_protein_ids:\n",
    "        protein = proteins[protein_id]\n",
    "        SeqIO.write(SeqRecord(Seq(protein.protein_seq), protein.protein_id, '', ''), f, \"fasta\")"
   ]
  },
  {
   "cell_type": "code",
   "execution_count": 26,
   "id": "5dda2430-4021-4726-8cb9-283d360313ef",
   "metadata": {},
   "outputs": [],
   "source": [
    "with open(TRUNCATED_SEQUENCES_FILE, 'w') as f:\n",
    "    for protein_id in seq_length_sorted_protein_ids:\n",
    "        protein = proteins[protein_id]\n",
    "        seq_length = min(len(protein.protein_seq), MAX_SEQ_LENGTH)\n",
    "        SeqIO.write(SeqRecord(Seq(protein.protein_seq[:seq_length]), protein.protein_id, '', ''), f, \"fasta\")"
   ]
  },
  {
   "cell_type": "code",
   "execution_count": 18,
   "id": "d4e4eb49-7682-4824-9104-1c8c3aaf9c60",
   "metadata": {},
   "outputs": [
    {
     "name": "stdout",
     "output_type": "stream",
     "text": [
      "Notebook took 197.1336052720003 seconds to run\n"
     ]
    }
   ],
   "source": [
    "notebook_end_time = time.perf_counter()\n",
    "print(f\"Notebook took {notebook_end_time-notebook_start_time} seconds to run\")"
   ]
  }
 ],
 "metadata": {
  "kernelspec": {
   "display_name": "Python 3 (ipykernel)",
   "language": "python",
   "name": "python3"
  },
  "language_info": {
   "codemirror_mode": {
    "name": "ipython",
    "version": 3
   },
   "file_extension": ".py",
   "mimetype": "text/x-python",
   "name": "python",
   "nbconvert_exporter": "python",
   "pygments_lexer": "ipython3",
   "version": "3.9.9"
  }
 },
 "nbformat": 4,
 "nbformat_minor": 5
}
