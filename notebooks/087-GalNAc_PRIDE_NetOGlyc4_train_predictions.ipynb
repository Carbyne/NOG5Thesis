{
 "cells": [
  {
   "cell_type": "code",
   "execution_count": 1,
   "id": "1c3b50e4-d75f-4a53-8412-04bfba51fd4f",
   "metadata": {},
   "outputs": [],
   "source": [
    "import gzip\n",
    "from pathlib import Path"
   ]
  },
  {
   "cell_type": "code",
   "execution_count": 2,
   "id": "5e454a8f-2cb2-45f6-949a-89f29c0b7b20",
   "metadata": {},
   "outputs": [],
   "source": [
    "import h5py\n",
    "import numpy as np\n",
    "from sklearn.metrics import matthews_corrcoef, accuracy_score, roc_auc_score, roc_curve, auc, precision_recall_curve, confusion_matrix\n",
    "from scipy.stats.stats import pearsonr\n",
    "from matplotlib import pyplot as plt"
   ]
  },
  {
   "cell_type": "code",
   "execution_count": 3,
   "id": "7f901c86-32c9-4731-8851-497b5eee0363",
   "metadata": {},
   "outputs": [],
   "source": [
    "#BASE_DIR = Path(\"/mnt/g/My Drive/CloudVault/Masters/Data\")\n",
    "BASE_DIR = Path(\"/home/jakob/Cloudvault_new/Data\")\n",
    "\n",
    "# Paths of imported embeddings file\n",
    "EMBEDDING_FILE = BASE_DIR/'NetOGlyc5 data'/'GalNAc data'/'05-embedding'/'netoglyc4_protein_embeddings_netsurfp_output_glyc_labels_max.h5'\n",
    "\n",
    "# Path of NetOGlyc 5 output\n",
    "NETOGLYC5_OUTPUT = BASE_DIR/'NetOGlyc5 data'/'GalNAc data'/'07-benchmarking'/'netoglyc4_data'/'CNNbLSTM_NetOGlyc_NetSurfP'/'2022-01-19-153652'/'epoch_5.h5'\n",
    "\n",
    "# Maximum sequence length of proteins for test set\n",
    "#MAX_SEQ_LENGTH = 1022\n",
    "MAX_SEQ_LENGTH = 34350\n",
    "\n",
    "IGNORE_MISSING_IDS = True"
   ]
  },
  {
   "cell_type": "code",
   "execution_count": 4,
   "id": "13a39dfc-e5c5-42e0-a527-fed42513e649",
   "metadata": {},
   "outputs": [],
   "source": [
    "with h5py.File(EMBEDDING_FILE, 'r') as file:\n",
    "    label_identifiers_list = file['identifiers'].asstr()[:].tolist()\n",
    "    label_sequences_list = file['sequences'].asstr()[:].tolist()\n",
    "    label_seq_lengths = [len(seq) for seq in label_sequences_list]\n",
    "    label_gly = file['labels']['gly'][:, :MAX_SEQ_LENGTH, 0]"
   ]
  },
  {
   "cell_type": "code",
   "execution_count": 5,
   "id": "c4d9da1b-fa4b-4c00-83e8-3a8d569bfae4",
   "metadata": {},
   "outputs": [],
   "source": [
    "with h5py.File(NETOGLYC5_OUTPUT, 'r') as file:\n",
    "    pred_identifiers_list = file['identifiers'].asstr()[:].tolist()\n",
    "    pred_sequences_list = file['sequences'].asstr()[:].tolist()\n",
    "    pred_seq_lengths = [len(seq) for seq in pred_sequences_list]\n",
    "    pred_gly = file['labels']['gly'][:, :MAX_SEQ_LENGTH, 0]"
   ]
  },
  {
   "cell_type": "code",
   "execution_count": 6,
   "id": "c1b4111b-585e-465d-b42e-9134eb306626",
   "metadata": {},
   "outputs": [
    {
     "name": "stdout",
     "output_type": "stream",
     "text": [
      "Maximum sequence length in output: 22152\n"
     ]
    }
   ],
   "source": [
    "print(f\"Maximum sequence length in output: {max(pred_seq_lengths)}\")"
   ]
  },
  {
   "cell_type": "code",
   "execution_count": 7,
   "id": "76d63b17-156f-493e-9fd6-69f9c85aa62d",
   "metadata": {},
   "outputs": [],
   "source": [
    "testing_ids = set(pred_identifiers_list)"
   ]
  },
  {
   "cell_type": "code",
   "execution_count": 8,
   "id": "938f4271-86f2-4821-ba9d-f4c1bd118be6",
   "metadata": {},
   "outputs": [],
   "source": [
    "missing_embedding_identifiers = set(testing_ids) - set(label_identifiers_list)\n",
    "if len(missing_embedding_identifiers) > 0:\n",
    "    if not IGNORE_MISSING_IDS:\n",
    "        raise Exception(f\"{len(missing_embedding_identifiers)} test identifiers not found in embeddings: {missing_embedding_identifiers}\")\n",
    "\n",
    "if len(missing_embedding_identifiers) > 0:\n",
    "    print(f\"Ignoring following {len(missing_embedding_identifiers)} missing test identifiers: {missing_embedding_identifiers}\")\n",
    "\n",
    "testing_scores = testing_ids - missing_embedding_identifiers"
   ]
  },
  {
   "cell_type": "code",
   "execution_count": 9,
   "id": "12dad83d-e9bc-4433-86f2-f148b1c111ee",
   "metadata": {},
   "outputs": [],
   "source": [
    "unambiguous_pred = []\n",
    "unambiguous_labels = []\n",
    "\n",
    "for identifier in testing_scores:\n",
    "    label_idx = label_identifiers_list.index(identifier)\n",
    "    seq_length = min(label_seq_lengths[label_idx], MAX_SEQ_LENGTH)\n",
    "\n",
    "    labels = label_gly[label_idx, :seq_length]\n",
    "    site_mask = (labels >= 0)\n",
    "\n",
    "    pred_idx = pred_identifiers_list.index(identifier)\n",
    "    pred = pred_gly[pred_idx, :seq_length]\n",
    "    \n",
    "    unambiguous_pred.append(pred[site_mask])\n",
    "    unambiguous_labels.append(labels[site_mask])\n",
    "\n",
    "unambiguous_pred = np.concatenate(unambiguous_pred)\n",
    "unambiguous_labels = np.concatenate(unambiguous_labels)"
   ]
  },
  {
   "cell_type": "code",
   "execution_count": 10,
   "id": "cbf3019b-df42-43db-b5c8-156a69045eb6",
   "metadata": {},
   "outputs": [],
   "source": [
    "def plot_roc_curve(labels, pred, title=\"Receiver operating characteristic\"):\n",
    "    fpr, tpr, _ = roc_curve(labels, pred)\n",
    "    roc_auc = auc(fpr, tpr)\n",
    "\n",
    "    plt.figure()\n",
    "    lw = 2\n",
    "    plt.plot(\n",
    "        fpr,\n",
    "        tpr,\n",
    "        color=\"darkorange\",\n",
    "        lw=lw,\n",
    "        label=\"ROC curve (area = %0.2f)\" % roc_auc,\n",
    "    )\n",
    "    plt.plot([0, 1], [0, 1], color=\"navy\", lw=lw, linestyle=\"--\")\n",
    "    plt.xlim([0.0, 1.0])\n",
    "    plt.ylim([0.0, 1.05])\n",
    "    plt.xlabel(\"False Positive Rate\")\n",
    "    plt.ylabel(\"True Positive Rate\")\n",
    "    plt.title(title)\n",
    "    plt.legend(loc=\"lower right\")\n",
    "    plt.show()\n",
    "\n",
    "def calculate_metrics(unambiguous_labels, unambiguous_pred, all_labels_threshold=0.5, pred_threshold=0.5):\n",
    "    print(f\"% of unambiguous sites glycosylated: {(unambiguous_labels > 0).sum() / len(unambiguous_labels) * 100}\")\n",
    "    print(f\"Accuracy for unambiguous sites: {accuracy_score(unambiguous_labels, (unambiguous_pred >= pred_threshold))}\")\n",
    "    print(f\"MCC for unambiguous sites: {matthews_corrcoef(unambiguous_labels, (unambiguous_pred >= pred_threshold))}\")\n",
    "    print(f\"PCC for unambiguous sites: {pearsonr(unambiguous_pred, unambiguous_labels)}\")\n",
    "    print(f\"ROC-AUC for unambiguous sites: {roc_auc_score(unambiguous_labels, unambiguous_pred)}\")\n",
    "    \n",
    "    tn, fp, fn, tp = confusion_matrix(unambiguous_labels, (unambiguous_pred >= pred_threshold)).ravel()\n",
    "    sensitivity = tp / (tp+fn)\n",
    "    specificity = tn / (tn+fp)\n",
    "    print(f\"Sensitivity (TPR) for unambiguous sites: {sensitivity*100:.2f}%\")\n",
    "    print(f\"Specificity (TNR) for unambiguous sites: {specificity*100:.2f}%\")\n",
    "    \n",
    "    plot_roc_curve(unambiguous_labels, unambiguous_pred, \"Receiver operating characteristic for unambiguous sites\")"
   ]
  },
  {
   "cell_type": "code",
   "execution_count": 11,
   "id": "83e40595-6196-4b98-86f5-c024c857448f",
   "metadata": {},
   "outputs": [
    {
     "name": "stdout",
     "output_type": "stream",
     "text": [
      "NetOGlyc-5.0 predictions for test partition of NetOGlyc-4.0 training dataset (5363 sites):\n",
      "\n",
      "% of unambiguous sites glycosylated: 39.30635838150289\n",
      "Accuracy for unambiguous sites: 0.47753123251911245\n",
      "MCC for unambiguous sites: 0.24133997608274893\n",
      "PCC for unambiguous sites: (0.745081398432635, 0.0)\n",
      "ROC-AUC for unambiguous sites: 0.9368952159427768\n",
      "Sensitivity (TPR) for unambiguous sites: 99.81%\n",
      "Specificity (TNR) for unambiguous sites: 14.04%\n"
     ]
    },
    {
     "data": {
      "image/png": "[encoded data removed]",
      "text/plain": [
       "<Figure size 432x288 with 1 Axes>"
      ]
     },
     "metadata": {
      "needs_background": "light"
     },
     "output_type": "display_data"
    }
   ],
   "source": [
    "print(f\"NetOGlyc-5.0 predictions for test partition of NetOGlyc-4.0 training dataset ({len(unambiguous_labels)} sites):\\n\")\n",
    "calculate_metrics(unambiguous_labels, unambiguous_pred)"
   ]
  },
  {
   "cell_type": "code",
   "execution_count": null,
   "id": "506b56ef-f524-4bd3-bb21-97fc458f038d",
   "metadata": {},
   "outputs": [],
   "source": []
  }
 ],
 "metadata": {
  "kernelspec": {
   "display_name": "Python 3 (ipykernel)",
   "language": "python",
   "name": "python3"
  },
  "language_info": {
   "codemirror_mode": {
    "name": "ipython",
    "version": 3
   },
   "file_extension": ".py",
   "mimetype": "text/x-python",
   "name": "python",
   "nbconvert_exporter": "python",
   "pygments_lexer": "ipython3",
   "version": "3.9.9"
  }
 },
 "nbformat": 4,
 "nbformat_minor": 5
}
