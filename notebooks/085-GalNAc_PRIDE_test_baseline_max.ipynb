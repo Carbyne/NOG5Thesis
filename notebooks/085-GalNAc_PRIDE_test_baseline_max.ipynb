{
 "cells": [
  {
   "cell_type": "code",
   "execution_count": 1,
   "id": "1c3b50e4-d75f-4a53-8412-04bfba51fd4f",
   "metadata": {},
   "outputs": [],
   "source": [
    "import gzip\n",
    "from pathlib import Path"
   ]
  },
  {
   "cell_type": "code",
   "execution_count": 2,
   "id": "5e454a8f-2cb2-45f6-949a-89f29c0b7b20",
   "metadata": {},
   "outputs": [],
   "source": [
    "import h5py\n",
    "import numpy as np\n",
    "from sklearn.metrics import matthews_corrcoef, accuracy_score, roc_auc_score, roc_curve, auc, precision_recall_curve, confusion_matrix\n",
    "from scipy.stats.stats import pearsonr\n",
    "from matplotlib import pyplot as plt"
   ]
  },
  {
   "cell_type": "code",
   "execution_count": 3,
   "id": "7f901c86-32c9-4731-8851-497b5eee0363",
   "metadata": {},
   "outputs": [],
   "source": [
    "#BASE_DIR = Path(\"/mnt/g/My Drive/CloudVault/Masters/Data\")\n",
    "BASE_DIR = Path(\"/home/jakob/Cloudvault_new/Data\")\n",
    "\n",
    "# Path of directory to get Graphpart output\n",
    "GRAPHPART_DIR = BASE_DIR/'NetOGlyc5 data'/'GalNAc data'/'06-partitioning'/'graphpart_partitions'\n",
    "\n",
    "# Paths of imported embeddings file\n",
    "EMBEDDING_FILE = BASE_DIR/'NetOGlyc5 data'/'GalNAc data'/'05-embedding'/'protein_embeddings_netsurfp_output_glyc_labels_max.h5'\n",
    "\n",
    "# Maximum sequence length of proteins for test set\n",
    "#MAX_SEQ_LENGTH = 1022\n",
    "MAX_SEQ_LENGTH = 34350\n",
    "\n",
    "IGNORE_MISSING_IDS = True"
   ]
  },
  {
   "cell_type": "code",
   "execution_count": 4,
   "id": "56244fed-1c4f-4e9f-8e3e-c745b2b20104",
   "metadata": {},
   "outputs": [],
   "source": [
    "GRAPHPART_OUTPUT_FILE = GRAPHPART_DIR/'graphpart_output.csv'"
   ]
  },
  {
   "cell_type": "code",
   "execution_count": 5,
   "id": "54f5fc7e-4fa8-423b-a45c-b435d00f36a8",
   "metadata": {},
   "outputs": [
    {
     "data": {
      "text/plain": [
       "267"
      ]
     },
     "execution_count": 5,
     "metadata": {},
     "output_type": "execute_result"
    }
   ],
   "source": [
    "clusters = [set(), set(), set()]\n",
    "with open(GRAPHPART_OUTPUT_FILE, 'r') as f:\n",
    "    f_iter = iter(f)\n",
    "    header = next(f_iter).strip().split(',')\n",
    "    for line in f_iter:\n",
    "        AC, priority, glycosylated, cluster = line.strip().split(',')\n",
    "        priority = priority == \"True\"\n",
    "        glycosylated = float(glycosylated) > 0\n",
    "        cluster = int(float(cluster))\n",
    "        clusters[cluster].add(AC)\n",
    "\n",
    "testing_ids = clusters[2]\n",
    "\n",
    "len(testing_ids)"
   ]
  },
  {
   "cell_type": "code",
   "execution_count": 6,
   "id": "13a39dfc-e5c5-42e0-a527-fed42513e649",
   "metadata": {},
   "outputs": [],
   "source": [
    "with h5py.File(EMBEDDING_FILE, 'r') as file:\n",
    "    identifiers_list = file['identifiers'].asstr()[:].tolist()\n",
    "    sequences_list = file['sequences'].asstr()[:].tolist()\n",
    "    seq_lengths = [len(seq) for seq in sequences_list]\n",
    "    gly = file['labels']['gly'][:, :MAX_SEQ_LENGTH, 0]"
   ]
  },
  {
   "cell_type": "code",
   "execution_count": 7,
   "id": "d6127c4b-ed1a-4e81-8387-ebea751ddcf2",
   "metadata": {},
   "outputs": [],
   "source": [
    "missing_embedding_identifiers = set(testing_ids) - set(identifiers_list)\n",
    "if len(missing_embedding_identifiers) > 0:\n",
    "    if not IGNORE_MISSING_IDS:\n",
    "        raise Exception(f\"{len(missing_embedding_identifiers)} test identifiers not found in embeddings: {missing_embedding_identifiers}\")\n",
    "        \n",
    "if len(missing_embedding_identifiers) > 0:\n",
    "    print(f\"Ignoring following {len(missing_embedding_identifiers)} missing test identifiers: {missing_embedding_identifiers}\")\n",
    "\n",
    "testing_scores = testing_ids - missing_embedding_identifiers"
   ]
  },
  {
   "cell_type": "code",
   "execution_count": 8,
   "id": "f96037f2-84ea-4812-835c-9dff0abe10c2",
   "metadata": {},
   "outputs": [],
   "source": [
    "all_labels = []\n",
    "\n",
    "unambiguous_labels = []\n",
    "\n",
    "for identifier in testing_scores:\n",
    "    embedding_idx = identifiers_list.index(identifier)\n",
    "    seq_length = min(len(sequences_list[embedding_idx]), MAX_SEQ_LENGTH)\n",
    "    \n",
    "    labels = gly[embedding_idx, :seq_length]\n",
    "    site_mask = (labels >= 0)\n",
    "    unambiguous_site_mask = (labels == 0) | (labels == 1)\n",
    "       \n",
    "    all_labels.append(labels[site_mask])\n",
    "    \n",
    "    unambiguous_labels.append(labels[unambiguous_site_mask])\n",
    "\n",
    "all_labels = np.concatenate(all_labels)\n",
    "\n",
    "unambiguous_labels = np.concatenate(unambiguous_labels)"
   ]
  },
  {
   "cell_type": "code",
   "execution_count": 9,
   "id": "5ded065b-afb2-49d4-b619-d9d93feb14f2",
   "metadata": {},
   "outputs": [
    {
     "name": "stdout",
     "output_type": "stream",
     "text": [
      "Baseline prediction value for all sites: 0.2801949679851532\n",
      "Baseline prediction value for unambiguous sites: 0.2775140404701233\n"
     ]
    }
   ],
   "source": [
    "baseline_all_pred_value = np.mean(all_labels)\n",
    "baseline_unambiguous_pred_value = np.mean(unambiguous_labels)\n",
    "\n",
    "all_pred = np.full(all_labels.shape, baseline_all_pred_value)\n",
    "unambiguous_pred = np.full(unambiguous_labels.shape, baseline_unambiguous_pred_value)\n",
    "\n",
    "\n",
    "print(f\"Baseline prediction value for all sites: {baseline_all_pred_value}\")\n",
    "print(f\"Baseline prediction value for unambiguous sites: {baseline_unambiguous_pred_value}\")"
   ]
  },
  {
   "cell_type": "code",
   "execution_count": 10,
   "id": "e05e3b45-a37a-41fc-97cd-ae128169513e",
   "metadata": {},
   "outputs": [
    {
     "data": {
      "text/plain": [
       "<matplotlib.collections.PathCollection at 0x7f36039666a0>"
      ]
     },
     "execution_count": 10,
     "metadata": {},
     "output_type": "execute_result"
    },
    {
     "data": {
      "image/png": "[encoded data removed]",
      "text/plain": [
       "<Figure size 1152x576 with 1 Axes>"
      ]
     },
     "metadata": {
      "needs_background": "light"
     },
     "output_type": "display_data"
    }
   ],
   "source": [
    "plt.figure(figsize=(16, 8))\n",
    "plt.scatter(all_labels, all_pred, alpha=0.2)"
   ]
  },
  {
   "cell_type": "code",
   "execution_count": 11,
   "id": "c26ee43f-9c44-465b-a445-54734e7077bc",
   "metadata": {},
   "outputs": [
    {
     "data": {
      "text/plain": [
       "<matplotlib.collections.PathCollection at 0x7f35da8abf10>"
      ]
     },
     "execution_count": 11,
     "metadata": {},
     "output_type": "execute_result"
    },
    {
     "data": {
      "image/png": "[encoded data removed]",
      "text/plain": [
       "<Figure size 1152x576 with 1 Axes>"
      ]
     },
     "metadata": {
      "needs_background": "light"
     },
     "output_type": "display_data"
    }
   ],
   "source": [
    "plt.figure(figsize=(16, 8))\n",
    "plt.scatter(unambiguous_pred, unambiguous_labels, alpha=0.2)"
   ]
  },
  {
   "cell_type": "code",
   "execution_count": 12,
   "id": "54dd651a-5e29-4e64-89ef-09eb31b28313",
   "metadata": {},
   "outputs": [],
   "source": [
    "def plot_roc_curve(labels, pred, title=\"Receiver operating characteristic\"):\n",
    "    fpr, tpr, _ = roc_curve(labels, pred)\n",
    "    roc_auc = auc(fpr, tpr)\n",
    "\n",
    "    plt.figure()\n",
    "    lw = 2\n",
    "    plt.plot(\n",
    "        fpr,\n",
    "        tpr,\n",
    "        color=\"darkorange\",\n",
    "        lw=lw,\n",
    "        label=\"ROC curve (area = %0.2f)\" % roc_auc,\n",
    "    )\n",
    "    plt.plot([0, 1], [0, 1], color=\"navy\", lw=lw, linestyle=\"--\")\n",
    "    plt.xlim([0.0, 1.0])\n",
    "    plt.ylim([0.0, 1.05])\n",
    "    plt.xlabel(\"False Positive Rate\")\n",
    "    plt.ylabel(\"True Positive Rate\")\n",
    "    plt.title(title)\n",
    "    plt.legend(loc=\"lower right\")\n",
    "    plt.show()\n",
    "\n",
    "def calculate_metrics(all_labels, all_pred, unambiguous_labels, unambiguous_pred, all_labels_threshold=0.5, pred_threshold=0.5):\n",
    "    print(f\"% of unambiguous sites glycosylated: {(unambiguous_labels > 0).sum() / len(unambiguous_labels) * 100}\")\n",
    "    print(f\"Accuracy for unambiguous sites: {accuracy_score(unambiguous_labels, (unambiguous_pred >= pred_threshold))}\")\n",
    "    print(f\"MCC for unambiguous sites: {matthews_corrcoef(unambiguous_labels, (unambiguous_pred >= pred_threshold))}\")\n",
    "    print(f\"PCC for unambiguous sites: {pearsonr(unambiguous_pred, unambiguous_labels)}\")\n",
    "    print(f\"ROC-AUC for unambiguous sites: {roc_auc_score(unambiguous_labels, unambiguous_pred)}\")\n",
    "    \n",
    "    tn, fp, fn, tp = confusion_matrix(unambiguous_labels, (unambiguous_pred >= pred_threshold)).ravel()\n",
    "    sensitivity = tp / (tp+fn)\n",
    "    specificity = tn / (tn+fp)\n",
    "    print(f\"Sensitivity (TPR) for unambiguous sites: {sensitivity*100:.2f}%\")\n",
    "    print(f\"Specificity (TNR) for unambiguous sites: {specificity*100:.2f}%\")\n",
    "    \n",
    "    plot_roc_curve(unambiguous_labels, unambiguous_pred, \"Receiver operating characteristic for unambiguous sites\")\n",
    "    \n",
    "    print(f\"% of all sites glycosylated: {(all_labels > 0).sum() / len(all_labels) * 100}\")\n",
    "    print(f\"Accuracy for all sites (threshold 0.5): {accuracy_score((all_labels >= all_labels_threshold), (all_pred >= pred_threshold))}\")\n",
    "    print(f\"MCC for all sites (threshold 0.5): {matthews_corrcoef((all_labels >= all_labels_threshold), (all_pred >= pred_threshold))}\")\n",
    "    print(f\"PCC for all sites: {pearsonr(all_pred, all_labels)}\")\n",
    "    print(f\"ROC-AUC for all sites (threshold 0.5): {roc_auc_score((all_labels >= all_labels_threshold), all_pred)}\")\n",
    "\n",
    "    tn, fp, fn, tp = confusion_matrix((all_labels >= all_labels_threshold), (all_pred >= pred_threshold)).ravel()\n",
    "    sensitivity = tp / (tp+fn)\n",
    "    specificity = tn / (tn+fp)\n",
    "    print(f\"Sensitivity (TPR) for all sites (threshold 0.5): {sensitivity*100:.2f}%\")\n",
    "    print(f\"Specificity (TNR) for all sites (threshold 0.5): {specificity*100:.2f}%\")\n",
    "    \n",
    "    plot_roc_curve((all_labels >= all_labels_threshold), all_pred, \"Receiver operating characteristic for all sites (threshold 0.5)\")"
   ]
  },
  {
   "cell_type": "code",
   "execution_count": 13,
   "id": "fb08128e-a0e9-4da7-85dd-a080c7721416",
   "metadata": {},
   "outputs": [
    {
     "name": "stdout",
     "output_type": "stream",
     "text": [
      "Baseline predictions for test partition of NetOGlyc-5.0 'max' dataset (5911 sites, 4634 unambiguous sites):\n",
      "\n",
      "% of unambiguous sites glycosylated: 27.751402675873976\n",
      "Accuracy for unambiguous sites: 0.7224859732412603\n",
      "MCC for unambiguous sites: 0.0\n",
      "PCC for unambiguous sites: (nan, nan)\n",
      "ROC-AUC for unambiguous sites: 0.5\n",
      "Sensitivity (TPR) for unambiguous sites: 0.00%\n",
      "Specificity (TNR) for unambiguous sites: 100.00%\n"
     ]
    },
    {
     "name": "stderr",
     "output_type": "stream",
     "text": [
      "/home/jakob/miniconda3/envs/nog5/lib/python3.9/site-packages/scipy/stats/stats.py:4023: PearsonRConstantInputWarning: An input array is constant; the correlation coefficient is not defined.\n",
      "  warnings.warn(PearsonRConstantInputWarning())\n"
     ]
    },
    {
     "data": {
      "image/png": "[encoded data removed]",
      "text/plain": [
       "<Figure size 432x288 with 1 Axes>"
      ]
     },
     "metadata": {
      "needs_background": "light"
     },
     "output_type": "display_data"
    },
    {
     "name": "stdout",
     "output_type": "stream",
     "text": [
      "% of all sites glycosylated: 43.35983759093216\n",
      "Accuracy for all sites (threshold 0.5): 0.7321942141769582\n",
      "MCC for all sites (threshold 0.5): 0.0\n",
      "PCC for all sites: (nan, nan)\n",
      "ROC-AUC for all sites (threshold 0.5): 0.5\n",
      "Sensitivity (TPR) for all sites (threshold 0.5): 0.00%\n",
      "Specificity (TNR) for all sites (threshold 0.5): 100.00%\n"
     ]
    },
    {
     "name": "stderr",
     "output_type": "stream",
     "text": [
      "/home/jakob/miniconda3/envs/nog5/lib/python3.9/site-packages/scipy/stats/stats.py:4023: PearsonRConstantInputWarning: An input array is constant; the correlation coefficient is not defined.\n",
      "  warnings.warn(PearsonRConstantInputWarning())\n"
     ]
    },
    {
     "data": {
      "image/png": "[encoded data removed]",
      "text/plain": [
       "<Figure size 432x288 with 1 Axes>"
      ]
     },
     "metadata": {
      "needs_background": "light"
     },
     "output_type": "display_data"
    }
   ],
   "source": [
    "print(f\"Baseline predictions for test partition of NetOGlyc-5.0 'max' dataset ({len(all_labels)} sites, {len(unambiguous_labels)} unambiguous sites):\\n\")\n",
    "calculate_metrics(all_labels, all_pred, unambiguous_labels, unambiguous_pred, all_labels_threshold=0.5, pred_threshold=0.5)"
   ]
  },
  {
   "cell_type": "code",
   "execution_count": null,
   "id": "984814c4-6396-4fc8-813e-f146d763ca08",
   "metadata": {},
   "outputs": [],
   "source": []
  }
 ],
 "metadata": {
  "kernelspec": {
   "display_name": "Python 3 (ipykernel)",
   "language": "python",
   "name": "python3"
  },
  "language_info": {
   "codemirror_mode": {
    "name": "ipython",
    "version": 3
   },
   "file_extension": ".py",
   "mimetype": "text/x-python",
   "name": "python",
   "nbconvert_exporter": "python",
   "pygments_lexer": "ipython3",
   "version": "3.9.9"
  }
 },
 "nbformat": 4,
 "nbformat_minor": 5
}
